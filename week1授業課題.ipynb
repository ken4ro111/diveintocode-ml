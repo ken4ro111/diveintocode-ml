{
  "nbformat": 4,
  "nbformat_minor": 0,
  "metadata": {
    "colab": {
      "name": "week1授業課題",
      "provenance": [],
      "collapsed_sections": []
    },
    "kernelspec": {
      "name": "python3",
      "display_name": "Python 3"
    }
  },
  "cells": [
    {
      "cell_type": "code",
      "metadata": {
        "id": "HPOGMDBWQmoo",
        "colab_type": "code",
        "outputId": "e9cf3278-7d1a-413c-e4d9-60a53063efbb",
        "colab": {
          "base_uri": "https://localhost:8080/",
          "height": 88
        }
      },
      "source": [
        "THICKNESS = 0.00008 #紙の厚さ\n",
        "folded_thickness = THICKNESS \n",
        "a = 1\n",
        "count = 0\n",
        "t_list = []\n",
        "\n",
        "while  folded_thickness < 3776: #富士山の高さ\n",
        "    a *= 2\n",
        "    count += 1\n",
        "    folded_thickness = THICKNESS * a\n",
        "    t_list.append(folded_thickness)\n",
        "\n",
        "print(t_list)\n",
        "print(count)\n",
        "print(\"富士山頂上までの回数は{}回\".format(count))"
      ],
      "execution_count": 0,
      "outputs": [
        {
          "output_type": "stream",
          "text": [
            "[0.00016, 0.00032, 0.00064, 0.00128, 0.00256, 0.00512, 0.01024, 0.02048, 0.04096, 0.08192, 0.16384, 0.32768, 0.65536, 1.31072, 2.62144, 5.24288, 10.48576, 20.97152, 41.94304, 83.88608, 167.77216, 335.54432, 671.08864, 1342.17728, 2684.35456, 5368.70912]\n",
            "26\n",
            "富士山頂上までの回数は26回\n"
          ],
          "name": "stdout"
        }
      ]
    },
    {
      "cell_type": "code",
      "metadata": {
        "id": "JNJtRNWBExaL",
        "colab_type": "code",
        "outputId": "a00069c4-a4f0-4bb0-cbdf-67117ab41611",
        "colab": {
          "base_uri": "https://localhost:8080/",
          "height": 85
        }
      },
      "source": [
        "def folded_thickness(d_num,t_0):\n",
        "    folded_thickness = t_0\n",
        "    a = 1\n",
        "    count = 0\n",
        "    \n",
        "    while folded_thickness < d_num:\n",
        "        a *= 2\n",
        "        count += 1\n",
        "        folded_thickness = t_0 * a\n",
        "    return count\n",
        "\n",
        "  \n",
        "d_pro = 4.01419e+16  #プロキシマ・ケンタウリまでの距離\n",
        "t_0 = 0.00008\n",
        "print(folded_thickness(d_pro,t_0))\n",
        "count_pro = folded_thickness(d_pro,t_0)\n",
        "print(\"プロキシマ・ケンタウリまでの回数は{}回\".format(count_moon))\n",
        "d_moon = 384400000\n",
        "print(folded_thickness(d_moon,t_0))\n",
        "count_moon = folded_thickness(d_moon , t_0)\n",
        "print(\"月までの回数は{}回\".format(count_moon))"
      ],
      "execution_count": 0,
      "outputs": [
        {
          "output_type": "stream",
          "text": [
            "69\n",
            "プロキシマ・ケンタウリまでの回数は43回\n",
            "43\n",
            "月までの回数は43回\n"
          ],
          "name": "stdout"
        }
      ]
    },
    {
      "cell_type": "code",
      "metadata": {
        "id": "6dOYiCpqIEzh",
        "colab_type": "code",
        "outputId": "e57894c0-ab7a-4240-9c3c-83179815eb7d",
        "colab": {
          "base_uri": "https://localhost:8080/",
          "height": 68
        }
      },
      "source": [
        "import numpy as np\n",
        "\n",
        "def need_length(n,t_0):\n",
        "    return (np.pi * t_0) * (2**n + 4) * (2**n - 1) /6\n",
        "  \n",
        "need_moon = need_length(43,t_0)\n",
        "need_fuji = need_length(26,t_0)\n",
        "need_pro = need_length(69,t_0)\n",
        "\n",
        "print(\"月までに必要な紙の長さは：{}\".format(need_moon))\n",
        "print(\"富士山頂上までに必要な紙の長さは：{}\".format(need_fuji))\n",
        "print(\"プロキシマ・ケンタウリまでに必要な紙の長さは：{}\".format(need_pro))"
      ],
      "execution_count": 0,
      "outputs": [
        {
          "output_type": "stream",
          "text": [
            "月までに必要な紙の長さは：3.240919444170781e+21\n",
            "富士山頂上までに必要な紙の長さは：188646348487.24014\n",
            "プロキシマ・ケンタウリまでに必要な紙の長さは：1.4595803601100348e+37\n"
          ],
          "name": "stdout"
        }
      ]
    },
    {
      "cell_type": "code",
      "metadata": {
        "id": "p6AyQihGLJkN",
        "colab_type": "code",
        "colab": {}
      },
      "source": [
        ""
      ],
      "execution_count": 0,
      "outputs": []
    },
    {
      "cell_type": "code",
      "metadata": {
        "id": "dNc9tBbpnZV3",
        "colab_type": "code",
        "colab": {}
      },
      "source": [
        ""
      ],
      "execution_count": 0,
      "outputs": []
    },
    {
      "cell_type": "code",
      "metadata": {
        "id": "x0kvCs6KnZYZ",
        "colab_type": "code",
        "colab": {}
      },
      "source": [
        ""
      ],
      "execution_count": 0,
      "outputs": []
    },
    {
      "cell_type": "code",
      "metadata": {
        "id": "aDEEoRiRnZdO",
        "colab_type": "code",
        "colab": {}
      },
      "source": [
        ""
      ],
      "execution_count": 0,
      "outputs": []
    },
    {
      "cell_type": "code",
      "metadata": {
        "id": "JLvxFm14nZbz",
        "colab_type": "code",
        "colab": {}
      },
      "source": [
        ""
      ],
      "execution_count": 0,
      "outputs": []
    },
    {
      "cell_type": "markdown",
      "metadata": {
        "id": "bVNtWix1b_Bs",
        "colab_type": "text"
      },
      "source": [
        "# 栗まんじゅう"
      ]
    },
    {
      "cell_type": "code",
      "metadata": {
        "id": "JbR5FcXMcHNY",
        "colab_type": "code",
        "outputId": "562a6f4d-ae14-49b1-ead9-f4a355808c2e",
        "colab": {
          "base_uri": "https://localhost:8080/",
          "height": 51
        }
      },
      "source": [
        "def v_time(x_v , y_v,minite):\n",
        "    time = 0  \n",
        "    while x_v < y_v:\n",
        "        time += minite\n",
        "        x_v *= 2\n",
        "    return time\n",
        "\n",
        "  \n",
        "import math\n",
        "def vol(r):\n",
        "    return (4 * math.pi * r **3) /3\n",
        "r_sun = 2.50709e+20\n",
        "v_sun = vol(r_sun) #太陽系の体積\n",
        "\n",
        "\n",
        "kuriman_v = 1e-4 #栗まんじゅうの体積\n",
        "t_kuriman = v_time(kuriman_v,vol(r_sun),5)\n",
        "print(\"{}分\".format(t_kuriman))\n",
        "print(\"栗まんじゅうが覆う時間は:{:.2f}時間です\".format(t_kuriman/60))"
      ],
      "execution_count": 0,
      "outputs": [
        {
          "output_type": "stream",
          "text": [
            "1095分\n",
            "栗まんじゅうが覆う時間は:18.25時間です\n"
          ],
          "name": "stdout"
        }
      ]
    },
    {
      "cell_type": "markdown",
      "metadata": {
        "id": "auBLYvrVp4fU",
        "colab_type": "text"
      },
      "source": [
        "# 東京ドーム"
      ]
    },
    {
      "cell_type": "code",
      "metadata": {
        "id": "wmcTUAunmjpx",
        "colab_type": "code",
        "outputId": "3109d8ae-42cb-45a0-d25c-5d50eac7cca3",
        "colab": {
          "base_uri": "https://localhost:8080/",
          "height": 34
        }
      },
      "source": [
        "ball = ((72.93+74.84) / 2 /2 /100)\n",
        "print(ball)"
      ],
      "execution_count": 0,
      "outputs": [
        {
          "output_type": "stream",
          "text": [
            "0.369425\n"
          ],
          "name": "stdout"
        }
      ]
    },
    {
      "cell_type": "code",
      "metadata": {
        "id": "m5QsvwBFnX26",
        "colab_type": "code",
        "colab": {}
      },
      "source": [
        "v_ball = vol(ball)"
      ],
      "execution_count": 0,
      "outputs": []
    },
    {
      "cell_type": "code",
      "metadata": {
        "id": "ZWxMWLF_nX7z",
        "colab_type": "code",
        "outputId": "f2fb5e0a-4635-4693-ce65-df4029177df8",
        "colab": {
          "base_uri": "https://localhost:8080/",
          "height": 34
        }
      },
      "source": [
        "t_doom = 1240000\n",
        "time_doom = v_time(v_ball,t_doom)\n",
        "print(time_doom)"
      ],
      "execution_count": 0,
      "outputs": [
        {
          "output_type": "stream",
          "text": [
            "115\n"
          ],
          "name": "stdout"
        }
      ]
    },
    {
      "cell_type": "code",
      "metadata": {
        "id": "8CcuQbd_nX-6",
        "colab_type": "code",
        "colab": {}
      },
      "source": [
        ""
      ],
      "execution_count": 0,
      "outputs": []
    },
    {
      "cell_type": "code",
      "metadata": {
        "id": "tkw7bZdqnX6I",
        "colab_type": "code",
        "colab": {}
      },
      "source": [
        ""
      ],
      "execution_count": 0,
      "outputs": []
    },
    {
      "cell_type": "markdown",
      "metadata": {
        "id": "JxO6bEPHmwnJ",
        "colab_type": "text"
      },
      "source": [
        "# 問１"
      ]
    },
    {
      "cell_type": "code",
      "metadata": {
        "id": "BkRCM8Qqm0Jj",
        "colab_type": "code",
        "outputId": "99e3d2f5-3e78-404d-88b6-c04ddbe59567",
        "colab": {
          "base_uri": "https://localhost:8080/",
          "height": 627
        }
      },
      "source": [
        "%matplotlib inline\n",
        "import matplotlib.pyplot as plt\n",
        "\n",
        "list_grain_100 = [2 ** i for i in range(100)]\n",
        "list_total_grain_100 = []\n",
        "total = 0\n",
        "for i in range(100):\n",
        "    total += 2 ** i\n",
        "    list_total_grain_100.append(total)\n",
        "print(list_grain_100)\n",
        "print(list_total_grain_100)\n",
        "\n",
        "plt.title('num of grains')\n",
        "plt.xlabel('days')\n",
        "plt.ylabel('num of grains')\n",
        "plt.plot(list_grain_100)\n",
        "plt.show()\n",
        "\n",
        "plt.title('sum of grains')\n",
        "plt.xlabel('day')\n",
        "plt.ylabel('sum of grains')\n",
        "plt.plot(list_grain_100)\n",
        "plt.show()"
      ],
      "execution_count": 0,
      "outputs": [
        {
          "output_type": "stream",
          "text": [
            "[1, 2, 4, 8, 16, 32, 64, 128, 256, 512, 1024, 2048, 4096, 8192, 16384, 32768, 65536, 131072, 262144, 524288, 1048576, 2097152, 4194304, 8388608, 16777216, 33554432, 67108864, 134217728, 268435456, 536870912, 1073741824, 2147483648, 4294967296, 8589934592, 17179869184, 34359738368, 68719476736, 137438953472, 274877906944, 549755813888, 1099511627776, 2199023255552, 4398046511104, 8796093022208, 17592186044416, 35184372088832, 70368744177664, 140737488355328, 281474976710656, 562949953421312, 1125899906842624, 2251799813685248, 4503599627370496, 9007199254740992, 18014398509481984, 36028797018963968, 72057594037927936, 144115188075855872, 288230376151711744, 576460752303423488, 1152921504606846976, 2305843009213693952, 4611686018427387904, 9223372036854775808, 18446744073709551616, 36893488147419103232, 73786976294838206464, 147573952589676412928, 295147905179352825856, 590295810358705651712, 1180591620717411303424, 2361183241434822606848, 4722366482869645213696, 9444732965739290427392, 18889465931478580854784, 37778931862957161709568, 75557863725914323419136, 151115727451828646838272, 302231454903657293676544, 604462909807314587353088, 1208925819614629174706176, 2417851639229258349412352, 4835703278458516698824704, 9671406556917033397649408, 19342813113834066795298816, 38685626227668133590597632, 77371252455336267181195264, 154742504910672534362390528, 309485009821345068724781056, 618970019642690137449562112, 1237940039285380274899124224, 2475880078570760549798248448, 4951760157141521099596496896, 9903520314283042199192993792, 19807040628566084398385987584, 39614081257132168796771975168, 79228162514264337593543950336, 158456325028528675187087900672, 316912650057057350374175801344, 633825300114114700748351602688]\n",
            "[1, 3, 7, 15, 31, 63, 127, 255, 511, 1023, 2047, 4095, 8191, 16383, 32767, 65535, 131071, 262143, 524287, 1048575, 2097151, 4194303, 8388607, 16777215, 33554431, 67108863, 134217727, 268435455, 536870911, 1073741823, 2147483647, 4294967295, 8589934591, 17179869183, 34359738367, 68719476735, 137438953471, 274877906943, 549755813887, 1099511627775, 2199023255551, 4398046511103, 8796093022207, 17592186044415, 35184372088831, 70368744177663, 140737488355327, 281474976710655, 562949953421311, 1125899906842623, 2251799813685247, 4503599627370495, 9007199254740991, 18014398509481983, 36028797018963967, 72057594037927935, 144115188075855871, 288230376151711743, 576460752303423487, 1152921504606846975, 2305843009213693951, 4611686018427387903, 9223372036854775807, 18446744073709551615, 36893488147419103231, 73786976294838206463, 147573952589676412927, 295147905179352825855, 590295810358705651711, 1180591620717411303423, 2361183241434822606847, 4722366482869645213695, 9444732965739290427391, 18889465931478580854783, 37778931862957161709567, 75557863725914323419135, 151115727451828646838271, 302231454903657293676543, 604462909807314587353087, 1208925819614629174706175, 2417851639229258349412351, 4835703278458516698824703, 9671406556917033397649407, 19342813113834066795298815, 38685626227668133590597631, 77371252455336267181195263, 154742504910672534362390527, 309485009821345068724781055, 618970019642690137449562111, 1237940039285380274899124223, 2475880078570760549798248447, 4951760157141521099596496895, 9903520314283042199192993791, 19807040628566084398385987583, 39614081257132168796771975167, 79228162514264337593543950335, 158456325028528675187087900671, 316912650057057350374175801343, 633825300114114700748351602687, 1267650600228229401496703205375]\n"
          ],
          "name": "stdout"
        },
        {
          "output_type": "display_data",
          "data": {
            "image/png": "[encoded data removed]",
            "text/plain": [
              "<Figure size 432x288 with 1 Axes>"
            ]
          },
          "metadata": {
            "tags": []
          }
        },
        {
          "output_type": "display_data",
          "data": {
            "image/png": "[encoded data removed]",
            "text/plain": [
              "<Figure size 432x288 with 1 Axes>"
            ]
          },
          "metadata": {
            "tags": []
          }
        }
      ]
    },
    {
      "cell_type": "code",
      "metadata": {
        "id": "X7ZVbSm_m2gS",
        "colab_type": "code",
        "outputId": "82986e34-2b99-4d5b-ce43-59772c56a035",
        "colab": {
          "base_uri": "https://localhost:8080/",
          "height": 88
        }
      },
      "source": [
        "def compute_sorori_shinzaemon(day=100):\n",
        "    \"\"\"\n",
        "    曽呂利新左衛門の米の逸話を検証する関数。日にちごとの米の粒の数を計算する。\n",
        "\n",
        "    Parameteres\n",
        "    --------------\n",
        "    day: int\n",
        "        米を貰う日数 (default : 100)\n",
        "\n",
        "    Returns\n",
        "    --------------\n",
        "    list_n_grains : list\n",
        "        ある日に貰う米の数のリスト（リストの長さはdayに等しくなる）\n",
        "    list_total_grains : list\n",
        "        ある日までに累計で貰う米の数のリスト（リストの長さはdayに等しくなる）\n",
        "    \"\"\"\n",
        "\n",
        "    list_n_grains = [2 ** i for i in range(day)]\n",
        "    \n",
        "    list_total_grains = []\n",
        "    total = 0\n",
        "    for i in range(day):\n",
        "        total += 2 ** i\n",
        "        list_total_grains.append(total)\n",
        "\n",
        "    return list_n_grains, list_total_grains\n",
        "\n",
        "during_course_days = 31 + 30 + 31 + 31\n",
        "list_n_grains, list_total_grains = compute_sorori_shinzaemon(during_course_days)\n",
        "print(list_n_grains)\n",
        "print(list_total_grains)\n",
        "print(len(list_n_grains))"
      ],
      "execution_count": 0,
      "outputs": [
        {
          "output_type": "stream",
          "text": [
            "[1, 2, 4, 8, 16, 32, 64, 128, 256, 512, 1024, 2048, 4096, 8192, 16384, 32768, 65536, 131072, 262144, 524288, 1048576, 2097152, 4194304, 8388608, 16777216, 33554432, 67108864, 134217728, 268435456, 536870912, 1073741824, 2147483648, 4294967296, 8589934592, 17179869184, 34359738368, 68719476736, 137438953472, 274877906944, 549755813888, 1099511627776, 2199023255552, 4398046511104, 8796093022208, 17592186044416, 35184372088832, 70368744177664, 140737488355328, 281474976710656, 562949953421312, 1125899906842624, 2251799813685248, 4503599627370496, 9007199254740992, 18014398509481984, 36028797018963968, 72057594037927936, 144115188075855872, 288230376151711744, 576460752303423488, 1152921504606846976, 2305843009213693952, 4611686018427387904, 9223372036854775808, 18446744073709551616, 36893488147419103232, 73786976294838206464, 147573952589676412928, 295147905179352825856, 590295810358705651712, 1180591620717411303424, 2361183241434822606848, 4722366482869645213696, 9444732965739290427392, 18889465931478580854784, 37778931862957161709568, 75557863725914323419136, 151115727451828646838272, 302231454903657293676544, 604462909807314587353088, 1208925819614629174706176, 2417851639229258349412352, 4835703278458516698824704, 9671406556917033397649408, 19342813113834066795298816, 38685626227668133590597632, 77371252455336267181195264, 154742504910672534362390528, 309485009821345068724781056, 618970019642690137449562112, 1237940039285380274899124224, 2475880078570760549798248448, 4951760157141521099596496896, 9903520314283042199192993792, 19807040628566084398385987584, 39614081257132168796771975168, 79228162514264337593543950336, 158456325028528675187087900672, 316912650057057350374175801344, 633825300114114700748351602688, 1267650600228229401496703205376, 2535301200456458802993406410752, 5070602400912917605986812821504, 10141204801825835211973625643008, 20282409603651670423947251286016, 40564819207303340847894502572032, 81129638414606681695789005144064, 162259276829213363391578010288128, 324518553658426726783156020576256, 649037107316853453566312041152512, 1298074214633706907132624082305024, 2596148429267413814265248164610048, 5192296858534827628530496329220096, 10384593717069655257060992658440192, 20769187434139310514121985316880384, 41538374868278621028243970633760768, 83076749736557242056487941267521536, 166153499473114484112975882535043072, 332306998946228968225951765070086144, 664613997892457936451903530140172288, 1329227995784915872903807060280344576, 2658455991569831745807614120560689152, 5316911983139663491615228241121378304]\n",
            "[1, 3, 7, 15, 31, 63, 127, 255, 511, 1023, 2047, 4095, 8191, 16383, 32767, 65535, 131071, 262143, 524287, 1048575, 2097151, 4194303, 8388607, 16777215, 33554431, 67108863, 134217727, 268435455, 536870911, 1073741823, 2147483647, 4294967295, 8589934591, 17179869183, 34359738367, 68719476735, 137438953471, 274877906943, 549755813887, 1099511627775, 2199023255551, 4398046511103, 8796093022207, 17592186044415, 35184372088831, 70368744177663, 140737488355327, 281474976710655, 562949953421311, 1125899906842623, 2251799813685247, 4503599627370495, 9007199254740991, 18014398509481983, 36028797018963967, 72057594037927935, 144115188075855871, 288230376151711743, 576460752303423487, 1152921504606846975, 2305843009213693951, 4611686018427387903, 9223372036854775807, 18446744073709551615, 36893488147419103231, 73786976294838206463, 147573952589676412927, 295147905179352825855, 590295810358705651711, 1180591620717411303423, 2361183241434822606847, 4722366482869645213695, 9444732965739290427391, 18889465931478580854783, 37778931862957161709567, 75557863725914323419135, 151115727451828646838271, 302231454903657293676543, 604462909807314587353087, 1208925819614629174706175, 2417851639229258349412351, 4835703278458516698824703, 9671406556917033397649407, 19342813113834066795298815, 38685626227668133590597631, 77371252455336267181195263, 154742504910672534362390527, 309485009821345068724781055, 618970019642690137449562111, 1237940039285380274899124223, 2475880078570760549798248447, 4951760157141521099596496895, 9903520314283042199192993791, 19807040628566084398385987583, 39614081257132168796771975167, 79228162514264337593543950335, 158456325028528675187087900671, 316912650057057350374175801343, 633825300114114700748351602687, 1267650600228229401496703205375, 2535301200456458802993406410751, 5070602400912917605986812821503, 10141204801825835211973625643007, 20282409603651670423947251286015, 40564819207303340847894502572031, 81129638414606681695789005144063, 162259276829213363391578010288127, 324518553658426726783156020576255, 649037107316853453566312041152511, 1298074214633706907132624082305023, 2596148429267413814265248164610047, 5192296858534827628530496329220095, 10384593717069655257060992658440191, 20769187434139310514121985316880383, 41538374868278621028243970633760767, 83076749736557242056487941267521535, 166153499473114484112975882535043071, 332306998946228968225951765070086143, 664613997892457936451903530140172287, 1329227995784915872903807060280344575, 2658455991569831745807614120560689151, 5316911983139663491615228241121378303, 10633823966279326983230456482242756607]\n",
            "123\n"
          ],
          "name": "stdout"
        }
      ]
    },
    {
      "cell_type": "code",
      "metadata": {
        "id": "qMtiVncKm6OK",
        "colab_type": "code",
        "outputId": "8dd83dc7-d682-4c88-f1ce-dd4aead4f4fe",
        "colab": {
          "base_uri": "https://localhost:8080/",
          "height": 295
        }
      },
      "source": [
        "plt.title('numbers of grains')\n",
        "plt.xlabel('days')\n",
        "plt.ylabel('numbers of grains')\n",
        "plt.plot(list_n_grains)\n",
        "plt.show()"
      ],
      "execution_count": 0,
      "outputs": [
        {
          "output_type": "display_data",
          "data": {
            "image/png": "[encoded data removed]",
            "text/plain": [
              "<Figure size 432x288 with 1 Axes>"
            ]
          },
          "metadata": {
            "tags": []
          }
        }
      ]
    },
    {
      "cell_type": "code",
      "metadata": {
        "id": "Cfqs8u4hnAh3",
        "colab_type": "code",
        "outputId": "bc24458e-1310-447e-b443-92bb202aed8f",
        "colab": {
          "base_uri": "https://localhost:8080/",
          "height": 295
        }
      },
      "source": [
        "plt.title('sum of grains')\n",
        "plt.xlabel('days')\n",
        "plt.ylabel('numbers of grains')\n",
        "plt.plot(list_total_grains)\n",
        "plt.show()"
      ],
      "execution_count": 0,
      "outputs": [
        {
          "output_type": "display_data",
          "data": {
            "image/png": "[encoded data removed]",
            "text/plain": [
              "<Figure size 432x288 with 1 Axes>"
            ]
          },
          "metadata": {
            "tags": []
          }
        }
      ]
    },
    {
      "cell_type": "code",
      "metadata": {
        "id": "BIzI5VsZnCnz",
        "colab_type": "code",
        "outputId": "e6769955-c136-455f-8b63-b7fcdba22ef7",
        "colab": {
          "base_uri": "https://localhost:8080/",
          "height": 51
        }
      },
      "source": [
        "def need_grains(grain, person):\n",
        "    # お茶碗一杯に入っている米粒はおよそ3250粒。お茶碗一杯150gが普通で、お米は炊くことで重さが2.3倍になることを考慮すると、元々の重さは150/2.3で約65g。65gの米粒を数えると3250粒ほどになるそう。朝、昼、晩と一食3杯とすると1日あたりで一人が必要とする米粒は3250*3となる。\n",
        "    need_num = 3250 * 3\n",
        "    survive_days = int(grain / (person * need_num))\n",
        "    return survive_days\n",
        "\n",
        "grain0 = list_total_grains[-1]\n",
        "survive_days1 = need_grains(grain0, 12)\n",
        "print('生活できる日数: {:,}日'.format(survive_days1))\n",
        "print('生活できる年数: {:,}年'.format(int(survive_days1 / 365)))"
      ],
      "execution_count": 0,
      "outputs": [
        {
          "output_type": "stream",
          "text": [
            "生活できる日数: 90,887,384,327,173,742,026,332,775,120,896日\n",
            "生活できる年数: 249,006,532,403,215,745,267,160,580,096年\n"
          ],
          "name": "stdout"
        }
      ]
    },
    {
      "cell_type": "code",
      "metadata": {
        "id": "1FCOu19-nFRs",
        "colab_type": "code",
        "colab": {}
      },
      "source": [
        ""
      ],
      "execution_count": 0,
      "outputs": []
    }
  ]
}