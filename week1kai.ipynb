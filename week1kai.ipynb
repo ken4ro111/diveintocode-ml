{
  "nbformat": 4,
  "nbformat_minor": 0,
  "metadata": {
    "colab": {
      "name": "week1kai",
      "provenance": [],
      "collapsed_sections": []
    },
    "kernelspec": {
      "name": "python3",
      "display_name": "Python 3"
    }
  },
  "cells": [
    {
      "cell_type": "markdown",
      "metadata": {
        "id": "F_f0WtEQR6ji",
        "colab_type": "text"
      },
      "source": [
        "# 問１"
      ]
    },
    {
      "cell_type": "code",
      "metadata": {
        "id": "5rMjG99-SBQJ",
        "colab_type": "code",
        "outputId": "dd38a49f-87ab-4af0-8d48-fe10b53086e2",
        "colab": {
          "base_uri": "https://localhost:8080/",
          "height": 34
        }
      },
      "source": [
        "\"\"\"\n",
        "紙を1回折った時の厚さを計算するコード\n",
        "\"\"\"\n",
        "\n",
        "THICKNESS = 0.00008\n",
        "n_folded = 43\n",
        "\n",
        "folded_thickness = THICKNESS*(2**n_folded)\n",
        "\n",
        "print(\"厚さ： {}メートル\".format(folded_thickness))"
      ],
      "execution_count": 3,
      "outputs": [
        {
          "output_type": "stream",
          "text": [
            "厚さ： 703687441.77664メートル\n"
          ],
          "name": "stdout"
        }
      ]
    },
    {
      "cell_type": "markdown",
      "metadata": {
        "id": "FqWA7kNLTBDe",
        "colab_type": "text"
      },
      "source": [
        "# 問２"
      ]
    },
    {
      "cell_type": "code",
      "metadata": {
        "id": "AdEu44iETEpJ",
        "colab_type": "code",
        "outputId": "4b31b322-757d-4252-837c-2b088b40f767",
        "colab": {
          "base_uri": "https://localhost:8080/",
          "height": 34
        }
      },
      "source": [
        "# メートルを万キロメートルに変換して小数点以下2桁で表示する\n",
        "print(\"厚さ： {:.2f}万キロメートル\".format(folded_thickness/1000/10000))"
      ],
      "execution_count": 4,
      "outputs": [
        {
          "output_type": "stream",
          "text": [
            "厚さ： 70.37万キロメートル\n"
          ],
          "name": "stdout"
        }
      ]
    },
    {
      "cell_type": "markdown",
      "metadata": {
        "id": "_tdw-CKSUBxj",
        "colab_type": "text"
      },
      "source": [
        ""
      ]
    },
    {
      "cell_type": "markdown",
      "metadata": {
        "id": "c2fXrzrrUCV6",
        "colab_type": "text"
      },
      "source": [
        "# 問３"
      ]
    },
    {
      "cell_type": "code",
      "metadata": {
        "id": "r4JhQXgxUFMm",
        "colab_type": "code",
        "outputId": "64915f2f-71b9-408b-d5e1-ec66f938aeeb",
        "colab": {
          "base_uri": "https://localhost:8080/",
          "height": 51
        }
      },
      "source": [
        "a = 1\n",
        "for i in range(n_folded):\n",
        "  a *= 2\n",
        "  folded_thickness = THICKNESS * a\n",
        "print(\"厚さ： {}メートル\".format(folded_thickness))\n",
        "print(\"厚さ： {:.2f}万キロメートル\".format(folded_thickness/1000/10000))"
      ],
      "execution_count": 11,
      "outputs": [
        {
          "output_type": "stream",
          "text": [
            "厚さ： 703687441.77664メートル\n",
            "厚さ： 70.37万キロメートル\n"
          ],
          "name": "stdout"
        }
      ]
    },
    {
      "cell_type": "markdown",
      "metadata": {
        "id": "0OGtumAZW4Li",
        "colab_type": "text"
      },
      "source": [
        "# 問４"
      ]
    },
    {
      "cell_type": "code",
      "metadata": {
        "id": "XhyWHwEx9EnG",
        "colab_type": "code",
        "colab": {
          "base_uri": "https://localhost:8080/",
          "height": 51
        },
        "outputId": "b6d71bc2-e0ec-4ac1-b4f9-06dbd58ddccf"
      },
      "source": [
        "THICKNESS = 0.00008\n",
        "\n",
        "n_folded = 43\n",
        "\n",
        "start = time.time()\n",
        "#####\n",
        "folded_thickness = THICKNESS\n",
        "for i in range(n_folded):\n",
        "    folded_thickness = folded_thickness*2\n",
        "#####\n",
        "elapsed_time = time.time() - start\n",
        "print(\"time : {}[ms]\".format(elapsed_time*1000))\n",
        "print(\"厚さ： {:.2f}万キロメートル\".format(folded_thickness/1000/10000))"
      ],
      "execution_count": 21,
      "outputs": [
        {
          "output_type": "stream",
          "text": [
            "time : 0.05888938903808594[ms]\n",
            "厚さ： 70.37万キロメートル\n"
          ],
          "name": "stdout"
        }
      ]
    },
    {
      "cell_type": "code",
      "metadata": {
        "id": "Wm3XoL5DW6OP",
        "colab_type": "code",
        "outputId": "d629f762-49ac-4690-8bc8-21c6f7a4605b",
        "colab": {
          "base_uri": "https://localhost:8080/",
          "height": 51
        }
      },
      "source": [
        "import time\n",
        "start = time.time()\n",
        "#####\n",
        "folded_thickness = THICKNESS*(2**n_folded)\n",
        "#####\n",
        "elapsed_time = time.time() - start\n",
        "print(\"time : {}[ms]\".format(elapsed_time*1000))\n",
        "print(\"厚さ： {:.2f}万キロメートル\".format(folded_thickness/10000000))\n"
      ],
      "execution_count": 24,
      "outputs": [
        {
          "output_type": "stream",
          "text": [
            "time : 0.04482269287109375[ms]\n",
            "厚さ： 70.37万キロメートル\n"
          ],
          "name": "stdout"
        }
      ]
    },
    {
      "cell_type": "markdown",
      "metadata": {
        "id": "lLmTxCknbrp_",
        "colab_type": "text"
      },
      "source": [
        "# 問５"
      ]
    },
    {
      "cell_type": "code",
      "metadata": {
        "id": "rD292-EHbuWK",
        "colab_type": "code",
        "outputId": "dd0fcf90-0e09-4dc4-e14b-2a881908a7ba",
        "colab": {
          "base_uri": "https://localhost:8080/",
          "height": 71
        }
      },
      "source": [
        "t_list = []\n",
        "t_list.append(0.00008)\n",
        "a =1\n",
        "for i in range(43):\n",
        "  a *= 2 \n",
        "  folded_thickness = THICKNESS * a\n",
        "  t_list.append(folded_thickness)\n",
        "print(t_list)\n",
        "print(len(t_list))"
      ],
      "execution_count": 14,
      "outputs": [
        {
          "output_type": "stream",
          "text": [
            "[8e-05, 0.00016, 0.00032, 0.00064, 0.00128, 0.00256, 0.00512, 0.01024, 0.02048, 0.04096, 0.08192, 0.16384, 0.32768, 0.65536, 1.31072, 2.62144, 5.24288, 10.48576, 20.97152, 41.94304, 83.88608, 167.77216, 335.54432, 671.08864, 1342.17728, 2684.35456, 5368.70912, 10737.41824, 21474.83648, 42949.67296, 85899.34592, 171798.69184, 343597.38368, 687194.76736, 1374389.53472, 2748779.06944, 5497558.13888, 10995116.27776, 21990232.55552, 43980465.11104, 87960930.22208, 175921860.44416, 351843720.88832, 703687441.77664]\n",
            "44\n"
          ],
          "name": "stdout"
        }
      ]
    },
    {
      "cell_type": "markdown",
      "metadata": {
        "id": "qhlN8Vb2hqEs",
        "colab_type": "text"
      },
      "source": [
        "# 問６"
      ]
    },
    {
      "cell_type": "code",
      "metadata": {
        "id": "V0RNHJ3Fd563",
        "colab_type": "code",
        "outputId": "7c5f97da-83fc-4e1d-91d2-adf0d2a002ca",
        "colab": {
          "base_uri": "https://localhost:8080/",
          "height": 295
        }
      },
      "source": [
        "\"\"\"\n",
        "グラフを表示する。タイトルと軸ラベル名付き。\n",
        "\"\"\"\n",
        "import matplotlib.pyplot as plt\n",
        "%matplotlib inline\n",
        "\n",
        "plt.title(\"thickness of folded paper\")\n",
        "plt.xlabel(\"number of folds\")\n",
        "plt.ylabel(\"thickness[m]\")\n",
        "plt.plot(t_list) # 「リスト名」のところにリストの変数名を入れる\n",
        "plt.show()"
      ],
      "execution_count": 15,
      "outputs": [
        {
          "output_type": "display_data",
          "data": {
            "image/png": "[encoded data removed]",
            "text/plain": [
              "<Figure size 432x288 with 1 Axes>"
            ]
          },
          "metadata": {
            "tags": []
          }
        }
      ]
    },
    {
      "cell_type": "markdown",
      "metadata": {
        "id": "RqpBXe82hwPX",
        "colab_type": "text"
      },
      "source": [
        "# 問７"
      ]
    },
    {
      "cell_type": "code",
      "metadata": {
        "id": "ZNdb92Jnh3-l",
        "colab_type": "code",
        "outputId": "860d87f4-66d3-4563-a799-d26f8628a724",
        "colab": {
          "base_uri": "https://localhost:8080/",
          "height": 295
        }
      },
      "source": [
        "\"\"\"\n",
        "緑の折れ線グラフを表示する。\n",
        "\"\"\"\n",
        "plt.title(\"thickness of folded paper\")\n",
        "plt.xlabel(\"number of folds\")\n",
        "plt.ylabel(\"thickness[m]\")\n",
        "plt.plot(t_list, color='green')\n",
        "plt.show()"
      ],
      "execution_count": 16,
      "outputs": [
        {
          "output_type": "display_data",
          "data": {
            "image/png": "[encoded data removed]",
            "text/plain": [
              "<Figure size 432x288 with 1 Axes>"
            ]
          },
          "metadata": {
            "tags": []
          }
        }
      ]
    },
    {
      "cell_type": "code",
      "metadata": {
        "id": "78As8wTHiFLy",
        "colab_type": "code",
        "outputId": "0eae71e5-5c2e-4273-c6ca-51261896dc5d",
        "colab": {
          "base_uri": "https://localhost:8080/",
          "height": 304
        }
      },
      "source": [
        "\"\"\"\n",
        "軸の値を大きく表示する。\n",
        "\"\"\"\n",
        "plt.title(\"thickness of folded paper\")\n",
        "plt.xlabel(\"number of folds\")\n",
        "plt.ylabel(\"thickness[m]\")\n",
        "plt.tick_params(labelsize=20) # 軸の値に関する設定を行う\n",
        "plt.plot(t_list)\n",
        "plt.show()"
      ],
      "execution_count": 17,
      "outputs": [
        {
          "output_type": "display_data",
          "data": {
            "image/png": "[encoded data removed]",
            "text/plain": [
              "<Figure size 432x288 with 1 Axes>"
            ]
          },
          "metadata": {
            "tags": []
          }
        }
      ]
    },
    {
      "cell_type": "code",
      "metadata": {
        "id": "2fveqYTCigju",
        "colab_type": "code",
        "outputId": "744fa160-fa95-4f9a-8ad5-d0c7af0403f3",
        "colab": {
          "base_uri": "https://localhost:8080/",
          "height": 295
        }
      },
      "source": [
        "\"\"\"\n",
        "折れ線グラフを表示する。\n",
        "\"\"\"\n",
        "plt.title(\"thickness of folded paper\")\n",
        "plt.xlabel(\"number of folds\")\n",
        "plt.ylabel(\"thickness[m]\")\n",
        "plt.plot(t_list, marker='o')\n",
        "plt.show()"
      ],
      "execution_count": 18,
      "outputs": [
        {
          "output_type": "display_data",
          "data": {
            "image/png": "[encoded data removed]",
            "text/plain": [
              "<Figure size 432x288 with 1 Axes>"
            ]
          },
          "metadata": {
            "tags": []
          }
        }
      ]
    },
    {
      "cell_type": "code",
      "metadata": {
        "id": "3HFDcpIA8L4c",
        "colab_type": "code",
        "colab": {}
      },
      "source": [
        ""
      ],
      "execution_count": 0,
      "outputs": []
    }
  ]
}