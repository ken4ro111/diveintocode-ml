{
  "nbformat": 4,
  "nbformat_minor": 0,
  "metadata": {
    "colab": {
      "name": "week2_2.ipynb",
      "provenance": [],
      "collapsed_sections": []
    },
    "kernelspec": {
      "name": "python3",
      "display_name": "Python 3"
    }
  },
  "cells": [
    {
      "cell_type": "markdown",
      "metadata": {
        "id": "oGbdfFwHDfKj",
        "colab_type": "text"
      },
      "source": [
        "# 問１ 乱数の作成"
      ]
    },
    {
      "cell_type": "code",
      "metadata": {
        "id": "1aJVTDiKDhZE",
        "colab_type": "code",
        "outputId": "d47d605e-550d-4964-bc19-fbec7b731fbf",
        "colab": {
          "base_uri": "https://localhost:8080/",
          "height": 34
        }
      },
      "source": [
        "import numpy as np\n",
        "\n",
        "ave_num = [-3 , 0]\n",
        "a_num = [[1.0 , 0.8] , [0.8 , 1.0]]\n",
        "np.random.seed(0)\n",
        "n_samples = 500\n",
        "\n",
        "ave_ndarray_0 = np.random.multivariate_normal(ave_num , a_num , n_samples)\n",
        "print(ave_ndarray_0.shape)"
      ],
      "execution_count": 9,
      "outputs": [
        {
          "output_type": "stream",
          "text": [
            "(500, 2)\n"
          ],
          "name": "stdout"
        }
      ]
    },
    {
      "cell_type": "code",
      "metadata": {
        "id": "tjLGVf4fPcOj",
        "colab_type": "code",
        "colab": {}
      },
      "source": [
        ""
      ],
      "execution_count": 0,
      "outputs": []
    },
    {
      "cell_type": "code",
      "metadata": {
        "id": "55uY8-cOSYVF",
        "colab_type": "code",
        "colab": {}
      },
      "source": [
        ""
      ],
      "execution_count": 0,
      "outputs": []
    },
    {
      "cell_type": "markdown",
      "metadata": {
        "id": "Sl2lefHaSYsD",
        "colab_type": "text"
      },
      "source": [
        "# 問２ 散布図による可視化"
      ]
    },
    {
      "cell_type": "code",
      "metadata": {
        "id": "93z8y4RdSa_h",
        "colab_type": "code",
        "outputId": "50e947e0-9390-4792-8a86-752a19fbd1d3",
        "colab": {
          "base_uri": "https://localhost:8080/",
          "height": 299
        }
      },
      "source": [
        "import numpy as np\n",
        "import matplotlib.pyplot as plt\n",
        "\n",
        "\n",
        "plt.xlabel(\"x1\",fontsize = 12)\n",
        "plt.ylabel(\"x2\",fontsize = 12)\n",
        "plt.title(\"scatter\",fontsize = 14)\n",
        "plt.scatter(ave_ndarray_0[: ,0],ave_ndarray_0[: ,1])\n",
        "plt.show()"
      ],
      "execution_count": 3,
      "outputs": [
        {
          "output_type": "display_data",
          "data": {
            "image/png": "[encoded data removed]",
            "text/plain": [
              "<Figure size 432x288 with 1 Axes>"
            ]
          },
          "metadata": {
            "tags": []
          }
        }
      ]
    },
    {
      "cell_type": "code",
      "metadata": {
        "id": "srzl0cEUTgQ2",
        "colab_type": "code",
        "colab": {}
      },
      "source": [
        ""
      ],
      "execution_count": 0,
      "outputs": []
    },
    {
      "cell_type": "code",
      "metadata": {
        "id": "Ai3bdA0iUf7X",
        "colab_type": "code",
        "colab": {}
      },
      "source": [
        ""
      ],
      "execution_count": 0,
      "outputs": []
    },
    {
      "cell_type": "code",
      "metadata": {
        "id": "VYeL_F4UUf-G",
        "colab_type": "code",
        "colab": {}
      },
      "source": [
        ""
      ],
      "execution_count": 0,
      "outputs": []
    },
    {
      "cell_type": "markdown",
      "metadata": {
        "id": "9snVh-71UgJs",
        "colab_type": "text"
      },
      "source": [
        "# 問３ ヒストグラムによる可視化"
      ]
    },
    {
      "cell_type": "code",
      "metadata": {
        "id": "X32Rg1rBUh_s",
        "colab_type": "code",
        "outputId": "dbee588a-eb52-42a2-cf1b-394b3aaf9310",
        "colab": {
          "base_uri": "https://localhost:8080/",
          "height": 295
        }
      },
      "source": [
        "import numpy as np\n",
        "import matplotlib.pyplot as plt\n",
        "\n",
        "\n",
        "plt.xlabel('Smarts')\n",
        "plt.ylabel('Probability')\n",
        "plt.title('Histogram of x1')\n",
        "\n",
        "\n",
        "plt.hist(ave_ndarray_0[: ,0],bins = 50)\n",
        "plt.show()"
      ],
      "execution_count": 4,
      "outputs": [
        {
          "output_type": "display_data",
          "data": {
            "image/png": "[encoded data removed]",
            "text/plain": [
              "<Figure size 432x288 with 1 Axes>"
            ]
          },
          "metadata": {
            "tags": []
          }
        }
      ]
    },
    {
      "cell_type": "code",
      "metadata": {
        "id": "T_tykDikU9iF",
        "colab_type": "code",
        "outputId": "afd8e4d6-415c-49dd-9230-b10aa3ff94c7",
        "colab": {
          "base_uri": "https://localhost:8080/",
          "height": 269
        }
      },
      "source": [
        "plt.hist(ave_ndarray_0[: ,1],bins = 50)\n",
        "plt.show()"
      ],
      "execution_count": 5,
      "outputs": [
        {
          "output_type": "display_data",
          "data": {
            "image/png": "[encoded data removed]",
            "text/plain": [
              "<Figure size 432x288 with 1 Axes>"
            ]
          },
          "metadata": {
            "tags": []
          }
        }
      ]
    },
    {
      "cell_type": "code",
      "metadata": {
        "id": "loFnN-QUXpJ_",
        "colab_type": "code",
        "colab": {}
      },
      "source": [
        ""
      ],
      "execution_count": 0,
      "outputs": []
    },
    {
      "cell_type": "code",
      "metadata": {
        "id": "9SzYQ0aCXpM9",
        "colab_type": "code",
        "colab": {}
      },
      "source": [
        ""
      ],
      "execution_count": 0,
      "outputs": []
    },
    {
      "cell_type": "markdown",
      "metadata": {
        "id": "YP12-vK0Xppn",
        "colab_type": "text"
      },
      "source": [
        "# 問４ データの追加"
      ]
    },
    {
      "cell_type": "code",
      "metadata": {
        "id": "aoR3Y-xYXri0",
        "colab_type": "code",
        "outputId": "5972d799-81ab-49f4-cb85-a05f73a97b4b",
        "colab": {
          "base_uri": "https://localhost:8080/",
          "height": 34
        }
      },
      "source": [
        "import numpy as np\n",
        "\n",
        "ave_num = [0 , -3]\n",
        "a_num = [[1.0 , 0.8] , [0.8 , 1.0]]\n",
        "np.random.seed(0)\n",
        "\n",
        "\n",
        "ave_ndarray_1 = np.random.multivariate_normal(ave_num , a_num , n_samples)\n",
        "print(ave_ndarray_1.shape)"
      ],
      "execution_count": 10,
      "outputs": [
        {
          "output_type": "stream",
          "text": [
            "(500, 2)\n"
          ],
          "name": "stdout"
        }
      ]
    },
    {
      "cell_type": "code",
      "metadata": {
        "id": "Dt04xbOBYIS9",
        "colab_type": "code",
        "outputId": "8c9a6c1f-255c-47df-d836-c5917ced1cbf",
        "colab": {
          "base_uri": "https://localhost:8080/",
          "height": 299
        }
      },
      "source": [
        "import numpy as np\n",
        "import matplotlib.pyplot as plt\n",
        "\n",
        "\n",
        "plt.xlabel(\"x1\",fontsize = 12)\n",
        "plt.ylabel(\"x2\",fontsize = 12)\n",
        "plt.title(\"ave_ndarray_scatter\",fontsize = 14)\n",
        "plt.scatter(ave_ndarray_0[: ,0],ave_ndarray_0[: ,1] , label = \"0\")\n",
        "plt.scatter(ave_ndarray_1[: ,0],ave_ndarray_1[: ,1], label = \"1\")\n",
        "plt.show()"
      ],
      "execution_count": 7,
      "outputs": [
        {
          "output_type": "display_data",
          "data": {
            "image/png": "[encoded data removed]",
            "text/plain": [
              "<Figure size 432x288 with 1 Axes>"
            ]
          },
          "metadata": {
            "tags": []
          }
        }
      ]
    },
    {
      "cell_type": "code",
      "metadata": {
        "id": "OmTppE8FYWp-",
        "colab_type": "code",
        "colab": {}
      },
      "source": [
        ""
      ],
      "execution_count": 0,
      "outputs": []
    },
    {
      "cell_type": "code",
      "metadata": {
        "id": "9-9Wdu3naU5Q",
        "colab_type": "code",
        "colab": {}
      },
      "source": [
        ""
      ],
      "execution_count": 0,
      "outputs": []
    },
    {
      "cell_type": "code",
      "metadata": {
        "id": "OAZonaqIaU7i",
        "colab_type": "code",
        "colab": {}
      },
      "source": [
        ""
      ],
      "execution_count": 0,
      "outputs": []
    },
    {
      "cell_type": "markdown",
      "metadata": {
        "id": "PHiWYtgAaVIJ",
        "colab_type": "text"
      },
      "source": [
        "# 問５ データの結合"
      ]
    },
    {
      "cell_type": "code",
      "metadata": {
        "id": "qygMuIk5aXcI",
        "colab_type": "code",
        "outputId": "4fe1b6f1-7245-4731-f5c7-384b20a0ed43",
        "colab": {
          "base_uri": "https://localhost:8080/",
          "height": 34
        }
      },
      "source": [
        "ave_ndarray_sum = np.vstack([ave_ndarray_0, ave_ndarray_1])\n",
        "print(ave_ndarray_sum.shape)"
      ],
      "execution_count": 8,
      "outputs": [
        {
          "output_type": "stream",
          "text": [
            "(1000, 2)\n"
          ],
          "name": "stdout"
        }
      ]
    },
    {
      "cell_type": "code",
      "metadata": {
        "id": "zl4MR19Aalr5",
        "colab_type": "code",
        "colab": {}
      },
      "source": [
        ""
      ],
      "execution_count": 0,
      "outputs": []
    },
    {
      "cell_type": "code",
      "metadata": {
        "id": "3qcwtdg2a7_2",
        "colab_type": "code",
        "colab": {}
      },
      "source": [
        ""
      ],
      "execution_count": 0,
      "outputs": []
    },
    {
      "cell_type": "code",
      "metadata": {
        "id": "DLXRfBZ0a8CV",
        "colab_type": "code",
        "colab": {}
      },
      "source": [
        ""
      ],
      "execution_count": 0,
      "outputs": []
    },
    {
      "cell_type": "markdown",
      "metadata": {
        "id": "PdFp8VtGa8Ni",
        "colab_type": "text"
      },
      "source": [
        "# 問６ ラベル付け"
      ]
    },
    {
      "cell_type": "code",
      "metadata": {
        "id": "lINJCZHua-2w",
        "colab_type": "code",
        "colab": {
          "base_uri": "https://localhost:8080/",
          "height": 136
        },
        "outputId": "c7efe7f3-97cc-4d78-c238-e28fd6d95eee"
      },
      "source": [
        "label1 = np.zeros((n_samples , 1))\n",
        "label2 = np.ones((n_samples , 1))\n",
        "\n",
        "\n",
        "label = np.concatenate([label1,label2],axis = 0)\n",
        "\n",
        "data_label = np.concatenate([ave_ndarray_sum , label] , axis = 1)\n",
        "data_label.shape\n",
        "print(\"作成したndarray:{}\".format(data_label))"
      ],
      "execution_count": 25,
      "outputs": [
        {
          "output_type": "stream",
          "text": [
            "作成したndarray:[[-4.80006782 -1.54698618  0.        ]\n",
            " [-4.63714503 -0.21987973  0.        ]\n",
            " [-4.46267867 -2.08076347  0.        ]\n",
            " ...\n",
            " [-0.40484501 -3.14372258  1.        ]\n",
            " [ 0.1584315  -2.78199606  1.        ]\n",
            " [ 1.20196495 -2.02452628  1.        ]]\n"
          ],
          "name": "stdout"
        }
      ]
    },
    {
      "cell_type": "code",
      "metadata": {
        "id": "5yyFIjuNArG_",
        "colab_type": "code",
        "colab": {}
      },
      "source": [
        ""
      ],
      "execution_count": 0,
      "outputs": []
    }
  ]
}