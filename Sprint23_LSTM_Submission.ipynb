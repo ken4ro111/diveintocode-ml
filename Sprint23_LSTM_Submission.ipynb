{
 "cells": [
  {
   "cell_type": "code",
   "execution_count": 0,
   "metadata": {
    "colab": {},
    "colab_type": "code",
    "id": "l7gYXgCAmKRO"
   },
   "outputs": [],
   "source": [
    "import numpy as np\n",
    "import matplotlib.pyplot as plt\n",
    "%matplotlib inline\n",
    "import pandas as pd"
   ]
  },
  {
   "cell_type": "markdown",
   "metadata": {
    "colab_type": "text",
    "id": "Tgr9T_HjmKRW"
   },
   "source": [
    "# SimpleRNN"
   ]
  },
  {
   "cell_type": "code",
   "execution_count": 0,
   "metadata": {
    "colab": {},
    "colab_type": "code",
    "id": "DMRkE--fmKRZ",
    "outputId": "f0f40a14-7d4b-4ec3-da2c-46264b31ba19"
   },
   "outputs": [
    {
     "name": "stdout",
     "output_type": "stream",
     "text": [
      "Loading data...\n",
      "25000 train sequences\n",
      "25000 test , sequences\n"
     ]
    }
   ],
   "source": [
    "from __future__ import print_function\n",
    "\n",
    "from keras.preprocessing import sequence\n",
    "from keras.models import Sequential\n",
    "from keras.layers import Dense , Embedding\n",
    "from keras.layers import SimpleRNN\n",
    "from keras.datasets import imdb\n",
    "\n",
    "max_features = 20000\n",
    "maxlen = 80\n",
    "batch_size = 32\n",
    "\n",
    "print(\"Loading data...\")\n",
    "(X_train , y_train) , (X_test , y_test) = imdb.load_data(num_words = max_features)\n",
    "print(len(X_train) , \"train sequences\")\n",
    "print(len(X_test) , \"test , sequences\")"
   ]
  },
  {
   "cell_type": "code",
   "execution_count": 0,
   "metadata": {
    "colab": {},
    "colab_type": "code",
    "id": "cVbGx1vumKRe",
    "outputId": "69ae12b7-49d4-4f00-8e8d-8fb1514137c4"
   },
   "outputs": [
    {
     "name": "stdout",
     "output_type": "stream",
     "text": [
      "Pad sequences (samples X time)\n",
      "X_train shape :  (25000, 80)\n",
      "X_test shape :  (25000, 80)\n",
      "Build model...\n",
      "Model: \"sequential_7\"\n",
      "_________________________________________________________________\n",
      "Layer (type)                 Output Shape              Param #   \n",
      "=================================================================\n",
      "embedding_3 (Embedding)      (None, None, 128)         2560000   \n",
      "_________________________________________________________________\n",
      "simple_rnn_1 (SimpleRNN)     (None, 128)               32896     \n",
      "_________________________________________________________________\n",
      "dense_3 (Dense)              (None, 1)                 129       \n",
      "=================================================================\n",
      "Total params: 2,593,025\n",
      "Trainable params: 2,593,025\n",
      "Non-trainable params: 0\n",
      "_________________________________________________________________\n",
      "None\n"
     ]
    }
   ],
   "source": [
    "print(\"Pad sequences (samples X time)\")\n",
    "X_train = sequence.pad_sequences(X_train , maxlen=maxlen)\n",
    "X_test = sequence.pad_sequences(X_test , maxlen=maxlen)\n",
    "print(\"X_train shape : \" , X_train.shape)\n",
    "print(\"X_test shape : \" , X_test.shape)\n",
    "\n",
    "print(\"Build model...\")\n",
    "model = Sequential()\n",
    "model.add(Embedding(max_features , 128))\n",
    "model.add(SimpleRNN(128 , dropout=0.2 , recurrent_dropout=0.2))\n",
    "model.add(Dense(1 , activation=\"sigmoid\"))\n",
    "\n",
    "print(model.summary())"
   ]
  },
  {
   "cell_type": "code",
   "execution_count": 0,
   "metadata": {
    "colab": {},
    "colab_type": "code",
    "id": "d_PxqjILmKRj",
    "outputId": "cfee4fe1-07d3-413d-dc96-67ee049fe0d3"
   },
   "outputs": [
    {
     "name": "stdout",
     "output_type": "stream",
     "text": [
      "Train...\n",
      "Train on 25000 samples, validate on 25000 samples\n",
      "Epoch 1/5\n",
      "25000/25000 [==============================] - 201s 8ms/step - loss: 0.6830 - accuracy: 0.5540 - val_loss: 0.6134 - val_accuracy: 0.6902\n",
      "Epoch 2/5\n",
      "25000/25000 [==============================] - 182s 7ms/step - loss: 0.5512 - accuracy: 0.7160 - val_loss: 0.6155 - val_accuracy: 0.6475\n",
      "Epoch 3/5\n",
      "25000/25000 [==============================] - 173s 7ms/step - loss: 0.5345 - accuracy: 0.7289 - val_loss: 0.5955 - val_accuracy: 0.6841\n",
      "Epoch 4/5\n",
      "25000/25000 [==============================] - 173s 7ms/step - loss: 0.5324 - accuracy: 0.7319 - val_loss: 0.5359 - val_accuracy: 0.7411\n",
      "Epoch 5/5\n",
      "25000/25000 [==============================] - 175s 7ms/step - loss: 0.5021 - accuracy: 0.7518 - val_loss: 0.5623 - val_accuracy: 0.7250\n",
      "25000/25000 [==============================] - 26s 1ms/step\n",
      "Test score :  0.5622755904579163\n",
      "Test accuracy :  0.7249600291252136\n"
     ]
    }
   ],
   "source": [
    "model.compile(loss=\"binary_crossentropy\" , \n",
    "             optimizer=\"adam\" , \n",
    "             metrics=[\"accuracy\"])\n",
    "\n",
    "print(\"Train...\")\n",
    "model.fit(X_train , y_train , \n",
    "         batch_size=batch_size , \n",
    "         epochs = 5 , \n",
    "         validation_data = (X_test , y_test))\n",
    "score , acc = model.evaluate(X_test , y_test  , \n",
    "                            batch_size=batch_size)\n",
    "print(\"Test score : \" , score)\n",
    "print(\"Test accuracy : \" , acc)"
   ]
  },
  {
   "cell_type": "markdown",
   "metadata": {
    "colab_type": "text",
    "id": "Bipz9VMHmKRp"
   },
   "source": [
    "# GRU"
   ]
  },
  {
   "cell_type": "code",
   "execution_count": 0,
   "metadata": {
    "colab": {},
    "colab_type": "code",
    "id": "5_bpXM7_mKRr",
    "outputId": "14e3f8b1-1534-46e3-8220-98f3ea80b564"
   },
   "outputs": [
    {
     "name": "stdout",
     "output_type": "stream",
     "text": [
      "Loading data...\n",
      "25000 train sequences\n",
      "25000 test , sequences\n"
     ]
    }
   ],
   "source": [
    "from __future__ import print_function\n",
    "\n",
    "from keras.preprocessing import sequence\n",
    "from keras.models import Sequential\n",
    "from keras.layers import Dense , Embedding\n",
    "from keras.layers import GRU\n",
    "from keras.datasets import imdb\n",
    "\n",
    "max_features = 20000\n",
    "maxlen = 80\n",
    "batch_size = 32\n",
    "\n",
    "print(\"Loading data...\")\n",
    "(X_train , y_train) , (X_test , y_test) = imdb.load_data(num_words = max_features)\n",
    "print(len(X_train) , \"train sequences\")\n",
    "print(len(X_test) , \"test , sequences\")"
   ]
  },
  {
   "cell_type": "code",
   "execution_count": 0,
   "metadata": {
    "colab": {},
    "colab_type": "code",
    "id": "p49GuETvmKRu",
    "outputId": "2f8c0490-7cc0-4d05-c550-b96b97977e8d"
   },
   "outputs": [
    {
     "name": "stdout",
     "output_type": "stream",
     "text": [
      "Pad sequences (samples X time)\n",
      "X_train shape :  (25000, 80)\n",
      "X_test shape :  (25000, 80)\n",
      "Build model...\n",
      "Model: \"sequential_8\"\n",
      "_________________________________________________________________\n",
      "Layer (type)                 Output Shape              Param #   \n",
      "=================================================================\n",
      "embedding_4 (Embedding)      (None, None, 128)         2560000   \n",
      "_________________________________________________________________\n",
      "gru_1 (GRU)                  (None, 128)               98688     \n",
      "_________________________________________________________________\n",
      "dense_4 (Dense)              (None, 1)                 129       \n",
      "=================================================================\n",
      "Total params: 2,658,817\n",
      "Trainable params: 2,658,817\n",
      "Non-trainable params: 0\n",
      "_________________________________________________________________\n",
      "None\n"
     ]
    }
   ],
   "source": [
    "print(\"Pad sequences (samples X time)\")\n",
    "X_train = sequence.pad_sequences(X_train , maxlen=maxlen)\n",
    "X_test = sequence.pad_sequences(X_test , maxlen=maxlen)\n",
    "print(\"X_train shape : \" , X_train.shape)\n",
    "print(\"X_test shape : \" , X_test.shape)\n",
    "\n",
    "print(\"Build model...\")\n",
    "model = Sequential()\n",
    "model.add(Embedding(max_features , 128))\n",
    "model.add(GRU(128 , dropout=0.2 , recurrent_dropout=0.2))\n",
    "model.add(Dense(1 , activation=\"sigmoid\"))\n",
    "\n",
    "print(model.summary())"
   ]
  },
  {
   "cell_type": "code",
   "execution_count": 0,
   "metadata": {
    "colab": {},
    "colab_type": "code",
    "id": "x5o_UDPpmKRz",
    "outputId": "9c2a9b8c-00b5-45dc-9f52-79b30806bac3"
   },
   "outputs": [
    {
     "name": "stdout",
     "output_type": "stream",
     "text": [
      "Train...\n",
      "Train on 25000 samples, validate on 25000 samples\n",
      "Epoch 1/5\n",
      "25000/25000 [==============================] - 405s 16ms/step - loss: 0.5039 - accuracy: 0.7535 - val_loss: 0.5237 - val_accuracy: 0.7412\n",
      "Epoch 2/5\n",
      "25000/25000 [==============================] - 405s 16ms/step - loss: 0.4917 - accuracy: 0.8004 - val_loss: 0.5361 - val_accuracy: 0.7186\n",
      "Epoch 3/5\n",
      "25000/25000 [==============================] - 420s 17ms/step - loss: 0.3213 - accuracy: 0.8718 - val_loss: 0.5322 - val_accuracy: 0.7303\n",
      "Epoch 4/5\n",
      "25000/25000 [==============================] - 415s 17ms/step - loss: 0.2505 - accuracy: 0.9090 - val_loss: 0.5641 - val_accuracy: 0.7199\n",
      "Epoch 5/5\n",
      "25000/25000 [==============================] - 456s 18ms/step - loss: 0.2114 - accuracy: 0.9212 - val_loss: 0.6211 - val_accuracy: 0.6984\n",
      "25000/25000 [==============================] - 70s 3ms/step\n",
      "Test score :  0.6211218611526489\n",
      "Test accuracy :  0.6984400153160095\n"
     ]
    }
   ],
   "source": [
    "model.compile(loss=\"binary_crossentropy\" , \n",
    "             optimizer=\"adam\" , \n",
    "             metrics=[\"accuracy\"])\n",
    "\n",
    "print(\"Train...\")\n",
    "model.fit(X_train , y_train , \n",
    "         batch_size=batch_size , \n",
    "         epochs = 5 , \n",
    "         validation_data = (X_test , y_test))\n",
    "score , acc = model.evaluate(X_test , y_test  , \n",
    "                            batch_size=batch_size)\n",
    "print(\"Test score : \" , score)\n",
    "print(\"Test accuracy : \" , acc)"
   ]
  },
  {
   "cell_type": "markdown",
   "metadata": {
    "colab_type": "text",
    "id": "4920XaMqmKR2"
   },
   "source": [
    "# LSTM\n",
    "\n",
    "https://blog.keras.io/using-pre-trained-word-embeddings-in-a-keras-model.html"
   ]
  },
  {
   "cell_type": "code",
   "execution_count": 0,
   "metadata": {
    "colab": {},
    "colab_type": "code",
    "id": "44Q7cr08mKSD",
    "outputId": "7477aa50-e06c-43f4-d18e-3582478bcffa"
   },
   "outputs": [
    {
     "name": "stdout",
     "output_type": "stream",
     "text": [
      "Loading data...\n",
      "25000 train sequences\n",
      "25000 test , sequences\n"
     ]
    }
   ],
   "source": [
    "from __future__ import print_function\n",
    "\n",
    "from keras.preprocessing import sequence\n",
    "from keras.models import Sequential\n",
    "from keras.layers import Dense , Embedding\n",
    "from keras.layers import LSTM\n",
    "from keras.datasets import imdb\n",
    "\n",
    "max_features = 20000\n",
    "maxlen = 80\n",
    "batch_size = 48\n",
    "\n",
    "print(\"Loading data...\")\n",
    "(X_train , y_train) , (X_test , y_test) = imdb.load_data(num_words = max_features)\n",
    "print(len(X_train) , \"train sequences\")\n",
    "print(len(X_test) , \"test , sequences\")"
   ]
  },
  {
   "cell_type": "code",
   "execution_count": 0,
   "metadata": {
    "colab": {},
    "colab_type": "code",
    "id": "DO9luFudmKSO",
    "outputId": "1ec88d12-46d3-4f90-a976-80ffa2bd8073"
   },
   "outputs": [
    {
     "name": "stdout",
     "output_type": "stream",
     "text": [
      "Pad sequences (samples X time)\n",
      "X_train shape :  (25000, 80)\n",
      "X_test shape :  (25000, 80)\n",
      "Build model...\n",
      "Model: \"sequential_11\"\n",
      "_________________________________________________________________\n",
      "Layer (type)                 Output Shape              Param #   \n",
      "=================================================================\n",
      "embedding_7 (Embedding)      (None, None, 128)         2560000   \n",
      "_________________________________________________________________\n",
      "lstm_5 (LSTM)                (None, 128)               131584    \n",
      "_________________________________________________________________\n",
      "dense_7 (Dense)              (None, 50)                6450      \n",
      "_________________________________________________________________\n",
      "dense_8 (Dense)              (None, 1)                 51        \n",
      "=================================================================\n",
      "Total params: 2,698,085\n",
      "Trainable params: 2,698,085\n",
      "Non-trainable params: 0\n",
      "_________________________________________________________________\n",
      "None\n"
     ]
    }
   ],
   "source": [
    "print(\"Pad sequences (samples X time)\")\n",
    "X_train = sequence.pad_sequences(X_train , maxlen=maxlen)\n",
    "X_test = sequence.pad_sequences(X_test , maxlen=maxlen)\n",
    "print(\"X_train shape : \" , X_train.shape)\n",
    "print(\"X_test shape : \" , X_test.shape)\n",
    "\n",
    "print(\"Build model...\")\n",
    "model = Sequential()\n",
    "model.add(Embedding(max_features , 128))\n",
    "model.add(LSTM(128 , dropout=0.2 , recurrent_dropout=0.2))\n",
    "model.add(Dense(50 , activation=\"sigmoid\"))\n",
    "model.add(Dense(1 , activation=\"sigmoid\"))\n",
    "\n",
    "print(model.summary())"
   ]
  },
  {
   "cell_type": "code",
   "execution_count": 0,
   "metadata": {
    "colab": {},
    "colab_type": "code",
    "id": "s1rv8JvKmKSS",
    "outputId": "db8a99b5-38b8-403e-b330-acb9d3790ab7"
   },
   "outputs": [
    {
     "name": "stdout",
     "output_type": "stream",
     "text": [
      "Train...\n",
      "Train on 25000 samples, validate on 25000 samples\n",
      "Epoch 1/10\n",
      "25000/25000 [==============================] - 383s 15ms/step - loss: 0.4662 - accuracy: 0.7767 - val_loss: 0.3685 - val_accuracy: 0.8364\n",
      "Epoch 2/10\n",
      "25000/25000 [==============================] - 371s 15ms/step - loss: 0.3051 - accuracy: 0.8789 - val_loss: 0.3891 - val_accuracy: 0.8273\n",
      "Epoch 3/10\n",
      "25000/25000 [==============================] - 338s 14ms/step - loss: 0.2335 - accuracy: 0.9110 - val_loss: 0.4107 - val_accuracy: 0.8334\n",
      "Epoch 4/10\n",
      "25000/25000 [==============================] - 400s 16ms/step - loss: 0.1695 - accuracy: 0.9373 - val_loss: 0.5138 - val_accuracy: 0.8220\n",
      "Epoch 5/10\n",
      "25000/25000 [==============================] - 379s 15ms/step - loss: 0.1271 - accuracy: 0.9557 - val_loss: 0.5089 - val_accuracy: 0.8238\n",
      "Epoch 6/10\n",
      "25000/25000 [==============================] - 382s 15ms/step - loss: 0.0975 - accuracy: 0.9667 - val_loss: 0.5726 - val_accuracy: 0.8103\n",
      "Epoch 7/10\n",
      "25000/25000 [==============================] - 383s 15ms/step - loss: 0.0766 - accuracy: 0.9746 - val_loss: 0.6468 - val_accuracy: 0.8226\n",
      "Epoch 8/10\n",
      "25000/25000 [==============================] - 386s 15ms/step - loss: 0.0626 - accuracy: 0.9786 - val_loss: 0.6652 - val_accuracy: 0.8186\n",
      "Epoch 9/10\n",
      "25000/25000 [==============================] - 388s 16ms/step - loss: 0.0436 - accuracy: 0.9861 - val_loss: 0.7468 - val_accuracy: 0.8162\n",
      "Epoch 10/10\n",
      "25000/25000 [==============================] - 324s 13ms/step - loss: 0.0404 - accuracy: 0.9870 - val_loss: 0.7830 - val_accuracy: 0.8159\n",
      "25000/25000 [==============================] - 73s 3ms/step\n",
      "Test score :  0.7829870281410217\n",
      "Test accuracy :  0.8159199953079224\n"
     ]
    }
   ],
   "source": [
    "model.compile(loss=\"binary_crossentropy\" , \n",
    "             optimizer=\"adam\" , \n",
    "             metrics=[\"accuracy\"])\n",
    "\n",
    "print(\"Train...\")\n",
    "model.fit(X_train , y_train , \n",
    "         batch_size=batch_size , \n",
    "         epochs = 10 , \n",
    "         validation_data = (X_test , y_test))\n",
    "score , acc = model.evaluate(X_test , y_test  , \n",
    "                            batch_size=batch_size)\n",
    "print(\"Test score : \" , score)\n",
    "print(\"Test accuracy : \" , acc)"
   ]
  },
  {
   "cell_type": "markdown",
   "metadata": {
    "colab_type": "text",
    "id": "AUD-dwVymKSV"
   },
   "source": [
    "# ConvLSTM2D"
   ]
  },
  {
   "cell_type": "code",
   "execution_count": 0,
   "metadata": {
    "colab": {},
    "colab_type": "code",
    "id": "rj18LM17mKSW"
   },
   "outputs": [],
   "source": [
    "from keras.models import Sequential\n",
    "from keras.layers.convolutional import Conv3D\n",
    "from keras.layers.convolutional_recurrent import ConvLSTM2D\n",
    "from keras.layers.normalization import BatchNormalization\n",
    "import numpy as np\n",
    "import pylab as plt"
   ]
  },
  {
   "cell_type": "code",
   "execution_count": 0,
   "metadata": {
    "colab": {},
    "colab_type": "code",
    "id": "uiFVXHIwmKSh",
    "outputId": "115cd296-dede-416f-d98a-0d1623e50d7d"
   },
   "outputs": [
    {
     "name": "stdout",
     "output_type": "stream",
     "text": [
      "Model: \"sequential_6\"\n",
      "_________________________________________________________________\n",
      "Layer (type)                 Output Shape              Param #   \n",
      "=================================================================\n",
      "conv_lst_m2d_9 (ConvLSTM2D)  (None, None, 40, 40, 40)  59200     \n",
      "_________________________________________________________________\n",
      "batch_normalization_9 (Batch (None, None, 40, 40, 40)  160       \n",
      "_________________________________________________________________\n",
      "conv_lst_m2d_10 (ConvLSTM2D) (None, None, 40, 40, 40)  115360    \n",
      "_________________________________________________________________\n",
      "batch_normalization_10 (Batc (None, None, 40, 40, 40)  160       \n",
      "_________________________________________________________________\n",
      "conv_lst_m2d_11 (ConvLSTM2D) (None, None, 40, 40, 40)  115360    \n",
      "_________________________________________________________________\n",
      "batch_normalization_11 (Batc (None, None, 40, 40, 40)  160       \n",
      "_________________________________________________________________\n",
      "conv_lst_m2d_12 (ConvLSTM2D) (None, None, 40, 40, 40)  115360    \n",
      "_________________________________________________________________\n",
      "batch_normalization_12 (Batc (None, None, 40, 40, 40)  160       \n",
      "_________________________________________________________________\n",
      "conv3d_3 (Conv3D)            (None, None, 40, 40, 1)   1081      \n",
      "=================================================================\n",
      "Total params: 407,001\n",
      "Trainable params: 406,681\n",
      "Non-trainable params: 320\n",
      "_________________________________________________________________\n",
      "None\n"
     ]
    }
   ],
   "source": [
    "seq = Sequential()\n",
    "seq.add(ConvLSTM2D(filters=40 , kernel_size=(3,3) , \n",
    "                  input_shape=(None , 40 , 40 , 1) , \n",
    "                  padding=\"same\" , return_sequences=True))\n",
    "\n",
    "seq.add(BatchNormalization())\n",
    "\n",
    "seq.add(ConvLSTM2D(filters=40 , kernel_size=(3,3) , \n",
    "                  padding=\"same\" , return_sequences=True))\n",
    "\n",
    "seq.add(BatchNormalization())\n",
    "\n",
    "seq.add(ConvLSTM2D(filters=40 , kernel_size=(3,3) , \n",
    "                  padding=\"same\" , return_sequences=True))\n",
    "\n",
    "seq.add(BatchNormalization())\n",
    "\n",
    "seq.add(ConvLSTM2D(filters=40 , kernel_size=(3,3) , \n",
    "                  padding=\"same\" , return_sequences=True))\n",
    "\n",
    "seq.add(BatchNormalization())\n",
    "\n",
    "seq.add(Conv3D(filters=1 , kernel_size=(3,3,3) , \n",
    "              activation=\"sigmoid\" ,\n",
    "              padding=\"same\" , data_format=\"channels_last\"))\n",
    "\n",
    "seq.compile(loss=\"binary_crossentropy\" , optimizer=\"adadelta\")\n",
    "\n",
    "print(seq.summary())"
   ]
  },
  {
   "cell_type": "code",
   "execution_count": 0,
   "metadata": {
    "colab": {},
    "colab_type": "code",
    "id": "qKBfkLVumKSk"
   },
   "outputs": [],
   "source": [
    "def generate_movies(n_samples=1200, n_frames=15):\n",
    "    row = 80\n",
    "    col = 80\n",
    "    noisy_movies = np.zeros((n_samples, n_frames, row, col, 1), dtype=np.float)\n",
    "    shifted_movies = np.zeros((n_samples, n_frames, row, col, 1),\n",
    "                              dtype=np.float)\n",
    "\n",
    "    for i in range(n_samples):\n",
    "        # Add 3 to 7 moving squares\n",
    "        n = np.random.randint(3, 8)\n",
    "\n",
    "        for j in range(n):\n",
    "            # Initial position\n",
    "            xstart = np.random.randint(20, 60)\n",
    "            ystart = np.random.randint(20, 60)\n",
    "            # Direction of motion\n",
    "            directionx = np.random.randint(0, 3) - 1\n",
    "            directiony = np.random.randint(0, 3) - 1\n",
    "\n",
    "            # Size of the square\n",
    "            w = np.random.randint(2, 4)\n",
    "\n",
    "            for t in range(n_frames):\n",
    "                x_shift = xstart + directionx * t\n",
    "                y_shift = ystart + directiony * t\n",
    "                noisy_movies[i, t, x_shift - w: x_shift + w,\n",
    "                             y_shift - w: y_shift + w, 0] += 1\n",
    "\n",
    "                # Make it more robust by adding noise.\n",
    "                # The idea is that if during inference,\n",
    "                # the value of the pixel is not exactly one,\n",
    "                # we need to train the network to be robust and still\n",
    "                # consider it as a pixel belonging to a square.\n",
    "                if np.random.randint(0, 2):\n",
    "                    noise_f = (-1)**np.random.randint(0, 2)\n",
    "                    noisy_movies[i, t,\n",
    "                                 x_shift - w - 1: x_shift + w + 1,\n",
    "                                 y_shift - w - 1: y_shift + w + 1,\n",
    "                                 0] += noise_f * 0.1\n",
    "\n",
    "                # Shift the ground truth by 1\n",
    "                x_shift = xstart + directionx * (t + 1)\n",
    "                y_shift = ystart + directiony * (t + 1)\n",
    "                shifted_movies[i, t, x_shift - w: x_shift + w,\n",
    "                               y_shift - w: y_shift + w, 0] += 1\n",
    "\n",
    "    # Cut to a 40x40 window\n",
    "    noisy_movies = noisy_movies[::, ::, 20:60, 20:60, ::]\n",
    "    shifted_movies = shifted_movies[::, ::, 20:60, 20:60, ::]\n",
    "    noisy_movies[noisy_movies >= 1] = 1\n",
    "    shifted_movies[shifted_movies >= 1] = 1\n",
    "    return noisy_movies, shifted_movies"
   ]
  },
  {
   "cell_type": "code",
   "execution_count": 0,
   "metadata": {
    "colab": {},
    "colab_type": "code",
    "id": "OVoiZSqMmKSm",
    "outputId": "84b1a69a-c5c3-4e07-f048-51aacd61d4d6"
   },
   "outputs": [
    {
     "name": "stdout",
     "output_type": "stream",
     "text": [
      "Train on 80 samples, validate on 20 samples\n",
      "Epoch 1/5\n",
      "80/80 [==============================] - 179s 2s/step - loss: 0.6479 - val_loss: 0.6725\n",
      "Epoch 2/5\n",
      "80/80 [==============================] - 159s 2s/step - loss: 0.5366 - val_loss: 0.6652\n",
      "Epoch 3/5\n",
      "80/80 [==============================] - 156s 2s/step - loss: 0.4625 - val_loss: 0.6598\n",
      "Epoch 4/5\n",
      "80/80 [==============================] - 156s 2s/step - loss: 0.4261 - val_loss: 0.6494\n",
      "Epoch 5/5\n",
      "80/80 [==============================] - 157s 2s/step - loss: 0.3587 - val_loss: 0.6406\n"
     ]
    },
    {
     "data": {
      "text/plain": [
       "<keras.callbacks.callbacks.History at 0xb45ec5128>"
      ]
     },
     "execution_count": 28,
     "metadata": {
      "tags": []
     },
     "output_type": "execute_result"
    }
   ],
   "source": [
    "noisy_movies , shifted_movies = generate_movies(n_samples=1200)\n",
    "seq.fit(noisy_movies[:100] , shifted_movies[:100] , batch_size=20 , \n",
    "       epochs = 5 , validation_split=0.2)"
   ]
  },
  {
   "cell_type": "code",
   "execution_count": 0,
   "metadata": {
    "colab": {},
    "colab_type": "code",
    "id": "iIiVAq0pmKSu",
    "outputId": "54390ce9-2a86-4452-ed1f-2194ef371a02"
   },
   "outputs": [
    {
     "data": {
      "image/png": "[encoded data removed]",
      "text/plain": [
       "<Figure size 720x360 with 2 Axes>"
      ]
     },
     "metadata": {
      "needs_background": "light",
      "tags": []
     },
     "output_type": "display_data"
    },
    {
     "data": {
      "image/png": "[encoded data removed]",
      "text/plain": [
       "<Figure size 720x360 with 2 Axes>"
      ]
     },
     "metadata": {
      "needs_background": "light",
      "tags": []
     },
     "output_type": "display_data"
    },
    {
     "data": {
      "image/png": "[encoded data removed]",
      "text/plain": [
       "<Figure size 720x360 with 2 Axes>"
      ]
     },
     "metadata": {
      "needs_background": "light",
      "tags": []
     },
     "output_type": "display_data"
    },
    {
     "data": {
      "image/png": "[encoded data removed]",
      "text/plain": [
       "<Figure size 720x360 with 2 Axes>"
      ]
     },
     "metadata": {
      "needs_background": "light",
      "tags": []
     },
     "output_type": "display_data"
    },
    {
     "data": {
      "image/png": "[encoded data removed]",
      "text/plain": [
       "<Figure size 720x360 with 2 Axes>"
      ]
     },
     "metadata": {
      "needs_background": "light",
      "tags": []
     },
     "output_type": "display_data"
    },
    {
     "data": {
      "image/png": "[encoded data removed]",
      "text/plain": [
       "<Figure size 720x360 with 2 Axes>"
      ]
     },
     "metadata": {
      "needs_background": "light",
      "tags": []
     },
     "output_type": "display_data"
    },
    {
     "data": {
      "image/png": "[encoded data removed]",
      "text/plain": [
       "<Figure size 720x360 with 2 Axes>"
      ]
     },
     "metadata": {
      "needs_background": "light",
      "tags": []
     },
     "output_type": "display_data"
    },
    {
     "data": {
      "image/png": "[encoded data removed]",
      "text/plain": [
       "<Figure size 720x360 with 2 Axes>"
      ]
     },
     "metadata": {
      "needs_background": "light",
      "tags": []
     },
     "output_type": "display_data"
    },
    {
     "data": {
      "image/png": "[encoded data removed]",
      "text/plain": [
       "<Figure size 720x360 with 2 Axes>"
      ]
     },
     "metadata": {
      "needs_background": "light",
      "tags": []
     },
     "output_type": "display_data"
    },
    {
     "data": {
      "image/png": "[encoded data removed]",
      "text/plain": [
       "<Figure size 720x360 with 2 Axes>"
      ]
     },
     "metadata": {
      "needs_background": "light",
      "tags": []
     },
     "output_type": "display_data"
    },
    {
     "data": {
      "image/png": "[encoded data removed]",
      "text/plain": [
       "<Figure size 720x360 with 2 Axes>"
      ]
     },
     "metadata": {
      "needs_background": "light",
      "tags": []
     },
     "output_type": "display_data"
    },
    {
     "data": {
      "image/png": "[encoded data removed]",
      "text/plain": [
       "<Figure size 720x360 with 2 Axes>"
      ]
     },
     "metadata": {
      "needs_background": "light",
      "tags": []
     },
     "output_type": "display_data"
    },
    {
     "data": {
      "image/png": "[encoded data removed]",
      "text/plain": [
       "<Figure size 720x360 with 2 Axes>"
      ]
     },
     "metadata": {
      "needs_background": "light",
      "tags": []
     },
     "output_type": "display_data"
    },
    {
     "data": {
      "image/png": "[encoded data removed]",
      "text/plain": [
       "<Figure size 720x360 with 2 Axes>"
      ]
     },
     "metadata": {
      "needs_background": "light",
      "tags": []
     },
     "output_type": "display_data"
    },
    {
     "data": {
      "image/png": "[encoded data removed]",
      "text/plain": [
       "<Figure size 720x360 with 2 Axes>"
      ]
     },
     "metadata": {
      "needs_background": "light",
      "tags": []
     },
     "output_type": "display_data"
    }
   ],
   "source": [
    "which = 1004\n",
    "track = noisy_movies[which][:7, ::, ::, ::]\n",
    "\n",
    "for j in range(16):\n",
    "    new_pos = seq.predict(track[np.newaxis, ::, ::, ::, ::])\n",
    "    new = new_pos[::, -1, ::, ::, ::]\n",
    "    track = np.concatenate((track, new), axis=0)\n",
    "\n",
    "\n",
    "# And then compare the predictions\n",
    "# to the ground truth\n",
    "track2 = noisy_movies[which][::, ::, ::, ::]\n",
    "for i in range(15):\n",
    "    fig = plt.figure(figsize=(10, 5))\n",
    "\n",
    "    ax = fig.add_subplot(121)\n",
    "\n",
    "    if i >= 7:\n",
    "        ax.text(1, 3, 'Predictions !', fontsize=20, color='w')\n",
    "    else:\n",
    "        ax.text(1, 3, 'Initial trajectory', fontsize=20)\n",
    "\n",
    "    toplot = track[i, ::, ::, 0]\n",
    "\n",
    "    plt.imshow(toplot)\n",
    "    ax = fig.add_subplot(122)\n",
    "    plt.text(1, 3, 'Ground truth', fontsize=20)\n",
    "\n",
    "    toplot = track2[i, ::, ::, 0]\n",
    "    if i >= 2:\n",
    "        toplot = shifted_movies[which][i - 1, ::, ::, 0]\n",
    "\n",
    "    plt.imshow(toplot)\n",
    "    plt.savefig('%i_animate.png' % (i + 1))"
   ]
  },
  {
   "cell_type": "markdown",
   "metadata": {
    "colab_type": "text",
    "id": "yRxNMmhtmKTC"
   },
   "source": [
    "# 【問題2】（アドバンス課題）複数のデータセット間での比較"
   ]
  },
  {
   "cell_type": "code",
   "execution_count": 35,
   "metadata": {
    "colab": {
     "base_uri": "https://localhost:8080/",
     "height": 1000
    },
    "colab_type": "code",
    "id": "FyYRgbM9mKTD",
    "outputId": "6df4f630-8fb1-4afb-e4db-137caea974ed"
   },
   "outputs": [
    {
     "name": "stdout",
     "output_type": "stream",
     "text": [
      "「ではみなさんは、そういうふうに川だと云《い》われたり、乳の流れたあとだと云われたりしていたこのぼんやりと白いものがほんとうは何かご承知ですか。」先生は、黒板に吊《つる》した大きな黒い星座の図の、上から下へ白くけぶった銀河帯のようなところを指《さ》しながら、みんなに問《とい》をかけました。\n",
      "　カムパネルラが手をあげました。それから四五人手をあげました。ジョバンニも手をあげようとして、急いでそのままやめました。たしかにあれがみんな星だと、いつか雑誌で読んだのでしたが、このごろはジョバンニはまるで毎日教室でもねむく、本を読むひまも読む本もないので、なんだかどんなこともよくわからないという気持ちがするのでした。\n",
      "　ところが先生は早くもそれを見附《みつ》けたのでした。\n",
      "「ジョバンニさん。あなたはわかっているのでしょう。」\n",
      "　ジョバンニは勢《いきおい》よく立ちあがりましたが、立って見るともうはっきりとそれを答えることができないのでした。ザネリが前の席からふりかえって、ジョバンニを見てくすっとわらいました。ジョバンニはもうどぎまぎしてまっ赤になってしまいました。先生がまた云いました。\n",
      "「大きな望遠鏡で銀河をよっく調べると銀河は大体何でしょう。」\n",
      "　やっぱり星だとジョバンニは思いましたがこんどもすぐに答えることができませんでした。\n",
      "　先生はしばらく困ったようすでしたが、眼《め》をカムパネルラの方へ向けて、\n",
      "「ではカムパネルラさん。」と名指しました。するとあんなに元気に手をあげたカムパネルラが、やはりもじもじ立ち上ったままやはり答えができませんでした。\n",
      "　先生は意外なようにしばらくじっとカムパネルラを見ていましたが、急いで「では。よし。」と云いながら、自分で星図を指《さ》しました。\n",
      "「このぼんやりと白い銀河を大きないい望遠鏡で見ますと、もうたくさんの小さな星に見えるのです。ジョバンニさんそうでしょう。」\n",
      "　ジョバンニはまっ赤になってうなずきました。けれどもいつかジョバンニの眼のなかには涙《なみだ》がいっぱいになりました。そうだ僕《ぼく》は知っていたのだ、勿論《もちろん》カムパネルラも知っている、それはいつかカムパネルラのお父さんの博士のうちでカムパネルラといっしょに読んだ雑誌のなかにあったのだ。それどこでなくカムパネルラは、その雑誌を読むと、すぐお父さんの書斎《しょさい》から巨《おお》きな本をもってきて、ぎんがというところをひろげ、まっ黒な頁《ページ》いっぱいに白い点々のある美しい写真を二人でいつまでも見たのでした。それをカムパネルラが忘れる筈《はず》もなかったのに、すぐに返事をしなかったのは、このごろぼくが、朝にも午后にも仕事がつらく、学校に出てももうみんなともはきはき遊ばず、カムパネルラともあんまり物を云わないようになったので、カムパネルラがそれを知って気の毒がってわざと返事をしなかったのだ、そう考えるとたまらないほど、じぶんもカムパネルラもあわれなような気がするのでした。\n",
      "　先生はまた云いました。\n",
      "「ですからもしもこの天《あま》の川《がわ》がほんとうに川だと考えるなら、その一つ一つの小さな星はみんなその川のそこの砂や砂利《じゃり》の粒《つぶ》にもあたるわけです。またこれを巨きな乳の流れと考えるならもっと天の川とよく似ています。つまりその星はみな、乳のなかにまるで細かにうかんでいる脂油《しゆ》の球にもあたるのです。そんなら何がその川の水にあたるかと云いますと、それは真空という光をある速さで伝えるもので、太陽や地球もやっぱりそのなかに浮《うか》んでいるのです。つまりは私どもも天の川の水のなかに棲《す》んでいるわけです。そしてその天の川の水のなかから四方を見ると、ちょうど水が深いほど青く見えるように、天の川の底の深く遠いところほど星がたくさん集って見えしたがって白くぼんやり見えるのです。この模型をごらんなさい。」\n",
      "　先生は中にたくさん光る砂のつぶの入った大きな両面の凸《とつ》レンズを指しました。\n",
      "「天の川の形はちょうどこんななのです。このいちいちの光るつぶがみんな私どもの太陽と同じようにじぶんで光っている星だと考えます。私どもの太陽がこのほぼ中ごろにあって地球がそのすぐ近くにあるとします。みなさんは夜にこのまん中に立ってこのレンズの中を見まわすとしてごらんなさい。こっちの方はレンズが薄《うす》いのでわずかの光る粒｜即《すなわ》ち星しか見えないのでしょう。こっちやこっちの方はガラスが厚いので、光る粒即ち星がたくさん見えその遠いのはぼうっと白く見えるというこれがつまり今日の銀河の説なのです。そんならこのレンズの大きさがどれ位あるかまたその中のさまざまの星についてはもう時間ですからこの次の理科の時間にお話します。では今日はその銀河のお祭なのですからみなさんは外へでてよくそらをごらんなさい。ではここまでです。本やノートをおしまいなさい。」\n",
      "　そして教室中はしばらく机《つくえ》の蓋《ふた》をあけたりしめたり本を重ねたりする音がいっぱいでしたがまもなくみんなはきちんと立って礼をすると教室を出ました。\n",
      "\n",
      "［＃３字下げ］二、活版所［＃「二、活版所」は中見出し］\n",
      "\n",
      "　ジョバンニが学校の門を出るとき、同じ組の七八人は家へ帰らずカムパネルラをまん中にして校庭の隅《すみ》の桜《さくら》の木のところに集まっていました。それはこんやの星祭に青いあかりをこしらえて川へ流す烏瓜《からすうり》を取りに行く相談らしかったのです。\n",
      "　けれどもジョバンニは手を大きく振《ふ》ってどしどし学校の門を出て来ました。すると町の家々ではこんやの銀河の祭りにいちいの葉の玉をつるしたりひのきの枝《えだ》にあかりをつけたりいろいろ仕度《したく》をしているのでした。\n",
      "　家へは帰らずジョバンニが町を三つ曲ってある大きな活版処にはいってすぐ入口の計算台に居ただぶだぶの白いシャツを着た人におじぎをしてジョバンニは靴《くつ》をぬいで上りますと、突《つ》き当りの大きな扉《と》をあけました。中にはまだ昼なのに電燈がついてたくさんの輪転器がばたりばたりとまわり、きれで頭をしばったりラムプシェードをかけたりした人たちが、何か歌うように読んだり数えたりしながらたくさん働いて居《お》りました。\n",
      "　ジョバンニはすぐ入口から三番目の高い卓子《テーブル》に座《すわ》った人の所へ行っておじぎをしました。その人はしばらく棚《たな》をさがしてから、\n",
      "「これだけ拾って行けるかね。」と云いながら、一枚の紙切れを渡《わた》しました。ジョバンニはその人の卓子の足もとから一つの小さな平たい函《はこ》をとりだして向うの電燈のたくさんついた、たてかけてある壁《かべ》の隅の所へしゃがみ込《こ》むと小さなピンセットでまるで粟粒《あわつぶ》ぐらいの活字を次から次と拾いはじめました。青い胸あてをした人がジョバンニのうしろを通りながら、\n",
      "「よう、虫めがね君、お早う。」と云いますと、近くの四五人の人たちが声もたてずこっちも向かずに冷くわらいました。\n",
      "　ジョバンニは何べんも眼を拭《ぬぐ》いながら活字をだんだんひろいました。\n",
      "　六時がうってしばらくたったころ、ジョバンニは拾った活字をいっぱいに入れた平たい箱《はこ》をもういちど手にもった紙きれと引き合せてから、さっきの卓子の人へ持って来ました。その人は黙《だま》ってそれを受け取って微《かす》かにうなずきました。\n",
      "　ジョバンニはおじぎをすると扉をあけてさっきの計算台のところに来ました。するとさっきの白服を着た人がやっぱりだまって小さな銀貨を一つジョバンニに渡しました。ジョバンニは俄《にわ》かに顔いろがよくなって威勢《いせい》よくおじぎをすると台の下に置いた鞄《かばん》をもっておもてへ飛びだしました。それから元気よく口笛《くちぶえ》を吹《ふ》きながらパン屋へ寄ってパンの塊《かたまり》を一つと角砂糖を一｜袋《ふくろ》買いますと一目散《いちもくさん》に走りだしました。\n",
      "\n",
      "［＃３字下げ］三、家［＃「三、家」は中見出し］\n",
      "\n",
      "　ジョバンニが勢《いきおい》よく帰って来たのは、ある裏町の小さな家でした。その三つならんだ入口の一番左側には空箱に紫《むらさき》いろのケールやアスパラガスが植えてあって小さな二つの窓には日覆《ひおお》いが下りたままになっていました。\n",
      "「お母《っか》さん。いま帰ったよ。工合《ぐあい》悪くなかったの。」ジョバンニは靴をぬぎながら云いました。\n",
      "「ああ、ジョバンニ、お仕事がひどかったろう。今日は涼《すず》しくてね。わたしはずうっと工合がいいよ。」\n",
      "　ジョバンニは玄関《げんかん》を上って行きますとジョバンニのお母さんがすぐ入口の室《へや》に白い巾《きれ》を被《かぶ》って寝《やす》んでいたのでした。ジョバンニは窓をあけました。\n",
      "「お母さん。今日は角砂糖を買ってきたよ。牛乳に入れてあげようと思って。」\n",
      "「ああ、お前さきにおあがり。あたしはまだほしくないんだから。」\n",
      "「お母さん。姉さんはいつ帰ったの。」\n",
      "「ああ三時ころ帰ったよ。みんなそこらをしてくれてね。」\n",
      "「お母さんの牛乳は来ていないんだろうか。」\n",
      "「来なかったろうかねえ。」\n",
      "「ぼく行ってとって来よう。」\n",
      "「あああたしはゆっくりでいいんだからお前さきにおあがり、姉さんがね、トマトで何かこしらえてそこへ置いて行ったよ。」\n",
      "「ではぼくたべよう。」\n",
      "　ジョバンニは窓のところからトマトの皿《さら》をとってパンといっしょにしばらくむしゃむしゃたべました。\n",
      "「ねえお母さん。ぼくお父さんはきっと間もなく帰ってくると思うよ。」\n",
      "「あああたしもそう思う。けれどもおまえはどうしてそう思うの。」\n",
      "「だって今朝の新聞に今年は北の方の漁は大へんよかったと書いてあったよ。」\n",
      "「ああだけどねえ、お父さんは漁へ出ていないかもしれない。」\n",
      "「きっと出ているよ。お父さんが監獄《かんごく》へ入るようなそんな悪いことをした筈《はず》がないんだ。この前お父さんが持ってきて学校へ寄贈《きぞう》した巨《おお》きな蟹《かに》の甲《こう》らだのとなかいの角だの今だってみんな標本室にあるんだ。六年生なんか授業のとき先生がかわるがわる教室へ持って行くよ。一昨年修学旅行で〔以下数文字分空白〕\n",
      "「お父さんはこの次はおまえにラッコの上着をもってくるといったねえ。」\n",
      "「みんながぼくにあうとそれを云うよ。ひやかすように云うんだ。」\n",
      "「おまえに悪口を云うの。」\n",
      "「うん、けれどもカムパネルラなんか決して云わない。カムパネルラはみんながそんなことを云うときは気の毒そうにしているよ。」\n",
      "「あの人はうちのお父さんとはちょうどおまえたちのように小さいときからのお友達だったそうだよ。」\n",
      "「ああだからお父さんはぼくをつれてカムパネルラのうちへもつれて行ったよ。あのころはよかったなあ。ぼくは学校から帰る途中《とちゅう》たびたびカムパネルラのうちに寄った。カムパネルラのうちにはアルコールラムプで走る汽車があったんだ。レールを七つ組み合せると円くなってそれに電柱や信号標もついていて信号標のあかりは汽車が通るときだけ青くなるようになっていたんだ。いつかアルコールがなくなったとき石油をつかったら、罐《かま》がすっかり煤《すす》けたよ。」\n",
      "「そうかねえ。」\n",
      "「いまも毎朝新聞をまわしに行くよ。けれどもいつでも家中まだしぃんとしているからな。」\n",
      "「早いからねえ。」\n",
      "「ザウエルという犬がいるよ。しっぽがまるで箒《ほうき》のようだ。ぼくが行くと鼻を鳴らしてついてくるよ。ずうっと町の角までついてくる。もっとついてくることもあるよ。今夜はみんなで烏瓜《からすうり》のあかりを川へながしに行くんだって。きっと犬もついて行くよ。」\n",
      "「そうだ。今晩は銀河のお祭だねえ。」\n",
      "「うん。ぼく牛乳をとりながら見てくるよ。」\n",
      "「ああ行っておいで。川へははいらないでね。」\n",
      "「ああぼく岸から見るだけなんだ。一時間で行ってくるよ。」\n",
      "「もっと遊んでおいで。カムパネルラさんと一緒《いっしょ》なら心配はないから。」\n",
      "「ああきっと一緒だよ。お母さん、窓をしめて置こうか。」\n",
      "「ああ、どうか。もう涼しいからね」\n",
      "　ジョバンニは立って窓をしめお皿やパンの袋を片附《かたづ》けると勢よく靴をはいて\n",
      "「では一時間半で帰ってくるよ。」と云いながら暗い戸口を出ました。\n",
      "\n",
      "［＃３字下げ］四、ケンタウル祭の夜［＃「四、ケンタウル祭の夜」は中見出し］\n",
      "\n",
      "　ジョバンニは、口笛を吹いているようなさびしい口付きで、檜《ひのき》のまっ黒にならんだ町の坂を下りて来たのでした。\n",
      "　坂の下に大きな一つの街燈が、青白く立派に光って立っていました。ジョバンニが、どんどん電燈の方へ下りて行きますと、いままでばけもののように、長くぼんやり、うしろへ引いていたジョバンニの影《かげ》ぼうしは、だんだん濃《こ》く黒くはっきりなって、足をあげたり手を振《ふ》ったり、ジョバンニの横の方へまわって来るのでした。\n",
      "（ぼくは立派な機関車だ。ここは勾配《こうばい》だから速いぞ。ぼくはいまその電燈を通り越《こ》す。そうら、こんどはぼくの影法師はコムパスだ。あんなにくるっとまわって、前の方へ来た。）\n",
      "とジョバンニが思いながら、大股《おおまた》にその街燈の下を通り過ぎたとき、いきなりひるまのザネリが、新らしいえりの尖《とが》ったシャツを着て電燈の向う側の暗い小路《こうじ》から出て来て、ひらっとジョバンニとすれちがいました。\n",
      "「ザネリ、烏瓜ながしに行くの。」ジョバンニがまだそう云ってしまわないうちに、\n",
      "「ジョバンニ、お父さんから、らっこの上着が来るよ。」その子が投げつけるようにうしろから叫《さけ》びました。\n",
      "　ジョバンニは、ばっと胸がつめたくなり、そこら中きぃんと鳴るように思いました。\n",
      "「何だい。ザネリ。」とジョバンニは高く叫び返しましたがもうザネリは向うのひばの植った家の中へはいっていました。\n",
      "「ザネリはどうしてぼくがなんにもしないのにあんなことを云うのだろう。走るときはまるで鼠《ねずみ》のようなくせに。ぼくがなんにもしないのにあんなことを云うのはザネリがばかなからだ。」\n",
      "　ジョバンニは、せわしくいろいろのことを考えながら、さまざまの灯《あかり》や木の枝《えだ》で、すっかりきれいに飾《かざ》られた街を通って行きました。時計屋の店には明るくネオン燈がついて、一秒ごとに石でこさえたふくろうの赤い眼《め》が、くるっくるっとうごいたり、いろいろな宝石が海のような色をした厚い硝子《ガラス》の盤《ばん》に載《の》って星のようにゆっくり循《めぐ》ったり、また向う側から、銅の人馬がゆっくりこっちへまわって来たりするのでした。そのまん中に円い黒い星座早見が青いアスパラガスの葉で飾ってありました。\n",
      "　ジョバンニはわれを忘れて、その星座の図に見入りました。\n",
      "　それはひる学校で見たあの図よりはずうっと小さかったのですがその日と時間に合せて盤をまわすと、そのとき出ているそらがそのまま楕円形《だえんけい》のなかにめぐってあらわれるようになって居《お》りやはりそのまん中には上から下へかけて銀河がぼうとけむったような帯になってその下の方ではかすかに爆発《ばくはつ》して湯気でもあげているように見えるのでした。またそのうしろには三本の脚《あし》のついた小さな望遠鏡が黄いろに光って立っていましたしいちばんうしろの壁《かべ》には空じゅうの星座をふしぎな獣《けもの》や蛇《へび》や魚や瓶《びん》の形に書いた大きな図がかかっていました。ほんとうにこんなような蝎《さそり》だの勇士だのそらにぎっしり居るだろうか、ああぼくはその中をどこまでも歩いて見たいと思ってたりしてしばらくぼんやり立って居ました。\n",
      "　それから俄《にわ》かにお母さんの牛乳のことを思いだしてジョバンニはその店をはなれました。そしてきゅうくつな上着の肩《かた》を気にしながらそれでもわざと胸を張って大きく手を振って町を通って行きました。\n",
      "　空気は澄《す》みきって、まるで水のように通りや店の中を流れましたし、街燈はみなまっ青なもみや楢《なら》の枝で包まれ、電気会社の前の六本のプラタヌスの木などは、中に沢山《たくさん》の豆電燈がついて、ほんとうにそこらは人魚の都のように見えるのでした。子どもらは、みんな新らしい折のついた着物を着て、星めぐりの口笛《くちぶえ》を吹《ふ》いたり、\n",
      "「ケンタウルス、露《つゆ》をふらせ。」と叫んで走ったり、青いマグネシヤの花火を燃したりして、たのしそうに遊んでいるのでした。けれどもジョバンニは、いつかまた深く首を垂れて、そこらのにぎやかさとはまるでちがったことを考えながら、牛乳屋の方へ急ぐのでした。\n",
      "　ジョバンニは、いつか町はずれのポプラの木が幾本《いくほん》も幾本も、高く星ぞらに浮《うか》んでいるところに来ていました。その牛乳屋の黒い門を入り、牛の匂《におい》のするうすくらい台所の前に立って、ジョバンニは帽子《ぼうし》をぬいで「今晩は、」と云いましたら、家の中はしぃんとして誰《たれ》も居たようではありませんでした。\n",
      "「今晩は、ごめんなさい。」ジョバンニはまっすぐに立ってまた叫びました。するとしばらくたってから、年｜老《と》った女の人が、どこか工合《ぐあい》が悪いようにそろそろと出て来て何か用かと口の中で云いました。\n",
      "「あの、今日、牛乳が僕《ぼく》※［＃小書き平仮名ん、168-12］とこへ来なかったので、貰《もら》いにあがったんです。」ジョバンニが一生けん命｜勢《いきおい》よく云いました。\n",
      "「いま誰もいないでわかりません。あしたにして下さい。」\n",
      "　その人は、赤い眼の下のとこを擦《こす》りながら、ジョバンニを見おろして云いました。\n",
      "「おっかさんが病気なんですから今晩でないと困るんです。」\n",
      "「ではもう少したってから来てください。」その人はもう行ってしまいそうでした。\n",
      "「そうですか。ではありがとう。」ジョバンニは、お辞儀《じぎ》をして台所から出ました。\n",
      "　十字になった町のかどを、まがろうとしましたら、向うの橋へ行く方の雑貨店の前で、黒い影やぼんやり白いシャツが入り乱れて、六七人の生徒らが、口笛を吹いたり笑ったりして、めいめい烏瓜の燈火《あかり》を持ってやって来るのを見ました。その笑い声も口笛も、みんな聞きおぼえのあるものでした。ジョバンニの同級の子供らだったのです。ジョバンニは思わずどきっとして戻《もど》ろうとしましたが、思い直して、一そう勢よくそっちへ歩いて行きました。\n",
      "「川へ行くの。」ジョバンニが云おうとして、少しのどがつまったように思ったとき、\n",
      "「ジョバンニ、らっこの上着が来るよ。」さっきのザネリがまた叫びました。\n",
      "「ジョバンニ、らっこの上着が来るよ。」すぐみんなが、続いて叫びました。ジョバンニはまっ赤になって、もう歩いているかもわからず、急いで行きすぎようとしましたら、そのなかにカムパネルラが居たのです。カムパネルラは気の毒そうに、だまって少しわらって、怒《おこ》らないだろうかというようにジョバンニの方を見ていました。\n",
      "　ジョバンニは、遁《に》げるようにその眼を避《さ》け、そしてカムパネルラのせいの高いかたちが過ぎて行って間もなく、みんなはてんでに口笛を吹きました。町かどを曲るとき、ふりかえって見ましたら、ザネリがやはりふりかえって見ていました。そしてカムパネルラもまた、高く口笛を吹いて向うにぼんやり見える橋の方へ歩いて行ってしまったのでした。ジョバンニは、なんとも云えずさびしくなって、いきなり走り出しました。すると耳に手をあてて、わああと云いながら片足でぴょんぴょん跳《と》んでいた小さな子供らは、ジョバンニが面白《おもしろ》くてかけるのだと思ってわあいと叫びました。まもなくジョバンニは黒い丘《おか》の方へ急ぎました。\n",
      "\n",
      "［＃３字下げ］五、天気輪《てんきりん》の柱［＃「五、天気輪の柱」は中見出し］\n",
      "\n",
      "　牧場のうしろはゆるい丘になって、その黒い平らな頂上は、北の大熊星《おおぐまぼし》の下に、ぼんやりふだんよりも低く連って見えました。\n",
      "　ジョバンニは、もう露の降りかかった小さな林のこみちを、どんどんのぼって行きました。まっくらな草や、いろいろな形に見えるやぶのしげみの間を、その小さなみちが、一すじ白く星あかりに照らしだされてあったのです。草の中には、ぴかぴか青びかりを出す小さな虫もいて、ある葉は青くすかし出され、ジョバンニは、さっきみんなの持って行った烏瓜《からすうり》のあかりのようだとも思いました。\n",
      "　そのまっ黒な、松や楢《なら》の林を越《こ》えると、俄《にわ》かにがらんと空がひらけて、天《あま》の川《がわ》がしらしらと南から北へ亘《わた》っているのが見え、また頂《いただき》の、天気輪の柱も見わけられたのでした。つりがねそうか野ぎくかの花が、そこらいちめんに、夢《ゆめ》の中からでも薫《かお》りだしたというように咲き、鳥が一｜疋《ぴき》、丘の上を鳴き続けながら通って行きました。\n",
      "　ジョバンニは、頂の天気輪の柱の下に来て、どかどかするからだを、つめたい草に投げました。\n",
      "　町の灯は、暗《やみ》の中をまるで海の底のお宮のけしきのようにともり、子供らの歌う声や口笛、きれぎれの叫《さけ》び声もかすかに聞えて来るのでした。風が遠くで鳴り、丘の草もしずかにそよぎ、ジョバンニの汗《あせ》でぬれたシャツもつめたく冷されました。ジョバンニは町のはずれから遠く黒くひろがった野原を見わたしました。\n",
      "　そこから汽車の音が聞えてきました。その小さな列車の窓は一列小さく赤く見え、その中にはたくさんの旅人が、苹果《りんご》を剥《む》いたり、わらったり、いろいろな風にしていると考えますと、ジョバンニは、もう何とも云えずかなしくなって、また眼をそらに挙げました。\n",
      "　あああの白いそらの帯がみんな星だというぞ。\n",
      "　ところがいくら見ていても、そのそらはひる先生の云ったような、がらんとした冷いとこだとは思われませんでした。それどころでなく、見れば見るほど、そこは小さな林や牧場やらある野原のように考えられて仕方なかったのです。そしてジョバンニは青い琴《こと》の星が、三つにも四つにもなって、ちらちら瞬《またた》き、脚が何べんも出たり引っ込《こ》んだりして、とうとう蕈《きのこ》のように長く延びるのを見ました。またすぐ眼の下のまちまでがやっぱりぼんやりしたたくさんの星の集りか一つの大きなけむりかのように見えるように思いました。\n",
      "\n",
      "［＃３字下げ］六、銀河ステーション［＃「六、銀河ステーション」は中見出し］\n",
      "\n",
      "　そしてジョバンニはすぐうしろの天気輪の柱がいつかぼんやりした三角標の形になって、しばらく蛍《ほたる》のように、ぺかぺか消えたりともったりしているのを見ました。それはだんだんはっきりして、とうとうりんとうごかないようになり、濃《こ》い鋼青《こうせい》のそらの野原にたちました。いま新らしく灼《や》いたばかりの青い鋼《はがね》の板のような、そらの野原に、まっすぐにすきっと立ったのです。\n",
      "　するとどこかで、ふしぎな声が、銀河ステーション、銀河ステーションと云《い》う声がしたと思うといきなり眼の前が、ぱっと明るくなって、まるで億万の蛍烏賊《ほたるいか》の火を一ぺんに化石させて、そら中に沈《しず》めたという工合《ぐあい》、またダイアモンド会社で、ねだんがやすくならないために、わざと穫《と》れないふりをして、かくして置いた金剛石《こんごうせき》を、誰《たれ》かがいきなりひっくりかえして、ばら撒《ま》いたという風に、眼の前がさあっと明るくなって、ジョバンニは、思わず何べんも眼を擦《こす》ってしまいました。\n",
      "　気がついてみると、さっきから、ごとごとごとごと、ジョバンニの乗っている小さな列車が走りつづけていたのでした。ほんとうにジョバンニは、夜の軽便鉄道の、小さな黄いろの電燈のならんだ車室に、窓から外を見ながら座《すわ》っていたのです。車室の中は、青い天蚕絨《びろうど》を張った腰掛《こしか》けが、まるでがら明きで、向うの鼠《ねずみ》いろのワニスを塗った壁《かべ》には、真鍮《しんちゅう》の大きなぼたんが二つ光っているのでした。\n",
      "　すぐ前の席に、ぬれたようにまっ黒な上着を着た、せいの高い子供が、窓から頭を出して外を見ているのに気が付きました。そしてそのこどもの肩《かた》のあたりが、どうも見たことのあるような気がして、そう思うと、もうどうしても誰だかわかりたくて、たまらなくなりました。いきなりこっちも窓から顔を出そうとしたとき、俄かにその子供が頭を引っ込めて、こっちを見ました。\n",
      "　それはカムパネルラだったのです。\n",
      "　ジョバンニが、カムパネルラ、きみは前からここに居たのと云おうと思ったとき、カムパネルラが\n",
      "「みんなはねずいぶん走ったけれども遅《おく》れてしまったよ。ザネリもね、ずいぶん走ったけれども追いつかなかった。」と云いました。\n",
      "　ジョバンニは、（そうだ、ぼくたちはいま、いっしょにさそって出掛けたのだ。）とおもいながら、\n",
      "「どこかで待っていようか」と云いました。するとカムパネルラは\n",
      "「ザネリはもう帰ったよ。お父さんが迎《むか》いにきたんだ。」\n",
      "　カムパネルラは、なぜかそう云いながら、少し顔いろが青ざめて、どこか苦しいというふうでした。するとジョバンニも、なんだかどこかに、何か忘れたものがあるというような、おかしな気持ちがしてだまってしまいました。\n",
      "　ところがカムパネルラは、窓から外をのぞきながら、もうすっかり元気が直って、勢《いきおい》よく云いました。\n",
      "「ああしまった。ぼく、水筒《すいとう》を忘れてきた。スケッチ帳も忘れてきた。けれど構わない。もうじき白鳥の停車場だから。ぼく、白鳥を見るなら、ほんとうにすきだ。川の遠くを飛んでいたって、ぼくはきっと見える。」そして、カムパネルラは、円い板のようになった地図を、しきりにぐるぐるまわして見ていました。まったくその中に、白くあらわされた天の川の左の岸に沿って一条の鉄道線路が、南へ南へとたどって行くのでした。そしてその地図の立派なことは、夜のようにまっ黒な盤《ばん》の上に、一一の停車場や三角標《さんかくひょう》、泉水や森が、青や橙《だいだい》や緑や、うつくしい光でちりばめられてありました。ジョバンニはなんだかその地図をどこかで見たようにおもいました。\n",
      "「この地図はどこで買ったの。黒曜石でできてるねえ。」\n",
      "　ジョバンニが云いました。\n",
      "「銀河ステーションで、もらったんだ。君もらわなかったの。」\n",
      "「ああ、ぼく銀河ステーションを通ったろうか。いまぼくたちの居るとこ、ここだろう。」\n",
      "　ジョバンニは、白鳥と書いてある停車場のしるしの、すぐ北を指《さ》しました。\n",
      "「そうだ。おや、あの河原《かわら》は月夜だろうか。」\n",
      "　そっちを見ますと、青白く光る銀河の岸に、銀いろの空のすすきが、もうまるでいちめん、風にさらさらさらさら、ゆられてうごいて、波を立てているのでした。\n",
      "「月夜でないよ。銀河だから光るんだよ。」ジョバンニは云いながら、まるではね上りたいくらい愉快《ゆかい》になって、足をこつこつ鳴らし、窓から顔を出して、高く高く星めぐりの口笛《くちぶえ》を吹《ふ》きながら一生けん命延びあがって、その天の川の水を、見きわめようとしましたが、はじめはどうしてもそれが、はっきりしませんでした。けれどもだんだん気をつけて見ると、そのきれいな水は、ガラスよりも水素よりもすきとおって、ときどき眼《め》の加減か、ちらちら紫《むらさき》いろのこまかな波をたてたり、虹《にじ》のようにぎらっと光ったりしながら、声もなくどんどん流れて行き、野原にはあっちにもこっちにも、燐光《りんこう》の三角標が、うつくしく立っていたのです。遠いものは小さく、近いものは大きく、遠いものは橙や黄いろではっきりし、近いものは青白く少しかすんで、或《ある》いは三角形、或いは四辺形、あるいは電《いなずま》や鎖《くさり》の形、さまざまにならんで、野原いっぱい光っているのでした。ジョバンニは、まるでどきどきして、頭をやけに振《ふ》りました。するとほんとうに、そのきれいな野原中の青や橙や、いろいろかがやく三角標も、てんでに息をつくように、ちらちらゆれたり顫《ふる》えたりしました。\n",
      "「ぼくはもう、すっかり天の野原に来た。」ジョバンニは云いました。\n",
      "「それにこの汽車石炭をたいていないねえ。」ジョバンニが左手をつき出して窓から前の方を見ながら云いました。\n",
      "「アルコールか電気だろう。」カムパネルラが云いました。\n",
      "　ごとごとごとごと、その小さなきれいな汽車は、そらのすすきの風にひるがえる中を、天の川の水や、三角点の青じろい微光《びこう》の中を、どこまでもどこまでもと、走って行くのでした。\n",
      "「ああ、りんどうの花が咲いている。もうすっかり秋だねえ。」カムパネルラが、窓の外を指さして云いました。\n",
      "　線路のへりになったみじかい芝草《しばくさ》の中に、月長石ででも刻《きざ》まれたような、すばらしい紫のりんどうの花が咲いていました。\n",
      "「ぼく、飛び下りて、あいつをとって、また飛び乗ってみせようか。」ジョバンニは胸を躍《おど》らせて云いました。\n",
      "「もうだめだ。あんなにうしろへ行ってしまったから。」\n",
      "　カムパネルラが、そう云ってしまうかしまわないうち、次のりんどうの花が、いっぱいに光って過ぎて行きました。\n",
      "　と思ったら、もう次から次から、たくさんのきいろな底をもったりんどうの花のコップが、湧《わ》くように、雨のように、眼の前を通り、三角標の列は、けむるように燃えるように、いよいよ光って立ったのです。\n",
      "\n",
      "［＃３字下げ］七、北十字とプリオシン海岸［＃「七、北十字とプリオシン海岸」は中見出し］\n",
      "\n",
      "「おっかさんは、ぼくをゆるして下さるだろうか。」\n",
      "　いきなり、カムパネルラが、思い切ったというように、少しどもりながら、急《せ》きこんで云《い》いました。\n",
      "　ジョバンニは、\n",
      "（ああ、そうだ、ぼくのおっかさんは、あの遠い一つのちりのように見える橙《だいだい》いろの三角標のあたりにいらっしゃって、いまぼくのことを考えているんだった。）と思いながら、ぼんやりしてだまっていました。\n",
      "「ぼくはおっかさんが、ほんとうに幸《さいわい》になるなら、どんなことでもする。けれども、いったいどんなことが、おっかさんのいちばんの幸なんだろう。」カムパネルラは、なんだか、泣きだしたいのを、一生けん命こらえているようでした。\n",
      "「きみのおっかさんは、なんにもひどいことないじゃないの。」ジョバンニはびっくりして叫《さけ》びました。\n",
      "「ぼくわからない。けれども、誰《たれ》だって、ほんとうにいいことをしたら、いちばん幸なんだねえ。だから、おっかさんは、ぼくをゆるして下さると思う。」カムパネルラは、なにかほんとうに決心しているように見えました。\n",
      "　俄《にわ》かに、車のなかが、ぱっと白く明るくなりました。見ると、もうじつに、金剛石《こんごうせき》や草の露《つゆ》やあらゆる立派さをあつめたような、きらびやかな銀河の河床《かわどこ》の上を水は声もなくかたちもなく流れ、その流れのまん中に、ぼうっと青白く後光の射《さ》した一つの島が見えるのでした。その島の平らないただきに、立派な眼もさめるような、白い十字架《じゅうじか》がたって、それはもう凍《こお》った北極の雲で鋳《い》たといったらいいか、すきっとした金いろの円光をいただいて、しずかに永久に立っているのでした。\n",
      "「ハルレヤ、ハルレヤ。」前からもうしろからも声が起りました。ふりかえって見ると、車室の中の旅人たちは、みなまっすぐにきもののひだを垂れ、黒いバイブルを胸にあてたり、水晶《すいしょう》の珠数《じゅず》をかけたり、どの人もつつましく指を組み合せて、そっちに祈《いの》っているのでした。思わず二人もまっすぐに立ちあがりました。カムパネルラの頬《ほほ》は、まるで熟した苹果《りんご》のあかしのようにうつくしくかがやいて見えました。\n",
      "　そして島と十字架とは、だんだんうしろの方へうつって行きました。\n",
      "　向う岸も、青じろくぽうっと光ってけむり、時々、やっぱりすすきが風にひるがえるらしく、さっとその銀いろがけむって、息でもかけたように見え、また、たくさんのりんどうの花が、草をかくれたり出たりするのは、やさしい狐火《きつねび》のように思われました。\n",
      "　それもほんのちょっとの間、川と汽車との間は、すすきの列でさえぎられ、白鳥の島は、二度ばかり、うしろの方に見えましたが、じきもうずうっと遠く小さく、絵のようになってしまい、またすすきがざわざわ鳴って、とうとうすっかり見えなくなってしまいました。ジョバンニのうしろには、いつから乗っていたのか、せいの高い、黒いかつぎをしたカトリック風の尼《あま》さんが、まん円な緑の瞳《ひとみ》を、じっとまっすぐに落して、まだ何かことばか声かが、そっちから伝わって来るのを、虔《つつし》んで聞いているというように見えました。旅人たちはしずかに席に戻《もど》り、二人も胸いっぱいのかなしみに似た新らしい気持ちを、何気なくちがった語《ことば》で、そっと談《はな》し合ったのです。\n",
      "「もうじき白鳥の停車場だねえ。」\n",
      "「ああ、十一時かっきりには着くんだよ。」\n",
      "　早くも、シグナルの緑の燈《あかり》と、ぼんやり白い柱とが、ちらっと窓のそとを過ぎ、それから硫黄《いおう》のほのおのようなくらいぼんやりした転てつ機の前のあかりが窓の下を通り、汽車はだんだんゆるやかになって、間もなくプラットホームの一列の電燈が、うつくしく規則正しくあらわれ、それがだんだん大きくなってひろがって、二人は丁度白鳥停車場の、大きな時計の前に来てとまりました。\n",
      "　さわやかな秋の時計の盤面《ダイアル》には、青く灼《や》かれたはがねの二本の針が、くっきり十一時を指しました。みんなは、一ぺんに下りて、車室の中はがらんとなってしまいました。\n",
      "〔二十分停車〕と時計の下に書いてありました。\n",
      "「ぼくたちも降りて見ようか。」ジョバンニが云いました。\n",
      "「降りよう。」\n",
      "　二人は一度にはねあがってドアを飛び出して改札口《かいさつぐち》へかけて行きました。ところが改札口には、明るい紫《むらさき》がかった電燈が、一つ点《つ》いているばかり、誰《たれ》も居ませんでした。そこら中を見ても、駅長や赤帽《あかぼう》らしい人の、影《かげ》もなかったのです。\n",
      "　二人は、停車場の前の、水晶細工のように見える銀杏《いちょう》の木に囲まれた、小さな広場に出ました。そこから幅《はば》の広いみちが、まっすぐに銀河の青光の中へ通っていました。\n",
      "　さきに降りた人たちは、もうどこへ行ったか一人も見えませんでした。二人がその白い道を、肩《かた》をならべて行きますと、二人の影は、ちょうど四方に窓のある室《へや》の中の、二本の柱の影のように、また二つの車輪の輻《や》のように幾本《いくほん》も幾本も四方へ出るのでした。そして間もなく、あの汽車から見えたきれいな河原《かわら》に来ました。\n",
      "　カムパネルラは、そのきれいな砂を一つまみ、掌《てのひら》にひろげ、指できしきしさせながら、夢《ゆめ》のように云っているのでした。\n",
      "「この砂はみんな水晶だ。中で小さな火が燃えている。」\n",
      "「そうだ。」どこでぼくは、そんなこと習ったろうと思いながら、ジョバンニもぼんやり答えていました。\n",
      "　河原の礫《こいし》は、みんなすきとおって、たしかに水晶や黄玉《トパース》や、またくしゃくしゃの皺曲《しゅうきょく》をあらわしたのや、また稜《かど》から霧《きり》のような青白い光を出す鋼玉やらでした。ジョバンニは、走ってその渚《なぎさ》に行って、水に手をひたしました。けれどもあやしいその銀河の水は、水素よりももっとすきとおっていたのです。それでもたしかに流れていたことは、二人の手首の、水にひたったとこが、少し水銀いろに浮《う》いたように見え、その手首にぶっつかってできた波は、うつくしい燐光《りんこう》をあげて、ちらちらと燃えるように見えたのでもわかりました。\n",
      "　川上の方を見ると、すすきのいっぱいに生えている崖《がけ》の下に、白い岩が、まるで運動場のように平らに川に沿って出ているのでした。そこに小さな五六人の人かげが、何か掘《ほ》り出すか埋めるかしているらしく、立ったり屈《かが》んだり、時々なにかの道具が、ピカッと光ったりしました。\n",
      "「行ってみよう。」二人は、まるで一度に叫んで、そっちの方へ走りました。その白い岩になった処《ところ》の入口に、\n",
      "〔プリオシン海岸〕という、瀬戸物《せともの》のつるつるした標札が立って、向うの渚には、ところどころ、細い鉄の欄干《らんかん》も植えられ、木製のきれいなベンチも置いてありました。\n",
      "「おや、変なものがあるよ。」カムパネルラが、不思議そうに立ちどまって、岩から黒い細長いさきの尖《とが》ったくるみの実のようなものをひろいました。\n",
      "「くるみの実だよ。そら、沢山《たくさん》ある。流れて来たんじゃない。岩の中に入ってるんだ。」\n",
      "「大きいね、このくるみ、倍あるね。こいつはすこしもいたんでない。」\n",
      "「早くあすこへ行って見よう。きっと何か掘ってるから。」\n",
      "　二人は、ぎざぎざの黒いくるみの実を持ちながら、またさっきの方へ近よって行きました。左手の渚には、波がやさしい稲妻《いなずま》のように燃えて寄せ、右手の崖には、いちめん銀や貝殻《かいがら》でこさえたようなすすきの穂《ほ》がゆれたのです。\n",
      "　だんだん近付いて見ると、一人のせいの高い、ひどい近眼鏡をかけ、長靴《ながぐつ》をはいた学者らしい人が、手帳に何かせわしそうに書きつけながら、鶴嘴《つるはし》をふりあげたり、スコープをつかったりしている、三人の助手らしい人たちに夢中《むちゅう》でいろいろ指図をしていました。\n",
      "「そこのその突起《とっき》を壊《こわ》さないように。スコープを使いたまえ、スコープを。おっと、も少し遠くから掘って。いけない、いけない。なぜそんな乱暴をするんだ。」\n",
      "　見ると、その白い柔《やわ》らかな岩の中から、大きな大きな青じろい獣《けもの》の骨が、横に倒《たお》れて潰《つぶ》れたという風になって、半分以上掘り出されていました。そして気をつけて見ると、そこらには、蹄《ひづめ》の二つある足跡《あしあと》のついた岩が、四角に十ばかり、きれいに切り取られて番号がつけられてありました。\n",
      "「君たちは参観かね。」その大学士らしい人が、眼鏡《めがね》をきらっとさせて、こっちを見て話しかけました。\n",
      "「くるみが沢山あったろう。それはまあ、ざっと百二十万年ぐらい前のくるみだよ。ごく新らしい方さ。ここは百二十万年前、第三紀のあとのころは海岸でね、この下からは貝がらも出る。いま川の流れているとこに、そっくり塩水が寄せたり引いたりもしていたのだ。このけものかね、これはボスといってね、おいおい、そこつるはしはよしたまえ。ていねいに鑿《のみ》でやってくれたまえ。ボスといってね、いまの牛の先祖で、昔《むかし》はたくさん居たさ。」\n",
      "「標本にするんですか。」\n",
      "「いや、証明するに要《い》るんだ。ぼくらからみると、ここは厚い立派な地層で、百二十万年ぐらい前にできたという証拠《しょうこ》もいろいろあがるけれども、ぼくらとちがったやつからみてもやっぱりこんな地層に見えるかどうか、あるいは風か水やがらんとした空かに見えやしないかということなのだ。わかったかい。けれども、おいおい。そこもスコープではいけない。そのすぐ下に肋骨《ろっこつ》が埋もれてる筈《はず》じゃないか。」大学士はあわてて走って行きました。\n",
      "「もう時間だよ。行こう。」カムパネルラが地図と腕時計《うでどけい》とをくらべながら云いました。\n",
      "「ああ、ではわたくしどもは失礼いたします。」ジョバンニは、ていねいに大学士におじぎしました。\n",
      "「そうですか。いや、さよなら。」大学士は、また忙《いそ》がしそうに、あちこち歩きまわって監督《かんとく》をはじめました。二人は、その白い岩の上を、一生けん命汽車におくれないように走りました。そしてほんとうに、風のように走れたのです。息も切れず膝《ひざ》もあつくなりませんでした。\n",
      "　こんなにしてかけるなら、もう世界中だってかけれると、ジョバンニは思いました。\n",
      "　そして二人は、前のあの河原を通り、改札口の電燈がだんだん大きくなって、間もなく二人は、もとの車室の席に座《すわ》って、いま行って来た方を、窓から見ていました。\n",
      "\n",
      "［＃３字下げ］八、鳥を捕《と》る人［＃「八、鳥を捕る人」は中見出し］\n",
      "\n",
      "「ここへかけてもようございますか。」\n",
      "　がさがさした、けれども親切そうな、大人の声が、二人のうしろで聞えました。\n",
      "　それは、茶いろの少しぼろぼろの外套《がいとう》を着て、白い巾《きれ》でつつんだ荷物を、二つに分けて肩に掛《か》けた、赤髯《あかひげ》のせなかのかがんだ人でした。\n",
      "「ええ、いいんです。」ジョバンニは、少し肩をすぼめて挨拶《あいさつ》しました。その人は、ひげの中でかすかに微笑《わら》いながら荷物をゆっくり網棚《あみだな》にのせました。ジョバンニは、なにか大へんさびしいようなかなしいような気がして、だまって正面の時計を見ていましたら、ずうっと前の方で、硝子《ガラス》の笛《ふえ》のようなものが鳴りました。汽車はもう、しずかにうごいていたのです。カムパネルラは、車室の天井《てんじょう》を、あちこち見ていました。その一つのあかりに黒い甲虫《かぶとむし》がとまってその影が大きく天井にうつっていたのです。赤ひげの人は、なにかなつかしそうにわらいながら、ジョバンニやカムパネルラのようすを見ていました。汽車はもうだんだん早くなって、すすきと川と、かわるがわる窓の外から光りました。\n",
      "　赤ひげの人が、少しおずおずしながら、二人に訊《き》きました。\n",
      "「あなた方は、どちらへいらっしゃるんですか。」\n",
      "「どこまでも行くんです。」ジョバンニは、少しきまり悪そうに答えました。\n",
      "「それはいいね。この汽車は、じっさい、どこまででも行きますぜ。」\n",
      "「あなたはどこへ行くんです。」カムパネルラが、いきなり、喧嘩《けんか》のようにたずねましたので、ジョバンニは、思わずわらいました。すると、向うの席に居た、尖った帽子をかぶり、大きな鍵《かぎ》を腰《こし》に下げた人も、ちらっとこっちを見てわらいましたので、カムパネルラも、つい顔を赤くして笑いだしてしまいました。ところがその人は別に怒《おこ》ったでもなく、頬《ほほ》をぴくぴくしながら返事しました。\n",
      "「わっしはすぐそこで降ります。わっしは、鳥をつかまえる商売でね。」\n",
      "「何鳥ですか。」\n",
      "「鶴や雁《がん》です。さぎも白鳥もです。」\n",
      "「鶴はたくさんいますか。」\n",
      "「居ますとも、さっきから鳴いてまさあ。聞かなかったのですか。」\n",
      "「いいえ。」\n",
      "「いまでも聞えるじゃありませんか。そら、耳をすまして聴《き》いてごらんなさい。」\n",
      "　二人は眼《め》を挙げ、耳をすましました。ごとごと鳴る汽車のひびきと、すすきの風との間から、ころんころんと水の湧《わ》くような音が聞えて来るのでした。\n",
      "「鶴、どうしてとるんですか。」\n",
      "「鶴ですか、それとも鷺《さぎ》ですか。」\n",
      "「鷺です。」ジョバンニは、どっちでもいいと思いながら答えました。\n",
      "「そいつはな、雑作《ぞうさ》ない。さぎというものは、みんな天の川の砂が凝《こご》って、ぼおっとできるもんですからね、そして始終川へ帰りますからね、川原で待っていて、鷺がみんな、脚《あし》をこういう風にして下りてくるとこを、そいつが地べたへつくかつかないうちに、ぴたっと押《おさ》えちまうんです。するともう鷺は、かたまって安心して死んじまいます。あとはもう、わかり切ってまさあ。押し葉にするだけです。」\n",
      "「鷺を押し葉にするんですか。標本ですか。」\n",
      "「標本じゃありません。みんなたべるじゃありませんか。」\n",
      "「おかしいねえ。」カムパネルラが首をかしげました。\n",
      "「おかしいも不審《ふしん》もありませんや。そら。」その男は立って、網棚から包みをおろして、手ばやくくるくると解きました。\n",
      "「さあ、ごらんなさい。いまとって来たばかりです。」\n",
      "「ほんとうに鷺だねえ。」二人は思わず叫《さけ》びました。まっ白な、あのさっきの北の十字架《じゅうじか》のように光る鷺のからだが、十ばかり、少しひらべったくなって、黒い脚をちぢめて、浮彫《うきぼり》のようにならんでいたのです。\n",
      "「眼をつぶってるね。」カムパネルラは、指でそっと、鷺の三日月がたの白い瞑《つぶ》った眼にさわりました。頭の上の槍《やり》のような白い毛もちゃんとついていました。\n",
      "「ね、そうでしょう。」鳥捕りは風呂敷《ふろしき》を重ねて、またくるくると包んで紐《ひも》でくくりました。誰《たれ》がいったいここらで鷺なんぞ喰《た》べるだろうとジョバンニは思いながら訊きました。\n",
      "「鷺はおいしいんですか。」\n",
      "「ええ、毎日注文があります。しかし雁《がん》の方が、もっと売れます。雁の方がずっと柄《がら》がいいし、第一手数がありませんからな。そら。」鳥捕りは、また別の方の包みを解きました。すると黄と青じろとまだらになって、なにかのあかりのようにひかる雁が、ちょうどさっきの鷺のように、くちばしを揃《そろ》えて、少し扁《ひら》べったくなって、ならんでいました。\n",
      "「こっちはすぐ喰べられます。どうです、少しおあがりなさい。」鳥捕りは、黄いろな雁の足を、軽くひっぱりました。するとそれは、チョコレートででもできているように、すっときれいにはなれました。\n",
      "「どうです。すこしたべてごらんなさい。」鳥捕りは、それを二つにちぎってわたしました。ジョバンニは、ちょっと喰べてみて、（なんだ、やっぱりこいつはお菓子《かし》だ。チョコレートよりも、もっとおいしいけれども、こんな雁が飛んでいるもんか。この男は、どこかそこらの野原の菓子屋《かしや》だ。けれどもぼくは、このひとをばかにしながら、この人のお菓子をたべているのは、大へん気の毒だ。）とおもいながら、やっぱりぽくぽくそれをたべていました。\n",
      "「も少しおあがりなさい。」鳥捕りがまた包みを出しました。ジョバンニは、もっとたべたかったのですけれども、\n",
      "「ええ、ありがとう。」と云《い》って遠慮《えんりょ》しましたら、鳥捕りは、こんどは向うの席の、鍵《かぎ》をもった人に出しました。\n",
      "「いや、商売ものを貰《もら》っちゃすみませんな。」その人は、帽子《ぼうし》をとりました。\n",
      "「いいえ、どういたしまして。どうです、今年の渡《わた》り鳥《どり》の景気は。」\n",
      "「いや、すてきなもんですよ。一昨日《おととい》の第二限ころなんか、なぜ燈台の灯《ひ》を、規則以外に間〔一字分空白〕させるかって、あっちからもこっちからも、電話で故障が来ましたが、なあに、こっちがやるんじゃなくて、渡り鳥どもが、まっ黒にかたまって、あかしの前を通るのですから仕方ありませんや。わたしぁ、べらぼうめ、そんな苦情は、おれのとこへ持って来たって仕方がねえや、ばさばさのマントを着て脚と口との途方《とほう》もなく細い大将へやれって、斯《こ》う云ってやりましたがね、はっは。」\n",
      "　すすきがなくなったために、向うの野原から、ぱっとあかりが射《さ》して来ました。\n",
      "「鷺の方はなぜ手数なんですか。」カムパネルラは、さっきから、訊こうと思っていたのです。\n",
      "「それはね、鷺を喰べるには、」鳥捕りは、こっちに向き直りました。\n",
      "「天の川の水あかりに、十日もつるして置くかね、そうでなけぁ、砂に三四日うずめなけぁいけないんだ。そうすると、水銀がみんな蒸発して、喰べられるようになるよ。」\n",
      "「こいつは鳥じゃない。ただのお菓子でしょう。」やっぱりおなじことを考えていたとみえて、カムパネルラが、思い切ったというように、尋《たず》ねました。鳥捕りは、何か大へんあわてた風で、\n",
      "「そうそう、ここで降りなけぁ。」と云いながら、立って荷物をとったと思うと、もう見えなくなっていました。\n",
      "「どこへ行ったんだろう。」\n",
      "　二人は顔を見合せましたら、燈台守は、にやにや笑って、少し伸《の》びあがるようにしながら、二人の横の窓の外をのぞきました。二人もそっちを見ましたら、たったいまの鳥捕りが、黄いろと青じろの、うつくしい燐光《りんこう》を出す、いちめんのかわらははこぐさの上に立って、まじめな顔をして両手をひろげて、じっとそらを見ていたのです。\n",
      "「あすこへ行ってる。ずいぶん奇体《きたい》だねえ。きっとまた鳥をつかまえるとこだねえ。汽車が走って行かないうちに、早く鳥がおりるといいな。」と云った途端《とたん》、がらんとした桔梗《ききょう》いろの空から、さっき見たような鷺が、まるで雪の降るように、ぎゃあぎゃあ叫びながら、いっぱいに舞《ま》いおりて来ました。するとあの鳥捕りは、すっかり注文通りだというようにほくほくして、両足をかっきり六十度に開いて立って、鷺のちぢめて降りて来る黒い脚を両手で片《かた》っ端《ぱし》から押えて、布の袋《ふくろ》の中に入れるのでした。すると鷺は、蛍《ほたる》のように、袋の中でしばらく、青くぺかぺか光ったり消えたりしていましたが、おしまいとうとう、みんなぼんやり白くなって、眼をつぶるのでした。ところが、つかまえられる鳥よりは、つかまえられないで無事に天《あま》の川《がわ》の砂の上に降りるものの方が多かったのです。それは見ていると、足が砂へつくや否《いな》や、まるで雪の融《と》けるように、縮《ちぢ》まって扁《ひら》べったくなって、間もなく熔鉱炉《ようこうろ》から出た銅の汁《しる》のように、砂や砂利《じゃり》の上にひろがり、しばらくは鳥の形が、砂についているのでしたが、それも二三度明るくなったり暗くなったりしているうちに、もうすっかりまわりと同じいろになってしまうのでした。\n",
      "　鳥捕りは二十｜疋《ぴき》ばかり、袋に入れてしまうと、急に両手をあげて、兵隊が鉄砲弾《てっぽうだま》にあたって、死ぬときのような形をしました。と思ったら、もうそこに鳥捕りの形はなくなって、却《かえ》って、\n",
      "「ああせいせいした。どうもからだに恰度《ちょうど》合うほど稼《かせ》いでいるくらい、いいことはありませんな。」というききおぼえのある声が、ジョバンニの隣《とな》りにしました。見ると鳥捕りは、もうそこでとって来た鷺を、きちんとそろえて、一つずつ重ね直しているのでした。\n",
      "「どうしてあすこから、いっぺんにここへ来たんですか。」ジョバンニが、なんだかあたりまえのような、あたりまえでないような、おかしな気がして問いました。\n",
      "「どうしてって、来ようとしたから来たんです。ぜんたいあなた方は、どちらからおいでですか。」\n",
      "　ジョバンニは、すぐ返事しようと思いましたけれども、さあ、ぜんたいどこから来たのか、もうどうしても考えつきませんでした。カムパネルラも、顔をまっ赤にして何か思い出そうとしているのでした。\n",
      "「ああ、遠くからですね。」鳥捕りは、わかったというように雑作なくうなずきました。\n",
      "\n",
      "［＃３字下げ］九、ジョバンニの切符《きっぷ》［＃「九、ジョバンニの切符」は中見出し］\n",
      "\n",
      "「もうここらは白鳥区のおしまいです。ごらんなさい。あれが名高いアルビレオの観測所です。」\n",
      "　窓の外の、まるで花火でいっぱいのような、あまの川のまん中に、黒い大きな建物が四｜棟《むね》ばかり立って、その一つの平屋根の上に、眼《め》もさめるような、青宝玉《サファイア》と黄玉《トパース》の大きな二つのすきとおった球が、輪になってしずかにくるくるとまわっていました。黄いろのがだんだん向うへまわって行って、青い小さいのがこっちへ進んで来、間もなく二つのはじは、重なり合って、きれいな緑いろの両面｜凸《とつ》レンズのかたちをつくり、それもだんだん、まん中がふくらみ出して、とうとう青いのは、すっかりトパースの正面に来ましたので、緑の中心と黄いろな明るい環《わ》とができました。それがまただんだん横へ外《そ》れて、前のレンズの形を逆に繰《く》り返し、とうとうすっとはなれて、サファイアは向うへめぐり、黄いろのはこっちへ進み、また丁度さっきのような風になりました。銀河の、かたちもなく音もない水にかこまれて、ほんとうにその黒い測候所が、睡《ねむ》っているように、しずかによこたわったのです。\n",
      "「あれは、水の速さをはかる器械です。水も……。」鳥捕《とりと》りが云いかけたとき、\n",
      "「切符を拝見いたします。」三人の席の横に、赤い帽子《ぼうし》をかぶったせいの高い車掌《しゃしょう》が、いつかまっすぐに立っていて云いました。鳥捕りは、だまってかくしから、小さな紙きれを出しました。車掌はちょっと見て、すぐ眼をそらして、（あなた方のは？）というように、指をうごかしながら、手をジョバンニたちの方へ出しました。\n",
      "「さあ、」ジョバンニは困って、もじもじしていましたら、カムパネルラは、わけもないという風で、小さな鼠《ねずみ》いろの切符を出しました。ジョバンニは、すっかりあわててしまって、もしか上着のポケットにでも、入っていたかとおもいながら、手を入れて見ましたら、何か大きな畳《たた》んだ紙きれにあたりました。こんなもの入っていたろうかと思って、急いで出してみましたら、それは四つに折ったはがきぐらいの大きさの緑いろの紙でした。車掌が手を出しているもんですから何でも構わない、やっちまえと思って渡しましたら、車掌はまっすぐに立ち直って叮寧《ていねい》にそれを開いて見ていました。そして読みながら上着のぼたんやなんかしきりに直したりしていましたし燈台看守も下からそれを熱心にのぞいていましたから、ジョバンニはたしかにあれは証明書か何かだったと考えて少し胸が熱くなるような気がしました。\n",
      "「これは三次空間の方からお持ちになったのですか。」車掌がたずねました。\n",
      "「何だかわかりません。」もう大丈夫《だいじょうぶ》だと安心しながらジョバンニはそっちを見あげてくつくつ笑いました。\n",
      "「よろしゅうございます。南十字《サウザンクロス》へ着きますのは、次の第三時ころになります。」車掌は紙をジョバンニに渡して向うへ行きました。\n",
      "　カムパネルラは、その紙切れが何だったか待ち兼ねたというように急いでのぞきこみました。ジョバンニも全く早く見たかったのです。ところがそれはいちめん黒い唐草《からくさ》のような模様の中に、おかしな十ばかりの字を印刷したものでだまって見ていると何だかその中へ吸い込《こ》まれてしまうような気がするのでした。すると鳥捕りが横からちらっとそれを見てあわてたように云いました。\n",
      "「おや、こいつは大したもんですぜ。こいつはもう、ほんとうの天上へさえ行ける切符だ。天上どこじゃない、どこでも勝手にあるける通行券です。こいつをお持ちになれぁ、なるほど、こんな不完全な幻想《げんそう》第四次の銀河鉄道なんか、どこまででも行ける筈《はず》でさあ、あなた方大したもんですね。」\n",
      "「何だかわかりません。」ジョバンニが赤くなって答えながらそれを又《また》畳んでかくしに入れました。そしてきまりが悪いのでカムパネルラと二人、また窓の外をながめていましたが、その鳥捕りの時々大したもんだというようにちらちらこっちを見ているのがぼんやりわかりました。\n",
      "「もうじき鷲《わし》の停車場だよ。」カムパネルラが向う岸の、三つならんだ小さな青じろい三角標と地図とを見較《みくら》べて云いました。\n",
      "　ジョバンニはなんだかわけもわからずににわかにとなりの鳥捕りが気の毒でたまらなくなりました。鷺《さぎ》をつかまえてせいせいしたとよろこんだり、白いきれでそれをくるくる包んだり、ひとの切符をびっくりしたように横目で見てあわててほめだしたり、そんなことを一一考えていると、もうその見ず知らずの鳥捕りのために、ジョバンニの持っているものでも食べるものでもなんでもやってしまいたい、もうこの人のほんとうの幸《さいわい》になるなら自分があの光る天の川の河原《かわら》に立って百年つづけて立って鳥をとってやってもいいというような気がして、どうしてももう黙《だま》っていられなくなりました。ほんとうにあなたのほしいものは一体何ですか、と訊《き》こうとして、それではあんまり出し抜《ぬ》けだから、どうしようかと考えて振《ふ》り返って見ましたら、そこにはもうあの鳥捕りが居ませんでした。網棚《あみだな》の上には白い荷物も見えなかったのです。また窓の外で足をふんばってそらを見上げて鷺を捕る支度《したく》をしているのかと思って、急いでそっちを見ましたが、外はいちめんのうつくしい砂子と白いすすきの波ばかり、あの鳥捕りの広いせなかも尖《とが》った帽子も見えませんでした。\n",
      "「あの人どこへ行ったろう。」カムパネルラもぼんやりそう云っていました。\n",
      "「どこへ行ったろう。一体どこでまたあうのだろう。僕《ぼく》はどうしても少しあの人に物を言わなかったろう。」\n",
      "「ああ、僕もそう思っているよ。」\n",
      "「僕はあの人が邪魔《じゃま》なような気がしたんだ。だから僕は大へんつらい。」ジョバンニはこんな変てこな気もちは、ほんとうにはじめてだし、こんなこと今まで云ったこともないと思いました。\n",
      "「何だか苹果《りんご》の匂《におい》がする。僕いま苹果のこと考えたためだろうか。」カムパネルラが不思議そうにあたりを見まわしました。\n",
      "「ほんとうに苹果の匂だよ。それから野茨《のいばら》の匂もする。」ジョバンニもそこらを見ましたがやっぱりそれは窓からでも入って来るらしいのでした。いま秋だから野茨の花の匂のする筈はないとジョバンニは思いました。\n",
      "　そしたら俄《にわ》かにそこに、つやつやした黒い髪《かみ》の六つばかりの男の子が赤いジャケツのぼたんもかけずひどくびっくりしたような顔をしてがたがたふるえてはだしで立っていました。隣《とな》りには黒い洋服をきちんと着たせいの高い青年が一ぱいに風に吹《ふ》かれているけやきの木のような姿勢で、男の子の手をしっかりひいて立っていました。\n",
      "「あら、ここどこでしょう。まあ、きれいだわ。」青年のうしろにもひとり十二ばかりの眼の茶いろな可愛《かあい》らしい女の子が黒い外套《がいとう》を着て青年の腕《うで》にすがって不思議そうに窓の外を見ているのでした。\n",
      "「ああ、ここはランカシャイヤだ。いや、コンネクテカット州だ。いや、ああ、ぼくたちはそらへ来たのだ。わたしたちは天へ行くのです。ごらんなさい。あのしるしは天上のしるしです。もうなんにもこわいことありません。わたくしたちは神さまに召《め》されているのです。」黒服の青年はよろこびにかがやいてその女の子に云《い》いました。けれどもなぜかまた額に深く皺《しわ》を刻んで、それに大へんつかれているらしく、無理に笑いながら男の子をジョバンニのとなりに座《すわ》らせました。\n",
      "　それから女の子にやさしくカムパネルラのとなりの席を指さしました。女の子はすなおにそこへ座って、きちんと両手を組み合せました。\n",
      "「ぼくおおねえさんのとこへ行くんだよう。」腰掛《こしか》けたばかりの男の子は顔を変にして燈台看守の向うの席に座ったばかりの青年に云いました。青年は何とも云えず悲しそうな顔をして、じっとその子の、ちぢれてぬれた頭を見ました。女の子は、いきなり両手を顔にあててしくしく泣いてしまいました。\n",
      "「お父さんやきくよねえさんはまだいろいろお仕事があるのです。けれどももうすぐあとからいらっしゃいます。それよりも、おっかさんはどんなに永く待っていらっしゃったでしょう。わたしの大事なタダシはいまどんな歌をうたっているだろう、雪の降る朝にみんなと手をつないでぐるぐるにわとこのやぶをまわってあそんでいるだろうかと考えたりほんとうに待って心配していらっしゃるんですから、早く行っておっかさんにお目にかかりましょうね。」\n",
      "「うん、だけど僕、船に乗らなけぁよかったなあ。」\n",
      "「ええ、けれど、ごらんなさい、そら、どうです、あの立派な川、ね、あすこはあの夏中、ツインクル、ツインクル、リトル、スター　をうたってやすむとき、いつも窓からぼんやり白く見えていたでしょう。あすこですよ。ね、きれいでしょう、あんなに光っています。」\n",
      "　泣いていた姉もハンケチで眼をふいて外を見ました。青年は教えるようにそっと姉弟にまた云いました。\n",
      "「わたしたちはもうなんにもかなしいことないのです。わたしたちはこんないいとこを旅して、じき神さまのとこへ行きます。そこならもうほんとうに明るくて匂がよくて立派な人たちでいっぱいです。そしてわたしたちの代りにボートへ乗れた人たちは、きっとみんな助けられて、心配して待っているめいめいのお父さんやお母さんや自分のお家へやら行くのです。さあ、もうじきですから元気を出しておもしろくうたって行きましょう。」青年は男の子のぬれたような黒い髪をなで、みんなを慰《なぐさ》めながら、自分もだんだん顔いろがかがやいて来ました。\n",
      "「あなた方はどちらからいらっしゃったのですか。どうなすったのですか。」さっきの燈台看守がやっと少しわかったように青年にたずねました。青年はかすかにわらいました。\n",
      "「いえ、氷山にぶっつかって船が沈《しず》みましてね、わたしたちはこちらのお父さんが急な用で二ヶ月前一足さきに本国へお帰りになったのであとから発《た》ったのです。私は大学へはいっていて、家庭教師にやとわれていたのです。ところがちょうど十二日目、今日か昨日《きのう》のあたりです、船が氷山にぶっつかって一ぺんに傾《かたむ》きもう沈みかけました。月のあかりはどこかぼんやりありましたが、霧《きり》が非常に深かったのです。ところがボートは左舷《さげん》の方半分はもうだめになっていましたから、とてもみんなは乗り切らないのです。もうそのうちにも船は沈みますし、私は必死となって、どうか小さな人たちを乗せて下さいと叫《さけ》びました。近くの人たちはすぐみちを開いてそして子供たちのために祈《いの》って呉《く》れました。けれどもそこからボートまでのところにはまだまだ小さな子どもたちや親たちやなんか居て、とても押《お》しのける勇気がなかったのです。それでもわたくしはどうしてもこの方たちをお助けするのが私の義務だと思いましたから前にいる子供らを押しのけようとしました。けれどもまたそんなにして助けてあげるよりはこのまま神のお前にみんなで行く方がほんとうにこの方たちの幸福だとも思いました。それからまたその神にそむく罪はわたくしひとりでしょってぜひとも助けてあげようと思いました。けれどもどうして見ているとそれができないのでした。子どもらばかりボートの中へはなしてやってお母さんが狂気《きょうき》のようにキスを送りお父さんがかなしいのをじっとこらえてまっすぐに立っているなどとてももう腸《はらわた》もちぎれるようでした。そのうち船はもうずんずん沈みますから、私はもうすっかり覚悟《かくご》してこの人たち二人を抱《だ》いて、浮《うか》べるだけは浮ぼうとかたまって船の沈むのを待っていました。誰《たれ》が投げたかライフブイが一つ飛んで来ましたけれども滑《すべ》ってずうっと向うへ行ってしまいました。私は一生けん命で甲板《かんぱん》の格子《こうし》になったとこをはなして、三人それにしっかりとりつきました。どこからともなく〔約二字分空白〕番の声があがりました。たちまちみんなはいろいろな国語で一ぺんにそれをうたいました。そのとき俄《にわ》かに大きな音がして私たちは水に落ちもう渦《うず》に入ったと思いながらしっかりこの人たちをだいてそれからぼうっとしたと思ったらもうここへ来ていたのです。この方たちのお母さんは一昨年｜没《な》くなられました。ええボートはきっと助かったにちがいありません、何せよほど熟練な水夫たちが漕《こ》いですばやく船からはなれていましたから。」\n",
      "　そこらから小さないのりの声が聞えジョバンニもカムパネルラもいままで忘れていたいろいろのことをぼんやり思い出して眼《め》が熱くなりました。\n",
      "（ああ、その大きな海はパシフィックというのではなかったろうか。その氷山の流れる北のはての海で、小さな船に乗って、風や凍《こお》りつく潮水や、烈《はげ》しい寒さとたたかって、たれかが一生けんめいはたらいている。ぼくはそのひとにほんとうに気の毒でそしてすまないような気がする。ぼくはそのひとのさいわいのためにいったいどうしたらいいのだろう。）ジョバンニは首を垂れて、すっかりふさぎ込《こ》んでしまいました。\n",
      "「なにがしあわせかわからないです。ほんとうにどんなつらいことでもそれがただしいみちを進む中でのできごとなら峠《とうげ》の上りも下りもみんなほんとうの幸福に近づく一あしずつですから。」\n",
      "　燈台守がなぐさめていました。\n",
      "「ああそうです。ただいちばんのさいわいに至るためにいろいろのかなしみもみんなおぼしめしです。」\n",
      "　青年が祈るようにそう答えました。\n",
      "　そしてあの姉弟《きょうだい》はもうつかれてめいめいぐったり席によりかかって睡《ねむ》っていました。さっきのあのはだしだった足にはいつか白い柔《やわ》らかな靴《くつ》をはいていたのです。\n",
      "　ごとごとごとごと汽車はきらびやかな燐光《りんこう》の川の岸を進みました。向うの方の窓を見ると、野原はまるで幻燈《げんとう》のようでした。百も千もの大小さまざまの三角標、その大きなものの上には赤い点点をうった測量旗も見え、野原のはてはそれらがいちめん、たくさんたくさん集ってぼおっと青白い霧のよう、そこからかまたはもっと向うからかときどきさまざまの形のぼんやりした狼煙《のろし》のようなものが、かわるがわるきれいな桔梗《ききょう》いろのそらにうちあげられるのでした。じつにそのすきとおった奇麗《きれい》な風は、ばらの匂《におい》でいっぱいでした。\n",
      "「いかがですか。こういう苹果《りんご》はおはじめてでしょう。」向うの席の燈台看守がいつか黄金《きん》と紅でうつくしくいろどられた大きな苹果を落さないように両手で膝《ひざ》の上にかかえていました。\n",
      "「おや、どっから来たのですか。立派ですねえ。ここらではこんな苹果ができるのですか。」青年はほんとうにびっくりしたらしく燈台看守の両手にかかえられた一もりの苹果を眼を細くしたり首をまげたりしながらわれを忘れてながめていました。\n",
      "「いや、まあおとり下さい。どうか、まあおとり下さい。」\n",
      "　青年は一つとってジョバンニたちの方をちょっと見ました。\n",
      "「さあ、向うの坊《ぼっ》ちゃんがた。いかがですか。おとり下さい。」\n",
      "　ジョバンニは坊ちゃんといわれたのですこししゃくにさわってだまっていましたがカムパネルラは\n",
      "「ありがとう、」と云いました。すると青年は自分でとって一つずつ二人に送ってよこしましたのでジョバンニも立ってありがとうと云いました。\n",
      "　燈台看守はやっと両腕《りょううで》があいたのでこんどは自分で一つずつ睡っている姉弟の膝にそっと置きました。\n",
      "「どうもありがとう。どこでできるのですか。こんな立派な苹果は。」\n",
      "　青年はつくづく見ながら云いました。\n",
      "「この辺ではもちろん農業はいたしますけれども大ていひとりでにいいものができるような約束《やくそく》になって居《お》ります。農業だってそんなに骨は折れはしません。たいてい自分の望む種子《たね》さえ播《ま》けばひとりでにどんどんできます。米だってパシフィック辺のように殻《から》もないし十倍も大きくて匂もいいのです。けれどもあなたがたのいらっしゃる方なら農業はもうありません。苹果だってお菓子だってかすが少しもありませんからみんなそのひとそのひとによってちがったわずかのいいかおりになって毛あなからちらけてしまうのです。」\n",
      "　にわかに男の子がぱっちり眼をあいて云いました。\n",
      "「ああぼくいまお母さんの夢《ゆめ》をみていたよ。お母さんがね立派な戸棚《とだな》や本のあるとこに居てね、ぼくの方を見て手をだしてにこにこにこにこわらったよ。ぼくおっかさん。りんごをひろってきてあげましょうか云ったら眼がさめちゃった。ああここさっきの汽車のなかだねえ。」\n",
      "「その苹果《りんご》がそこにあります。このおじさんにいただいたのですよ。」青年が云いました。\n",
      "「ありがとうおじさん。おや、かおるねえさんまだねてるねえ、ぼくおこしてやろう。ねえさん。ごらん、りんごをもらったよ。おきてごらん。」\n",
      "　姉はわらって眼をさましまぶしそうに両手を眼にあててそれから苹果を見ました。男の子はまるでパイを喰《た》べるようにもうそれを喰べていました、また折角《せっかく》剥《む》いたそのきれいな皮も、くるくるコルク抜《ぬ》きのような形になって床《ゆか》へ落ちるまでの間にはすうっと、灰いろに光って蒸発してしまうのでした。\n",
      "　二人はりんごを大切にポケットにしまいました。\n",
      "　川下の向う岸に青く茂《しげ》った大きな林が見え、その枝《えだ》には熟してまっ赤に光る円い実がいっぱい、その林のまん中に高い高い三角標が立って、森の中からはオーケストラベルやジロフォンにまじって何とも云えずきれいな音いろが、とけるように浸《し》みるように風につれて流れて来るのでした。\n",
      "　青年はぞくっとしてからだをふるうようにしました。\n",
      "　だまってその譜《ふ》を聞いていると、そこらにいちめん黄いろやうすい緑の明るい野原か敷物かがひろがり、またまっ白な蝋《ろう》のような露《つゆ》が太陽の面を擦《かす》めて行くように思われました。\n",
      "「まあ、あの烏《からす》。」カムパネルラのとなりのかおると呼ばれた女の子が叫びました。\n",
      "「からすでない。みんなかささぎだ。」カムパネルラがまた何気なく叱《しか》るように叫びましたので、ジョバンニはまた思わず笑い、女の子はきまり悪そうにしました。まったく河原《かわら》の青じろいあかりの上に、黒い鳥がたくさんたくさんいっぱいに列になってとまってじっと川の微光《びこう》を受けているのでした。\n",
      "「かささぎですねえ、頭のうしろのとこに毛がぴんと延びてますから。」青年はとりなすように云いました。\n",
      "　向うの青い森の中の三角標はすっかり汽車の正面に来ました。そのとき汽車のずうっとうしろの方からあの聞きなれた〔約二字分空白〕番の讃美歌《さんびか》のふしが聞えてきました。よほどの人数で合唱しているらしいのでした。青年はさっと顔いろが青ざめ、たって一ぺんそっちへ行きそうにしましたが思いかえしてまた座《すわ》りました。かおる子はハンケチを顔にあててしまいました。ジョバンニまで何だか鼻が変になりました。けれどもいつともなく誰《たれ》ともなくその歌は歌い出されだんだんはっきり強くなりました。思わずジョバンニもカムパネルラも一緒《いっしょ》にうたい出したのです。\n",
      "　そして青い橄欖《かんらん》の森が見えない天の川の向うにさめざめと光りながらだんだんうしろの方へ行ってしまいそこから流れて来るあやしい楽器の音ももう汽車のひびきや風の音にすり耗《へ》らされてずうっとかすかになりました。\n",
      "「あ孔雀《くじゃく》が居るよ。」\n",
      "「ええたくさん居たわ。」女の子がこたえました。\n",
      "　ジョバンニはその小さく小さくなっていまはもう一つの緑いろの貝ぼたんのように見える森の上にさっさっと青じろく時々光ってその孔雀がはねをひろげたりとじたりする光の反射を見ました。\n",
      "「そうだ、孔雀の声だってさっき聞えた。」カムパネルラがかおる子に云《い》いました。\n",
      "「ええ、三十｜疋《ぴき》ぐらいはたしかに居たわ。ハープのように聞えたのはみんな孔雀よ。」女の子が答えました。ジョバンニは俄《にわ》かに何とも云えずかなしい気がして思わず\n",
      "「カムパネルラ、ここからはねおりて遊んで行こうよ。」とこわい顔をして云おうとしたくらいでした。\n",
      "　川は二つにわかれました。そのまっくらな島のまん中に高い高いやぐらが一つ組まれてその上に一人の寛《ゆる》い服を着て赤い帽子《ぼうし》をかぶった男が立っていました。そして両手に赤と青の旗をもってそらを見上げて信号しているのでした。ジョバンニが見ている間その人はしきりに赤い旗をふっていましたが俄かに赤旗をおろしてうしろにかくすようにし青い旗を高く高くあげてまるでオーケストラの指揮者のように烈《はげ》しく振《ふ》りました。すると空中にざあっと雨のような音がして何かまっくらなものがいくかたまりもいくかたまりも鉄砲丸《てっぽうだま》のように川の向うの方へ飛んで行くのでした。ジョバンニは思わず窓からからだを半分出してそっちを見あげました。美しい美しい桔梗《ききょう》いろのがらんとした空の下を実に何万という小さな鳥どもが幾組《いくくみ》も幾組もめいめいせわしくせわしく鳴いて通って行くのでした。\n",
      "「鳥が飛んで行くな。」ジョバンニが窓の外で云いました。\n",
      "「どら、」カムパネルラもそらを見ました。そのときあのやぐらの上のゆるい服の男は俄かに赤い旗をあげて狂気《きょうき》のようにふりうごかしました。するとぴたっと鳥の群は通らなくなりそれと同時にぴしゃぁんという潰《つぶ》れたような音が川下の方で起ってそれからしばらくしいんとしました。と思ったらあの赤帽の信号手がまた青い旗をふって叫《さけ》んでいたのです。\n",
      "「いまこそわたれわたり鳥、いまこそわたれわたり鳥。」その声もはっきり聞えました。それといっしょにまた幾万という鳥の群がそらをまっすぐにかけたのです。二人の顔を出しているまん中の窓からあの女の子が顔を出して美しい頬《ほほ》をかがやかせながらそらを仰《あお》ぎました。\n",
      "「まあ、この鳥、たくさんですわねえ、あらまあそらのきれいなこと。」女の子はジョバンニにはなしかけましたけれどもジョバンニは生意気ないやだいと思いながらだまって口をむすんでそらを見あげていました。女の子は小さくほっと息をしてだまって席へ戻《もど》りました。カムパネルラが気の毒そうに窓から顔を引っ込《こ》めて地図を見ていました。\n",
      "「あの人鳥へ教えてるんでしょうか。」女の子がそっとカムパネルラにたずねました。\n",
      "「わたり鳥へ信号してるんです。きっとどこからかのろしがあがるためでしょう。」カムパネルラが少しおぼつかなそうに答えました。そして車の中はしぃんとなりました。ジョバンニはもう頭を引っ込めたかったのですけれども明るいとこへ顔を出すのがつらかったのでだまってこらえてそのまま立って口笛《くちぶえ》を吹《ふ》いていました。\n",
      "（どうして僕《ぼく》はこんなにかなしいのだろう。僕はもっとこころもちをきれいに大きくもたなければいけない。あすこの岸のずうっと向うにまるでけむりのような小さな青い火が見える。あれはほんとうにしずかでつめたい。僕はあれをよく見てこころもちをしずめるんだ。）ジョバンニは熱《ほて》って痛いあたまを両手で押《おさ》えるようにしてそっちの方を見ました。（ああほんとうにどこまでもどこまでも僕といっしょに行くひとはないだろうか。カムパネルラだってあんな女の子とおもしろそうに談《はな》しているし僕はほんとうにつらいなあ。）ジョバンニの眼はまた泪《なみだ》でいっぱいになり天の川もまるで遠くへ行ったようにぼんやり白く見えるだけでした。\n",
      "　そのとき汽車はだんだん川からはなれて崖《がけ》の上を通るようになりました。向う岸もまた黒いいろの崖が川の岸を下流に下るにしたがってだんだん高くなって行くのでした。そしてちらっと大きなとうもろこしの木を見ました。その葉はぐるぐるに縮れ葉の下にはもう美しい緑いろの大きな苞《ほう》が赤い毛を吐《は》いて真珠のような実もちらっと見えたのでした。それはだんだん数を増して来てもういまは列のように崖と線路との間にならび思わずジョバンニが窓から顔を引っ込めて向う側の窓を見ましたときは美しいそらの野原の地平線のはてまでその大きなとうもろこしの木がほとんどいちめんに植えられてさやさや風にゆらぎその立派なちぢれた葉のさきからはまるでひるの間にいっぱい日光を吸った金剛石《こんごうせき》のように露《つゆ》がいっぱいについて赤や緑やきらきら燃えて光っているのでした。カムパネルラが「あれとうもろこしだねえ」とジョバンニに云いましたけれどもジョバンニはどうしても気持がなおりませんでしたからただぶっきり棒に野原を見たまま「そうだろう。」と答えました。そのとき汽車はだんだんしずかになっていくつかのシグナルとてんてつ器の灯を過ぎ小さな停車場にとまりました。\n",
      "　その正面の青じろい時計はかっきり第二時を示しその振子《ふりこ》は風もなくなり汽車もうごかずしずかなしずかな野原のなかにカチッカチッと正しく時を刻んで行くのでした。\n",
      "　そしてまったくその振子の音のたえまを遠くの遠くの野原のはてから、かすかなかすかな旋律《せんりつ》が糸のように流れて来るのでした。「新世界｜交響楽《こうきょうがく》だわ。」姉がひとりごとのようにこっちを見ながらそっと云いました。全くもう車の中ではあの黒服の丈高《たけたか》い青年も誰《たれ》もみんなやさしい夢《ゆめ》を見ているのでした。\n",
      "（こんなしずかないいとこで僕はどうしてもっと愉快《ゆかい》になれないだろう。どうしてこんなにひとりさびしいのだろう。けれどもカムパネルラなんかあんまりひどい、僕といっしょに汽車に乗っていながらまるであんな女の子とばかり談《はな》しているんだもの。僕はほんとうにつらい。）ジョバンニはまた両手で顔を半分かくすようにして向うの窓のそとを見つめていました。すきとおった硝子《ガラス》のような笛が鳴って汽車はしずかに動き出し、カムパネルラもさびしそうに星めぐりの口笛を吹きました。\n",
      "「ええ、ええ、もうこの辺はひどい高原ですから。」うしろの方で誰《たれ》かとしよりらしい人のいま眼《め》がさめたという風ではきはき談している声がしました。\n",
      "「とうもろこしだって棒で二尺も孔《あな》をあけておいてそこへ播《ま》かないと生えないんです。」\n",
      "「そうですか。川まではよほどありましょうかねえ、」\n",
      "「ええええ河までは二千尺から六千尺あります。もうまるでひどい峡谷《きょうこく》になっているんです。」\n",
      "　そうそうここはコロラドの高原じゃなかったろうか、ジョバンニは思わずそう思いました。カムパネルラはまださびしそうにひとり口笛を吹き、女の子はまるで絹で包んだ苹果《りんご》のような顔いろをしてジョバンニの見る方を見ているのでした。突然《とつぜん》とうもろこしがなくなって巨《おお》きな黒い野原がいっぱいにひらけました。新世界交響楽はいよいよはっきり地平線のはてから湧《わ》きそのまっ黒な野原のなかを一人のインデアンが白い鳥の羽根を頭につけたくさんの石を腕《うで》と胸にかざり小さな弓に矢を番《つが》えて一目散《いちもくさん》に汽車を追って来るのでした。\n",
      "「あら、インデアンですよ。インデアンですよ。ごらんなさい。」\n",
      "　黒服の青年も眼をさましました。ジョバンニもカムパネルラも立ちあがりました。\n",
      "「走って来るわ、あら、走って来るわ。追いかけているんでしょう。」\n",
      "「いいえ、汽車を追ってるんじゃないんですよ。猟《りょう》をするか踊《おど》るかしてるんですよ。」青年はいまどこに居るか忘れたという風にポケットに手を入れて立ちながら云いました。\n",
      "　まったくインデアンは半分は踊っているようでした。第一かけるにしても足のふみようがもっと経済もとれ本気にもなれそうでした。にわかにくっきり白いその羽根は前の方へ倒《たお》れるようになりインデアンはぴたっと立ちどまってすばやく弓を空にひきました。そこから一羽の鶴《つる》がふらふらと落ちて来てまた走り出したインデアンの大きくひろげた両手に落ちこみました。インデアンはうれしそうに立ってわらいました。そしてその鶴をもってこっちを見ている影《かげ》ももうどんどん小さく遠くなり電しんばしらの碍子《がいし》がきらっきらっと続いて二つばかり光ってまたとうもろこしの林になってしまいました。こっち側の窓を見ますと汽車はほんとうに高い高い崖《がけ》の上を走っていてその谷の底には川がやっぱり幅《はば》ひろく明るく流れていたのです。\n",
      "「ええ、もうこの辺から下りです。何せこんどは一ぺんにあの水面までおりて行くんですから容易じゃありません。この傾斜《けいしゃ》があるもんですから汽車は決して向うからこっちへは来ないんです。そら、もうだんだん早くなったでしょう。」さっきの老人らしい声が云いました。\n",
      "　どんどんどんどん汽車は降りて行きました。崖のはじに鉄道がかかるときは川が明るく下にのぞけたのです。ジョバンニはだんだんこころもちが明るくなって来ました。汽車が小さな小屋の前を通ってその前にしょんぼりひとりの子供が立ってこっちを見ているときなどは思わずほうと叫びました。\n",
      "　どんどんどんどん汽車は走って行きました。室中《へやじゅう》のひとたちは半分うしろの方へ倒れるようになりながら腰掛《こしかけ》にしっかりしがみついていました。ジョバンニは思わずカムパネルラとわらいました。もうそして天の川は汽車のすぐ横手をいままでよほど激《はげ》しく流れて来たらしくときどきちらちら光ってながれているのでした。うすあかい河原《かわら》なでしこの花があちこち咲いていました。汽車はようやく落ち着いたようにゆっくりと走っていました。\n",
      "　向うとこっちの岸に星のかたちとつるはしを書いた旗がたっていました。\n",
      "「あれ何の旗だろうね。」ジョバンニがやっとものを云いました。\n",
      "「さあ、わからないねえ、地図にもないんだもの。鉄の舟がおいてあるねえ。」\n",
      "「ああ。」\n",
      "「橋を架《か》けるとこじゃないんでしょうか。」女の子が云いました。\n",
      "「あああれ工兵の旗だねえ。架橋《かきょう》演習をしてるんだ。けれど兵隊のかたちが見えないねえ。」\n",
      "　その時向う岸ちかくの少し下流の方で見えない天の川の水がぎらっと光って柱のように高くはねあがりどぉと烈《はげ》しい音がしました。\n",
      "「発破《はっぱ》だよ、発破だよ。」カムパネルラはこおどりしました。\n",
      "　その柱のようになった水は見えなくなり大きな鮭《さけ》や鱒《ます》がきらっきらっと白く腹を光らせて空中に抛《ほう》り出されて円い輪を描いてまた水に落ちました。ジョバンニはもうはねあがりたいくらい気持が軽くなって云いました。\n",
      "「空の工兵大隊だ。どうだ、鱒やなんかがまるでこんなになってはねあげられたねえ。僕こんな愉快な旅はしたことない。いいねえ。」\n",
      "「あの鱒なら近くで見たらこれくらいあるねえ、たくさんさかな居るんだな、この水の中に。」\n",
      "「小さなお魚もいるんでしょうか。」女の子が談《はなし》につり込《こ》まれて云いました。\n",
      "「居るんでしょう。大きなのが居るんだから小さいのもいるんでしょう。けれど遠くだからいま小さいの見えなかったねえ。」ジョバンニはもうすっかり機嫌《きげん》が直って面白《おもしろ》そうにわらって女の子に答えました。\n",
      "「あれきっと双子《ふたご》のお星さまのお宮だよ。」男の子がいきなり窓の外をさして叫《さけ》びました。\n",
      "　右手の低い丘《おか》の上に小さな水晶《すいしょう》ででもこさえたような二つのお宮がならんで立っていました。\n",
      "「双子のお星さまのお宮って何だい。」\n",
      "「あたし前になんべんもお母さんから聴《き》いたわ。ちゃんと小さな水晶のお宮で二つならんでいるからきっとそうだわ。」\n",
      "「はなしてごらん。双子のお星さまが何したっての。」\n",
      "「ぼくも知ってらい。双子のお星さまが野原へ遊びにでてからすと喧嘩《けんか》したんだろう。」\n",
      "「そうじゃないわよ。あのね、天の川の岸にね、おっかさんお話なすったわ、……」\n",
      "「それから彗星《ほうきぼし》がギーギーフーギーギーフーて云って来たねえ。」\n",
      "「いやだわたあちゃんそうじゃないわよ。それはべつの方だわ。」\n",
      "「するとあすこにいま笛《ふえ》を吹《ふ》いて居るんだろうか。」\n",
      "「いま海へ行ってらあ。」\n",
      "「いけないわよ。もう海からあがっていらっしゃったのよ。」\n",
      "「そうそう。ぼく知ってらあ、ぼくおはなししよう。」\n",
      "\n",
      "　川の向う岸が俄《にわ》かに赤くなりました。楊《やなぎ》の木や何かもまっ黒にすかし出され見えない天の川の波もときどきちらちら針のように赤く光りました。まったく向う岸の野原に大きなまっ赤な火が燃されその黒いけむりは高く桔梗《ききょう》いろのつめたそうな天をも焦《こ》がしそうでした。ルビーよりも赤くすきとおりリチウムよりもうつくしく酔《よ》ったようになってその火は燃えているのでした。\n",
      "「あれは何の火だろう。あんな赤く光る火は何を燃やせばできるんだろう。」ジョバンニが云《い》いました。\n",
      "「蝎《さそり》の火だな。」カムパネルラが又《また》地図と首っ引きして答えました。\n",
      "「あら、蝎の火のことならあたし知ってるわ。」\n",
      "「蝎の火ってなんだい。」ジョバンニがききました。\n",
      "「蝎がやけて死んだのよ。その火がいまでも燃えてるってあたし何べんもお父さんから聴いたわ。」\n",
      "「蝎って、虫だろう。」\n",
      "「ええ、蝎は虫よ。だけどいい虫だわ。」\n",
      "「蝎いい虫じゃないよ。僕博物館でアルコールにつけてあるの見た。尾にこんなかぎがあってそれで螫《さ》されると死ぬって先生が云ったよ。」\n",
      "「そうよ。だけどいい虫だわ、お父さん斯《こ》う云ったのよ。むかしのバルドラの野原に一ぴきの蝎がいて小さな虫やなんか殺してたべて生きていたんですって。するとある日いたちに見附《みつ》かって食べられそうになったんですって。さそりは一生けん命｜遁《に》げて遁げたけどとうとういたちに押《おさ》えられそうになったわ、そのときいきなり前に井戸があってその中に落ちてしまったわ、もうどうしてもあがられないでさそりは溺《おぼ》れはじめたのよ。そのときさそりは斯う云ってお祈《いの》りしたというの、\n",
      "　ああ、わたしはいままでいくつのものの命をとったかわからない、そしてその私がこんどいたちにとられようとしたときはあんなに一生けん命にげた。それでもとうとうこんなになってしまった。ああなんにもあてにならない。どうしてわたしはわたしのからだをだまっていたちに呉《く》れてやらなかったろう。そしたらいたちも一日生きのびたろうに。どうか神さま。私の心をごらん下さい。こんなにむなしく命をすてずどうかこの次にはまことのみんなの幸《さいわい》のために私のからだをおつかい下さい。って云ったというの。そしたらいつか蝎はじぶんのからだがまっ赤なうつくしい火になって燃えてよるのやみを照らしているのを見たって。いまでも燃えてるってお父さん仰《おっしゃ》ったわ。ほんとうにあの火それだわ。」\n",
      "「そうだ。見たまえ。そこらの三角標はちょうどさそりの形にならんでいるよ。」\n",
      "　ジョバンニはまったくその大きな火の向うに三つの三角標がちょうどさそりの腕《うで》のようにこっちに五つの三角標がさそりの尾やかぎのようにならんでいるのを見ました。そしてほんとうにそのまっ赤なうつくしいさそりの火は音なくあかるくあかるく燃えたのです。\n",
      "　その火がだんだんうしろの方になるにつれてみんなは何とも云えずにぎやかなさまざまの楽の音《ね》や草花の匂《におい》のようなもの口笛や人々のざわざわ云う声やらを聞きました。それはもうじきちかくに町か何かがあってそこにお祭でもあるというような気がするのでした。\n",
      "「ケンタウル露《つゆ》をふらせ。」いきなりいままで睡《ねむ》っていたジョバンニのとなりの男の子が向うの窓を見ながら叫んでいました。\n",
      "　ああそこにはクリスマストリイのようにまっ青な唐檜《とうひ》かもみの木がたってその中にはたくさんのたくさんの豆電燈《まめでんとう》がまるで千の蛍《ほたる》でも集ったようについていました。\n",
      "「ああ、そうだ、今夜ケンタウル祭だねえ。」\n",
      "「ああ、ここはケンタウルの村だよ。」カムパネルラがすぐ云いました。〔以下原稿一枚？なし〕\n",
      "\n",
      "「ボール投げなら僕《ぼく》決してはずさない。」\n",
      "　男の子が大威張《おおいば》りで云いました。\n",
      "「もうじきサウザンクロスです。おりる支度《したく》をして下さい。」青年がみんなに云いました。\n",
      "「僕も少し汽車へ乗ってるんだよ。」男の子が云いました。カムパネルラのとなりの女の子はそわそわ立って支度をはじめましたけれどもやっぱりジョバンニたちとわかれたくないようなようすでした。\n",
      "「ここでおりなけぁいけないのです。」青年はきちっと口を結んで男の子を見おろしながら云いました。\n",
      "「厭《いや》だい。僕もう少し汽車へ乗ってから行くんだい。」\n",
      "　ジョバンニがこらえ兼ねて云いました。\n",
      "「僕たちと一緒《いっしょ》に乗って行こう。僕たちどこまでだって行ける切符《きっぷ》持ってるんだ。」\n",
      "「だけどあたしたちもうここで降りなけぁいけないのよ。ここ天上へ行くとこなんだから。」女の子がさびしそうに云いました。\n",
      "「天上へなんか行かなくたっていいじゃないか。ぼくたちここで天上よりももっといいとこをこさえなけぁいけないって僕の先生が云ったよ。」\n",
      "「だっておっ母さんも行ってらっしゃるしそれに神さまが仰《お》っしゃるんだわ。」\n",
      "「そんな神さまうその神さまだい。」\n",
      "「あなたの神さまうその神さまよ。」\n",
      "「そうじゃないよ。」\n",
      "「あなたの神さまってどんな神さまですか。」青年は笑いながら云いました。\n",
      "「ぼくほんとうはよく知りません、けれどもそんなんでなしにほんとうのたった一人の神さまです。」\n",
      "「ほんとうの神さまはもちろんたった一人です。」\n",
      "「ああ、そんなんでなしにたったひとりのほんとうのほんとうの神さまです。」\n",
      "「だからそうじゃありませんか。わたくしはあなた方がいまにそのほんとうの神さまの前にわたくしたちとお会いになることを祈ります。」青年はつつましく両手を組みました。女の子もちょうどその通りにしました。みんなほんとうに別れが惜《お》しそうでその顔いろも少し青ざめて見えました。ジョバンニはあぶなく声をあげて泣き出そうとしました。\n",
      "「さあもう支度はいいんですか。じきサウザンクロスですから。」\n",
      "　ああそのときでした。見えない天の川のずうっと川下に青や橙《だいだい》やもうあらゆる光でちりばめられた十字架《じゅうじか》がまるで一本の木という風に川の中から立ってかがやきその上には青じろい雲がまるい環《わ》になって後光のようにかかっているのでした。汽車の中がまるでざわざわしました。みんなあの北の十字のときのようにまっすぐに立ってお祈りをはじめました。あっちにもこっちにも子供が瓜《うり》に飛びついたときのようなよろこびの声や何とも云いようない深いつつましいためいきの音ばかりきこえました。そしてだんだん十字架は窓の正面になりあの苹果《りんご》の肉のような青じろい環の雲もゆるやかにゆるやかに繞《めぐ》っているのが見えました。\n",
      "「ハルレヤハルレヤ。」明るくたのしくみんなの声はひびきみんなはそのそらの遠くからつめたいそらの遠くからすきとおった何とも云えずさわやかなラッパの声をききました。そしてたくさんのシグナルや電燈の灯《あかり》のなかを汽車はだんだんゆるやかになりとうとう十字架のちょうどま向いに行ってすっかりとまりました。\n",
      "「さあ、下りるんですよ。」青年は男の子の手をひきだんだん向うの出口の方へ歩き出しました。\n",
      "「じゃさよなら。」女の子がふりかえって二人に云いました。\n",
      "「さよなら。」ジョバンニはまるで泣き出したいのをこらえて怒《おこ》ったようにぶっきり棒に云いました。女の子はいかにもつらそうに眼《め》を大きくしても一度こっちをふりかえってそれからあとはもうだまって出て行ってしまいました。汽車の中はもう半分以上も空いてしまい俄《にわ》かにがらんとしてさびしくなり風がいっぱいに吹《ふ》き込《こ》みました。\n",
      "　そして見ているとみんなはつつましく列を組んであの十字架の前の天の川のなぎさにひざまずいていました。そしてその見えない天の川の水をわたってひとりの神々《こうごう》しい白いきものの人が手をのばしてこっちへ来るのを二人は見ました。けれどもそのときはもう硝子《ガラス》の呼子《よびこ》は鳴らされ汽車はうごき出しと思ううちに銀いろの霧《きり》が川下の方からすうっと流れて来てもうそっちは何も見えなくなりました。ただたくさんのくるみの木が葉をさんさんと光らしてその霧の中に立ち黄金《きん》の円光をもった電気｜栗鼠《りす》が可愛《かあい》い顔をその中からちらちらのぞいているだけでした。\n",
      "\n",
      "　そのときすうっと霧がはれかかりました。どこかへ行く街道らしく小さな電燈の一列についた通りがありました。それはしばらく線路に沿って進んでいました。そして二人がそのあかしの前を通って行くときはその小さな豆いろの火はちょうど挨拶《あいさつ》でもするようにぽかっと消え二人が過ぎて行くときまた点《つ》くのでした。\n",
      "　ふりかえって見るとさっきの十字架はすっかり小さくなってしまいほんとうにもうそのまま胸にも吊《つる》されそうになり、さっきの女の子や青年たちがその前の白い渚《なぎさ》にまだひざまずいているのかそれともどこか方角もわからないその天上へ行ったのかぼんやりして見分けられませんでした。\n",
      "　ジョバンニはああと深く息しました。\n",
      "「カムパネルラ、また僕たち二人きりになったねえ、どこまでもどこまでも一緒に行こう。僕はもうあのさそりのようにほんとうにみんなの幸《さいわい》のためならば僕のからだなんか百ぺん灼《や》いてもかまわない。」\n",
      "「うん。僕だってそうだ。」カムパネルラの眼にはきれいな涙《なみだ》がうかんでいました。\n",
      "「けれどもほんとうのさいわいは一体何だろう。」ジョバンニが云いました。\n",
      "「僕わからない。」カムパネルラがぼんやり云いました。\n",
      "「僕たちしっかりやろうねえ。」ジョバンニが胸いっぱい新らしい力が湧《わ》くようにふうと息をしながら云いました。\n",
      "「あ、あすこ石炭｜袋《ぶくろ》だよ。そらの孔《あな》だよ。」カムパネルラが少しそっちを避《さ》けるようにしながら天の川のひととこを指さしました。ジョバンニはそっちを見てまるでぎくっとしてしまいました。天の川の一とこに大きなまっくらな孔がどほんとあいているのです。その底がどれほど深いかその奥《おく》に何があるかいくら眼をこすってのぞいてもなんにも見えずただ眼がしんしんと痛むのでした。ジョバンニが云いました。\n",
      "「僕もうあんな大きな暗《やみ》の中だってこわくない。きっとみんなのほんとうのさいわいをさがしに行く。どこまでもどこまでも僕たち一緒に進んで行こう。」\n",
      "「ああきっと行くよ。ああ、あすこの野原はなんてきれいだろう。みんな集ってるねえ。あすこがほんとうの天上なんだ。あっあすこにいるのぼくのお母さんだよ。」カムパネルラは俄《にわ》かに窓の遠くに見えるきれいな野原を指して叫《さけ》びました。\n",
      "　ジョバンニもそっちを見ましたけれどもそこはぼんやり白くけむっているばかりどうしてもカムパネルラが云ったように思われませんでした。何とも云えずさびしい気がしてぼんやりそっちを見ていましたら向うの河岸に二本の電信ばしらが丁度両方から腕《うで》を組んだように赤い腕木をつらねて立っていました。\n",
      "「カムパネルラ、僕たち一緒に行こうねえ。」ジョバンニが斯《こ》う云いながらふりかえって見ましたらそのいままでカムパネルラの座《すわ》っていた席にもうカムパネルラの形は見えずただ黒いびろうどばかりひかっていました。ジョバンニはまるで鉄砲丸《てっぽうだま》のように立ちあがりました。そして誰《たれ》にも聞えないように窓の外へからだを乗り出して力いっぱいはげしく胸をうって叫びそれからもう咽喉《のど》いっぱい泣きだしました。もうそこらが一ぺんにまっくらになったように思いました。\n",
      "\n",
      "　ジョバンニは眼をひらきました。もとの丘《おか》の草の中につかれてねむっていたのでした。胸は何だかおかしく熱《ほて》り頬《ほほ》にはつめたい涙がながれていました。\n",
      "　ジョバンニはばねのようにはね起きました。町はすっかりさっきの通りに下でたくさんの灯を綴《つづ》ってはいましたがその光はなんだかさっきよりは熱したという風でした。そしてたったいま夢《ゆめ》であるいた天の川もやっぱりさっきの通りに白くぼんやりかかりまっ黒な南の地平線の上では殊《こと》にけむったようになってその右には蠍座《さそりざ》の赤い星がうつくしくきらめき、そらぜんたいの位置はそんなに変ってもいないようでした。\n",
      "　ジョバンニは一さんに丘を走って下りました。まだ夕ごはんをたべないで待っているお母さんのことが胸いっぱいに思いだされたのです。どんどん黒い松《まつ》の林の中を通ってそれからほの白い牧場の柵《さく》をまわってさっきの入口から暗い牛舎の前へまた来ました。そこには誰かがいま帰ったらしくさっきなかった一つの車が何かの樽《たる》を二つ乗っけて置いてありました。\n",
      "「今晩は、」ジョバンニは叫びました。\n",
      "「はい。」白い太いずぼんをはいた人がすぐ出て来て立ちました。\n",
      "「何のご用ですか。」\n",
      "「今日牛乳がぼくのところへ来なかったのですが」\n",
      "「あ済みませんでした。」その人はすぐ奥へ行って一本の牛乳瓶《ぎゅうにゅうびん》をもって来てジョバンニに渡《わた》しながらまた云いました。\n",
      "「ほんとうに、済みませんでした。今日はひるすぎうっかりしてこうしの柵をあけて置いたもんですから大将早速親牛のところへ行って半分ばかり呑んでしまいましてね……」その人はわらいました。\n",
      "「そうですか。ではいただいて行きます。」\n",
      "「ええ、どうも済みませんでした。」\n",
      "「いいえ。」\n",
      "　ジョバンニはまだ熱い乳の瓶を両方のてのひらで包むようにもって牧場の柵を出ました。\n",
      "　そしてしばらく木のある町を通って大通りへ出てまたしばらく行きますとみちは十文字になってその右手の方、通りのはずれにさっきカムパネルラたちのあかりを流しに行った川へかかった大きな橋のやぐらが夜のそらにぼんやり立っていました。\n",
      "　ところがその十字になった町かどや店の前に女たちが七八人ぐらいずつ集って橋の方を見ながら何かひそひそ談《はな》しているのです。それから橋の上にもいろいろなあかりがいっぱいなのでした。\n",
      "　ジョバンニはなぜかさあっと胸が冷たくなったように思いました。そしていきなり近くの人たちへ\n",
      "「何かあったんですか。」と叫ぶようにききました。\n",
      "「こどもが水へ落ちたんですよ。」一人が云いますとその人たちは一斉《いっせい》にジョバンニの方を見ました。ジョバンニはまるで夢中で橋の方へ走りました。橋の上は人でいっぱいで河が見えませんでした。白い服を着た巡査《じゅんさ》も出ていました。\n",
      "　ジョバンニは橋の袂《たもと》から飛ぶように下の広い河原へおりました。\n",
      "　その河原の水際《みずぎわ》に沿ってたくさんのあかりがせわしくのぼったり下ったりしていました。向う岸の暗いどてにも火が七つ八つうごいていました。そのまん中をもう烏瓜《からすうり》のあかりもない川が、わずかに音をたてて灰いろにしずかに流れていたのでした。\n",
      "　河原のいちばん下流の方へ州《す》のようになって出たところに人の集りがくっきりまっ黒に立っていました。ジョバンニはどんどんそっちへ走りました。するとジョバンニはいきなりさっきカムパネルラといっしょだったマルソに会いました。マルソがジョバンニに走り寄ってきました。\n",
      "「ジョバンニ、カムパネルラが川へはいったよ。」\n",
      "「どうして、いつ。」\n",
      "「ザネリがね、舟の上から烏うりのあかりを水の流れる方へ押《お》してやろうとしたんだ。そのとき舟がゆれたもんだから水へ落っこったろう。するとカムパネルラがすぐ飛びこんだんだ。そしてザネリを舟の方へ押してよこした。ザネリはカトウにつかまった。けれどもあとカムパネルラが見えないんだ。」\n",
      "「みんな探してるんだろう。」\n",
      "「ああすぐみんな来た。カムパネルラのお父さんも来た。けれども見附《みつ》からないんだ。ザネリはうちへ連れられてった。」\n",
      "　ジョバンニはみんなの居るそっちの方へ行きました。そこに学生たち町の人たちに囲まれて青じろい尖《とが》ったあごをしたカムパネルラのお父さんが黒い服を着てまっすぐに立って右手に持った時計をじっと見つめていたのです。\n",
      "　みんなもじっと河を見ていました。誰《たれ》も一言も物を云う人もありませんでした。ジョバンニはわくわくわくわく足がふるえました。魚をとるときのアセチレンランプがたくさんせわしく行ったり来たりして黒い川の水はちらちら小さな波をたてて流れているのが見えるのでした。\n",
      "　下流の方は川はば一ぱい銀河が巨《おお》きく写ってまるで水のないそのままのそらのように見えました。\n",
      "　ジョバンニはそのカムパネルラはもうあの銀河のはずれにしかいないというような気がしてしかたなかったのです。\n",
      "　けれどもみんなはまだ、どこかの波の間から、\n",
      "「ぼくずいぶん泳いだぞ。」と云いながらカムパネルラが出て来るか或《ある》いはカムパネルラがどこかの人の知らない洲にでも着いて立っていて誰かの来るのを待っているかというような気がして仕方ないらしいのでした。けれども俄《にわ》かにカムパネルラのお父さんがきっぱり云いました。\n",
      "「もう駄目《だめ》です。落ちてから四十五分たちましたから。」\n",
      "　ジョバンニは思わずかけよって博士の前に立って、ぼくはカムパネルラの行った方を知っていますぼくはカムパネルラといっしょに歩いていたのですと云おうとしましたがもうのどがつまって何とも云えませんでした。すると博士はジョバンニが挨拶《あいさつ》に来たとでも思ったものですか、しばらくしげしげジョバンニを見ていましたが\n",
      "「あなたはジョバンニさんでしたね。どうも今晩はありがとう。」と叮《てい》ねいに云いました。\n",
      "　ジョバンニは何も云えずにただおじぎをしました。\n",
      "「あなたのお父さんはもう帰っていますか。」博士は堅《かた》く時計を握《にぎ》ったまままたききました。\n",
      "「いいえ。」ジョバンニはかすかに頭をふりました。\n",
      "「どうしたのかなあ。ぼくには一昨日《おととい》大へん元気な便りがあったんだが。今日あたりもう着くころなんだが。船が遅《おく》れたんだな。ジョバンニさん。あした放課後みなさんとうちへ遊びに来てくださいね。」\n",
      "　そう云いながら博士はまた川下の銀河のいっぱいにうつった方へじっと眼を送りました。\n",
      "　ジョバンニはもういろいろなことで胸がいっぱいでなんにも云えずに博士の前をはなれて早くお母さんに牛乳を持って行ってお父さんの帰ることを知らせようと思うともう一目散に河原を街の方へ走りました。\n"
     ]
    }
   ],
   "source": [
    "with open(\"gingatetsudono_yoru.txt\" , mode=\"r\" , encoding=\"utf-8\") as f:\n",
    "    ginga = f.read()\n",
    "    \n",
    "print(ginga)"
   ]
  },
  {
   "cell_type": "code",
   "execution_count": 0,
   "metadata": {
    "colab": {},
    "colab_type": "code",
    "id": "t-hSTZcFmKTF"
   },
   "outputs": [],
   "source": [
    "import re\n",
    "import pickle\n",
    "\n",
    "ginga = re.sub(\"《[^》]+》\" , \"\" , ginga)\n",
    "ginga = re.sub(\"[[^] ] +]\" , \"\" , ginga)\n",
    "ginga = re.sub(\"[｜ 　「」\\n]\", \"\" , ginga)"
   ]
  },
  {
   "cell_type": "code",
   "execution_count": 0,
   "metadata": {
    "colab": {},
    "colab_type": "code",
    "id": "OIoLJJUamKT6"
   },
   "outputs": [],
   "source": [
    "n_rnn = 10  # 時系列の数\n",
    "batch_size = 128\n",
    "epochs = 100\n",
    "n_mid = 128  # 中間層のニューロン数"
   ]
  },
  {
   "cell_type": "code",
   "execution_count": 38,
   "metadata": {
    "colab": {
     "base_uri": "https://localhost:8080/",
     "height": 66
    },
    "colab_type": "code",
    "id": "vOxRqwGOmKUB",
    "outputId": "28141e8c-ab9f-40c4-a07e-b96d38a519f7"
   },
   "outputs": [
    {
     "name": "stdout",
     "output_type": "stream",
     "text": [
      "文字数（重複無し） 1056\n",
      "xの形状 (37884, 10, 1056)\n",
      "tの形状 (37884, 1056)\n"
     ]
    }
   ],
   "source": [
    "import numpy as np\n",
    "\n",
    "# インデックスと文字で辞書を作成\n",
    "chars = sorted(list(set(ginga)))  # setで文字の重複をなくし、各文字をリストに格納する\n",
    "print(\"文字数（重複無し）\", len(chars))\n",
    "char_indices = {}  # 文字がキーでインデックスが値\n",
    "for i, char in enumerate(chars):\n",
    "    char_indices[char] = i\n",
    "indices_char = {}  # インデックスがキーで文字が値\n",
    "for i, char in enumerate(chars):\n",
    "    indices_char[i] = char\n",
    " \n",
    "# 時系列データと、それから予測すべき文字を取り出します\n",
    "time_chars = []\n",
    "next_chars = []\n",
    "for i in range(0, len(ginga) - n_rnn):\n",
    "    time_chars.append(ginga[i: i + n_rnn])\n",
    "    next_chars.append(ginga[i + n_rnn])\n",
    " \n",
    "# 入力と正解をone-hot表現で表します\n",
    "x = np.zeros((len(time_chars), n_rnn, len(chars)), dtype=np.bool)\n",
    "t = np.zeros((len(time_chars), len(chars)), dtype=np.bool)\n",
    "for i, t_cs in enumerate(time_chars):\n",
    "    t[i, char_indices[next_chars[i]]] = 1  # 正解をone-hot表現で表す\n",
    "    for j, char in enumerate(t_cs):\n",
    "        x[i, j, char_indices[char]] = 1  # 入力をone-hot表現で表す\n",
    "        \n",
    "print(\"xの形状\", x.shape)\n",
    "print(\"tの形状\", t.shape)"
   ]
  },
  {
   "cell_type": "markdown",
   "metadata": {
    "colab_type": "text",
    "id": "i_3oh8F1mKUU"
   },
   "source": [
    "https://keras.io/examples/imdb_bidirectional_lstm/"
   ]
  },
  {
   "cell_type": "code",
   "execution_count": 0,
   "metadata": {
    "colab": {},
    "colab_type": "code",
    "id": "KQGAcyNkmKUj"
   },
   "outputs": [],
   "source": [
    "from keras.models import Sequential\n",
    "from keras.layers import Dense, SimpleRNN\n",
    "from keras.layers import LSTM, Bidirectional\n",
    "\n",
    "model = Sequential()\n",
    "model.add(Bidirectional(LSTM(n_mid, input_shape=(n_rnn, len(chars)))))\n",
    "model.add(Dense(len(chars), activation=\"softmax\"))\n",
    "model.compile(loss='categorical_crossentropy', optimizer=\"adam\")\n",
    "# print(model.summary())"
   ]
  },
  {
   "cell_type": "code",
   "execution_count": 0,
   "metadata": {
    "colab": {},
    "colab_type": "code",
    "id": "6mcuXDWEmKUl"
   },
   "outputs": [],
   "source": [
    "from keras.callbacks import LambdaCallback\n",
    " \n",
    "def on_epoch_end(epoch, logs):\n",
    "    print(\"エポック: \", epoch)\n",
    "\n",
    "    beta = 5  # 確率分布を調整する定数\n",
    "    prev_text = ginga[0:n_rnn]  # 入力に使う文字\n",
    "    created_text = prev_text  # 生成されるテキスト\n",
    "    \n",
    "    print(\"シード: \", created_text)\n",
    "\n",
    "    for i in range(400):\n",
    "        # 入力をone-hot表現に\n",
    "        x_pred = np.zeros((1, n_rnn, len(chars)))\n",
    "        for j, char in enumerate(prev_text):\n",
    "            x_pred[0, j, char_indices[char]] = 1\n",
    "        \n",
    "        # 予測を行い、次の文字を得る\n",
    "        y = model.predict(x_pred)\n",
    "        p_power = y[0] ** beta  # 確率分布の調整\n",
    "        next_index = np.random.choice(len(p_power), p=p_power/np.sum(p_power))        \n",
    "        next_char = indices_char[next_index]\n",
    "\n",
    "        created_text += next_char\n",
    "        prev_text = prev_text[1:] + next_char\n",
    "\n",
    "    print(created_text)\n",
    "    print()\n",
    "\n",
    "# エポック終了後に実行される関数を設定\n",
    "epock_end_callback= LambdaCallback(on_epoch_end=on_epoch_end)"
   ]
  },
  {
   "cell_type": "code",
   "execution_count": 41,
   "metadata": {
    "colab": {
     "base_uri": "https://localhost:8080/",
     "height": 1000
    },
    "colab_type": "code",
    "id": "kh6PU2zPmKUp",
    "outputId": "a97550fa-5647-4f6e-9677-01679b1aa2f3"
   },
   "outputs": [
    {
     "name": "stdout",
     "output_type": "stream",
     "text": [
      "Epoch 1/100\n",
      "37884/37884 [==============================] - 15s 392us/step - loss: 4.9451\n",
      "エポック:  0\n",
      "シード:  ではみなさんは、そう\n",
      "ではみなさんは、そうののこのまたたた。はいのルのパネのルいのもししたた。ネのそののルルのののパネパのネパネルのパネルしたした。の少のパパネムパルパパムパパルパパネパネルのでのムパパパパパルルルのがルののパルパパパネパネルのルものいのあのいのののネのムパパルルのパネルのムムネラののパルいののルがの、ルい、いにいまたし。ののルのパパネパルのパパネネネののムパパネムパパルルのラののパネ中っし。ののはムパパルパルルのル、ルこのムパパルのパパパルパパルのパネルしいましたした。うのはははのネししたた。ののパパパルルのルパネネのネムパネルいののパルいのもののパネいののルのをムパパパパネルあのののネネでののルのネもかいのいのののルいった。のパネのパルルのルうましし。。のそのネンのはラたまたた。のをルはののがパパルのっましたた。のパパにムパパパネバパパネルのネルのネムルパパルルのネのパパルのルほたうしてのののパパムパパパルルの\n",
      "\n",
      "Epoch 2/100\n",
      "37884/37884 [==============================] - 12s 306us/step - loss: 4.3468\n",
      "エポック:  1\n",
      "シード:  ではみなさんは、そう\n",
      "ではみなさんは、そうののをか、いののでのそのの中ののの人のの人ののの人のの人のの人ののででした。ジョバンニは、、いののでの人は、うのにの人なのの中のの人のに、を、いいました。その、の、はの人の車ののの人のの人ののでのでのでした。ジョバンニは、、なさいれかの、かのをいました。ジョバンニはは、ジョバンニは、ないののの人のはのででで。そのジョバンニは、いのでのでした。ジョバンニは、いい、ののの人ののの人のののルの人ののでの人のの人ののの人のの人のがのでした。ジョバンニは、、にいのでのでした。ジョバンニは、、のさないうののでのものでのそののの人のの人のの人ののでました。ジョバンニは、いいいていのでした。ジョバンニははっていのでのでののジョバンニははい、ののの人ののの人のの子の車のいの、でのでのジョバンニは、ないいたののこのの人が、のの年のでのでのでそ。ジョバンニは、のの車のの人のののラののの中のの人もののの人ののの人\n",
      "\n",
      "Epoch 3/100\n",
      "37884/37884 [==============================] - 11s 304us/step - loss: 3.9615\n",
      "エポック:  2\n",
      "シード:  ではみなさんは、そう\n",
      "ではみなさんは、そうになっていました。ジョバンニは、、いないとにないていました。そのはのの子の中のにの子のように、いないろのでした。あいました。そのです。そのでした。そのです。そのです。あんないた。そのです。そのでした。カムパネルラは、あいました。そのです。ジョバンニは、、あないたのでした。ジョバンニは、いないからのでした。その子の中のでした。そのです。あいといました。ジョバンニは、あないんのでした。あ、あのもうないた。そのです。そのの子のです。そのです。そのはこのでした。あの、もうに、いないたのでした。あいて、あのです。そのです。、あいました。ジョバンニは、いうにしていました。そうに、いのでした。ジョバンニは、ないからないました。ジョバンニは、いないが、いのでした。そのはは、うなのでした。ジョバンニは、こうなりないました。ジョバンニは、いないました。そのです。そのの子の中に、いました。そのです。いのです。そ\n",
      "\n",
      "Epoch 4/100\n",
      "37884/37884 [==============================] - 12s 309us/step - loss: 3.6663\n",
      "エポック:  3\n",
      "シード:  ではみなさんは、そう\n",
      "ではみなさんは、そうにいっていました。ジョバンニは、いくないました。ジョバンニは、いたのです。そのとうにはいました。そのです。ジョバンニは、あっていました。そのです。ジョバンニは、そのです。そのとうに、いていました。ジョバンニは、いました。ジョバンニは、いました。そのです。あいて、いうのです。そのです。ジョバンニは、いからに、いました。ジョバンニは、いうにないました。ジョバンニは、いました。あっているとうです。そのです。ジョバンニは、あっていました。ジョバンニは、あっていました。ジョバンニは、うだんでした。いうとこのです。そのように、いました。ジョバンニは、いました。そのように、いました。ジョバンニは、いうにないました。ジョバンニは、どうないました。ジョバンニは、いうにを見ていました。ジョバンニは、いうに見えていました。そのです。ジョバンニは、いうに見えていました。そのです。そのとうに、いました。ジョバンニは\n",
      "\n",
      "Epoch 5/100\n",
      "37884/37884 [==============================] - 12s 306us/step - loss: 3.4586\n",
      "エポック:  4\n",
      "シード:  ではみなさんは、そう\n",
      "ではみなさんは、そうになっているのでした。そのとうのでした。ジョバンニは、いました。ジョバンニは、いっといろのでした。ジョバンニは、いっといろのでした。そのとうにはあっていました。ジョバンニは、いくのでした。ジョバンニは、いっといるのでした。そのとうに、そのでした。ありました。あれたももうないたのでした。ジョバンニは、いのでした。ジョバンニは、まっとうになっていました。そのとこのが、あっているのでした。ジョバンニは、あっていました。そのです。ジョバンニは、うのでした。ジョバンニは、いのでした。ジョバンニは、そのでした。そのとうになっていました。そのです。ジョバンニは、いっといろのでした。そのははこのでした。そのとうにはあっているのでした。ジョバンニは、そのでした。そのははもうなっとうにしたのでした。ジョバンニは、あっているのでした。ジョバンニは、うのように、あっているのでした。ジョバンニは、いろのでした。その\n",
      "\n",
      "Epoch 6/100\n",
      "37884/37884 [==============================] - 11s 301us/step - loss: 3.2966\n",
      "エポック:  5\n",
      "シード:  ではみなさんは、そう\n",
      "ではみなさんは、そうになって、いうになって、まったのです。そのです。そのです。ジョバンニは、いっといっていました。ジョバンニは、いっといろうに、その方を見ていました。そのは、あのです。そのです。そのです。そのです。その中には、いのように、いるのです。そのです。そのように、いるといのです。ジョバンニは、いっといて、いるのです。あると、もうない。そのです。その中に、いるのです。それは、いるのです。そのとうに、あっていました。ジョバンニは、いっといろう。そのとうに、いっているのでした。あれは、どうとうに、いるのでした。そのです。そのとは、あかりのように、いっているのです。それは、いるのです。そのです。あると、その中は、いまいた。そのとうに、いるのです。そのです。そのです。そのです。そのとうに、いました。そのとうになって、いのです。そのは、いろのです。そのです。そのです。そのです。ジョバンニは、いろのでした。ジョバン\n",
      "\n",
      "Epoch 7/100\n",
      "37884/37884 [==============================] - 11s 301us/step - loss: 3.1619\n",
      "エポック:  6\n",
      "シード:  ではみなさんは、そう\n",
      "ではみなさんは、そうになって、まったのです。そのときのようになったりした。いました。そのは、このですからないから、そのですから、とうになって、まったのです。そのですから、そのなになって、まったのです。そのときは、このですから、いるのです。そのとこのですから、そのときのようになって、まったのです。そのははこのですか。その中には、まったのですか。あると、もうなっと、あっているのでした。ジョバンニは、こんないろのです。その人は、きのようになっていました。そのはきのようになっていました。そのは、どうないました。そのときならなが、その中に、いたのですから、そのですから、その中になって、まったのです。そのは、どうなったのです。そのときのようになって、まったのです。ジョバンニは、いっといろいろがら、その中になって、まっているのでした。そのとうにないました。ジョバンニは、まったのです。ジョバンニは、このですから、そのようにな\n",
      "\n",
      "Epoch 8/100\n",
      "37884/37884 [==============================] - 11s 303us/step - loss: 3.0342\n",
      "エポック:  7\n",
      "シード:  ではみなさんは、そう\n",
      "ではみなさんは、そうになって、まったのです。その人は、あのですから、あのです。その中には、いのようになったのです。その人は、このとは、もうないといろう。その人は、その中にはまったのです。ありました。その人は、このでは、どうないました。その人は、あのですか。あるともうなっと、もうとうにしていました。その人は、あのですか。そのはきないのです。ああ、その人は、どうどもはそのとうのようにないました。あああります。それは、どうなくは、いろのです。あああります。その中は、このでは、どうないます。その人は、このではいるのです。ジョバンニは、あのですから、その中にはまったのです。その人は、あのですか。その人は、この方を見ました。その人は、このですから、いいろのです。その人は、いろのですから、いろいろのですから、いのように、青年はいるのでした。そのとうになって、ました。ああありました。その人は、どうないました。ああ、その人は、\n",
      "\n",
      "Epoch 9/100\n",
      "37884/37884 [==============================] - 11s 301us/step - loss: 2.9180\n",
      "エポック:  8\n",
      "シード:  ではみなさんは、そう\n",
      "ではみなさんは、そうにきなりのように、その中には、まっとその方へ行って、ました。その人は、どうから、いろのように、ありました。そして、その中にはいっちりもちらちらちらちらちらっているのでした。その中にはまったのです。ジョバンニは、その中を見ていました。そして、そのとうに、あっちりました。それは、どうどんだんでした。いました。そして、あの方へ行って、その中に見ていました。そしていました。そうなら、どうどこへ行って、その中には、その中には、まったのですか。その中には、まったのですか。ジョバンニは、その中にはきれいのように、その中には、まったのですか。その人は、あるときのように、そのときのようになったのでした。そして、あるとうのように、まったのです。そして、そのとうになって、まったのです。その中には、どうから、いいのですか。ジョバンニは、このですから、その中には、いのように、いたのです。その中には、どうどんでした。\n",
      "\n",
      "Epoch 10/100\n",
      "37884/37884 [==============================] - 11s 300us/step - loss: 2.8111\n",
      "エポック:  9\n",
      "シード:  ではみなさんは、そう\n",
      "ではみなさんは、そうにきれいないろのですから、その中にはきれいないろのですから、その火を見えるとして、そのとうのように、まったのです。その人は、このですかにありました。そしてその人は、どうどこは、いのですか。そうとここがら、その中になって、まったのです。その人はその中に見ていました。そして、このとうのように、あっとりしたのです。それはどうして、そのとうにこっちを見ました。ジョバンニは、わかっていました。そして、そのとうに、そのときのようになって、まったのです。その人は、こんなにいました。ジョバンニは、どんですから、いうとうしろがらっているのでした。そして、もうどこから、その中にはまるですかに、いるともうないと、このですか。ジョバンニは、その中に見えるというのでした。そしてそのとうに、どうどこのですから、どうどことはいますから、そのときのようになって、まったのですか。そして行って、そのとうに、あっとりました。そ\n",
      "\n",
      "Epoch 11/100\n",
      "37884/37884 [==============================] - 11s 292us/step - loss: 2.7088\n",
      "エポック:  10\n",
      "シード:  ではみなさんは、そう\n",
      "ではみなさんは、そうにきれいない。ジョバンニは、どうどうして、まったのです。そのときないました。その人は、どうしたのですか。ジョバンニは、すっといついているのでした。そうだ。ジョバンニは、そうに云いました。その人は、どうどうしたのですか。ジョバンニは、こんですから。いているです。その人は、どうしたのです。その人は、いっぱいになって、まったのです。その中は、まったのです。その人は、どうどうしました。そしていました。ジョバンニは、どうどうしたのです。ジョバンニは、まったのですか。あるとうない。ジョバンニは、そのときっちの方へ来たのでした。ジョバンニは、その中にはまったのです。それはもうなくさんのいろのですか。ジョバンニは、そのときはきれいないろのです。それは、どうどもどこから、いのようになったのです。それはどうしたのです。その人は、こんなにいました。ジョバンニは、こんですか。そのときなりが、いうときのように、まっ\n",
      "\n",
      "Epoch 12/100\n",
      "37884/37884 [==============================] - 11s 296us/step - loss: 2.6061\n",
      "エポック:  11\n",
      "シード:  ではみなさんは、そう\n",
      "ではみなさんは、そうにきれいないろのですから、そのできまったのです。そのときらいろの方を見ていました。ジョバンニは、どうどももああるところを見るとしているとしていました。そうとうしているのでした。ジョバンニは、こへ行って行くのでした。その中にはまっているのです。その中には、こへ行って行くのです。その中にはるんですからい。いるともうするですから、いろいろいろいろが、あげているとしたように、それを見ているのです。その中にはいるのですか。あると、こへ行って行くのです。その人は、こへ行って行くのです。その人は、こへ行って行くのでした。その中にはいるのですか。あるとこへ行って行くよ。それは、その中を見ると、もうときれいないろのですから、そのできたりだんだんでした。その人は、どうしているのです。その中にはまるでものですから、いたちにもうっきりもうっとりもっていました。そのときの水へはっているのです。その中にはいるのですか\n",
      "\n",
      "Epoch 13/100\n",
      "37884/37884 [==============================] - 11s 292us/step - loss: 2.5135\n",
      "エポック:  12\n",
      "シード:  ではみなさんは、そう\n",
      "ではみなさんは、そうにきれいないうのでした。ジョバンニは、どうかして、そのときの水の中になったのです。その大きなにもなって、まったのですか。ジョバンニは、どうしたのですか。ジョバンニは、少しその方へ来るのでした。ジョバンニは、どうどこへ行って行くのです。ジョバンニは、あのですから。ジョバンニは、いっぱいになって、まったくさんの水の中になって行くのでした。ジョバンニは、少しその方へ行って行くのでした。ジョバンニは、その大きなものもうなくなっていました。その人は、どんどこからは、このですか。こんでもここでももここではいました。ジョバンニは、少しその方へ行って行くのでした。ジョバンニは、（あああありまた。ジョバンニは、その大きながら、どうどこのですから、こらないのです。こんなんだろう。ジョバンニは、その中にはまっ黒に星の上にはったのです。このはきのぼくの水の中になったのです。その人は、どうしたのです。ジョバンニは、\n",
      "\n",
      "Epoch 14/100\n",
      "37884/37884 [==============================] - 11s 296us/step - loss: 2.4171\n",
      "エポック:  13\n",
      "シード:  ではみなさんは、そう\n",
      "ではみなさんは、そうのきのようになっていました。ジョバンニは、あっと見えました。そしていると、あのです。あると、はいるのです。このではもうじきなりのようになって、そのときのようになったのです。ジョバンニは、こっちに見えるとうしろがらいました。ジョバンニは、どうして、こんなにもうっとこころが、きなりのように、またのでした。ジョバンニは、少しそのでした。このでは、どうした、いたちにもうっとこっていました。そしていました。ジョバンニは、そのときれいながら、いるのです。このでは、こんでもいるよ。はあありません。そして行くなから、その人は、さっきの方へなって、まいました。ところがら、いるのでした。ジョバンニは、その中にはまっ黒いの高い高い高い高い高い光るめたのでした。ジョバンニは、こっちを見えると、その人は、もうしろいろがらっているのでした。ジョバンニは、少しその人を見ました。ジョバンニは、そのお父さんが、いるのでした\n",
      "\n",
      "Epoch 15/100\n",
      "37884/37884 [==============================] - 11s 292us/step - loss: 2.3221\n",
      "エポック:  14\n",
      "シード:  ではみなさんは、そう\n",
      "ではみなさんは、そうにきれいないのでした。どうしたちはなくなかっていました。ジョバンニは、どうしました。ジョバンニは、もうどこへ行くなから、その中にはまっ赤になって、まったくないと、ころにならんだい。ああ、ここへ行って行きました。ジョバンニは、もうそして来たのです。その中は、どうどもどもしました。ジョバンニは、どうしたももうからいのいるのでした。ジョバンニは、どもどもどもしまわたら、そのときの小さな星の前を見るときれがらっているのでした。ジョバンニは、どうどももあかりました。ジョバンニは、どうどもしたから、もうつくなくから、そのなにはなったのです。ジョバンニは、このですか。その中にはまっ赤になっていました。その中にはまっ赤になっていました。その人は、もうどこかでもいました。ジョバンニは、もうどこへ行くなから、その中にはきれいないのでした。その中にはまっ赤になくなって、まっ黒い唐光の中を通りました。その人は、も\n",
      "\n",
      "Epoch 16/100\n",
      "37884/37884 [==============================] - 11s 296us/step - loss: 2.2273\n",
      "エポック:  15\n",
      "シード:  ではみなさんは、そう\n",
      "ではみなさんは、そうとうに、どんどんどんですから、車の中にはまるでするところいろいろないろなり、青年はきっとしょうと思ったら、ジョバンニは思いました。ジョバンニは、どんどんどんどんですから、車の中にはまったのです。ジョバンニは、その大きなんだから、どうからしているのですか。ジョバンニは、もうどこっちへ行って行くよ。それはその人は、どんどんどんどこへ行って行って行くよ。それはその人は、どんどんどんどんどんどこら行くたところはことを見ていると、あっちらんといたいというような、そのまたちにどんどんどこらはいちらんないい。いろいなら、ジョバンニは思いました。ジョバンニは、どうかって行くように、まったのですか。ジョバンニは、どこから、いっぱいになって、またくるんですか。いたちは、こんですか。ジョバンニは、その大きならっと、ああありませんでした。ジョバンニは、どうどこしていました。それは、どんどんどんどんどこら行くたとこ\n",
      "\n",
      "Epoch 17/100\n",
      "37884/37884 [==============================] - 11s 294us/step - loss: 2.1385\n",
      "エポック:  16\n",
      "シード:  ではみなさんは、そう\n",
      "ではみなさんは、そうときの小さな星いのいつかない。その中にはまっ黒に高く光っていました。ジョバンニは、その大きなもの水がたくさんでいた。それはいたちにもっていました。その中にはまっ黒に高く光っていました。その人は、どうして行くのです。ジョバンニは、その大きなものでする。ジョバンニは、なっとその銀河の岸に見えるのでした。その人はその中にはいるといろいろがらいました。それはその中にはいっぱいにいっていました。それはその白い岩の中に、水の中にもっとそれからいました。ジョバンニは、どうかですか。二人は、まったのですか。ジョバンニは、その大きな水がもうっといろいろとしていました。その人は、どんどんどんですからいいない。ジョバンニはまったのです。その中にはまっ黒になってしました。それはその中になってその上を見ました。それはその中にはわるにしていました。ジョバンニは、その大きなものもうなんだからいっぱいになっていました。そ\n",
      "\n",
      "Epoch 18/100\n",
      "37884/37884 [==============================] - 11s 291us/step - loss: 2.0441\n",
      "エポック:  17\n",
      "シード:  ではみなさんは、そう\n",
      "ではみなさんは、そうにきれいない。その人は、どうしたがいるのです。その中にはまったのです。その人は、もうじろいろに見ていたのです。その人は、こんなの方へ行って行くよ。そしてその人は、どうしました。そうだ。カムパネルラが、そのまったのです。ジョバンニは、その大きなものがつるといました。そうだ。その人はおっかさんはいのです。その中にはまっ赤になっていました。そうだ。その人はいっちに見えるというような気がして、それでもそれを見ていました。そうして、そのですか。そのときないろになったのです。それは、そのではいるというように、いっぱいになって、またもうのです。その人は、どんですか。その火はなったよ。そうだ。ああ、こんなんだ。カムパネルラが、その切れいない。ジョバンニはまったのです。その人は、もうじろいろに見ていました。そしてその人は、どうしました。そうだ。そうだ。カムパネルラが、その切れいない。ジョバンニはまったのです\n",
      "\n",
      "Epoch 19/100\n",
      "37884/37884 [==============================] - 11s 297us/step - loss: 1.9567\n",
      "エポック:  18\n",
      "シード:  ではみなさんは、そう\n",
      "ではみなさんは、そうにきれいないように、あのでした。ああ、ここではこんだんです。それからだい。ジョバンニが云いました。それは、その大きなものひろがり、その中にはきれから四生がっているときれから、いっぱいになって、またくるくると、その中にはまるで見るというように、まっ黒な頁いっぱいに光って蒸箱がしくいるのでした。ジョバンニは、すぐにありませんでした。ジョバンニは、すぐにありませんでした。ジョバンニは、少しも見えるとこにならんだい。その人は、もうどこからまったのです。ジョバンニは、すぐにありませんでした。ジョバンニは、そのときれいないろの尖った帽子を見たりまり、その中にはまるでするところの方へ行って、それからいて、たくさんの豆いろが、まるですると、あるように、すきのいろうに見えるのでした。ジョバンニは、あるときっきりした。とこがらんというころなから、いっぱいになって、またくるくると、それを見ると、その中にはまるで\n",
      "\n",
      "Epoch 20/100\n",
      "37884/37884 [==============================] - 11s 298us/step - loss: 1.8662\n",
      "エポック:  19\n",
      "シード:  ではみなさんは、そう\n",
      "ではみなさんは、そうとうにこっちを見てまるでもとうとして、それはその大きな音があるまでです。ああ、このです。どこでもああ、ここともうきれいならんだしい。とこことはこんなんだ。カムパネルラがあわたのでした。ジョバンニは、少しもありません。そして行って、ぼくはありました。カムパネルラは、そのその中にはきれいながらあ、こんだんだんだんだんだからくなりてしまいました。そしてもうなんだ。あのですから。お母さん。今日はあるように、あるまでも、あるではい、どこしはもうするところがらいない、、こんなんです。あるとこころは。ああ、そのときは、どうしまがら、そのときれいないろの声があたりました。ああ、このお父さんはもうごといました。その人は、どんどしから、どうどこしました。ジョバンニは、カムパネルラのお父さんがねたんだんだん。ありました。ジョバンニは、少しその方へ走って行きました。ジョバンニは、少しもありません。カムパネルラは、\n",
      "\n",
      "Epoch 21/100\n",
      "37884/37884 [==============================] - 11s 292us/step - loss: 1.7738\n",
      "エポック:  20\n",
      "シード:  ではみなさんは、そう\n",
      "ではみなさんは、そうとうのように見えました。そしてその人は何だんもうしかけるというように、青年はきれいのような気がして、まったのでした。ところがねえ、こんなにもうっとこって来ました。その人は、どうしてもべうから、それから四五人たちは、まるでもあのです。ああ、こんなんです。あありまたときなりんないました。その人は、もうしずかにかっていました。その人は、どうして、またから、それはもうじっといろいろなりにしているのでした。その中にはまっ黒に電燈がしていいめい。僕たちらんですか。鶴が云いました。その人は、もうしろがそうにこっていました。それはもうじきありませんでした。ジョバンニは、その大きながら、どんどうして、またくなって、まったのです。ジョバンニは、そのときはきれいながら、まったのです。そのときまったり、いっぱいついました。ジョバンニは、どうどもあるともうとうしいようなってしたのです。それはもうじっといろいろなりに\n",
      "\n",
      "Epoch 22/100\n",
      "37884/37884 [==============================] - 11s 293us/step - loss: 1.6916\n",
      "エポック:  21\n",
      "シード:  ではみなさんは、そう\n",
      "ではみなさんは、そうできました。そしてその中にはまるでもっていました。その人は、どんでしたから、なんだんだんだんだんだからくなくないているで、こここでは、こんだんだんだんだんだからくなくないているでです。ここではこんなこんなんだんだんだんだろうからなくないていました。その人は、もうしずかに下くでいた。ここではね、こんですか。ここらは、いきない。その中は、また何だんどもひろに行くとして、いついました。その中にはまるでものように立って、またその中にひまわとそのときれいないろの声があたまたその中にもっとそれからいました。そしてその人は何かもあかりでいんだんでした。そしてこんなんだか。そうだ。カムパネルラが、たちもうそんできくさんのいました。ああ、こんどこでですか。こここには、こんなさんでいるです。ジョバンニは、わかにないました。その人は、どんでしたがいろの方ですかっているです。ああ、こんどこでですか。ここらは、いき\n",
      "\n",
      "Epoch 23/100\n",
      "37884/37884 [==============================] - 11s 295us/step - loss: 1.6098\n",
      "エポック:  22\n",
      "シード:  ではみなさんは、そう\n",
      "ではみなさんは、そうにきれいながら、またできくるといろう。とあがら、なんだんだん。ああ、こうちはここともない。ともうすっかり、ごらんなしい。そこここで降りす。ジョバンニは、どうどあ、どんども行くのです。さあ、どうごとごとごとごとごといといといのでした。するとしてジョバンニは、そのときはわられは、その大きな星がやぐんやりました。そうだ。その中は、あの水にもわたわかでたく、その中にはありまわったしい。そうだ。ジョバンニは、どうども、どんどもほんとうの幸になって、そのとうの間になって、またくるときれいないろう、ああ、この辺は、一ぱいさい。あああたちは参夜だんだんだんだから。ジョバンニは、その大きなんだから、どうかしたがいろうとうしろの方が見えました。そしてその人は、ちょうどこんだの方だろうか。おやさんなくさんの灯を入って、またんやに立って、まったのですか。ところがね、こんな水の中を見るところに見ていました。その人は\n",
      "\n",
      "Epoch 24/100\n",
      "37884/37884 [==============================] - 11s 292us/step - loss: 1.5279\n",
      "エポック:  23\n",
      "シード:  ではみなさんは、そう\n",
      "ではみなさんは、そうにの上から下のさい。青年が云いました。ジョバンニは、どうしてもまんですから。いたさんですか。いまえた。鳥捕りが、そのまたかにちを開いて見えました。ああ、その大きなものでする。青年はかに、なんにもうそのこの中が来たんだんだんだんだんなになかにてからだ。ジョバンニはまるで毎日教室でもたく、くって、そのその中にはまるでものようにもっていました。その人は、もうすかに川下というかに、もうもうじきまりも、くるんでした。こんなはもうじきなりの小さく小さな星いていまのです。ジョバンニもそのまでも見えました。そしてもうなんだ。いまだんているというように、まっ黒な頁いっぱいに白い点々のある美しい写真をまいでででもも見えるとしたように思いました。ジョバンニはそのちにもわずいました。その子だからおっかさんがあのまた。その中にはもうだんだんなからになってその子はもうときもとうにこって見ました。その白い岩の中を、一つ\n",
      "\n",
      "Epoch 25/100\n",
      "37884/37884 [==============================] - 11s 297us/step - loss: 1.4493\n",
      "エポック:  24\n",
      "シード:  ではみなさんは、そう\n",
      "ではみなさんは、そうにきれいないうにしました。ジョバンニは、（どうして、そうつは白くさんといためんだろう。ああ、それはもうじきました。それはもうじきまりもなくなって、いっぱいに光ったりました。そして二人は、少しもいつからいていました。そして二人は、少しも見えるとこにないていました。その人は、どうしてもいうと思いました。ジョバンニは、（どんども行くな、どいました。います。ああ、もうどこではいつかったように、少しからっていました。そしてその人は何べんももったようなかっていました。そしてその人は何べんももったようなかっていました。それはもうすきまったくないて、もうどこへ行くんでした。それからだいました。ところがね、ぼくはおっかさんなね。ああたります。わるした、そうにことはまったのです。その人は、どんどしから、ほんとうにいったよ。カムパネルラが、少しそっちを避けるようにしながら、ときの時計を指しました。その人は、どう\n",
      "\n",
      "Epoch 26/100\n",
      "37884/37884 [==============================] - 11s 295us/step - loss: 1.3724\n",
      "エポック:  25\n",
      "シード:  ではみなさんは、そう\n",
      "ではみなさんは、そうにこへ行ってこまでもあなると思いました。ジョバンニは、少し肩をしてべるがらまたくたくさんのいたちの岸に、黒い点のが角さがら、光っているのでした。ジョバンニは、なっとひろいろなろう、青じき白いの光が、光ったりさっと胸をってして、ところがまるで、水の中に聞ったろう。ジョバンニは思いずかけました。そしてもうなんでもいまわたくないて、もうそこらちらちらのぞけるいけでいうように、すぐらって、一つの丘の人たちへんかなくなって、あのこに居たとこと思いながら、ジョバンニは、少し肩をしてべるがらまたくたくないているのです。この模型をごらんなさい。先生は云いました。ジョバンニは、少し肩をしてべるがらまたくたくさんの星いちの方を見えならでした。ここからボートはねのとこからははっきり十字架がまってくるくなったのです。青年はからしいけにもないように思いました。ジョバンニは、もうどこへ行くんです。ジョバンニは、少し肩\n",
      "\n",
      "Epoch 27/100\n",
      "37884/37884 [==============================] - 11s 291us/step - loss: 1.2987\n",
      "エポック:  26\n",
      "シード:  ではみなさんは、そう\n",
      "ではみなさんは、そうできました。そしてその人は何だんどうしたがすぐに立っていました。その人は、どうして、またからいらのように、まっ黒な光ら、空を出てさんから、それを見ていたのです。その中にはまるでするところいちに見えるとこにはまったのです。車掌が手を出しているにそれはしまったのです。その人は、わずかにしくかっていました。ジョバンニは、（ああ、そうだ。このはぼくのおっかさんが、こっちに来たといのです。カムパネルラのと思いました。ジョバンニは、（そうそう、その中はいきの水の中にはまったくなくないていました。その人は、ちょうどこの方にはするところいろがこんな地層に、二つかああがりに座った大きなもうのこっちの岸を見るとジョバンニは、いっしょに何べくりたったりですんだい。ジョバンニが云いました。それはしばらく棚をあげしてジョバンニのました。それはだんだんだん。ぼくはりしていっぱいでしたがそうです。ジョバンニは、そのとき\n",
      "\n",
      "Epoch 28/100\n",
      "37884/37884 [==============================] - 11s 291us/step - loss: 1.2303\n",
      "エポック:  27\n",
      "シード:  ではみなさんは、そう\n",
      "ではみなさんは、そうのうにはもっとり合っているよ。そしてカムパネルラはその地図を見ないてです。これもはいつかない。その中はしぃんとなりました。そのならだは、どうしてもいつからいうとうして気がしてもう思う。それはカムパネルラもそこを見ました。ジョバンニは、なんとも云いながら、まるではっきりしたようか、えるとした人は、をつかして下りてすると、もうとうごかなとと云いました。そのならのうだろう。どうかもあのこうちはもうじきつくなりかったのです。ジョバンニは、少し肩をしげてためていました。えるともうじぎをして見てまるでもともうとうとうごかなかにないないなをしているんです。。ああ、あたりはいんだんでした。そうしうにはもうだんだん早くなって、かしになってまるんでした。そして二人にありました。そしてそのまったの青い火の森のおやっぱりさんやきました。さんはうしろの方だろうちもなくなり、いっぱいになってしまった。そのその底の中を\n",
      "\n",
      "Epoch 29/100\n",
      "37884/37884 [==============================] - 11s 296us/step - loss: 1.1611\n",
      "エポック:  28\n",
      "シード:  ではみなさんは、そう\n",
      "ではみなさんは、そうできまわたくしいいちゃあいのような、その一つの平いまいた北の中に入って先生がなくしと叫びまたからいいい天川の水のなりに流れていたのです。こんどもあたというちらいいったの高い高い崖の中を通めて下の三列には、一つにつけて置いた金剛石の野原かかったって行きのその時々なんやすきのす。お父さんがねてねえさんら、鳥捕りは、また別の方の包みを解きました。するとひとりにいっぱいでしたがいました。ジョバンニは、どうどますかになって、その大きな星のとうに、まっ黒な野原の上を下いているところが、まっ赤なも光るくるように燃えてるのでした。さあ、こんどこで行くなら。ジョバンニが云いました。僕はどうしてもうだ。あっところうちらっきり、けれども大きくなるんでした。そしていついました。ああ、たちどんですから、鳥捕りは、せいかかりひといて、じっとそのとはきれいと大きなようにまっすぐに立っていました。それはその人にもっところ\n",
      "\n",
      "Epoch 30/100\n",
      "37884/37884 [==============================] - 11s 290us/step - loss: 1.0938\n",
      "エポック:  29\n",
      "シード:  ではみなさんは、そう\n",
      "ではみなさんは、そうできまわせんなした。そこになんだから。どうかすかにないていました。そのなら、どんなにもだまででだからだようかおりました。カムパネルラがんなさんな気なって、カムパネルラが見えながら云いました。ああ、その大きなものでする。だって行くんだ。今晩は、ジョバンニは窓から顔を引っ込めて、きっとしたしいろに青い旗をありました。ジョバンニは、すぐ返事しようと思いましたけども、そのすぐぐらいるでした。ジョバンニは、少し肩をしげて置くるとそれを見ないながら思いました。ああ、その大きなものでする。だっていまわ。その人はしばらく木をあげませんでした。ジョバンニは、すっときょうと云って、そのまれたなになったのです。そのところにわってしまわた。その人は黙ってそれを受け取って微かにうなずきました。その子にもっとこって来ました。ジョバンニは、少し肩をしげて置くると叫びました。いついました。あたまたその譜を一ぺんだいまん。\n",
      "\n",
      "Epoch 31/100\n",
      "37884/37884 [==============================] - 11s 292us/step - loss: 1.0321\n",
      "エポック:  30\n",
      "シード:  ではみなさんは、そう\n",
      "ではみなさんは、そうできませんでした。それからだを、つっているから、もうそこへ置いたかりはもうなんだからだいてしくらないから。うしからだいうか。ジョバンニは思わずかけました。そして島の下かり、いとながに云いました。その子にはみんなにもだろうと思ってわれてしくっと口をのように云いました。そしてその鶴はもうするときもどもなから、どうかでした。そうでしょう。二人は顔を出して下りました。ジョバンニはもうどこまでもっていまでもそのまでもとりました。そしてもうじんですから。女の子にもいつかりまった。どこからものお父さんが、一生けん命遁げて遁げたけどとうとうそれからなになくまったくなから、いっぱいに吹きなりました。さんとうの神さま。その神さまです。あるとです。みんなはね、ごらんなさい。そことはたちは一緒に乗っていた。ぼくなから、そのなになかったのこにはいつからそのときにきらならのような川がといました。そこともうす。あの鳥捕\n",
      "\n",
      "Epoch 32/100\n",
      "37884/37884 [==============================] - 11s 289us/step - loss: 0.9694\n",
      "エポック:  31\n",
      "シード:  ではみなさんは、そう\n",
      "ではみなさんは、そうとうできたくなかなから、こんなにもだけれどこかなかにないっぱいにならして、またもういとものその中にはまるでもだけれしょうと、なんだろう。ころどこので、もうどんどんどんどんもしまらんでした。ジョバンニは、どうしてもべんだからお早いもな気がふりんなんだから云いました。カムパネルラが、窓から外を出して外を見ているのにあらまたそのまででもあるように見えるいました。けれども、その鶴は、水素かりすすき、そっちにあるまわくわったり、いろいろなろう、ましょうど十二人の前の横に、肩を取っててて掛らめたので、そのまん中に立って、まっ黒な頁いっぱいに白い点々のある美しい写真を二人でいつまでも見ての鳥捕りが、その歌をひきぎっちにちっちをつけて見たくたくたくしていました。ああ、ここはどうちらいたのです。けれども、そんですかにないとうしう気がして、もう思っても、そっとからって来るとをすると、はいつけるのです、この青い\n",
      "\n",
      "Epoch 33/100\n",
      "37884/37884 [==============================] - 11s 296us/step - loss: 0.9129\n",
      "エポック:  32\n",
      "シード:  ではみなさんは、そう\n",
      "ではみなさんは、そうできませんでした。そしてそんなんになたのでした。この方はなんだから。そのそらを知っていました。カムパネルラが、その地人を見なけて、そのその底にまれたの水の中にはからだわかしました。ジョバンニは、なんだかどこっちの方が見え、、もうのでしょう。こんなになってしいけないのような気がして、またその外にの野原にはきました。そしてそのまったの青い器の上にももいまわたがしずいていました。そのそうです。この鳥がさん、それにもとこっちに祈りました。そして、ジョバンニは、（あな、そのとこの海は、われかなったのです。ジョバンニは、なんだかどこかどこのです。もうあかすこの川のはなになかったわから、そのそうにちらっと一生けていたのですかって、わかりました。その人は黙ってそれを受け取って微かにうなずきました。その鶴をすってすっと白い柱の間かなから、まああなかな野原からいう。そして、その鶴はたちりしずかっと遠くからしい\n",
      "\n",
      "Epoch 34/100\n",
      "37884/37884 [==============================] - 11s 296us/step - loss: 0.8586\n",
      "エポック:  33\n",
      "シード:  ではみなさんは、そう\n",
      "ではみなさんは、そうできませんでした。ジョバンニは、少し肩をしげてためていました。こっちへ来て、けれどもカムパネルラなんか決して云わなそうにまわっていました。ジョバンニは、じっと見えるいました。ジョバンニは、少し肩をして下にて浮いているのですか。またその中にはある裏町の大きな音らです。あや、こいろも。あえ、もうだんだん早くなって、なんなになってその中にはまっ赤になってそこの人は一度にぼくかってあんだよ。お母さんがねむように走っていました。ああ、ここはどこちらい。とこっちにも思わずカムパネルラのうだかをしていました。ああ、そうだ。こんなかっています。そうです。だんだん白い大きながらうだって、それからいついました。ああ、そうだ。こんなはだかりだい。ジョバンニが云いました。蝎の火だな。そらだけてあるだ。あんなにこからいまえら。ジョバンニは、少しどこからしいの方しながってしくらいました。ジョバンニは、少し肩をして下さ\n",
      "\n",
      "Epoch 35/100\n",
      "37884/37884 [==============================] - 11s 289us/step - loss: 0.8051\n",
      "エポック:  34\n",
      "シード:  ではみなさんは、そう\n",
      "ではみなさんは、そうできませんでした。それからだいまっているというよ。そのとき汽車は乗っくるんなしい。ジョバンニはまるで鉄砲丸のように立ちあがりました。カムパネルラは、その紙きれいながら座って出たりしてそれをしてしげジョバンニのカムパネルラもさいそのを見ながら、それはその歌に立ってわっていました。その人はしばらく棚をさがしてジョバンニのうしろには三つもうつくしいなたちがいんだんだんだって、ジョバンニは、思わずいくしいまたっています。その人は、たちのいろにぼって見えるとした。ところがたちもうころう小さな林いでいっぱいでしたがそれからだって何だか。今日ああるそうです。ああ、そうです。ここでは一つに行ってそれからだを燃てくるっていました。その人は黙ってそれを受け取って微かにうなずきました。その鶴にもってくしくかったのです。その天へ行ってするとして、そのうへまわって来たしく、くさあるとこうちは、水の中に見えずからいい\n",
      "\n",
      "Epoch 36/100\n",
      "37884/37884 [==============================] - 11s 296us/step - loss: 0.7529\n",
      "エポック:  35\n",
      "シード:  ではみなさんは、そう\n",
      "ではみなさんは、そうできませんでした。それからだを二つに挙げました。あああの白い天の川の灯をさんにさったのです。ジョバンニは、なんだか、蝎のききのような汽車がかっていました。それからだい。だって行くんだ。お母さんが迎こに行きときますように、いつからだって、息をつかく汽車へへ落ちに行きました。ジョバンニは、じっと見えるくして、けれどの切にもういました。そうだ。ぼくはカムパネルラのようにもありました。［＃３字下げ］八、鳥を捕る人［＃八、鳥を捕る人は中見出し］ここへかけてもようございますか。がやがさん、ぼくたちらして見たったのい。いまわりにわたりしていました。そしてこっちの水は飛んでいるよ。つかりまたくのお父さんのきっと一時間合帰られた。だろうかける銀いは、うにこっきり、大きな音くあげてるの人はその小さな星にかりまりませよ。とこいその銀河原は夜の中の中に入って小さいいろいろになってしるのでした。その白い岩になった処\n",
      "\n",
      "Epoch 37/100\n",
      "37884/37884 [==============================] - 11s 296us/step - loss: 0.7043\n",
      "エポック:  36\n",
      "シード:  ではみなさんは、そう\n",
      "ではみなさんは、そうのうにはちょうとはだんだろうのをつました。ごらんなさい。いっしの高いねえ、ぼんやりひろげて、きくくくなるように、青い葉光りつれて立ってたのしはみんなはぼんやり白く見えるようでしょう。二人は一緒なに角ずれもいたのです。本の音はばんにはすきまに遠くなりのチを見ました。そのとはもうじっともちらっとこらちいちばん光りません。どんどももみんなが、ほんとうにそんだりを知っていました。カムパネルラは、なんだか、泣きないたいのです。。あすすすと川のではねええええれえずい天の川がやくさん、水をさんとしたらし、もめなんだん。今晩はてあるんだ。ぼくら、おっとこんなさんのいろがらないて来るのでした。その小さな火もっているよ。カムパネルラがここを指しました。ジョバンニは、（どんども行くん、カムパネルラが、その地図を見るっているのこのが聞えてぼくのお父さんの姉をこってまるでその中に見ているのです。あのことは海んですか\n",
      "\n",
      "Epoch 38/100\n",
      "37884/37884 [==============================] - 11s 290us/step - loss: 0.6573\n",
      "エポック:  37\n",
      "シード:  ではみなさんは、そう\n",
      "ではみなさんは、そうその紙きれきならにはきっと何か掘ってかるからね、あけもも四緒に、一緒にいて行ってる。ぼくおっかさんのけれどもなくさあ、また水にはったりした。そことはいちばんのあんなこの岸を通っていらなんだ。その人はしばかくにことなってしまわた。その人は黙ってそれを受け取って微かにうなずきました。その銀河の青いく小さな電燈がまっているよ。空気の毒そってかにないて来たいえ。あの方は、ちらっとこんなこと思いていけないっす。あありました。ところもカムパネルラもそらを見ました。その人は、もうしかいくかっていました。ああ、こうちは一ぺんにありてきたのだわ。もうどこまでものほんとうの神さまです。そしてその人のありがしのからさない、このはいついてすると思いてそって見るともうそこへ歩いて行きました。左じのには北の大熊星の下り、ぼんやりふっと云いましたけれどもない。もうすっかり元気だってしまって、ほんとうにそこにはなんだわざ\n",
      "\n",
      "Epoch 39/100\n",
      "37884/37884 [==============================] - 11s 302us/step - loss: 0.6163\n",
      "エポック:  38\n",
      "シード:  ではみなさんは、そう\n",
      "ではみなさんは、そうとうにこっちに祈りました。ジョバンニは、なんとも云えずさびしいなが風がいん空にうってそれからだなったのです。それではわれていたとしょに、前に飛び出しまにそうかそのとはいるきはなんだよ。そっちをあるではいるんです。こといは、どうしてもまたその正面の時計の盤計渚には、まさだのにさんの間になって、ぼくたちとありました。このなかが、どうあするとうちに、一つれているいつ、いっ黒い両足を指さんました。お人、おっかさんは、まるでですよ。ところがいろのおや、さいものがやるん中、白く星とての前かににかながつまってその銀河の説なのでした。そのならにはあっとならに、きのなら光るのですか。さっきら、そうだんだん向うの方へ吸って行きましたように思わずからしいいにない、こっちの方が、ガススススのより、もいたようなかっていました。向う岸の暗いちのがやつんや白い岩のがあっと口よ。と云った途端、がたくしいた天の。くやっと考\n",
      "\n",
      "Epoch 40/100\n",
      "37884/37884 [==============================] - 11s 291us/step - loss: 0.5722\n",
      "エポック:  39\n",
      "シード:  ではみなさんは、そう\n",
      "ではみなさんは、そうとうにことはちらっと見えると、こっちにも見え、もうとうすっかりとりは、とったよくながみんながねえんなんだをすると、おっかさんが、ごるんとした冷いみ、なは、ジョバンニは、もうすきどんともちらちらちらったのです。けれどもそんなんなにまっ黒いなになが、まんでなたように思いました。ジョバンニはもうどんども行くんでした。それはこんなにもだっていました。ジョバンニはもうどんども行くんでした。それはカムパネルラはまん中にしたらだろう、ああ、こんなこのですか。ところがそれはいつめい、それはぼんやりしくけむりよようなくさんの灯を見るとは、じめるでした。そしたらだ。いちにもうつれたくさんとり合めたが、そらできさんとうってしたのだ。）と思うもともが少しふってかなかが見ているとそのその小さな平水いたちはなにてたべるんですからさでいと、ジョバンニは、夜の軽便鉄道の、小さな黄いろの電燈のならんだ車室に、窓から外を見な\n",
      "\n",
      "Epoch 41/100\n",
      "37884/37884 [==============================] - 11s 290us/step - loss: 0.5344\n",
      "エポック:  40\n",
      "シード:  ではみなさんは、そう\n",
      "ではみなさんは、そうできませんでした。ジョバンニは、なんかその地図を見ないたかした。このレンズの大きさがどれ位あるかまたその中のさは小さな星や光りまりのおっかさんもうにくるくらいの声を見ていました。その人は黙ってそれを受け取って微かにうなずきました。カムパネルラは、その紙切れが何だったか待ち兼ねたというように急いでのぞきぎみました。ジョバンニは、なんとも云いながら、らいきの空かさえのこが、まるではね、こっちの方は見ちがとこのがらいちを見て話しましたが、夢上であるるのでしたらしばら立って百年年集って立ってにもいええました。そのときはおっかさんがそのなきにカムパネルラがその地図を見なったかり、あからの遠くから、いつから四五上首を、げげましたまがそうしまわってみました。ジョバンニは、なんだかどこっていると思いながら何もうもっかりひめていました。ジョバンニは、なんだかどこっていたのです。この模型をごらんなさい。先生は\n",
      "\n",
      "Epoch 42/100\n",
      "37884/37884 [==============================] - 11s 291us/step - loss: 0.4963\n",
      "エポック:  41\n",
      "シード:  ではみなさんは、そう\n",
      "ではみなさんは、そうじうにぼって見たって、ぼくかっちを見るとですからさないて、じっとその銀河を見きなり水の前がらかった方に云いました。そしていつかりもなくのうしろの方かちがってつの人の鳥を飛が黄いろにことこうしまった。ほんとうにない。そしてこらえのほんとうにその小さな小さな列ははいまいるようにそのまっ黒なの方を見ます。そこらはほんとうにんだい。カムパネルラはぼくはおっかね。どうだ。カムパネルラは、どこから、いどこのでは、みんなもほんとうに北をくしま下にそのなに、一生けん命勢よくあけたいたので、そられは、ジョバンニはまた何のでももっとこんだからいけどこの方へ行ったろう。僕はいきました。ザネリは。どうしたかがだからいうかぶをつかく立って、またもういっぱり何かした云いました。僕たちらっかりことを云いました。それはカムパネルラだったのです。ジョバンニは思わずかけよって博士の前に立って、ぼくはっとしてぼんやり答えました\n",
      "\n",
      "Epoch 43/100\n",
      "37884/37884 [==============================] - 11s 293us/step - loss: 0.4569\n",
      "エポック:  42\n",
      "シード:  ではみなさんは、そう\n",
      "ではみなさんは、そうじうのこへ歩きからたくしていまたい。いま秋の神さまの。何だかが云わておりました。あの方は、どっかりでも、ほんとうに鷺もいてよ。早あがあ、こらえ。さんならだねえ、川の方へほんとうの天の川の来ぼんやり白いそのがはきれもうちというかになりもわってまたから。くさながい立ちをして、まる中にしまいんだと、ジョバンニは、（っとそのといろいろなろが、まっ赤に立ってまったのですか。この人が、いちにいろこことおりながらいるだ。そのときぼんとりもつくなくたようなくしい台の子にはまっ中にしかけれてもあのそりのうとうにわかにまってその上にの前からがみちげ葉のすぐられずさな黒い服をいって、もきどんやくもちへ乗って行ったよ。ああぼくは何かだねえ。おええ。お母さんだんだんだろうの人がりにいたくいたしいの高い崖ががはじめめずにカムパネルラだんだわ口から、まだって、また飛んでいたろうに。ああすこわたりでいんです。そうして、い\n",
      "\n",
      "Epoch 44/100\n",
      "37884/37884 [==============================] - 11s 299us/step - loss: 0.4239\n",
      "エポック:  43\n",
      "シード:  ではみなさんは、そう\n",
      "ではみなさんは、そうとうにこらなったのです。ジョバンニが云いました。僕もうっところなんかなか。女の子がそうかそこに云いました。ああ、ここはどうでした。ああすこにはねのさんですか。鶴たたたかいるんですか。二人は、ますぎの電燈の天の川の水の中を通りにわわらました。さえ、河原は大きな望遠鏡が三つに入って、ジョバンニのと思ってわたってお父さんのきっとをもなんとう思いました。ジョバンニは、（ああ、そうだ、ぼくのおっかさんが、ほんとうに幸になるなら、どこかないったのです。ジョバンニが云いました。蝎の火だな。カムパネルラが又地図と首っ引きして答えました。あら、このお父さんは、少しまるようになかけていました。そしてうだろう。ああすぐみんな来た。カムパネルラのとなりの席を指さしました。女の子はジョバンニにはなしかけました。そうそうでしょう。あれがとうごろだ。そら、カムパネルラはいちの方へぼってしました。あのこしはどうかでした。\n",
      "\n",
      "Epoch 45/100\n",
      "37884/37884 [==============================] - 11s 296us/step - loss: 0.3933\n",
      "エポック:  44\n",
      "シード:  ではみなさんは、そう\n",
      "ではみなさんは、そうとうにこっちへ歩いて行ってお父さんやって行ってみんなはね、いやから小さな火を乗っているのでした。あの人は、ちらのおずささい。ジョバンニは坊ちゃんといわれたのですこし、氷山にぶっつかって船が沈みましてね、わたしたちはこちらのお父さんが急な用で二ヶ月前一足さきに本国へお帰りになったのであとから発ったのです。私は大学へはいっていて、家庭教師にやとわれていたのです。さあ、たちはこんなこっちの方を見えて、（このでしたの汽車はすぐ横のでしまったのでするに、白い鳥を捕りがせん、せいししたら、ジョバンニは思いました。そして二人は、少しひろが銀河を下くてあると燃えた。ささその立ったりは、どっともそこらいちの光っているだけれども、そして、誰かがいはいまはそのくしながったのです。このおいちにいたちにもったりいうちに、ジョバンニの横の方へまわって来るのでした。（ぼくはあなり機野原、こここではあちがするとそれがね、\n",
      "\n",
      "Epoch 46/100\n",
      "37884/37884 [==============================] - 11s 292us/step - loss: 0.3634\n",
      "エポック:  45\n",
      "シード:  ではみなさんは、そう\n",
      "ではみなさんは、そうとうにことをつらして、少し伸びるようになってしまの高その手にまってあるのかすきは、もうどこかがほんとうに思いながらいました。また、その鳥捕りが、ぼくたと白く見えるだわたいましたい、こんどもおくさ、がらに入れていたのでした。この中にはいつかってそれからね、女の子に聞たしました。それはもうじきくといないような気がして、だまって正面の時計を見ていましたら、ずうっと工合でいよう。そしてその地図をうじきないて見ていたのです。ああそれたべているだ。あったかさだ。おこしも少しもなくなんだんだからいるとおりました。すると青年は自分でとって一つずつ二人に送ってよこしましたのでももうもうどこまでもどこまでも僕たち一緒に進んで行こう。ああきっとも一緒でお帰った。こはだけどんかなんにいたない。カムパネルラが気の毒そうに、だらっていアルがてこたちものたまっ黒いそれを見ました。そしてたくさんのシグナルや電燈の灯のなか\n",
      "\n",
      "Epoch 47/100\n",
      "37884/37884 [==============================] - 11s 294us/step - loss: 0.3351\n",
      "エポック:  46\n",
      "シード:  ではみなさんは、そう\n",
      "ではみなさんは、そうとうにこっちへ歩いて行ってお父さんやってドをちらんておじぎをすと云いてその肩のなら、もうっとなた方が、から、おっかさんが、ていました。とこと鳥捕りは、これがいついたんです。ねえええ。いまでで、黄いまでも、そこでのい、大きな望遠鏡で黄いろと光って立っていましたしいちばんうしろの壁には空じゅうの星座をふしぎな獣や蛇や魚や瓶の形に書いた大きな図がかかっていました。ほんとうに、済みませんでした。今日はひるす。あうこいはこんないような。ジョバンニはまっ赤になってうなず自分にから光る方のですかしろがら、ジョバンニは思わずカムパネルラとこわかりません。ジョバンニが云いました。蝎の火だな。カムパネルラが又地図と首っ引きして答えました。あら、蝎の火のことならあたし知ってるわ。蝎の火うなない。いつまえ。その鳥捕りは、黒く上を出てしげいるとこを、まりもつくなり、ごらんなさい。いると、こしいほんとうにジョバンニは\n",
      "\n",
      "Epoch 48/100\n",
      "37884/37884 [==============================] - 11s 289us/step - loss: 0.3139\n",
      "エポック:  47\n",
      "シード:  ではみなさんは、そう\n",
      "ではみなさんは、そうじうのこへ歩きからいたっていて川の水の烏らをこへへりへ行くなったら、来るのです。こんでは一つに雪の行くのでもみんち手を一つの人は、岩がらくるんやの風しろの通りと下のまらそれをなんないました。それからだい。だんだん今日のあるがりにぴっかいようにまりまたくないよ。その人の人は、ちがいろうしろが三角標が立っているのでした。ハルレヤ、ハルレヤ。前からもうしろから声がやって、もうかといもといつかたちもなったのでいか。すかすからああり深いだろうちがするのでした。ところがそらを見ているのでした。（こんなしずかないいとこで僕はどうしてもっと愉快になれないだろう。どうしてあるともうどこではいついでこんですよ。ジョバンニは、もう露の降りかかった小さな林のこみちを、どんどんども行くんでした。それはまだかっていますからおっかさんはするでしょう。そして車室の中はあたくさんといろもろなやって立っていました。ジョバンニ\n",
      "\n",
      "Epoch 49/100\n",
      "37884/37884 [==============================] - 11s 297us/step - loss: 0.2855\n",
      "エポック:  48\n",
      "シード:  ではみなさんは、そう\n",
      "ではみなさんは、そうその紙きれはならだまってになったり、おっかさああり、せんなくしくるんなにすっとそれがらきなったのです。けれどももうすぐあとからいらっしゃいました。ジョバンニは、まっ赤にもじっとさっつまた来て、もうどうかにも一つにつましたい。子もおっかさあのおかおしまりでした。ええ、もうあの。そのとははうっかりだって、また何ともう云いました。いまったく、もうあんていためい。僕はあんしたこんなことのような気がして、またその正面の青じろい時計はかっきり第二時を示しその振子は風もなくなり汽車もうごかずしずかなしずかな野原のなからだってその火がその白くぼんやり見えたわのいました。またその神さま。黒い服の大きまが、ひっものように青くくつかまりもうつくなくらんどしてからあの方を見なました。どこしま新ら、三十字架はったわたくさんときまりためながら、らのおっかさんが、つから小さいいの灯を綴ってはいましたがそのことはうちんだ\n",
      "\n",
      "Epoch 50/100\n",
      "37884/37884 [==============================] - 11s 292us/step - loss: 0.2623\n",
      "エポック:  49\n",
      "シード:  ではみなさんは、そう\n",
      "ではみなさんは、そうとうにこっちへ歩いて行ってお父さんやって来てしませんでした。今晩は、ごめんなさい。ジョバンニはまっ赤になって、もう歩いているかもわからず、急いで行きすぎようとしましたら、そのなかにカムパネルラが居たのです。カムパネルラは、車室の天井を、あちこち見ていました。その牛乳屋の黒い門を入り、牛の匂のするうすくらい台所の前に立って、ジョバンニは帽子をぬいで今晩は、と云いましたら、家の中はしぃんとして誰も居たようではありませんでした。今晩は、ごめんなさい。ジョバンニはまっ赤になって、もう歩いているかもわからず、急いで行きすぎようとしましたら、そのなかにカムパネルラが居たのです。カムパネルラは、車室の天井を、あちこち見ていました。その牛乳屋の黒い門を入り、牛の匂のするうすくらい台所の前に立って、ジョバンニは帽子をぬいで今晩は、と云いましたら、家の中はしぃんとして誰も居たようではありませんでした。今晩は、\n",
      "\n",
      "Epoch 51/100\n",
      "37884/37884 [==============================] - 11s 290us/step - loss: 0.2406\n",
      "エポック:  50\n",
      "シード:  ではみなさんは、そう\n",
      "ではみなさんは、そうじうの光っていたのです。ジョバンニは思わず窓からからだを半分出してそっちを見あげてくるくつまましたけものですよ。青年はかっとを合がらきました。さ、、ほんどうして、カムパネルラが、思い切ったというように、少しどもりながら、急きっき出ました。けれどもジョバンニは手をしているようにこったの人のお父さんが小さっていました。お母さん。いま帰ったよ。工合悪くなかったの。ジョバンニは靴をぬぎながら云いました。あ、あすこ石炭袋だよ。そらの孔だよ。カムパネルラが向う岸の、三つならんだ小さな青じろい三角標と地図とを見較べて云いました。ジョバンニは、なんとも云えずさびしくなって、いきなりそれが、まん中に出し］青い銀河つは、りしいきのいように、ぼくのけれども、つとたかとおうかなにかなませんでした。今日はひるすぎうっかりしてこうしました。けれどももうと思いました。そしてその鶴をもってつくしんさんとうなろうとき、十字\n",
      "\n",
      "Epoch 52/100\n",
      "37884/37884 [==============================] - 11s 288us/step - loss: 0.2207\n",
      "エポック:  51\n",
      "シード:  ではみなさんは、そう\n",
      "ではみなさんは、そうとうにきらなら燃してらあのそうにそのまだわられようとりの火のように見えまるでパンはいました。いやだだ。ジョバンニはこらをひきげしていつからえれました。も、二人のり、まい、もりま誰もといわからわれてた鳥の気が、眼がみんなさそうに、きれそのときまれ合ようなかがたまえ。青じ星にあのました。ジョバンニは、頂の天気輪の柱の下に来て、どかどかするからだを、つめたい草に投げました。町の灯は、暗の中をまるで海の底のお宮のけしきのようにともり、子供らの歌う声や口笛、きれぎれの叫び声もかすかに聞えて来るのでした。鶴、どうしてとるんですか。鶴ですか、それとも鷺ですか。鷺です。ジョバンニは、少し肩をすぼめて挨拶しました。その人は、ものまたくどこなへ行きのそらなら。あれとだった方を、つらく見えてその中から、きっとなりかえって、またその中に、白い銀河のが青い銀場のよう、ジョバンニな思いました。そしていきなり近くの人た\n",
      "\n",
      "Epoch 53/100\n",
      "37884/37884 [==============================] - 11s 290us/step - loss: 0.2042\n",
      "エポック:  52\n",
      "シード:  ではみなさんは、そう\n",
      "ではみなさんは、そういうにはなれになって、その火を一つく光っているのでした。すぐのいの席の店にはいましたがたしそれに小さな子とりはまんだろうよ。もう時計屋の店にをつりました。すしとごとみんなはぼめにカムパネルラがまん中に吹いてられているとでも、それでも見どったからったいて、もうどうしから、もう一目に口かっていました。けれどもつかなくながと云いました。ああ、ここは、窓の天上へはあ、、といつけて、家学ス平走い出していました。ジョバンニはそっちを見てまるでぎきや、白鳥の島の下が、大きにものそれを見れまたときときたしかがつまるとうから、ひらのなすです。ところがいちどんな水の中はかっから六子がそってたまたはいっぱりになってまた何かなくなってもんだんだんをつけて大にながとてもうにしのこになたんさんの女の子がややかっ白い柱のとうにはれいわといながら、いからきっとその銀河のは三時の上の男の子が赤い帽子を見たまたでいそのではそ\n",
      "\n",
      "Epoch 54/100\n",
      "37884/37884 [==============================] - 11s 296us/step - loss: 0.1848\n",
      "エポック:  53\n",
      "シード:  ではみなさんは、そう\n",
      "ではみなさんは、そういう風にはきなりがせんでくせんだろうか。博士はジョバンニが云えました。蝎がやけなけぁい、なしに。たこんなに一ぺんにあの水にそうかわしたよ。あのしい。どこがもいためだ。カムパネルラは、なぜかそう云いながら、少し顔いろが青ざめて、どこか苦しいというふうでした。するとしてごらんです。そして、たちはこんなんだい。さっきその時計をしてざまましたけれどのまたはたちのとうこのはちにお父さんが急このでを知ら、）、ジョバンニはまた思わず笑い、女の子はきまり悪そうにしました。まったく河原の青じろいあかりの上に、黒い鳥がたくさんたくさんいっぱいに列になってとまってじっと川の微光を受けているのでした。かさあの鳥捕りは二十疋ばかり、袋に入れてしまうと、急に両手をあげて、兵隊が鉄砲弾にあたって、死ぬときのような形をしました。と思ったら、もうそこへ行ったまわ。あなるもはこんどいました。もうどこかがラへ行ってみれなね。あ\n",
      "\n",
      "Epoch 55/100\n",
      "37884/37884 [==============================] - 11s 291us/step - loss: 0.1759\n",
      "エポック:  54\n",
      "シード:  ではみなさんは、そう\n",
      "ではみなさんは、そうとうにこっちへ歩いて行ってお父さんやってドを着げてぐるんへ行くのでした。ああ、りんどうの花が咲いている。もうすっかり秋だねえ。カムパネルラが、窓の外を指さして云いました。線路のへりになったみじかい芝草の中に、月長石ででも刻まれたような、すばらしい紫のりんどうの花が咲いている。もうすっかり秋だねえ。カムパネルラが、窓の外を指さして云いました。線路のへりになったみじかい芝草の中に、月長石ででも刻まれたような、すばらしい紫のりんどうの花が咲いていました。ぼく、飛び下りて、あいつをとって、また飛び乗ってみせようか。ジョバンニは胸を躍らせて云いました。もうだこだだんだろうか。と知りているのは、一生いんだい。ジョバンニがこらえ兼ねて云いました。僕たちところがころな、三角点あ、あれた水晶の野原からかっなりのいろいました。けれどももうとうにくかっていました。いっちゃありませんか。おかしいねえ。カムパネルラ\n",
      "\n",
      "Epoch 56/100\n",
      "37884/37884 [==============================] - 11s 288us/step - loss: 0.1600\n",
      "エポック:  55\n",
      "シード:  ではみなさんは、そう\n",
      "ではみなさんは、そういうふうに川だと云われたり、乳の流れたあとだと云われたりしていたこのぼんやりと白いものがほんとうは何かご承知ですか。先生は、黒板に吊した大きな黒い星座の図の、上から下へ白くけぶった銀河帯のようなところを指しながら、みんなに問をかけました。カムパネルラは、そのきれいな砂を一つまみ、掌にひろげ、指できしきしさせながら、夢のように云っているのでした。この砂はみんな水晶だ。中で小さな火が燃えている。そうだ。どこでぼくは、そんなこと習ったろうと思いながら、ジョバンニやカムパネルラのようすを見ていました。その人は黙ってそれを受け取って微かにうなずきました。けれどもいつかあなたやといっすのですか。すっとさんです。ねえ、それを喰べるのま、なたちは、ぼくやりさっきは、するんですか。いい。いはなれかもだ。いいそのから、いっぱりぽくぽくそれをたべていました。も少しおあがりなさい。鳥捕りは、黄いろの大きくなともま\n",
      "\n",
      "Epoch 57/100\n",
      "37884/37884 [==============================] - 11s 293us/step - loss: 0.1448\n",
      "エポック:  56\n",
      "シード:  ではみなさんは、そう\n",
      "ではみなさんは、そういうふうに川だと云われたり、乳の流れたあとだと云われたりしていたこのぼんやりと白いものがほんとう、わんなぼくたち町へ走って行ってしま、高教時計へ落ちてきくのにしました。その人にしょうかみのがや、乳のなくと云って遠くのでしるというのでした。このおじさんもすっと間たなら、いどのするきでした。そここに立って百二人のおぐ、立ってすきとおっていたのです。それはもわていたから中にいました。そして見えながみんなはねれました。ねいそこから中に来たっすのです、するともこれが、いいいないにならって川へならからそれからまだいう気ました。ジョバンニはもうどんども行くと走ってきがして学校の門を出るとき、同じ組の七八人は家へ帰らずカムパネルラをまん中にして校庭の隅の桜の木のところに集まっていました。それはこんやの星祭に青いあかりをこしらえて川へ流す烏瓜を取りに行く相談らしかったのです。けれどもジョバンニはどうしても気\n",
      "\n",
      "Epoch 58/100\n",
      "37884/37884 [==============================] - 11s 294us/step - loss: 0.1318\n",
      "エポック:  57\n",
      "シード:  ではみなさんは、そう\n",
      "ではみなさんは、そういうふうに川だと云われたり、乳の流れたあとだと云われたりしていたこのぼんやりと白いものがほんとう、小さな小屋の下を立って、あるとは一つの小さい紙きみたまでですぐるといて、ずうっといたいと思ったら、もうそしてしたの方を見たなが。それは、そっとうかくしくと少しろも少し燈けれて行けるとうよ。どんどんどこへ行きました。カムパネルラは、その雑誌を読むと、すぐお父さんの書斎から巨きな本をもってきて、ぎんがというところを見ているのです。あたり鳥へ行った。あんなくなってるんだろう。きっとみてつら、カムパネルラがそら云いました。燈台看守はやっと両腕があいたのでこんどは自分で一つずつ睡っている姉弟の膝にそっと置きました。どうもありがとう。どこでできるのですか。こんな立派な苹果は。青年はつくづく見ながら云いました。まったくインデアンは半分は踊っているようでした。第一かけるにしても足のふみようがもっと経済もとれ本\n",
      "\n",
      "Epoch 59/100\n",
      "37884/37884 [==============================] - 11s 295us/step - loss: 0.1233\n",
      "エポック:  58\n",
      "シード:  ではみなさんは、そう\n",
      "ではみなさんは、そういうふうに川だと云われたり、乳の流れたあとだと云われたりしていたこのぼんやりと白いものがほんとうは何かご承知ですか。先生は、黒板に吊した大きな黒い星座の図の、上から下へ白くけぶった銀河帯のようなところを指しながら、みんなに問をかけました。カムパネルラが気の毒そうに窓から顔を引っ込めて向う側の窓を見ましたときは美しいそらの野原の地平線のはてまでその大きなとうもろこしの木を見ました。その葉はぐるぐるに縮れ葉の下にはもう美しい緑いろの大きな苞が赤い毛を吐いて真珠のような実もちらっと見えたのでした。それはだんだん数を増して来てもういまは列のように崖と線路との間にならび思わずジョバンニが窓から顔を引っ込めて向う側の窓を見ましたときは美しいそらの野原の地平線のはてまでその大きなとうもろこしの木がほとんどいちめんに植えられてさやさや風にゆらぎその立派なちぢれた葉のさきからはまるでひるの間にいっぱい日光を\n",
      "\n",
      "Epoch 60/100\n",
      "37884/37884 [==============================] - 11s 292us/step - loss: 0.1196\n",
      "エポック:  59\n",
      "シード:  ではみなさんは、そう\n",
      "ではみなさんは、そういうふうに川だと云われたり、乳の流れたあとだと云われたりしていたこのぼんやりと白いものがほんとうは何かご承知ですか。先生は、黒板に吊した大きな黒い星座の図の、上から下へ白くけぶった銀河帯のようなところを指しながら、みんなに問をかけました。カムパネルラ、また僕たち二人きりになったねえ、どこまでもどこまでも僕たち一緒に進んで行こう。ああきっと行くよ。ああ、あすこの野原はなんてきれいたねえ。いえ、すぐ云いました。たちまったくその銀河のは一さなの汽原にもってそのきれは、水はようかく見えると見えどきもとも思いそけれどこまにたちやめん間のなんだ、母さんの中に行くなられい。そしてたっという風でした。そしてたったいま夢であるいた天の川もやっぱりさっきの通りに白くぼんやりかかりまっ黒な南の地平線の上では殊にけむったようになってその右には蠍座の赤い星がうつくしくきらめき、そらぜんたいの位置はそんなに変ってもい\n",
      "\n",
      "Epoch 61/100\n",
      "37884/37884 [==============================] - 11s 291us/step - loss: 0.1064\n",
      "エポック:  60\n",
      "シード:  ではみなさんは、そう\n",
      "ではみなさんは、そういうふうに川だと云われたり、乳の流れたあとだと云われたりしていたこのぼんやりと白いものがほんとうは何かご承知ですか。先生は、黒板に吊した大きな黒い星座の図の、上から下へ白くけぶった銀河帯のようなとこを指さしたは、もうだんだん早くなったでしょう。さっきの老人らしい声が云いました。どんどんどんどん汽車は走って行きました。室中のひとたちは半分うしろの方へ倒れるようになりながら腰掛にしっかりしがみついていました。ジョバンニは、ちょっと喰べてみて、（なんだ、やっぱりこいつはお菓子だ。チョコレートよりも、もっとおいしいけれども、こんな雁が飛んでいるもんか。この男は、どこかそこらの野原の菓子屋だ。けれどもぼくは、このひとをばかにしながら、この人のお菓子をたべているのは、大へん気の毒だ。）とおもいながら、どこかで待っていようかと云いました。するとカムパネルラがすぐ飛びこんだんだ。そしてザネリを舟の方へ押し\n",
      "\n",
      "Epoch 62/100\n",
      "37884/37884 [==============================] - 11s 291us/step - loss: 0.0979\n",
      "エポック:  61\n",
      "シード:  ではみなさんは、そう\n",
      "ではみなさんは、そういうふうに川だと云えれた方に立ちながました。そのときますからボートの軽のなに、をまました。とのよう。すきっと一緒にはれるこだだ、おっかさん。女の子は小さく小さな青いててまた走り出すわわしました。さえ、ジョバンニ、たっしですぐ入え、これい三角気の中は、いくなり、その牛乳のきみんなの幸もほんとうのついまえ。青年も真をとして、一緒に走りたいねえ。ジョバンニはまるで鉄砲丸のように立ちあがりました。カムパネルラは手をあげました。それから四五人手をあげました。ジョバンニも全く早く見たかったのです。ところがボートは左舷の方半分はもうだめになっていましたから、とてもみんなは乗り切らないのです。もうそのうちにも船は沈みますし、私は必死となって、どうか小さな人たちを乗せて下さいと叫びました。近くの人たちはすぐみちを開いてそして子供たちのために祈って呉れました。けれどもそこからボートまでのところにはまだまだ小さ\n",
      "\n",
      "Epoch 63/100\n",
      "37884/37884 [==============================] - 11s 293us/step - loss: 0.1015\n",
      "エポック:  62\n",
      "シード:  ではみなさんは、そう\n",
      "ではみなさんは、そういうふうに川だと云われたり、乳の流れたあとだと云われたりしていたこのぼんやりと白いものがほんとうは何かご承知ですか。先生は、黒板に吊した大きな黒い星座の図の、上から下へ白くけぶった銀河帯のようなところを指しながら、みんなに問をかけました。カムパネルラ、とうどうして、もうどうっきのきまりさっきの女の子が赤い帽子をかったひといのです。けれどももなんが、どんどんしょっちから、むくなりの二ばかりかんに出たました。けれどもジョバンニは、いつかまた深く首を垂れて、そこらのにぎやかさとはまるでちがったことを考えながら、さまざまの灯や木の枝で、すっかりきれいに飾られた街を通って行きました。時計屋の店には明るくネオン燈がついて、一秒ごとに石でこさえたふくろうの赤い眼が、くるっくるっとうごいたり、いろいろな宝石が海のような色をした厚い硝子の盤に載って星のようにゆっくり循ったり、また向う側から、銅の人馬がゆっく\n",
      "\n",
      "Epoch 64/100\n",
      "37884/37884 [==============================] - 11s 296us/step - loss: 0.1010\n",
      "エポック:  63\n",
      "シード:  ではみなさんは、そう\n",
      "ではみなさんは、そういうふうに川だと云われたり、乳の流れたあとだと云われたりしていたこのぼんやりと白いものがほんとうは何かご承知ですか。先生は、黒板に吊した大きな黒い星座の図の、上から下へ白くけぶった銀河帯のようなところを指しながら、みんなに問をかけました。カムパネルラはまださびしそうにひとり口笛を吹き、女の子はまるで絹で包んだ苹果のような顔いろをしてジョバンニの見えした方は一ぺかにききりの音まりひるへほんとうにいえて行くのでした。ハルレヤ。前にもいこしずかはね、いだか。あのたこはなんだよ。そしてもの汽車はもう入っているとしたの人にこら小さく小っていぞのをごらんなさっそうにききして立ってぼましたけれどもこんでしょにまっくとななようにしくの方へわられないの川でもいれどことばらいけのぼうのおはしさん森のよぐら、長を二人の影は、胸いて四方へ小さっと、あるもしくらくこのですかったのです。けれどもみんなはまだ、どこかの\n",
      "\n",
      "Epoch 65/100\n",
      "37884/37884 [==============================] - 11s 291us/step - loss: 0.0963\n",
      "エポック:  64\n",
      "シード:  ではみなさんは、そう\n",
      "ではみなさんは、そういうでも、くさんとうごたいろです。そここらもうちんも向う紙きれならとときらききらんな立って、車がなくてみんなはひとくにころがそのへ走って行きました。あしたちに、どうしかにあの街子とみんなもひど方もいまででもよってしいとものまっ黒の光ったのです、それでも大きくしたとうもうじ、く光りませたのした。ジョバンニはまるでぎようとしたいろからは早早早が見たとザウルステーーかが云おって、すのきいとなが、みんなほんとうの幸福に近くやってあした。じきもそっちから、シバンニは靴をぬあ出しました。ジョバンニは、（ああ、そうだ、ぼくのおっかさんは、あの遠い一つのちりのように見える橙いろの三角標のあたりにいらっしゃって、いまぼくのことを考えているんだった。）と思いながら、ぼんやりしてだまっていました。お母さん。いま帰ったよ。工合悪くなかったの。ジョバンニは靴をぬぎながら云いました。あ、あすこ石炭袋だよ。そらの孔だよ\n",
      "\n",
      "Epoch 66/100\n",
      "37884/37884 [==============================] - 11s 292us/step - loss: 0.0826\n",
      "エポック:  65\n",
      "シード:  ではみなさんは、そう\n",
      "ではみなさんは、そういうふうに川だと云われたり、乳の流れたあとだと云われたりしていたこのぼんやりと白いものがほんとうは何かご承知ですか。先生は、黒板に吊した大きな黒い星座の図の、上から下へ白くけぶった銀河帯のようなところを指しながら、みんなに問をかけました。カムパネルラは気の毒そうに、だまって少しわらって、怒らないだろうかというようにジョバンニの方を見ていました。ジョバンニは、もう露の降りかかった小さな林のこみちを、どんどんのぼって行きました。まっくらな草や、いろいろな形に見えるやぶのしげみの間を、その小さなみちが、一すじ白く星あかりに照らしだされてあったのです。草の中には、ぴかぴか青びかりを出す小さな虫もいて、ある葉は青くすかし出され、ジョバンニは、さっきみんなの持って行った烏瓜のあかりのようだとも思いました。それからまたその神にそむく罪はわたくしひとりでしょってぜひとも助けてあげようと思いました。けれども\n",
      "\n",
      "Epoch 67/100\n",
      "37884/37884 [==============================] - 11s 288us/step - loss: 0.0759\n",
      "エポック:  66\n",
      "シード:  ではみなさんは、そう\n",
      "ではみなさんは、そういうふうに川だと云われたり、乳の流れたあとだと云われたりしていたこのぼんやりと白いものがほんとうは何かご承知ですか。先生は、黒板に吊した大きな黒い星座の図の、上から下へ白くけぶった銀河帯のようなところを指しながら、みんなに問をかけました。カムパネルラが手をあげました。それから四五人手をあげました。ジョバンニも全く早く見たかったのです。ところがボートは左舷の方半分はもうだめになっていましたから、とてもみんなは乗り切らないのです。もうそのうちにも船は沈みますし、私は必死となって、どうか小さな人たちを乗せて下さいと叫びました。近くの人たちはすぐみちを開いてそして子供たちのために祈って呉れました。けれどもそこからボートまでのところにはまだまだ小さな子どもたちや親たちやなんか居て、とても押しのける勇気がなかったのです。それでもわたくしはどうしてもこの方たちをお助けするのが私の義務だと思いましたから前\n",
      "\n",
      "Epoch 68/100\n",
      "37884/37884 [==============================] - 11s 291us/step - loss: 0.0702\n",
      "エポック:  67\n",
      "シード:  ではみなさんは、そう\n",
      "ではみなさんは、そういうふうに川だと云われたり、乳の流れたあとだと云われたりしていたこのぼんやりと白いものがほんとうは何かご承知ですか。先生は、黒板に吊した大きな黒い星座の図の、上から下へ白くけぶった銀河帯のようなところを指しながら、みんなに問をかけました。カムパネルラは、そのきれいな砂を一つまみ、掌にひろげ、指できしきしさせながら、夢のように云っているのでした。この砂はみんな水晶だ。中で小さな火が燃えている。そうだ。どこでぼくは、そんなこと習ったろうと思いながら、ジョバンニもぼんやり答えていました。河原の礫は、みんなすきとおって、たしかに水晶や黄玉や、またくしゃくしゃの皺曲をあらわしたのや、また稜から霧のような青白い光を出す鋼玉やらでした。ジョバンニはわれを忘れて、その星座の図に見入りました。それはひる学校で見たあの図よりはずうっと小さかったのですがその日と時間に合せて盤をまわすと、そのとき出ているそらがそ\n",
      "\n",
      "Epoch 69/100\n",
      "37884/37884 [==============================] - 11s 291us/step - loss: 0.0724\n",
      "エポック:  68\n",
      "シード:  ではみなさんは、そう\n",
      "ではみなさんは、そういうふうに川だと云われたり、乳の流れたあとだと云われたりしていたこのぼんやりと白いものがほんとうは何かご承知ですか。先生は、黒板に吊した大きな黒い星座の図の、上から下へ白くけぶった銀河帯のようなところを指しながら、みんなに問をかけました。カムパネルラのとなりのかおると呼ばれた女の子が叫びました。からすでともうつかたくさんの小さく遠くつので流の十字架の前に、それまわらいそうでした。そうだからだ。早うだか。小さな船に持らつかまた眼をあるのです。それでもああ、とうかとし出すかしつかってしげされて、乳になかってあかなにからままでともういついうように見ていました。ああ、そうだ、今夜ケンタウル祭だねえ。ああ、ここはケンタウルの村だよ。カムパネルラが向う岸の、三つならんだ小さな青じろい三角標と地図とを見較べて云いました。ジョバンニは、いつかい顔をもに学人たちがっちりまちみんながやから、もうそして上にから\n",
      "\n",
      "Epoch 70/100\n",
      "37884/37884 [==============================] - 11s 289us/step - loss: 0.0707\n",
      "エポック:  69\n",
      "シード:  ではみなさんは、そう\n",
      "ではみなさんは、そういうふうに川だと云われたり、乳の流れたあとだと云われたりしていたこのぼんやりと白いものがほんとうは何かご承知ですか。先生は、黒板に吊した大きな黒い星座の図の、上から下へ白くけぶった銀河帯のようなところを指しながら、みんなに問をかけました。カムパネルラの頬は、まるで熟した苹果のあかしのようにうつくしくかがやいて見えました。そして島と十字架とは、だんだんうしろの方へうつって行きました。向う岸も、青じろくぽうっと光ってけむり、時々、やっぱりすすきが風にひるがえるらしく、さっとその銀いろがけむって、息でもかけたように見え、また、たくさんのりんどうの花が、草をかくれたようも、すっかり、まってになったか、青い白いですす。青年はっとみんなにひといました。そしての三人ものは、小さな列いついました。そこにその突起を壊さないように。スコープを使いたまえ、スコープを。おっと、も少し遠くから掘って。いけない、いけ\n",
      "\n",
      "Epoch 71/100\n",
      "37884/37884 [==============================] - 11s 289us/step - loss: 0.0772\n",
      "エポック:  70\n",
      "シード:  ではみなさんは、そう\n",
      "ではみなさんは、そういうふうに川だと云われたり、乳の流れたあとだと云われたりしていたこのぼんやりと白いものがほんとうは何かご承知ですか。先生は、黒板に吊した大きな黒い星座の図の、上から下へ白くけぶった銀河帯のようなところを指しながら、みんなに問をかけました。カムパネルラがあれとうもろこしだねえとここちはラへこってさんないよ。けなあげ、。きのおとようなかがたびるとひっどり、水の林にこさわざまわ、どうなこに、きの広いなえらだってしまがら。あしゃようおじさん。いょぼえたとりないながら、どこかなぼんやり見える橋の方へ歩いて行ってしまったのでした。ジョバンニは、ちょっと喰べてみて、（なんだ、やっぱりこいつはお菓子だ。チョコレートよりも、もっとおいしいけれども、こんな雁が飛んでいるもんか。この男は、どこかそこらの野原の菓子屋だ。けれどもぼくは、このひとをばかにしながら、この人のお菓子をたべているのは、大へん気の毒だ。）と\n",
      "\n",
      "Epoch 72/100\n",
      "37884/37884 [==============================] - 11s 288us/step - loss: 0.0793\n",
      "エポック:  71\n",
      "シード:  ではみなさんは、そう\n",
      "ではみなさんは、そういうふうに川だと云われたり、乳の流れたあとだと云われたりしていたこのぼんやりと白いものがほんとうは何かご承知ですか。先生は、黒板に吊した大きな黒い星座の図の、上から下へ白くけぶった銀河帯のようなところを指しながら、みんなに問をかけました。カムパネルラは、その紙切れが何だったか待ち兼ねたというように急いでのぞきこみました。ジョバンニも全く早く見たかったのです。ところがボートは左舷の方半分はもうだめになっていましたから、とてもみんなは乗り切らないのです。もうそのうちにも船は沈みますし、私は必死となって、どうか小さな人たちを乗せて下さいと叫びました。近くの人たちはすぐみちを開いてそして子供たちのために祈って呉れました。けれどもそこからボートまでのところにはまだまだ小さな子どもたちや親たちやなんか居て、とても押しのける勇気がなかったのです。それでもわたくしはどうしてもこの方たちをお助けするのが私の\n",
      "\n",
      "Epoch 73/100\n",
      "37884/37884 [==============================] - 11s 288us/step - loss: 0.0822\n",
      "エポック:  72\n",
      "シード:  ではみなさんは、そう\n",
      "ではみなさんは、そういうふうに川だと云われたり、乳の流れたあとだと云われたりしていたこのぼんやりと白いものがほんとうは何かご承知ですか。先生は、黒板に吊した大きな黒い星座の図の、上から下へ白くけぶった銀河帯のようなところを指しながら、みんなに問をかけました。カムパネルラは、その雑誌を読むと、すぐお父さんの書斎から巨きな本をもってきて、ぎんがというところをひろげ、まっ黒な頁いっぱいに白い点々のある美しい写真を二人でいつまでも見たのでした。それをカムパネルラが忘れる筈もなかったのに、すぐに返事をしなかったのは、このごろぼくが、朝にも午后にも仕事がつらく、学校に出てももうみんなともはきはき遊ばず、カムパネルラともあんまり物を云わないようになったので、カムパネルラも、つい顔を赤くして笑いだしてしまいました。ところがカムパネルラは、窓から外をのぞきながら、もうすっかり元気が直って、勢よく云いました。ああしまった。ぼく、\n",
      "\n",
      "Epoch 74/100\n",
      "37884/37884 [==============================] - 11s 288us/step - loss: 0.0679\n",
      "エポック:  73\n",
      "シード:  ではみなさんは、そう\n",
      "ではみなさんは、そういうふうに川だと云われたり、乳の流れたあとだと云われたりしていたこのぼんやりと白いものがほんとうは何かご承知ですか。先生は、黒板に吊した大きな黒い星座の図の、上から下へ白くけぶった銀河帯のようなところを指しながら、みんなに問をかけました。カムパネルラ、また僕たち二人きりになったねえ、どこまでもどこまでも僕といっしょに行くひとはないだろうか。カムパネルラが不思議そうにあたりを見まわしました。ほんとうに苹果の匂だよ。それから野茨の匂もする。ジョバンニもそこらを見ましたがやっぱりそれは窓からでも入って来るらしいのでした。いま秋だから野茨の花の匂のする筈はないとジョバンニは思いました。そして二人は、前のあの河原を通り、改札口の電燈がだんだん大きくなってひろがって、二人は丁度白鳥停車場の、大きな時計の前に来てとまりまたくわったろう、青い森のぼんや白いけむりどこから小さな林のんの足を見えました。おやた\n",
      "\n",
      "Epoch 75/100\n",
      "37884/37884 [==============================] - 11s 288us/step - loss: 0.0593\n",
      "エポック:  74\n",
      "シード:  ではみなさんは、そう\n",
      "ではみなさんは、そういうふうに川だと云われたり、乳の流れたあとだと云われたりしていたこのぼんやりと白いものがほんとうは何かご承知ですか。先生は、黒板に吊した大きな黒い星座の図の、上から下へ白くけぶった銀河帯のようなところを指しながら、みんなに問をかけました。カムパネルラは気の毒そうに、だまって少しわらったようになりしたしいだったね。僕はなんだころうちのほんといにんだんました。ジョバンニは、（そうだ、ぼくたちはいま、いっしょにさそって出掛けたのだ。）とおもいながら、やっぱりぽくぽくそれをたべていました。も少しおあがりなさい。鳥捕りがまた包みを出しました。ジョバンニは、（だんだ、ぼくたちはいまで電気の方した。ジョバンニは、（そうだ、ぼくたちはいま、いっしょにさそって出掛けたのだ。）とおもいながら、やっぱりぽくぽくそれをたべていました。も少しおあがりなさい。鳥捕りは、黄いろな雁の足を、軽くひっぱりました。するとそれ\n",
      "\n",
      "Epoch 76/100\n",
      "37884/37884 [==============================] - 11s 288us/step - loss: 0.0623\n",
      "エポック:  75\n",
      "シード:  ではみなさんは、そう\n",
      "ではみなさんは、そういうふうに川だと云われたり、乳の流れたあとだと云われたりしていたこのぼんやりと白いものがほんとうは何かご承知ですか。先生は、黒板に吊した大きな黒い星座の図の、上から下へ白くけぶった銀河帯のようなところを指しながら、みんなに問をかけました。カムパネルラのとなりの女の子はそわそわ立って支度をはじめましたけれどもやっぱりジョバンニたちとわかれたくないようなようすでちがゆるん下にならんだ、入っているのでしたの人の窓から顔を半分ぞきくらってその車室に通って行きました。ジョバンニは、（そうだ、ぼくたちはいま、いっしょにさそって出掛けたのだ。）とおもいながら、どこかで待っていようかと云いました。すると青年は自分でとって一つずつ二人に送ってよこしましたのでジョバンニも立ってありがとうと云いました。燈台看守はやっと両腕があいたのでこんどは自分で一つずつ睡っている姉弟の膝にそっと置きました。どうもありがとう。\n",
      "\n",
      "Epoch 77/100\n",
      "37884/37884 [==============================] - 11s 289us/step - loss: 0.0621\n",
      "エポック:  76\n",
      "シード:  ではみなさんは、そう\n",
      "ではみなさんは、そういうふうに川だと云われたり、乳の流れたあとだと云われたりしていたこのぼんやりと白いものがほんとうは何かご承知ですか。先生は、黒板に吊した大きな黒い星座の図の、上から下へ白くけぶった銀河帯のようなところを指しながら、みんなに問をかけました。カムパネルラは、そのきれいな砂を一つまみ、掌にひろげ、指できしきしさせながら、夢のように云っているのでした。この砂はみんな水晶だ。中で小さな火が燃えている。そうだ。どこでぼくは、そんなこと習ったろうと思いながら、ジョバンニもぼんやり答えていました。河原の礫は、みんなすきとおって、たしかに水晶や黄玉や、またくしゃくしゃの皺曲をあらわしたのや、また稜から霧のような青白い光を出す鋼玉やらでした。ジョバンニは、（ああ、そうだ、ぼくのおっかさんは、あの遠い一つのちりのように見える橙いろの三角標のあたりにいらっしゃって、いまぼくのことを考えているんだった。）と思いなが\n",
      "\n",
      "Epoch 78/100\n",
      "37884/37884 [==============================] - 11s 296us/step - loss: 0.0569\n",
      "エポック:  77\n",
      "シード:  ではみなさんは、そう\n",
      "ではみなさんは、そういうふうに川だと云われたり、乳の流れたあとだと云われたりしていたこのぼんやりと白いものがほんとうは何かご承知ですか。先生は、黒板のようにな空の野原を、夜できれまだろもちぎってすぐさいいました。ザネリは。カムパネルラだ。今年はすぐそのう、天の川の水やから、とっぱり星ない光をないに云わたとうの神さま。そうじゃないでよ。あたしてこんなこしはねいやえ。カムパネルラのうと向うのは、みまや顔をならじめしたにそったらい白いシャツをたくてまるで。たしように、済みませんでした。今日はひるすぎうっかりしてこうしの柵をあけて置いたもんですから大将早速親牛のところへ行って半分ばかり呑んでしまいましてね……その人はわらいました。そうですか。いや、さよなら。大学士は、また忙がしそうに、あちこち歩きまわって監督をはじめました。二人は、その白い岩の上を、一生けん命汽車におくれないように走りました。そしてほんとうにそのまっ\n",
      "\n",
      "Epoch 79/100\n",
      "37884/37884 [==============================] - 11s 288us/step - loss: 0.0543\n",
      "エポック:  78\n",
      "シード:  ではみなさんは、そう\n",
      "ではみなさんは、そういうふうに川だと云われたり、乳の流れたあとだと云われたりしていたこのぼんやりと白いものがほんとうは何かご承知ですか。先生は、黒板に吊した大きな黒い星座の図の、上から下へ白くけぶった銀河帯のようなところを指しながら、みんなに問をかけました。カムパネルラは、その雑誌を読むと、すぐお父さんの書斎から巨きな本をもってきて、ぎんがというところをひろげ、まっ黒な頁いっぱいに白い点々のある美しい写真を二人でいつまでも見たのでした。それをカムパネルラが忘れる筈もなかったのに、すぐに返事をしなかったのは、このごろぼくが、朝にも午后にも仕事がつらく、学校に出てももうみんなともはきはき遊ばず、カムパネルラともあんまり物を云わないようになったのです。カムパネルラは、車室の天井を、あちこち見ていました。その一つのあかりに黒い甲虫がとまってその影が大きく天井にうつっていたのです。赤ひげの人は、なにかなつかしそうにわら\n",
      "\n",
      "Epoch 80/100\n",
      "37884/37884 [==============================] - 11s 289us/step - loss: 0.0509\n",
      "エポック:  79\n",
      "シード:  ではみなさんは、そう\n",
      "ではみなさんは、そういうふうに川だと云われたり、乳の流れたあとだと云われたりしていたこのぼんやりと白いものがほんとうは何かご承知ですか。先生は、黒板に吊した大きな黒い星座の図の、上から下へ白くけぶった銀河帯のようなところを指しながら、みんなに問をかけました。カムパネルラは、そのきれいな砂を一つまみ、掌にひろげ、指できしきしさせながら、夢のように云っているのでした。この砂はみんな水晶だ。中で小さな火が燃えている。そうだ。どこでぼくは、そんなこと習ったろうと思いながら、ジョバンニもぼんやり答えていました。河原の礫は、みんなすきとおって、ときどき眼の加減か、ちらちら紫いろのこまかな波をたてたり、虹のようにぎらっと光ったりしながら、声もなくどんどん流れて行き、野原にはあっちにもこっちにも子供が瓜に飛びついたときのようなよろこびの声や何とも云いようない深いつつましいためいきの音ばかりきこえました。そしてだんだん十字架は\n",
      "\n",
      "Epoch 81/100\n",
      "37884/37884 [==============================] - 11s 289us/step - loss: 0.0562\n",
      "エポック:  80\n",
      "シード:  ではみなさんは、そう\n",
      "ではみなさんは、そういうふうに川だと云われたり、乳の流れたあとだと云われたりしていたこのぼんやりと白いものがほんとうは何かご承知ですか。先生は、黒板に吊した大きな黒い星座の図の、上から下へ白くけぶった銀河帯のようなところを指しながら、みんなに問をかけました。カムパネルラは、その紙切れが何だったか待ち兼ねに云いていたように僕わからまった。ぼくおっかさんは、この遠いろの集をとジョバンニもそここでちょっと思いました。それからまたその神にそむく罪はわたくしひとりでしょってぜひとも助けてあげようと思いました。けれどもどうして見ているとそれができないのでした。ザネリが前の席からふりかえって、ジョバンニを見てくすっとわらいました。ジョバンニは、なんとも云えずさびしくなって、いきなり走り出しました。すると耳に手をあてて、わああと云いながら片足でぴょんぴょん跳んでいた小さな子供らは、ジョバンニが面白くてかけるのだと思ってわあい\n",
      "\n",
      "Epoch 82/100\n",
      "37884/37884 [==============================] - 11s 290us/step - loss: 0.0665\n",
      "エポック:  81\n",
      "シード:  ではみなさんは、そう\n",
      "ではみなさんは、そういうふうに川だと云われたり、乳の流れたあとだと云われたように横へ下かって、あれも二リさのでオート笛を眼あげ、ジョンは、もうずそうだ。ずまできませんでした。この人どこへ行くんです。ここえの白いさんださんだかわけてしるように見えまたその人は、赤いの下の銀河のお祭に、いまん中がひらげも、そいろ光った水はいっぱりになっておじまをもいてままで忘れてもあのでばかり烏にしまり向うのつが地二人の眼を見ました。するとどこまでもどこまでも僕たち一緒に進んで行こう。ああきっと行くよ。ああ、あすこの野原はなんてきれいだろう。みんな集ってるねえ。あすこがほんとうの天上なんだ。あっあすこにいるのぼくのお母さんだよ。カムパネルラはこおどりしました。その柱のようになった水は見えなくなり大きな鮭や鱒がきらっきらっと白く腹を光らせて空中に抛り出されて円い輪を描いてまた水に落ちました。ジョバンニは、ばっと胸がつめたくなり、そこ\n",
      "\n",
      "Epoch 83/100\n",
      "37884/37884 [==============================] - 11s 300us/step - loss: 0.0641\n",
      "エポック:  82\n",
      "シード:  ではみなさんは、そう\n",
      "ではみなさんは、そういうふうに川だと云われたり、乳の流れたあとだと云われたりしていたこのぼんやりと白いものがほんとうは何かご承知ですか。先生は、黒板に吊した大きな黒い星座の図の、上から下へ白くけぶった銀河帯のようなところを指しながら、みんなに問をかけました。カムパネルラの頬は、まるで熟した苹果のあかしのようにうつくしくかがやいて見えました。そして島と十字架とは、だんだんうしろことはつつく緑しくらくしくの光って。川の遠いから何をもうやっているんですか。ね、そうです、ああ、少し星がねえん。あるだ。カムパネルラは、なんだか、泣きだしたいのを、一生けん命こらえているようでした。きみのおっかさんは、なんにもひどいことないじゃないの。ジョバンニはびっくりして叫びました。ぼくわからない。けれども、誰だって、ほんとうにいいことをしたら、いちばん幸なんだねえ。だから、おっかさんは、ぼくをゆるして下さるだろうか。いきなり、カムパ\n",
      "\n",
      "Epoch 84/100\n",
      "37884/37884 [==============================] - 12s 305us/step - loss: 0.0510\n",
      "エポック:  83\n",
      "シード:  ではみなさんは、そう\n",
      "ではみなさんは、そういうふうに川だと云われたり、乳の流れたあとだと云われたりしていたこのぼんやりと白いものがほんとうは何かご承知ですか。先生は、黒板に吊した大きな黒い星座の図の、上から下へ白くけぶった銀河帯のようなところを指しながら、みんなに問をかけました。カムパネルラは気の毒そうに、だまって少しわらって、怒らないだろうかというようにジョバンニの方を見ていました。ジョバンニはなぜかさあっと胸が冷たくなったように思いました。そしていきなり近くの人たちへ何かあったんですか。と叫ぶようにききました。こどもが水へ落ちたんですよ。一人が云いますとその人たちは一斉にジョバンニの方を見ていました。ジョバンニはなぜかさあっと胸が冷たくなったように思いました。そしていきなり近くの人たちへ何かあったんですか。と叫ぶようにききました。こどもが水へ落ちたんですよ。一人が云いますとその人たちは一斉にジョバンニの方を見ていました。ジョバ\n",
      "\n",
      "Epoch 85/100\n",
      "37884/37884 [==============================] - 11s 302us/step - loss: 0.0485\n",
      "エポック:  84\n",
      "シード:  ではみなさんは、そう\n",
      "ではみなさんは、そういうふうに川だと云われたり、乳の流れたあとだと云われたりしていたこのぼんやりと白いものがほんとうは何かご承知ですか。先生は、黒板に吊した大きな黒い星座の図の、上から下へ白くけぶった銀河帯のようなところを指しながら、みんなに問をかけました。カムパネルラは気の毒そうに、だまって少しわらって、怒らないだろうかというようにジョバンニの方を見ました。ジョバンニはもういろいろなことで胸がいっぱいでなんにも云えずに博士の前をはなれて早くお母さんに牛乳を持って行ってお父さんの帰ることを知らせようと思うともう一目散に河原を街の方へ走りました。するとジョバンニも、なんだかどこかに、何か忘れたものがあるというような、おかしな気持ちがしてだまってしまいました。ところがカムパネルラは、窓から外をのぞきながら、もうすっかり元気が直って、勢よく云いました。ああしまった。ぼく、水筒を忘れてきた。スケッチ帳も忘れてきた。け\n",
      "\n",
      "Epoch 86/100\n",
      "37884/37884 [==============================] - 11s 300us/step - loss: 0.0545\n",
      "エポック:  85\n",
      "シード:  ではみなさんは、そう\n",
      "ではみなさんは、そういうふうに川だと云われたり、乳の流れたあとだと云われたりしていたこのぼんやりと白いものがほんとうは何かご承知ですか。先生は、黒板に吊した大きな黒い星座の図の、上を二つの上いろいろないながジョバンニはまったかにも少しもわって来ました。それは何だかりだってから思い出されに見ていてや緑いましたら、いばいあわしたしまったく、あしてもうんやころはねえるやざまざカムパネルラだん。いっぱいそれに見ていました。そして読みながら上着のぼたんやなんかしきりに直したりしていましたし燈台看守も下からそれを熱心にのぞいていましたから、ジョバンニはたしかにあれは証明書か何かだったと考えて少し胸が熱くなるいよ。もなみやはいないようになって気ながしませんでした。それはひろです。あしたにするんですか。いい。いはなれいな。いまえ。その川のひろのさっちを毛あげてくれかけるよしらに無手をやきな人の人ちのちらのぼいろおりやなたや、\n",
      "\n",
      "Epoch 87/100\n",
      "37884/37884 [==============================] - 12s 304us/step - loss: 0.0584\n",
      "エポック:  86\n",
      "シード:  ではみなさんは、そう\n",
      "ではみなさんは、そういうふうに川だと云われたり、乳の流れたあとだと云われたりしていたこのぼんやりと白いものがほんとうは何かご承知ですか。先生は、黒板に吊した大きな黒い星座の図の、上から下へ白くけぶった銀河帯のようなところを指しながら、みんなに問をかけました。カムパネルラが気の毒そうに窓から顔を引っ込めて向う側の窓を見ましたときは美しいそらの野原の地平線のはてまでその大きなとうもろこしの木がほとんどいちめんに植えられてさやさや風にゆらぎその立派なちぢれた葉のさきからはまるでひるの間にいっぱい日光を吸った金剛石のように露がいっぱいについて赤や緑やきらきら燃えて光っているのでした。カムパネルラが気の毒そうに窓から顔を引っ込めて向う側の窓を見ましたときは美しいそらの野原の地平線のはてまでその大きなとうもろこしの木がほとんどいちめんに植えられてさやさや風にゆらぎその立派なちぢれた葉のさきからはまるでひるの間にいっぱい日\n",
      "\n",
      "Epoch 88/100\n",
      "37884/37884 [==============================] - 12s 306us/step - loss: 0.0606\n",
      "エポック:  87\n",
      "シード:  ではみなさんは、そう\n",
      "ではみなさんは、そういうふうに川だと云われたり、乳の流れたあとだと云われたりしていたこのぼんやりと白いものがほんとうは何かご承知ですか。先生は、黒板に吊した大きな黒い星座の図の、上から下へ白くけぶった銀河帯のようなところを指しながら、みんなに問をかけました。カムパネルラは、そのきれいな砂を一つまみ、掌にひろげ、指できしきしさせながら、夢のように云っているのでした。この砂はみんな水晶だ。中で小さな火が燃えている。そうだ。どこでぼくは、そんなこと習ったろうと思いながら、ジョバンニも、おっかさありがくないました。ジョバンニは、まるでどきどきして、頭をやけに振りました。するとほんとうに、そのきれいな野原中の青や橙や、いろいろかがふめくりけしれたく、おもいどうして、何からおよえなどんんでしょ。カムパネルラだってあんな女の子とおもしろそうに談しているし僕はほんとうにつらい。）ジョバンニはまた両手で顔を半分かくすようにして\n",
      "\n",
      "Epoch 89/100\n",
      "37884/37884 [==============================] - 12s 305us/step - loss: 0.0492\n",
      "エポック:  88\n",
      "シード:  ではみなさんは、そう\n",
      "ではみなさんは、そういうふうに川だと云われたり、乳の流れたあとだと云われたりしていたこのぼんやりと白いものがほんとうは何かご承知ですか。先生は、黒板に吊した大きな黒い星座の図の、上から下へ白くけぶった銀河帯のようなところを指しながら、みんなに問をかけました。カムパネルラはまださびしそうにひとり口笛を吹き、女の子はまるで絹で包んだ苹果のような顔いろをしてジョバンニの見る方を見ているのでした。ああ、遠くからですね。鳥捕りは、わかったというように雑作なくうなずきました。［＃３字下げ］九、ジョバンニの切符［＃九、ジョバンニの切符［＃九、ジョバンニの切符［＃九、ジョバンニの切符［＃九、ジョバンニの切符［＃九、ジョバンニの切符［＃九、ジョバンニの切符［＃九、ジョバンニの切符［＃九、ジョバンニの切符［＃九、ジョバンニの切符［＃九、ジョバンニの切符［＃九、ジョバンニの切符［＃九、ジョバンニの切符［＃九、ジョバンニの切符［＃九\n",
      "\n",
      "Epoch 90/100\n",
      "37884/37884 [==============================] - 12s 306us/step - loss: 0.0433\n",
      "エポック:  89\n",
      "シード:  ではみなさんは、そう\n",
      "ではみなさんは、そういうふうに川だと云われたり、乳の流れたあとだと云われたりしていたこのぼんやりと白いものがほんとうは何かご承知ですか。先生は、黒板に吊した大きな黒い星座の図の、上から下へ白くけぶった銀河帯のようなところを指しながら、みんなに問をかけました。カムパネルラの頬は、まるで熟した苹果のあかしのようにうつくしくかがやいて見えました。そして島と十字架とは、だんだんうしろの方へ行ってしまいそこから流れて来るあやしい楽器の音ももう汽車のひびきや風の音にすり耗らされてずうっとかすかになりました。あ孔雀が居るよ。ええたくさん居たわ。女の子がこたえました。ジョバンニはまるで泣き出したいのをこらえて怒ったようにぶっきり棒に云いました。女の子はいかにもつらそうに眼を大きくしても一度こっちをふりかえってそれからあとはもうだまって出て行ってしまいました。汽車の中はもう半分以上も空いてしまい俄かにがらんとしてさびしくなり風\n",
      "\n",
      "Epoch 91/100\n",
      "37884/37884 [==============================] - 12s 305us/step - loss: 0.0445\n",
      "エポック:  90\n",
      "シード:  ではみなさんは、そう\n",
      "ではみなさんは、そうそうにきれはだを走って行ました。まったくその中に、白くあらわされた天の川の左の岸に沿って一条の鉄道線路が、南へ南へとたどって行くのでした。そしてちらっと大きなとうもろこしの木がほとんどいちめんに植えられてさやさや風にゆらぎその立派なちぢれた葉のさきからはまるでひるの間にいっぱい日光を吸った金剛石のように露がいっぱいについて赤や緑やきらきら燃えて光っているのでした。すぐ前の席に、ぬれたようにまっ黒な上着を着た、せいの高い子供が、窓から頭を出して外を見ているのに気が付きました。そしてそのこどもの肩のあたりが、どうも見たことのあるような気がして、そう思うと、もうどうしても誰だかわかりたくて、たまらなくなりました。いきなりこっちも窓から顔を出そうとしたとき、俄かにその子供が頭を引っ込めて、こっちを見ました。それはカムパネルラだったのです。ジョバンニは思わずカムパネルラとわらいました。もうそして天の\n",
      "\n",
      "Epoch 92/100\n",
      "37884/37884 [==============================] - 12s 307us/step - loss: 0.0437\n",
      "エポック:  91\n",
      "シード:  ではみなさんは、そう\n",
      "ではみなさんは、そういうふうに川だと云われたり、乳の流れたあとだと云われたりしていたこのぼんやりと白いものがほんとうは何かご承知ですか。先生は、黒板に吊した大きな黒い星座の図の、上から下へ白くけぶった銀河帯のようなところを指しながら、みんなに問をかけました。カムパネルラのとなりのかおると呼ばれた女の子が叫びました。からすでない。みんなかささぎだ。カムパネルラがまた何気なく叱るように叫びましたので、ジョバンニは、思わず何べんも眼を擦ってしまいました。気がついてみると、さっきから、ごとごとごとごと、ジョバンニの乗っている小さな列車が走りつづけていたのでした。ほんとうにジョバンニは、夜の軽便鉄道の、小さな黄いろの電燈のならんだ車室に、窓から外を見ながら座っていたのです。車室の中は、青い天蚕絨を張った腰掛けが、まるでがら明きで、向うの鼠いろのワニスを塗った壁には、真鍮の大きなぼたんが二つ光っているのでした。ジョバンニ\n",
      "\n",
      "Epoch 93/100\n",
      "37884/37884 [==============================] - 11s 303us/step - loss: 0.0464\n",
      "エポック:  92\n",
      "シード:  ではみなさんは、そう\n",
      "ではみなさんは、そういうふうに川だと云われたり、乳の流れたあとだと云われたりしていたこのぼんやりと白いものがほんとうは何かご承知ですか。先生は、黒板に吊した大きな黒い星座の図の、上から下へ白くけぶった銀河帯のようなところを指しながら、みんなに問をかけました。カムパネルラの頬は、まるで熟した苹果のあかしのようにうつくしくかがやいて見えました。そして島と十字架とは、だんだんうしろの方へ行ってしまいそこから流れて来るあやしい楽器の音ももう汽車のひびきや風の音にすり耗らされてずうっとかすかになりました。あ孔雀が居るよ。ええたくさん居たわ。女の子がこたえました。ジョバンニは、（そうだ、ぼくたちはいま、いっしょにさそって出掛けたのだ。）とおもいながら、やっぱりぽくぽくそれをたべていました。も少しおあがりなさい。鳥捕りは、黄いろな雁の足を、軽くひっぱりました。するとそれは、チョコレートででもできているように、すっときれいに\n",
      "\n",
      "Epoch 94/100\n",
      "37884/37884 [==============================] - 11s 300us/step - loss: 0.0707\n",
      "エポック:  93\n",
      "シード:  ではみなさんは、そう\n",
      "ではみなさんは、そういうふうに川だと云われたり、乳の流れたあとだと云われたりしていたこのぼんやりと白いものがほんとうは何かご承知ですか。先生は、黒板に吊した大きな黒い星座の図の、上から下へ白くけぶった銀河帯のようなところを指しながら、みんなに問をかけました。カムパネルラのとなりの席を指さしました。女の子はすなおにそこへ座って、きちんと両手を組み合せました。ぼくおおねえさんのとこへ行くんだよう。腰掛けたばかりの男の子は顔を変にして燈台看守の向うの席に座ったばかりの青年に云いました。青年は何とも云えず悲しそうな顔をして、じっとその子の、ちぢれてぬれた頭を見ました。女の子は、いきなり両手を顔にあててしくれから見うと、そのうだんなんなんにかなんにもひどいわ。僕のとって行って。ようそったわか。またはいうしろのでした。それから四十分ぬあました上ら、家の中へしくみんなし声だってむむより。二昨時によつつら灼えるさあ、みんなの\n",
      "\n",
      "Epoch 95/100\n",
      "37884/37884 [==============================] - 11s 287us/step - loss: 0.0814\n",
      "エポック:  94\n",
      "シード:  ではみなさんは、そう\n",
      "ではみなさんは、そういうふうに川だと云われたり、乳の流れたあとだと云われたりしていたこのぼんやりと白いものがほんとうは何かご承知ですか。先生は、黒板に吊した大きな黒い星座の図の、上から下へ白くけぶった銀河帯のようなところを指しながら、みんなに問をかけました。カムパネルラのとなりの女の子はそわそわ立って支度をはじめましたけれどもやっぱりジョバンニたちとわかれたくないような気がするのでわ。そしてそのまわ立ってわたのです。ぼくたちのお祭下にでするとそれはこんなはだ。二人はそっちへ歩いて行きました。川へ行くの。ジョバンニが云おうとして、少しのどがつまったように思ったとき、ジョバンニ、らっこの上着が来るよ。その子が投げつけるようにうしろから叫びました。ジョバンニ、らっこの上着が来るよ。すぐみんなが、続いて叫びました。ジョバンニ、らっこの上着が来るよ。その子が投げつけるようにうしろから叫びました。ジョバンニ、らっこの上着\n",
      "\n",
      "Epoch 96/100\n",
      "37884/37884 [==============================] - 11s 292us/step - loss: 0.0466\n",
      "エポック:  95\n",
      "シード:  ではみなさんは、そう\n",
      "ではみなさんは、そういうふうに川だと云われたり、乳の流れたあとだと云われたりしていたこのぼんやりと白いものがほんとうは何かご承知ですか。先生は、黒板に吊した大きな黒い星座の図の、上から下へ白くけぶった銀河帯のようなところを指しながら、みんなに問をかけました。カムパネルラはまださびしそうにひとり口笛を吹き、女の子はまるで絹で包んだ苹果のような顔いろをしてジョバンニの見る方を見ているのでした。ああ、ここはランカシャイヤだ。いや、コンネクテカット州だ。いや、ああ、ぼくたちはそらへ来たのだ。わたしたちは天へ行くのです。ごらんなさい。あのしるしは天上のしるしです。もうなんにもこわいことありません。わたくしたちは神さまに召されているのです。黒服の青年はよろこびにかがやいてその女の子に云いました。けれどもなぜかまた額に深く皺を刻んで、それに大へんつかれているらしく、無理に笑いながら男の子をジョバンニのとなりに座らせました。\n",
      "\n",
      "Epoch 97/100\n",
      "37884/37884 [==============================] - 11s 297us/step - loss: 0.0370\n",
      "エポック:  96\n",
      "シード:  ではみなさんは、そう\n",
      "ではみなさんは、そういうふうに川だと云われたり、乳の流れたあとだと云われたりしていたこのぼんやりと白いものがほんとうは何かご承知ですか。先生は、黒板に吊した大きな黒い星座の図の、上から下へ白くけぶった銀河帯のようなところを指しながら、みんなに問をかけました。カムパネルラのとなりの女の子はそわそわ立って支度をはじめましたけれどもやっぱりジョバンニたちとわかれたくないようなようすでした。ここでおりなけぁいけないのです。青年はきちっと口を結んで男の子を見おろしながら云いました。厭だい。僕もう少し汽車へ乗ってから行くんだい。ジョバンニがこらえ兼ねて云いました。僕たちと一緒に乗って行こう。僕たちどこまでだって行ける切符持ってるんだ。だけどあたしたちもうここで降りなけぁいけないのよ。ここ天上へ行くとこなんだから。女の子がさびしそうに云いました。天上へなんか行かなくたっていいじゃないか。ぼくたちここで天上よりももっといいと\n",
      "\n",
      "Epoch 98/100\n",
      "37884/37884 [==============================] - 11s 287us/step - loss: 0.0361\n",
      "エポック:  97\n",
      "シード:  ではみなさんは、そう\n",
      "ではみなさんは、そういうふうに川だと云われたり、乳の流れたあとだと云われたりしていたこのぼんやりと白いものがほんとうは何かご承知ですか。先生は、黒板に吊した大きな黒い星座の図の、上から下へ白くけぶった銀河帯のようなところを指しながら、みんなに問をかけました。カムパネルラの頬は、まるで熟した苹果のあかしのようにうつくしくかがやいて見えました。そして島と十字架とは、だんだんうしろの方へ行ってしまいそこから流れて来るあやしい楽器の音ももう汽車のひびきや風の音にすり耗らされてずうっとかすかになりました。あ孔雀が居るよ。ええたくさん居たわ。女の子がこたえました。ジョバンニは、（ああ、そうだ、ぼくのおっかさんは、あの遠い一つのちりのように見える橙いろの三角標のあたりにいらっしゃって、いまぼくのことを考えているんだった。）と思いながら、ぼんやりしてだまっていました。ぼくはおっかさんが、ほんとうに幸になるなら、どんなことでも\n",
      "\n",
      "Epoch 99/100\n",
      "37884/37884 [==============================] - 11s 295us/step - loss: 0.0359\n",
      "エポック:  98\n",
      "シード:  ではみなさんは、そう\n",
      "ではみなさんは、そういうふうに川だと云われたり、乳の流れたあとだと云われたりしていたこのぼんやりと白いものがほんとうは何かご承知ですか。先生は、黒板に吊した大きな黒い星座の図の、上から下へ白くけぶった銀河帯のようなところを指しながら、みんなに問をかけました。カムパネルラはまださびしそうにひとり口笛を吹き、女の子はまるで絹で包んだ苹果のような顔いろをしてジョバンニの見る方を見ているのでした。ああ、ここはランカシャイヤだ。いや、コンネクテカット州だ。いや、ああ、ぼくたちはそらへ来たのだ。わたしたちは天へ行くのです。ごらんなさい。あのしるしは天上のしるしです。もうなんにもこわいことありません。わたくしたちは神さまに召されているのです。黒服の青年はよろこびにかがやいてその女の子に云いました。けれどもなぜかまた額に深く皺を刻んで、それに大へんつかれているらしく、無理に笑いながら男の子をジョバンニのとなりに座らせました。\n",
      "\n",
      "Epoch 100/100\n",
      "37884/37884 [==============================] - 11s 285us/step - loss: 0.0371\n",
      "エポック:  99\n",
      "シード:  ではみなさんは、そう\n",
      "ではみなさんは、そういうふうに川だと云われたり、乳の流れたあとだと云われたりしていたこのぼんやりと白いものがほんとうは何かご承知ですか。先生は、黒板に吊した大きな黒い星座の図の、上から下へ白くけぶった銀河帯のようなところを指しながら、みんなに問をかけました。カムパネルラは、その紙切れが何だったか待ち兼ねたというように急いでのぞきこみました。ジョバンニもそっちを見ましたけれどもそこはぼんやり白くけむっているばかりどうしてもカムパネルラが云ったように思われませんでした。何とも云えずさびしい気がしてぼんやりそっちを見ていましたら向うの河岸に二本の電信ばしらが丁度両方から腕を組んだように赤い腕木をつらねて立っていました。カムパネルラは、その紙切れが何だったか待ち兼ねたというように急いでのぞきこみました。ジョバンニもそっちを見ましたけれどもそこはぼんやり白くけむっているばかりどうしてもカムパネルラが云ったように思われま\n",
      "\n"
     ]
    }
   ],
   "source": [
    "history = model.fit(x, t,\n",
    "                    batch_size=batch_size,\n",
    "                    epochs=epochs,\n",
    "                    callbacks=[epock_end_callback])"
   ]
  },
  {
   "cell_type": "code",
   "execution_count": 42,
   "metadata": {
    "colab": {
     "base_uri": "https://localhost:8080/",
     "height": 265
    },
    "colab_type": "code",
    "id": "iWPfujDPmKUr",
    "outputId": "d5801cef-2be3-42b1-d58b-ff6a9fffcdea"
   },
   "outputs": [
    {
     "data": {
      "image/png": "[encoded data removed]",
      "text/plain": [
       "<Figure size 432x288 with 1 Axes>"
      ]
     },
     "metadata": {
      "tags": []
     },
     "output_type": "display_data"
    }
   ],
   "source": [
    "%matplotlib inline\n",
    "import matplotlib.pyplot as plt\n",
    "\n",
    "loss = history.history['loss']\n",
    "plt.plot(np.arange(len(loss)), loss)\n",
    "plt.show()"
   ]
  },
  {
   "cell_type": "markdown",
   "metadata": {
    "colab_type": "text",
    "id": "YIRmrbKvmKU7"
   },
   "source": [
    "# 【問題3】他のクラスの説明"
   ]
  },
  {
   "cell_type": "markdown",
   "metadata": {
    "colab_type": "text",
    "id": "5l3JVWsOmKU8"
   },
   "source": [
    "ドキュメントには他にも関連するクラスが記載されています。それらがどういうものなのかを説明してください。この中には実際に扱うことは少ないクラスも含まれています。\n",
    " - RNN\n",
    " - SimpleRNNCell\n",
    " - GRUCell\n",
    " - LSTMCell\n",
    " - StackedRNNCells\n",
    " - CuDNNGRU\n",
    " - CuDNNLSTM"
   ]
  },
  {
   "cell_type": "markdown",
   "metadata": {
    "colab_type": "text",
    "id": "wNmPHcibmKU8"
   },
   "source": [
    "# RNN"
   ]
  },
  {
   "cell_type": "markdown",
   "metadata": {
    "colab_type": "text",
    "id": "tgNqy8U4mKVE"
   },
   "source": [
    "https://github.com/keras-team/keras/blob/master/keras/layers/recurrent.py#L212\n",
    "\n",
    "RNN（Recurrent Neural Network）： 時系列データに対応したニューラルネットワーク。時系列のデータポイントは、各層の入力として利用される。また、各層の出力は、次の層の入力としてだけでなく、ユーザーが使用可能な出力としても利用される\n",
    "\n",
    "cell: RNN cellインスタンス．RNN cellは以下の属性を持つクラスです．\n",
    "\n",
    "call(input_at_t, states_at_t)メソッド，これは(output_at_t, states_at_t_plus_1)を返します． cellのメソッド呼び出しはオプションの引数constantsも使えます． 下記の「外部定数を渡す場合の注意」を参照してください．\n",
    "\n",
    "state_size属性． これは1つの整数（1つの状態）でもよく，その場合はrecurrent stateのサイズになります（これはcellの出力のサイズと同じである必要があります）． （1つ状態につき1つのサイズが対応するように）整数やリストやタプルもとれます． この場合は最初のエントリ(state_size[0])がcellの出力のサイズと同じである必要があります． cellをRNN cellインスタンスのリストとすることも可能です． この場合，cellはRNNの中で他のcellの後にスタックされているいれば，効率的なstacked RNNが実現されます．\n",
    "\n",
    "return_sequences: 真理値．出力系列の最後の出力を返すか，完全な系列を返すか．\n",
    "\n",
    "return_state: 真理値．出力とともに，最後の状態を返すかどうか．\n",
    "\n",
    "go_backwards: 真理値（デフォルトはFalse）．Trueなら，入力系列を逆向きから処理し，逆順の系列を返します．\n",
    "\n",
    "stateful: 真理値（デフォルトはFalse）．Trueなら，バッチ内のインデックスiの各サンプル に対する最後の状態が次のバッチ内のインデックスiのサンプルに対する初期状態として使われます．\n",
    "\n",
    "unroll: 真理値（デフォルトはFalse）．Trueなら，ネットワークは展開され， そうでなければシンボリックループが使われます． 展開はよりメモリ集中傾向になりますが，RNNをスピードアップできます． 展開は短い系列にのみ適しています．\n",
    "\n",
    "input_dim: 入力の次元（整数）． この引数（または代わりのキーワード引数input_shape）は， このレイヤーをモデルの最初のレイヤーとして利用するときに必要です．\n",
    "\n",
    "input_length: 入力系列の長さ． この引数はこのレイヤーの後にFlattenからDenseレイヤーへ接続する際に必要です (これがないと，denseの出力のshapeを計算できません)． Recurrentレイヤーがモデルの最初のレイヤーでなければ， 最初のレイヤーのレベルで入力系列の長さを指定する必要があります （例えばinput_shape引数を通じて）．"
   ]
  },
  {
   "cell_type": "markdown",
   "metadata": {
    "colab_type": "text",
    "id": "D9OvUvhemKVF"
   },
   "source": [
    "# SimpleRNNCell"
   ]
  },
  {
   "cell_type": "markdown",
   "metadata": {
    "colab_type": "text",
    "id": "phdqMPxDmKVG"
   },
   "source": [
    "SimpleRNNのCellクラス\n",
    "\n",
    "SimpleRNNとは、ある時点の状態を次の状態の入力値として扱うことができるループ構造を持ったニューラルネットワーク。SimpleRNNCellはその隠れ層の１単位で、Tensolfrowにおいてクラスの形で提供されている。\n",
    "\n",
    "https://github.com/keras-team/keras/blob/master/keras/layers/recurrent.py#L782"
   ]
  },
  {
   "cell_type": "markdown",
   "metadata": {
    "colab_type": "text",
    "id": "yN2M4Qr3mKVH"
   },
   "source": [
    "# GRUCell"
   ]
  },
  {
   "cell_type": "markdown",
   "metadata": {
    "colab_type": "text",
    "id": "FyRV60y1mKVK"
   },
   "source": [
    "GRUレイヤーのためのCellクラス\n",
    "\n",
    "GRUとはLSTMのゲートを使用するというコンセプトはそのままで、パラメータを削減し、計算時間を短縮できる\n",
    "GRUCellはその隠れ層の１単位で、Tensolfrowにおいてクラスの形で提供されている。\n",
    "\n",
    "https://github.com/keras-team/keras/blob/master/keras/layers/recurrent.py#L1154"
   ]
  },
  {
   "cell_type": "markdown",
   "metadata": {
    "colab_type": "text",
    "id": "-Ixf5oOgmKVK"
   },
   "source": [
    "# LSTMCell"
   ]
  },
  {
   "cell_type": "markdown",
   "metadata": {
    "colab_type": "text",
    "id": "9t0c3Zm8mKVL"
   },
   "source": [
    "LSTMレイヤーのためのcellクラス\n",
    "\n",
    "LSTMはゲートと呼ばれる仕組みが加わり、そのゲートにより時系列データの長期的な依存関係を学習することができる\n",
    "LSTMCellはその隠れ層の１単位で、Tensolfrowにおいてクラスの形で提供されている。\n",
    "\n",
    "https://github.com/keras-team/keras/blob/master/keras/layers/recurrent.py#L1728"
   ]
  },
  {
   "cell_type": "markdown",
   "metadata": {
    "colab_type": "text",
    "id": "P3PfPR6_mKVL"
   },
   "source": [
    "# StackedRNNCells"
   ]
  },
  {
   "cell_type": "markdown",
   "metadata": {
    "colab_type": "text",
    "id": "hoHKaaB2mKVM"
   },
   "source": [
    "RNN cellのスタックの振る舞いを単一のcellのようにするためのラッパー\n",
    "\n",
    "効率的なstacked RNNを実装するために使われます\n",
    "\n",
    "https://github.com/keras-team/keras/blob/master/keras/layers/recurrent.py#L25"
   ]
  },
  {
   "cell_type": "markdown",
   "metadata": {
    "colab_type": "text",
    "id": "rnLjfi_bmKVN"
   },
   "source": [
    "# CuDNNGRU"
   ]
  },
  {
   "cell_type": "markdown",
   "metadata": {
    "colab_type": "text",
    "id": "JUtp8Kq1mKVO"
   },
   "source": [
    "CuDNNを利用した高速なGRU実装\n",
    "\n",
    "TensorFlowバックエンドを使用して、GPUでのみ実行できる。\n",
    "\n",
    "\n",
    "https://github.com/keras-team/keras/blob/master/keras/layers/cudnn_recurrent.py#L135"
   ]
  },
  {
   "cell_type": "markdown",
   "metadata": {
    "colab_type": "text",
    "id": "8_qR7UwTmKVb"
   },
   "source": [
    "# CuDNNLSTM"
   ]
  },
  {
   "cell_type": "markdown",
   "metadata": {
    "colab_type": "text",
    "id": "rgidDGSymKVe"
   },
   "source": [
    "CuDNNを利用した高速なLSTM実装\n",
    "\n",
    "TensorFlowバックエンドを使用して、GPUでのみ実行できる。\n",
    "\n",
    "\n",
    "https://github.com/keras-team/keras/blob/master/keras/layers/cudnn_recurrent.py#L324"
   ]
  },
  {
   "cell_type": "markdown",
   "metadata": {
    "colab_type": "text",
    "id": "h2xPhpeemKWJ"
   },
   "source": [
    "# CuDNN"
   ]
  },
  {
   "cell_type": "markdown",
   "metadata": {
    "colab_type": "text",
    "id": "Y3w0GWsHmKWL"
   },
   "source": [
    "https://docs.nvidia.com/deeplearning/sdk/cudnn-install/index.html\n",
    "\n",
    "NVIDIA CUDAディープニューラルネットワークライブラリ（cuDNN）は、ディープニューラルネットワーク用のプリミティブのGPU加速ライブラリです。cuDNNは、順方向および逆方向の畳み込み、プーリング、正規化、アクティベーションレイヤーなどの標準ルーチンの高度に調整された実装を提供します。cuDNNは、NVIDIA Deep Learning SDKの一部です。\n",
    "\n",
    "世界中のディープラーニング研究者およびフレームワーク開発者は、高性能GPUアクセラレーションをcuDNNに依存しています。低レベルのGPUパフォーマンスチューニングに時間を費やすのではなく、ニューラルネットワークのトレーニングとソフトウェアアプリケーションの開発に集中できます。cuDNNは、広く使用されているディープラーニングフレームワークを高速化し、NVIDIA開発者プログラムのメンバーが無料で利用できます"
   ]
  },
  {
   "cell_type": "code",
   "execution_count": 0,
   "metadata": {
    "colab": {},
    "colab_type": "code",
    "id": "H9W2s38CmKWM"
   },
   "outputs": [],
   "source": []
  }
 ],
 "metadata": {
  "accelerator": "GPU",
  "colab": {
   "name": "Sprint23_LSTM_Submission.ipynb",
   "provenance": []
  },
  "kernelspec": {
   "display_name": "Python 3",
   "language": "python",
   "name": "python3"
  },
  "language_info": {
   "codemirror_mode": {
    "name": "ipython",
    "version": 3
   },
   "file_extension": ".py",
   "mimetype": "text/x-python",
   "name": "python",
   "nbconvert_exporter": "python",
   "pygments_lexer": "ipython3",
   "version": "3.7.2"
  }
 },
 "nbformat": 4,
 "nbformat_minor": 1
}
