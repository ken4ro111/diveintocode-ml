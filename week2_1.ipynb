{
  "nbformat": 4,
  "nbformat_minor": 0,
  "metadata": {
    "colab": {
      "name": "week2_1.ipynb",
      "provenance": [],
      "collapsed_sections": []
    },
    "kernelspec": {
      "name": "python3",
      "display_name": "Python 3"
    }
  },
  "cells": [
    {
      "cell_type": "code",
      "metadata": {
        "id": "G0lok-ODZcsv",
        "colab_type": "code",
        "outputId": "84ba0952-f76f-4a66-db6d-d7c2b56f0d92",
        "colab": {
          "base_uri": "https://localhost:8080/",
          "height": 34
        }
      },
      "source": [
        "n_squares = 4\n",
        "small_board_list = [1]\n",
        "for _ in range(n_squares -1 ):\n",
        "    small_board_list.append(2*small_board_list[-1])\n",
        "print(\"4マスの板に小麦を並べる（リスト）：{}\".format(small_board_list))"
      ],
      "execution_count": 2,
      "outputs": [
        {
          "output_type": "stream",
          "text": [
            "4マスの板に小麦を並べる（リスト）：[1, 2, 4, 8]\n"
          ],
          "name": "stdout"
        }
      ]
    },
    {
      "cell_type": "code",
      "metadata": {
        "id": "3fHlLkF5Zu7u",
        "colab_type": "code",
        "outputId": "ee4777cb-5bab-4dfb-afd6-6a85395d6703",
        "colab": {
          "base_uri": "https://localhost:8080/",
          "height": 34
        }
      },
      "source": [
        "import numpy as np\n",
        "\n",
        "small_board_ndarray = np.array(small_board_list)\n",
        "print(\"4マスの板に小麦を並べる（ndarray）：{}\".format(small_board_ndarray))"
      ],
      "execution_count": 3,
      "outputs": [
        {
          "output_type": "stream",
          "text": [
            "4マスの板に小麦を並べる（ndarray）：[1 2 4 8]\n"
          ],
          "name": "stdout"
        }
      ]
    },
    {
      "cell_type": "code",
      "metadata": {
        "id": "7p__Yk-LaJ3A",
        "colab_type": "code",
        "colab": {}
      },
      "source": [
        ""
      ],
      "execution_count": 0,
      "outputs": []
    },
    {
      "cell_type": "code",
      "metadata": {
        "id": "hvsOktrwaNUe",
        "colab_type": "code",
        "outputId": "47d7d759-f0bb-46b2-9dff-cb6f2df712d9",
        "colab": {
          "base_uri": "https://localhost:8080/",
          "height": 34
        }
      },
      "source": [
        "sample_ndarray = np.array([1, 2, 3])\n",
        "print(sample_ndarray)"
      ],
      "execution_count": 4,
      "outputs": [
        {
          "output_type": "stream",
          "text": [
            "[1 2 3]\n"
          ],
          "name": "stdout"
        }
      ]
    },
    {
      "cell_type": "code",
      "metadata": {
        "id": "BuEN1TdmaNWv",
        "colab_type": "code",
        "colab": {}
      },
      "source": [
        ""
      ],
      "execution_count": 0,
      "outputs": []
    },
    {
      "cell_type": "code",
      "metadata": {
        "id": "S4j9ZbhTd4XL",
        "colab_type": "code",
        "colab": {}
      },
      "source": [
        ""
      ],
      "execution_count": 0,
      "outputs": []
    },
    {
      "cell_type": "code",
      "metadata": {
        "id": "p7YQ_bPXcXQi",
        "colab_type": "code",
        "colab": {}
      },
      "source": [
        ""
      ],
      "execution_count": 0,
      "outputs": []
    },
    {
      "cell_type": "markdown",
      "metadata": {
        "id": "AvXqBPG8aN5m",
        "colab_type": "text"
      },
      "source": [
        "# 問１　2×2マスのチェス盤の小麦の数"
      ]
    },
    {
      "cell_type": "code",
      "metadata": {
        "id": "dkVniWRSbFx2",
        "colab_type": "code",
        "outputId": "1aefcbc6-8c55-4278-ce1c-4edbab75c40d",
        "colab": {
          "base_uri": "https://localhost:8080/",
          "height": 102
        }
      },
      "source": [
        "import numpy as np\n",
        "\n",
        "n_squares = 4\n",
        "small_board_list = [1]\n",
        "for _ in range(n_squares -1):\n",
        "    small_board_list.append(2*small_board_list[-1])\n",
        "print(\"4マスの板に小麦を並べる（リスト）：{}\".format(small_board_list))\n",
        "\n",
        "\n",
        "import numpy as np\n",
        "\n",
        "small_board_ndarray = np.array(small_board_list)\n",
        "print(\"4マスの板に小麦を並べる（ndarray）：{}\".format(small_board_ndarray))\n",
        "small_board_ndarray_shape = small_board_ndarray.shape\n",
        "print(\"ndarrayのshape:{}\".format(small_board_ndarray_shape))\n",
        "board_22 = small_board_ndarray.reshape(2,2)\n",
        "print(board_22)"
      ],
      "execution_count": 5,
      "outputs": [
        {
          "output_type": "stream",
          "text": [
            "4マスの板に小麦を並べる（リスト）：[1, 2, 4, 8]\n",
            "4マスの板に小麦を並べる（ndarray）：[1 2 4 8]\n",
            "ndarrayのshape:(4,)\n",
            "[[1 2]\n",
            " [4 8]]\n"
          ],
          "name": "stdout"
        }
      ]
    },
    {
      "cell_type": "markdown",
      "metadata": {
        "id": "zv7ONUBkgiRS",
        "colab_type": "text"
      },
      "source": [
        "# 問２　n×mマスへの拡張"
      ]
    },
    {
      "cell_type": "code",
      "metadata": {
        "id": "BJwz9JoPgnqz",
        "colab_type": "code",
        "outputId": "78cf8faa-9ec5-4adf-af05-f351bd704cde",
        "colab": {
          "base_uri": "https://localhost:8080/",
          "height": 309
        }
      },
      "source": [
        "def board_ndarray(n_num , m_num):\n",
        "  n_squares = n_num * m_num\n",
        "  small_board_list = [1]\n",
        "  for _ in range(n_squares - 1):\n",
        "    small_board_list.append(2*small_board_list[-1])\n",
        "    small_board_ndarray = np.array(small_board_list)\n",
        "  return  small_board_ndarray.reshape(n_num, m_num)\n",
        "\n",
        "print(\"8 ×　8マスのチェス盤の小麦の数：{}\".format(board_ndarray(8,8)))\n"
      ],
      "execution_count": 8,
      "outputs": [
        {
          "output_type": "stream",
          "text": [
            "8 ×　8マスのチェス盤の小麦の数：[[1.00000000e+00 2.00000000e+00 4.00000000e+00 8.00000000e+00\n",
            "  1.60000000e+01 3.20000000e+01 6.40000000e+01 1.28000000e+02]\n",
            " [2.56000000e+02 5.12000000e+02 1.02400000e+03 2.04800000e+03\n",
            "  4.09600000e+03 8.19200000e+03 1.63840000e+04 3.27680000e+04]\n",
            " [6.55360000e+04 1.31072000e+05 2.62144000e+05 5.24288000e+05\n",
            "  1.04857600e+06 2.09715200e+06 4.19430400e+06 8.38860800e+06]\n",
            " [1.67772160e+07 3.35544320e+07 6.71088640e+07 1.34217728e+08\n",
            "  2.68435456e+08 5.36870912e+08 1.07374182e+09 2.14748365e+09]\n",
            " [4.29496730e+09 8.58993459e+09 1.71798692e+10 3.43597384e+10\n",
            "  6.87194767e+10 1.37438953e+11 2.74877907e+11 5.49755814e+11]\n",
            " [1.09951163e+12 2.19902326e+12 4.39804651e+12 8.79609302e+12\n",
            "  1.75921860e+13 3.51843721e+13 7.03687442e+13 1.40737488e+14]\n",
            " [2.81474977e+14 5.62949953e+14 1.12589991e+15 2.25179981e+15\n",
            "  4.50359963e+15 9.00719925e+15 1.80143985e+16 3.60287970e+16]\n",
            " [7.20575940e+16 1.44115188e+17 2.88230376e+17 5.76460752e+17\n",
            "  1.15292150e+18 2.30584301e+18 4.61168602e+18 9.22337204e+18]]\n"
          ],
          "name": "stdout"
        }
      ]
    },
    {
      "cell_type": "code",
      "metadata": {
        "id": "LnADw_r9hqrP",
        "colab_type": "code",
        "colab": {}
      },
      "source": [
        ""
      ],
      "execution_count": 0,
      "outputs": []
    },
    {
      "cell_type": "code",
      "metadata": {
        "id": "TZ4LVFgao6KB",
        "colab_type": "code",
        "colab": {}
      },
      "source": [
        ""
      ],
      "execution_count": 0,
      "outputs": []
    },
    {
      "cell_type": "code",
      "metadata": {
        "id": "AA_N_w2Vo6Ml",
        "colab_type": "code",
        "colab": {}
      },
      "source": [
        ""
      ],
      "execution_count": 0,
      "outputs": []
    },
    {
      "cell_type": "markdown",
      "metadata": {
        "id": "2XHkrhX9o6cE",
        "colab_type": "text"
      },
      "source": [
        "# 問3　小麦の数の合計"
      ]
    },
    {
      "cell_type": "code",
      "metadata": {
        "id": "p_MdR89ko8tQ",
        "colab_type": "code",
        "outputId": "21db6df8-3fb4-4c56-db80-70efc2146f90",
        "colab": {
          "base_uri": "https://localhost:8080/",
          "height": 51
        }
      },
      "source": [
        "sum(board_ndarray(8,8))"
      ],
      "execution_count": 0,
      "outputs": [
        {
          "output_type": "execute_result",
          "data": {
            "text/plain": [
              "array([7.23401728e+16, 1.44680346e+17, 2.89360691e+17, 5.78721383e+17,\n",
              "       1.15744277e+18, 2.31488553e+18, 4.62977106e+18, 9.25954212e+18])"
            ]
          },
          "metadata": {
            "tags": []
          },
          "execution_count": 7
        }
      ]
    },
    {
      "cell_type": "code",
      "metadata": {
        "id": "PZXX_-sRr5fW",
        "colab_type": "code",
        "outputId": "929a8fdf-c731-4a55-8b79-a6602b4c3c2c",
        "colab": {
          "base_uri": "https://localhost:8080/",
          "height": 71
        }
      },
      "source": [
        "sum_komugi = 0\n",
        "sum_board =  board_ndarray(8,8)\n",
        "for i in sum_board:\n",
        "  sum_komugi += i\n",
        "  \n",
        "\n",
        "print(\"8　×　8マスのチェス盤の小麦の合計：{}\".format(sum_komugi))"
      ],
      "execution_count": 0,
      "outputs": [
        {
          "output_type": "stream",
          "text": [
            "8　×　8マスのチェス盤の小麦の合計：[7.23401728e+16 1.44680346e+17 2.89360691e+17 5.78721383e+17\n",
            " 1.15744277e+18 2.31488553e+18 4.62977106e+18 9.25954212e+18]\n"
          ],
          "name": "stdout"
        }
      ]
    },
    {
      "cell_type": "code",
      "metadata": {
        "id": "O83acZA7sTZr",
        "colab_type": "code",
        "outputId": "cd317b80-95f9-4f5f-b66f-1bc29a6cc155",
        "colab": {
          "base_uri": "https://localhost:8080/",
          "height": 34
        }
      },
      "source": [
        "ndarray_22 = board_ndarray(2,2)\n",
        "ndarray_list = []\n",
        "for i in range(2):\n",
        "    sum_ndarray_22 = sum(ndarray_22[:,i])\n",
        "    ndarray_list.append(sum_ndarray_22)\n",
        "print(ndarray_list)"
      ],
      "execution_count": 0,
      "outputs": [
        {
          "output_type": "stream",
          "text": [
            "[5, 10]\n"
          ],
          "name": "stdout"
        }
      ]
    },
    {
      "cell_type": "code",
      "metadata": {
        "id": "gCI7bdhjyykn",
        "colab_type": "code",
        "outputId": "63807349-f8ea-4b97-f3ed-56a19724957f",
        "colab": {
          "base_uri": "https://localhost:8080/",
          "height": 54
        }
      },
      "source": [
        "ndarray_22 = board_ndarray(8,8)\n",
        "ndarray_list = []\n",
        "for i in range(8):\n",
        "    sum_ndarray_22 = sum(ndarray_22[:,i])\n",
        "    ndarray_list.append(sum_ndarray_22)\n",
        "print(ndarray_list)\n"
      ],
      "execution_count": 0,
      "outputs": [
        {
          "output_type": "stream",
          "text": [
            "[7.234017283807667e+16, 1.4468034567615334e+17, 2.893606913523067e+17, 5.787213827046134e+17, 1.1574427654092268e+18, 2.3148855308184535e+18, 4.629771061636907e+18, 9.259542123273814e+18]\n"
          ],
          "name": "stdout"
        }
      ]
    },
    {
      "cell_type": "code",
      "metadata": {
        "id": "MdgiuEJT1htP",
        "colab_type": "code",
        "outputId": "e1f662f0-a9ef-44dd-a7fc-6d259d904388",
        "colab": {
          "base_uri": "https://localhost:8080/",
          "height": 299
        }
      },
      "source": [
        "import matplotlib.pyplot as plt\n",
        "%matplotlib inline\n",
        "\n",
        "plt.xlabel(\"column\",fontsize = 12)\n",
        "plt.ylabel(\"number\",fontsize = 12)\n",
        "plt.title(\"number in each column\",fontsize = 14)\n",
        "plt.bar(np.arange(8), ndarray_list)\n",
        "plt.show()"
      ],
      "execution_count": 0,
      "outputs": [
        {
          "output_type": "display_data",
          "data": {
            "image/png": "[encoded data removed]",
            "text/plain": [
              "<Figure size 432x288 with 1 Axes>"
            ]
          },
          "metadata": {
            "tags": []
          }
        }
      ]
    },
    {
      "cell_type": "markdown",
      "metadata": {
        "id": "i5Ro4Jj07JaN",
        "colab_type": "text"
      },
      "source": [
        "#問４　小麦の数のヒートマップ"
      ]
    },
    {
      "cell_type": "code",
      "metadata": {
        "id": "SXJ1AvqE7Ltz",
        "colab_type": "code",
        "outputId": "3e860c41-0ec4-4b2d-ae9a-f82efe302643",
        "colab": {
          "base_uri": "https://localhost:8080/",
          "height": 295
        }
      },
      "source": [
        "plt.xlabel(\"column\")\n",
        "plt.ylabel(\"row\")\n",
        "plt.title(\"heatmap\")\n",
        "plt.pcolor(np.array(board_ndarray(8,8)).reshape(8, 8))\n",
        "plt.show()"
      ],
      "execution_count": 0,
      "outputs": [
        {
          "output_type": "display_data",
          "data": {
            "image/png": "[encoded data removed]",
            "text/plain": [
              "<Figure size 432x288 with 1 Axes>"
            ]
          },
          "metadata": {
            "tags": []
          }
        }
      ]
    },
    {
      "cell_type": "code",
      "metadata": {
        "id": "O_dD_grg8lcm",
        "colab_type": "code",
        "colab": {}
      },
      "source": [
        ""
      ],
      "execution_count": 0,
      "outputs": []
    },
    {
      "cell_type": "code",
      "metadata": {
        "id": "G912E8lh85xB",
        "colab_type": "code",
        "colab": {}
      },
      "source": [
        ""
      ],
      "execution_count": 0,
      "outputs": []
    },
    {
      "cell_type": "code",
      "metadata": {
        "id": "3Vo4R2Jd854F",
        "colab_type": "code",
        "colab": {}
      },
      "source": [
        ""
      ],
      "execution_count": 0,
      "outputs": []
    },
    {
      "cell_type": "markdown",
      "metadata": {
        "id": "Yio9SGTs86Dt",
        "colab_type": "text"
      },
      "source": [
        "# 問５ 後半は前半の何倍か"
      ]
    },
    {
      "cell_type": "code",
      "metadata": {
        "id": "j--y_Si288cq",
        "colab_type": "code",
        "outputId": "da6855b6-3210-4f6d-b1dd-22d06785bdf8",
        "colab": {
          "base_uri": "https://localhost:8080/",
          "height": 68
        }
      },
      "source": [
        "def c_board(n_num , m_num):\n",
        "  ndarray_mn = board_ndarray(n_num , m_num)\n",
        "  row_list = []\n",
        "  for i in range(m_num):\n",
        "    row_sum = sum(ndarray_mn[i , :])\n",
        "    row_list.append(row_sum)\n",
        "    num = int(n_num / 2)\n",
        "    pre_row_sum = sum(row_list[0:num])\n",
        "    post_row_sum = sum(row_list[num:n_num])\n",
        "  return  post_row_sum / pre_row_sum\n",
        "\n",
        "print(c_board(4,4))\n",
        "print(c_board(6,6))\n",
        "print(\"チェス盤の後半にある小麦の数は前半にある小麦の数の{}倍です\".format(c_board(8,8)))"
      ],
      "execution_count": 0,
      "outputs": [
        {
          "output_type": "stream",
          "text": [
            "256.0\n",
            "262144.0\n",
            "チェス盤の後半にある小麦の数は前半にある小麦の数の4294967296.0倍です\n"
          ],
          "name": "stdout"
        }
      ]
    },
    {
      "cell_type": "code",
      "metadata": {
        "id": "O0msy75KrAOm",
        "colab_type": "code",
        "colab": {}
      },
      "source": [
        ""
      ],
      "execution_count": 0,
      "outputs": []
    },
    {
      "cell_type": "code",
      "metadata": {
        "id": "ozLmXEKOrATd",
        "colab_type": "code",
        "colab": {}
      },
      "source": [
        ""
      ],
      "execution_count": 0,
      "outputs": []
    },
    {
      "cell_type": "markdown",
      "metadata": {
        "id": "hU49zquWrAoQ",
        "colab_type": "text"
      },
      "source": [
        "# 問６ 他の計算方法によるn×mマスへの拡張"
      ]
    },
    {
      "cell_type": "code",
      "metadata": {
        "id": "Lu0xU1umrARp",
        "colab_type": "code",
        "outputId": "1611ddaa-3681-4166-9e19-7c44bcaac3bb",
        "colab": {
          "base_uri": "https://localhost:8080/",
          "height": 34
        }
      },
      "source": [
        "n_squares = 64\n",
        "board_ndarray = np.array([1]).astype(np.uint64)\n",
        "for _ in range(n_squares - 1):\n",
        "    board_ndarray = np.append(board_ndarray, 2*board_ndarray[-1])\n",
        "print(\"最後のマスの小麦の数：{}\".format(board_ndarray[-1]))"
      ],
      "execution_count": 19,
      "outputs": [
        {
          "output_type": "stream",
          "text": [
            "最後のマスの小麦の数：9.223372036854776e+18\n"
          ],
          "name": "stdout"
        }
      ]
    },
    {
      "cell_type": "code",
      "metadata": {
        "id": "UNHuEDNhrifY",
        "colab_type": "code",
        "outputId": "9457973c-32a0-4d03-a527-07f5f413d05a",
        "colab": {
          "base_uri": "https://localhost:8080/",
          "height": 34
        }
      },
      "source": [
        "n_squares = 64\n",
        "indices_of_squares = np.arange(n_squares).astype(np.uint64)\n",
        "board_ndarray = 2**indices_of_squares\n",
        "print(\"最後のマスの小麦の数：{}\".format(board_ndarray[-1]))"
      ],
      "execution_count": 22,
      "outputs": [
        {
          "output_type": "stream",
          "text": [
            "最後のマスの小麦の数：9223372036854775808\n"
          ],
          "name": "stdout"
        }
      ]
    },
    {
      "cell_type": "code",
      "metadata": {
        "id": "cjp-xJJdtFwk",
        "colab_type": "code",
        "outputId": "f7b45040-0404-4353-82d7-1995ccc849ed",
        "colab": {
          "base_uri": "https://localhost:8080/",
          "height": 309
        }
      },
      "source": [
        "def board_ndarray(n_num,m_num):\n",
        "    n_squares = n_num * m_num\n",
        "    board_ndarray_list = np.array([1]).astype(np.uint(n_squares))\n",
        "    for _ in range(n_squares - 1):\n",
        "      board_ndarray_list = np.append(board_ndarray_list,2*board_ndarray_list[-1])\n",
        "    return board_ndarray_list\n",
        "board_ndarray_88 = board_ndarray(8,8)\n",
        "print(\"(8,8)の小麦の数：{}\".format(board_ndarray_88))"
      ],
      "execution_count": 23,
      "outputs": [
        {
          "output_type": "stream",
          "text": [
            "(8,8)の小麦の数：[1.00000000e+00 2.00000000e+00 4.00000000e+00 8.00000000e+00\n",
            " 1.60000000e+01 3.20000000e+01 6.40000000e+01 1.28000000e+02\n",
            " 2.56000000e+02 5.12000000e+02 1.02400000e+03 2.04800000e+03\n",
            " 4.09600000e+03 8.19200000e+03 1.63840000e+04 3.27680000e+04\n",
            " 6.55360000e+04 1.31072000e+05 2.62144000e+05 5.24288000e+05\n",
            " 1.04857600e+06 2.09715200e+06 4.19430400e+06 8.38860800e+06\n",
            " 1.67772160e+07 3.35544320e+07 6.71088640e+07 1.34217728e+08\n",
            " 2.68435456e+08 5.36870912e+08 1.07374182e+09 2.14748365e+09\n",
            " 4.29496730e+09 8.58993459e+09 1.71798692e+10 3.43597384e+10\n",
            " 6.87194767e+10 1.37438953e+11 2.74877907e+11 5.49755814e+11\n",
            " 1.09951163e+12 2.19902326e+12 4.39804651e+12 8.79609302e+12\n",
            " 1.75921860e+13 3.51843721e+13 7.03687442e+13 1.40737488e+14\n",
            " 2.81474977e+14 5.62949953e+14 1.12589991e+15 2.25179981e+15\n",
            " 4.50359963e+15 9.00719925e+15 1.80143985e+16 3.60287970e+16\n",
            " 7.20575940e+16 1.44115188e+17 2.88230376e+17 5.76460752e+17\n",
            " 1.15292150e+18 2.30584301e+18 4.61168602e+18 9.22337204e+18]\n"
          ],
          "name": "stdout"
        }
      ]
    },
    {
      "cell_type": "code",
      "metadata": {
        "id": "GbOvnwcex679",
        "colab_type": "code",
        "outputId": "b41564b6-b9ba-4ac8-c969-cd112b3a5a7f",
        "colab": {
          "base_uri": "https://localhost:8080/",
          "height": 391
        }
      },
      "source": [
        "def board_ndarray(n_num,m_num):\n",
        "  n_squares = n_num * m_num\n",
        "  indices_of_squares = np.arange(n_squares).astype(np.uint(n_squares))\n",
        "  board_ndarray_list = 2**indices_of_squares\n",
        "  return board_ndarray_list\n",
        "board_ndarray_88 = board_ndarray(8,8)\n",
        "print(\"(8,8)のマスの小麦の数：{}\".format(board_ndarray_88))"
      ],
      "execution_count": 24,
      "outputs": [
        {
          "output_type": "stream",
          "text": [
            "(8,8)のマスの小麦の数：[                  1                   2                   4\n",
            "                   8                  16                  32\n",
            "                  64                 128                 256\n",
            "                 512                1024                2048\n",
            "                4096                8192               16384\n",
            "               32768               65536              131072\n",
            "              262144              524288             1048576\n",
            "             2097152             4194304             8388608\n",
            "            16777216            33554432            67108864\n",
            "           134217728           268435456           536870912\n",
            "          1073741824          2147483648          4294967296\n",
            "          8589934592         17179869184         34359738368\n",
            "         68719476736        137438953472        274877906944\n",
            "        549755813888       1099511627776       2199023255552\n",
            "       4398046511104       8796093022208      17592186044416\n",
            "      35184372088832      70368744177664     140737488355328\n",
            "     281474976710656     562949953421312    1125899906842624\n",
            "    2251799813685248    4503599627370496    9007199254740992\n",
            "   18014398509481984   36028797018963968   72057594037927936\n",
            "  144115188075855872  288230376151711744  576460752303423488\n",
            " 1152921504606846976 2305843009213693952 4611686018427387904\n",
            " 9223372036854775808]\n"
          ],
          "name": "stdout"
        }
      ]
    },
    {
      "cell_type": "code",
      "metadata": {
        "id": "aGeCMGt4vYw7",
        "colab_type": "code",
        "colab": {}
      },
      "source": [
        ""
      ],
      "execution_count": 0,
      "outputs": []
    },
    {
      "cell_type": "code",
      "metadata": {
        "id": "Zu8HGLUEBtal",
        "colab_type": "code",
        "colab": {}
      },
      "source": [
        ""
      ],
      "execution_count": 0,
      "outputs": []
    },
    {
      "cell_type": "code",
      "metadata": {
        "id": "R0SBzy-kBtdi",
        "colab_type": "code",
        "colab": {}
      },
      "source": [
        ""
      ],
      "execution_count": 0,
      "outputs": []
    },
    {
      "cell_type": "markdown",
      "metadata": {
        "id": "E5dnvKTYBtxk",
        "colab_type": "text"
      },
      "source": [
        "# 問７ 計算時間の比較"
      ]
    },
    {
      "cell_type": "code",
      "metadata": {
        "id": "e053l4WaB20R",
        "colab_type": "code",
        "outputId": "072d37b3-e4a6-423b-9d26-d516c00ba0d5",
        "colab": {
          "base_uri": "https://localhost:8080/",
          "height": 71
        }
      },
      "source": [
        "%%timeit\n",
        "\n",
        "def board_ndarray(n_num , m_num):\n",
        "  n_squares = n_num * m_num\n",
        "  small_board_list = [1]\n",
        "  for _ in range(n_squares - 1):\n",
        "    small_board_list.append(2*small_board_list[-1])\n",
        "    small_board_ndarray = np.array(small_board_list)\n",
        "  return  small_board_ndarray.reshape(n_num, m_num)"
      ],
      "execution_count": 0,
      "outputs": [
        {
          "output_type": "stream",
          "text": [
            "The slowest run took 21.82 times longer than the fastest. This could mean that an intermediate result is being cached.\n",
            "10000000 loops, best of 3: 54.1 ns per loop\n"
          ],
          "name": "stdout"
        }
      ]
    },
    {
      "cell_type": "code",
      "metadata": {
        "id": "ANIX-Ju5I0oH",
        "colab_type": "code",
        "outputId": "b2c01d3c-2deb-4572-938d-112f19c83b46",
        "colab": {
          "base_uri": "https://localhost:8080/",
          "height": 34
        }
      },
      "source": [
        "%%timeit\n",
        "\n",
        "def board_ndarray(n_num,m_num):\n",
        "    n_squares = n_num * m_num\n",
        "    board_ndarray_list = np.array([1]).astype(np.uint(n_squares))\n",
        "    for _ in range(n_squares - 1):\n",
        "      board_ndarray_list = np.append(board_ndarray_list,2*board_ndarray_list[-1])\n",
        "    return board_ndarray_list"
      ],
      "execution_count": 0,
      "outputs": [
        {
          "output_type": "stream",
          "text": [
            "10000000 loops, best of 3: 55.1 ns per loop\n"
          ],
          "name": "stdout"
        }
      ]
    },
    {
      "cell_type": "code",
      "metadata": {
        "id": "I6GrBI4TJE-o",
        "colab_type": "code",
        "outputId": "0db6f261-9c18-4bbe-c323-761bb8da949d",
        "colab": {
          "base_uri": "https://localhost:8080/",
          "height": 34
        }
      },
      "source": [
        "%%timeit\n",
        "\n",
        "def board_ndarray(n_num,m_num):\n",
        "  n_squares = n_num * m_num\n",
        "  indices_of_squares = np.arange(n_squares).astype(np.uint(n_squares))\n",
        "  board_ndarray_list = 2**indices_of_squares\n",
        "  return board_ndarray_list"
      ],
      "execution_count": 0,
      "outputs": [
        {
          "output_type": "stream",
          "text": [
            "10000000 loops, best of 3: 54.2 ns per loop\n"
          ],
          "name": "stdout"
        }
      ]
    },
    {
      "cell_type": "code",
      "metadata": {
        "id": "TMmsUvVWJL0j",
        "colab_type": "code",
        "colab": {}
      },
      "source": [
        ""
      ],
      "execution_count": 0,
      "outputs": []
    }
  ]
}