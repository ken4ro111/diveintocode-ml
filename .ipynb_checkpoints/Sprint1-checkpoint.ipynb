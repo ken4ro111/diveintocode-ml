{
 "cells": [
  {
   "cell_type": "markdown",
   "metadata": {},
   "source": [
    "## 機械学習フロー"
   ]
  },
  {
   "cell_type": "code",
   "execution_count": 69,
   "metadata": {},
   "outputs": [],
   "source": [
    "import numpy as np\n",
    "import matplotlib.pyplot as plt\n",
    "%matplotlib inline\n",
    "import pandas as pd"
   ]
  },
  {
   "cell_type": "markdown",
   "metadata": {},
   "source": [
    "## 【問題1】クロスバリデーション"
   ]
  },
  {
   "cell_type": "code",
   "execution_count": 70,
   "metadata": {},
   "outputs": [],
   "source": [
    "df = pd.read_csv(\"application_train.csv\")"
   ]
  },
  {
   "cell_type": "code",
   "execution_count": 71,
   "metadata": {},
   "outputs": [
    {
     "data": {
      "text/plain": [
       "SK_ID_CURR          0.002108\n",
       "TARGET              1.000000\n",
       "CNT_CHILDREN        0.019187\n",
       "AMT_INCOME_TOTAL    0.003982\n",
       "AMT_CREDIT          0.030369\n",
       "Name: TARGET, dtype: float64"
      ]
     },
     "execution_count": 71,
     "metadata": {},
     "output_type": "execute_result"
    }
   ],
   "source": [
    "df_s = np.abs(df.corr().loc[: , \"TARGET\"])\n",
    "df_s.head()"
   ]
  },
  {
   "cell_type": "code",
   "execution_count": 72,
   "metadata": {},
   "outputs": [
    {
     "data": {
      "text/plain": [
       "TARGET                         1.000000\n",
       "EXT_SOURCE_3                   0.178919\n",
       "EXT_SOURCE_2                   0.160472\n",
       "EXT_SOURCE_1                   0.155317\n",
       "DAYS_BIRTH                     0.078239\n",
       "REGION_RATING_CLIENT_W_CITY    0.060893\n",
       "REGION_RATING_CLIENT           0.058899\n",
       "DAYS_LAST_PHONE_CHANGE         0.055218\n",
       "DAYS_ID_PUBLISH                0.051457\n",
       "REG_CITY_NOT_WORK_CITY         0.050994\n",
       "FLAG_EMP_PHONE                 0.045982\n",
       "Name: TARGET, dtype: float64"
      ]
     },
     "execution_count": 72,
     "metadata": {},
     "output_type": "execute_result"
    }
   ],
   "source": [
    "df_s.sort_values(ascending = False).head(11)"
   ]
  },
  {
   "cell_type": "code",
   "execution_count": 78,
   "metadata": {},
   "outputs": [],
   "source": [
    "y = df.loc[: , \"TARGET\"]\n",
    "x0 = df.loc[: , [\"EXT_SOURCE_1\", \"EXT_SOURCE_2\",\"EXT_SOURCE_3\" , \"DAYS_BIRTH\"]]\n",
    "X1 = pd.concat([x0 , y] , axis = 1)\n",
    "X1 = X1.dropna(how = \"any\")\n",
    "X = X1.iloc[: , :4].values\n",
    "y = X1.iloc[: , 4].values"
   ]
  },
  {
   "cell_type": "code",
   "execution_count": null,
   "metadata": {},
   "outputs": [],
   "source": []
  },
  {
   "cell_type": "code",
   "execution_count": 74,
   "metadata": {},
   "outputs": [
    {
     "name": "stdout",
     "output_type": "stream",
     "text": [
      "TRAIN: [ 21918  21919  21920 ... 109586 109587 109588] TEST: [    0     1     2 ... 21915 21916 21917]\n",
      "TRAIN: [     0      1      2 ... 109586 109587 109588] TEST: [21918 21919 21920 ... 43833 43834 43835]\n",
      "TRAIN: [     0      1      2 ... 109586 109587 109588] TEST: [43836 43837 43838 ... 65751 65752 65753]\n",
      "TRAIN: [     0      1      2 ... 109586 109587 109588] TEST: [65754 65755 65756 ... 87669 87670 87671]\n",
      "TRAIN: [    0     1     2 ... 87669 87670 87671] TEST: [ 87672  87673  87674 ... 109586 109587 109588]\n"
     ]
    }
   ],
   "source": [
    "#クロスバリデーション\n",
    "from sklearn.model_selection import KFold\n",
    "kf_5 = KFold(n_splits = 5 , random_state=None, shuffle=False)\n",
    "kf_5.get_n_splits(X)\n",
    "for train_index , test_index in kf_5.split(X):\n",
    "    print(\"TRAIN:\", train_index, \"TEST:\", test_index)\n",
    "    X_train , X_test = X[train_index] , X[test_index]\n",
    "    y_train , y_test = y[train_index] , y[test_index]"
   ]
  },
  {
   "cell_type": "code",
   "execution_count": 53,
   "metadata": {},
   "outputs": [
    {
     "name": "stdout",
     "output_type": "stream",
     "text": [
      "0.9278642149929278\n",
      "0.5\n"
     ]
    }
   ],
   "source": [
    "from sklearn.linear_model import LogisticRegression\n",
    "from sklearn.metrics import roc_curve, roc_auc_score, confusion_matrix\n",
    "lr = LogisticRegression()\n",
    "lr.fit(X_train , y_train)\n",
    "y_pred = lr.predict(X_test)\n",
    "print(lr.score(X_test , y_test))\n",
    "print(roc_auc_score(y_test , y_pred))"
   ]
  },
  {
   "cell_type": "code",
   "execution_count": 54,
   "metadata": {},
   "outputs": [],
   "source": [
    "from sklearn.neighbors import KNeighborsClassifier\n",
    "from sklearn.linear_model import LogisticRegression\n",
    "from sklearn.svm import SVC\n",
    "from sklearn.tree import DecisionTreeClassifier\n",
    "from sklearn.ensemble import RandomForestClassifier\n",
    "\n",
    "knc = KNeighborsClassifier()\n",
    "lr = LogisticRegression()\n",
    "svc = SVC()\n",
    "tree = DecisionTreeClassifier()\n",
    "forest = RandomForestClassifier()"
   ]
  },
  {
   "cell_type": "code",
   "execution_count": 55,
   "metadata": {},
   "outputs": [
    {
     "name": "stdout",
     "output_type": "stream",
     "text": [
      "最近傍法 0.535054784420565\n",
      "ロジスティック回帰 0.5766310206465302\n",
      "決定木 0.53736944429676\n",
      "ランダムフォレスト 0.6376154945882366\n"
     ]
    }
   ],
   "source": [
    "from sklearn.model_selection import cross_val_score\n",
    "\n",
    "models = []\n",
    "models.append((\"最近傍法\" , knc))\n",
    "models.append((\"ロジスティック回帰\" , lr))\n",
    "#models.append((\"SVM\" , svc))\n",
    "models.append((\"決定木\" , tree))\n",
    "models.append((\"ランダムフォレスト\" ,  forest))\n",
    "\n",
    "results = []\n",
    "names = []\n",
    "for name , model in models:\n",
    "    result = cross_val_score(model , X_train , y_train , cv = kf_5  , scoring = \"roc_auc\")\n",
    "    names.append(name)\n",
    "    results.append(result)\n",
    "    \n",
    "for i in range(len(names)):\n",
    "    print(names[i],results[i].mean())"
   ]
  },
  {
   "cell_type": "code",
   "execution_count": null,
   "metadata": {},
   "outputs": [],
   "source": []
  },
  {
   "cell_type": "markdown",
   "metadata": {},
   "source": [
    "## 【問題2】グリッドサーチ"
   ]
  },
  {
   "cell_type": "code",
   "execution_count": 56,
   "metadata": {},
   "outputs": [
    {
     "data": {
      "text/plain": [
       "GridSearchCV(cv=5, error_score='raise',\n",
       "       estimator=LogisticRegression(C=1.0, class_weight=None, dual=False, fit_intercept=True,\n",
       "          intercept_scaling=1, max_iter=100, multi_class='ovr', n_jobs=1,\n",
       "          penalty='l2', random_state=None, solver='liblinear', tol=0.0001,\n",
       "          verbose=0, warm_start=False),\n",
       "       fit_params=None, iid=True, n_jobs=1,\n",
       "       param_grid={'C': [0.1, 1, 10, 100]}, pre_dispatch='2*n_jobs',\n",
       "       refit=True, return_train_score='warn', scoring='roc_auc', verbose=0)"
      ]
     },
     "execution_count": 56,
     "metadata": {},
     "output_type": "execute_result"
    }
   ],
   "source": [
    "from sklearn.model_selection import GridSearchCV\n",
    "\n",
    "LogisticRegression(penalty=\"L1\" or 'L2')\n",
    "parameters = {\"C\" : [0.1 , 1 , 10 , 100]}\n",
    "\n",
    "clf = GridSearchCV(estimator = lr , param_grid = parameters , cv = 5 , scoring = \"roc_auc\")\n",
    "clf.fit(X , y)"
   ]
  },
  {
   "cell_type": "code",
   "execution_count": 57,
   "metadata": {},
   "outputs": [
    {
     "data": {
      "text/plain": [
       "0.57462774829578"
      ]
     },
     "execution_count": 57,
     "metadata": {},
     "output_type": "execute_result"
    }
   ],
   "source": [
    "clf.best_score_"
   ]
  },
  {
   "cell_type": "code",
   "execution_count": 58,
   "metadata": {},
   "outputs": [
    {
     "data": {
      "text/plain": [
       "{'C': 0.1}"
      ]
     },
     "execution_count": 58,
     "metadata": {},
     "output_type": "execute_result"
    }
   ],
   "source": [
    "clf.best_params_"
   ]
  },
  {
   "cell_type": "code",
   "execution_count": null,
   "metadata": {},
   "outputs": [],
   "source": []
  },
  {
   "cell_type": "markdown",
   "metadata": {},
   "source": [
    "## 【問題3】Kernelからの調査"
   ]
  },
  {
   "cell_type": "code",
   "execution_count": 30,
   "metadata": {},
   "outputs": [],
   "source": [
    "#KaggleのKernelから様々なアイデアを見つけ出して、列挙してください。"
   ]
  },
  {
   "cell_type": "code",
   "execution_count": null,
   "metadata": {},
   "outputs": [],
   "source": []
  },
  {
   "cell_type": "code",
   "execution_count": null,
   "metadata": {},
   "outputs": [],
   "source": []
  },
  {
   "cell_type": "code",
   "execution_count": null,
   "metadata": {},
   "outputs": [],
   "source": []
  },
  {
   "cell_type": "code",
   "execution_count": null,
   "metadata": {},
   "outputs": [],
   "source": []
  },
  {
   "cell_type": "code",
   "execution_count": null,
   "metadata": {},
   "outputs": [],
   "source": []
  }
 ],
 "metadata": {
  "kernelspec": {
   "display_name": "Python 3",
   "language": "python",
   "name": "python3"
  },
  "language_info": {
   "codemirror_mode": {
    "name": "ipython",
    "version": 3
   },
   "file_extension": ".py",
   "mimetype": "text/x-python",
   "name": "python",
   "nbconvert_exporter": "python",
   "pygments_lexer": "ipython3",
   "version": "3.7.2"
  }
 },
 "nbformat": 4,
 "nbformat_minor": 2
}
