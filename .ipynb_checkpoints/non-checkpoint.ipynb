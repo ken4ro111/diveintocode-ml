{
 "cells": [
  {
   "cell_type": "markdown",
   "metadata": {},
   "source": [
    "## 学習フロー"
   ]
  },
  {
   "cell_type": "code",
   "execution_count": 2,
   "metadata": {},
   "outputs": [],
   "source": [
    "import numpy as np\n",
    "import matplotlib.pyplot as plt\n",
    "%matplotlib inline\n",
    "import pandas as pd\n",
    "import seaborn as sns"
   ]
  },
  {
   "cell_type": "code",
   "execution_count": 3,
   "metadata": {},
   "outputs": [],
   "source": [
    "df = pd.read_csv(\"application_train.csv\")"
   ]
  },
  {
   "cell_type": "code",
   "execution_count": null,
   "metadata": {},
   "outputs": [],
   "source": [
    "df_s = np.abs(df.corr().iloc[: , 1])"
   ]
  },
  {
   "cell_type": "code",
   "execution_count": null,
   "metadata": {},
   "outputs": [],
   "source": [
    "df_s.sort_values(ascending = False).head(10)"
   ]
  },
  {
   "cell_type": "code",
   "execution_count": null,
   "metadata": {},
   "outputs": [],
   "source": [
    "y = df.loc[: , \"TARGET\"]\n",
    "x0 = df.loc[: , [\"EXT_SOURCE_1\", \"EXT_SOURCE_2\",\"EXT_SOURCE_3\" , \"DAYS_BIRTH\"]]\n",
    "X1 = pd.concat([x0 , y] , axis = 1)\n",
    "X1 = X1.dropna(how = \"any\" )\n",
    "X = X1.iloc[: , [0,3]].values\n",
    "y = X1.iloc[: , 4].values"
   ]
  },
  {
   "cell_type": "code",
   "execution_count": null,
   "metadata": {},
   "outputs": [],
   "source": []
  },
  {
   "cell_type": "code",
   "execution_count": null,
   "metadata": {},
   "outputs": [],
   "source": [
    "#【問題1】クロスバリデーション\n",
    "from sklearn.model_selection import KFold\n",
    "kf_5 = KFold(n_splits=5, random_state=None, shuffle=False)\n",
    "kf_5.get_n_splits(X)\n",
    "for train_index , test_index in kf_5.split(X):\n",
    "    print(\"train : \" , train_index , \"test : \" , test_index)"
   ]
  },
  {
   "cell_type": "code",
   "execution_count": null,
   "metadata": {},
   "outputs": [],
   "source": [
    "X_train , X_test = X[train_index] , X[test_index]\n",
    "y_train , y_test = y[train_index] , y[test_index]"
   ]
  },
  {
   "cell_type": "code",
   "execution_count": null,
   "metadata": {},
   "outputs": [],
   "source": [
    "print(X_train,y_train)"
   ]
  },
  {
   "cell_type": "code",
   "execution_count": null,
   "metadata": {},
   "outputs": [],
   "source": []
  },
  {
   "cell_type": "code",
   "execution_count": null,
   "metadata": {},
   "outputs": [],
   "source": [
    "from sklearn.neighbors import KNeighborsClassifier\n",
    "from sklearn.linear_model import LogisticRegression\n",
    "from sklearn.svm import SVC\n",
    "from sklearn.tree import DecisionTreeClassifier\n",
    "from sklearn.ensemble import RandomForestClassifier\n",
    "\n",
    "knc = KNeighborsClassifier()\n",
    "lr = LogisticRegression()\n",
    "svc = SVC()\n",
    "tree = DecisionTreeClassifier()\n",
    "forest = RandomForestClassifier()"
   ]
  },
  {
   "cell_type": "code",
   "execution_count": null,
   "metadata": {
    "scrolled": true
   },
   "outputs": [],
   "source": [
    "from sklearn.model_selection import cross_val_score\n",
    "\n",
    "models = []\n",
    "models.append((\"最近傍法\" , knc))\n",
    "models.append((\"ロジスティック回帰\" , lr))\n",
    "#models.append((\"SVM\" , svc))\n",
    "models.append((\"決定木\" , tree))\n",
    "models.append((\"ランダムフォレスト\" ,  forest))\n",
    "\n",
    "results = []\n",
    "names = []\n",
    "for name , model in models:\n",
    "    result = cross_val_score(model , X_train , y_train , cv = kf_5  , scoring = \"roc_auc\")\n",
    "    names.append(name)\n",
    "    results.append(result)\n",
    "    \n",
    "for i in range(len(names)):\n",
    "    print(names[i],results[i].mean())"
   ]
  },
  {
   "cell_type": "code",
   "execution_count": null,
   "metadata": {},
   "outputs": [],
   "source": []
  },
  {
   "cell_type": "markdown",
   "metadata": {},
   "source": [
    "## 【問題2】グリッドサーチ\n"
   ]
  },
  {
   "cell_type": "markdown",
   "metadata": {},
   "source": [
    "パラメータチューニング:最適なパラメータを探していくこと\n",
    "\n",
    "グリッドサーチ:パラメータチューニングをある程度自動化する単純な方法"
   ]
  },
  {
   "cell_type": "code",
   "execution_count": null,
   "metadata": {},
   "outputs": [],
   "source": [
    "from sklearn.model_selection import GridSearchCV , train_test_split\n",
    "\n"
   ]
  },
  {
   "cell_type": "code",
   "execution_count": null,
   "metadata": {},
   "outputs": [],
   "source": []
  },
  {
   "cell_type": "code",
   "execution_count": null,
   "metadata": {},
   "outputs": [],
   "source": []
  }
 ],
 "metadata": {
  "kernelspec": {
   "display_name": "Python 3",
   "language": "python",
   "name": "python3"
  },
  "language_info": {
   "codemirror_mode": {
    "name": "ipython",
    "version": 3
   },
   "file_extension": ".py",
   "mimetype": "text/x-python",
   "name": "python",
   "nbconvert_exporter": "python",
   "pygments_lexer": "ipython3",
   "version": "3.7.2"
  }
 },
 "nbformat": 4,
 "nbformat_minor": 2
}
