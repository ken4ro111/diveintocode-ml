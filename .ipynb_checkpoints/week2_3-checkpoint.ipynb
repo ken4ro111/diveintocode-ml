{
 "cells": [
  {
   "cell_type": "code",
   "execution_count": 2,
   "metadata": {
    "colab": {},
    "colab_type": "code",
    "id": "yJU6aUUICWYA"
   },
   "outputs": [],
   "source": [
    "import numpy as np\n",
    "a_ndarray = np.array([[-1 , 2 , 3] , [4 , -5 , 6 ] , [7,  8, -9 ]])\n",
    "b_ndarray = np.array([[0 , 2 , 1 ] , [0 , 2 , -8 ] , [2 , 9 , -1 ]])"
   ]
  },
  {
   "cell_type": "markdown",
   "metadata": {
    "colab_type": "text",
    "id": "q-cFMlWRE7w9"
   },
   "source": [
    "# 問１ 行列積を手計算する"
   ]
  },
  {
   "cell_type": "code",
   "execution_count": 3,
   "metadata": {
    "colab": {},
    "colab_type": "code",
    "id": "6op95RMsE-ak"
   },
   "outputs": [],
   "source": [
    "a_ndarray = np.array([[ -1 , 2 , 3] , [4 , -5 , 6 ] , [7,  8, -9 ]])\n",
    "b_ndarray = np.array([[0 , 2 , 1 ] , [0 , 2 , -8 ] , [2 , 9 , -1 ]])\n",
    "\n"
   ]
  },
  {
   "cell_type": "code",
   "execution_count": 4,
   "metadata": {
    "colab": {},
    "colab_type": "code",
    "id": "bUiuW6q0GMF5"
   },
   "outputs": [],
   "source": [
    "ab1 = (-1 * 0) + (2 * 0) + (3 * 2)\n",
    "ab2 = (-1 * 2) + (2 * 2) + (3 * 9)\n",
    "ab3 = (-1 * 1) + (2 * -8) + (3 * -1)\n",
    "ab4 = (4 * 0) + (-5 * 0) + (6 * 2)\n",
    "ab5 = (4 * 2) + (-5 * 2) + (6 * 9)\n",
    "ab6 = (4 * 1) + (-5 * -8) + (6 * -1)\n",
    "ab7 = (7 * 0) + ( 8 * 0) + (-9 * 2)\n",
    "ab8 = (7 * 2) + ( 8 * 2) + (-9 * 9)\n",
    "ab9 = (7 * 1) + ( 8 * -8) + (-9 * -1)"
   ]
  },
  {
   "cell_type": "code",
   "execution_count": 5,
   "metadata": {
    "colab": {
     "base_uri": "https://localhost:8080/",
     "height": 85
    },
    "colab_type": "code",
    "id": "rmjXi4L8KG5s",
    "outputId": "95dcac05-cd71-45ba-9cad-3b3a8eda9622"
   },
   "outputs": [
    {
     "name": "stdout",
     "output_type": "stream",
     "text": [
      "6 29 -20 12 52 38 -18 -51 -48\n",
      "[[  6  29 -20]\n",
      " [ 12  52  38]\n",
      " [-18 -51 -48]]\n"
     ]
    }
   ],
   "source": [
    "print(ab1,ab2,ab3,ab4,ab5,ab6,ab7,ab8,ab9)\n",
    "ab_list_ndarray = np.array([[ab1,ab2,ab3],[ab4,ab5,ab6],[ab7,ab8,ab9]])\n",
    "print(ab_list_ndarray)"
   ]
  },
  {
   "cell_type": "markdown",
   "metadata": {
    "colab_type": "text",
    "id": "ML53Ua4jNG9F"
   },
   "source": [
    "行列A\n",
    "|a11 a12 a13|\n",
    "|a21 a22 a23|\n",
    "|a31 a32 a33|\n",
    "\n",
    "行列B\n",
    "|b11 b12 b13|\n",
    "|b21 b22 b23|\n",
    "|b31 b32 b33|\n",
    "\n",
    "があったとき、\n",
    "A×Bは\n",
    "|a11×b11+a12×b21+a13×b31,\n",
    "a11×b12+a12×b22+a13×b32,\n",
    "a11×b13+a12×b23+a13×b33|,\n",
    "|a21×b11+a22×b21+a23×b31,\n",
    "a21×b12+a22×b22+a23×b32,　a21×b13+a22×b23+a23×b33|,\n",
    "|a31×b11+a32×b21+a33×b31,\n",
    "a31×b12+a32×b22+a33×b32,\n",
    "a31×b13+a32×b23+a33×b33|\n"
   ]
  },
  {
   "cell_type": "code",
   "execution_count": null,
   "metadata": {
    "colab": {},
    "colab_type": "code",
    "id": "E0S_QBoTL5UP"
   },
   "outputs": [],
   "source": []
  },
  {
   "cell_type": "code",
   "execution_count": null,
   "metadata": {
    "colab": {},
    "colab_type": "code",
    "id": "Wl8IGe-MR8Kq"
   },
   "outputs": [],
   "source": []
  },
  {
   "cell_type": "markdown",
   "metadata": {
    "colab_type": "text",
    "id": "aSy-p5jQR8c8"
   },
   "source": [
    "# 問２ NumPyの関数による計算"
   ]
  },
  {
   "cell_type": "code",
   "execution_count": 6,
   "metadata": {
    "colab": {
     "base_uri": "https://localhost:8080/",
     "height": 68
    },
    "colab_type": "code",
    "id": "lIcQ6lMLR-nj",
    "outputId": "ad8366dd-8550-4b97-a47f-0c598f303523"
   },
   "outputs": [
    {
     "data": {
      "text/plain": [
       "array([[  6,  29, -20],\n",
       "       [ 12,  52,  38],\n",
       "       [-18, -51, -48]])"
      ]
     },
     "execution_count": 6,
     "metadata": {},
     "output_type": "execute_result"
    }
   ],
   "source": [
    "a = np.array([[ -1 , 2 , 3] , [4 , -5 , 6 ] , [7,  8, -9 ]])\n",
    "b = np.array([[0 , 2 , 1 ] , [0 , 2 , -8 ] , [2 , 9 , -1 ]])\n",
    "np.matmul(a, b)"
   ]
  },
  {
   "cell_type": "code",
   "execution_count": 7,
   "metadata": {
    "colab": {
     "base_uri": "https://localhost:8080/",
     "height": 68
    },
    "colab_type": "code",
    "id": "alvJWeG0SQvI",
    "outputId": "e2666bb6-ad83-4137-c967-3a5c47603f95"
   },
   "outputs": [
    {
     "name": "stdout",
     "output_type": "stream",
     "text": [
      "AとBの行列積は：[[  6  29 -20]\n",
      " [ 12  52  38]\n",
      " [-18 -51 -48]]\n"
     ]
    }
   ],
   "source": [
    "c = np.dot(a, b)\n",
    "print(\"AとBの行列積は：{}\".format(c))"
   ]
  },
  {
   "cell_type": "code",
   "execution_count": 8,
   "metadata": {
    "colab": {
     "base_uri": "https://localhost:8080/",
     "height": 68
    },
    "colab_type": "code",
    "id": "gYbna9ivUnEc",
    "outputId": "c59a72f3-fd5e-4cc4-ea1a-9b1ebca65aae"
   },
   "outputs": [
    {
     "name": "stdout",
     "output_type": "stream",
     "text": [
      "AとBの行列積は:[[  6  29 -20]\n",
      " [ 12  52  38]\n",
      " [-18 -51 -48]]\n"
     ]
    }
   ],
   "source": [
    "c = a @ b\n",
    "print(\"AとBの行列積は:{}\".format(c))"
   ]
  },
  {
   "cell_type": "code",
   "execution_count": null,
   "metadata": {
    "colab": {},
    "colab_type": "code",
    "id": "aASQeNx3UnHB"
   },
   "outputs": [],
   "source": []
  },
  {
   "cell_type": "markdown",
   "metadata": {
    "colab_type": "text",
    "id": "2MHwbXe9UnTN"
   },
   "source": [
    "# 問３ ある要素の計算を実装"
   ]
  },
  {
   "cell_type": "code",
   "execution_count": 9,
   "metadata": {
    "colab": {
     "base_uri": "https://localhost:8080/",
     "height": 34
    },
    "colab_type": "code",
    "id": "tMm9qrvqUpf8",
    "outputId": "3375bd61-e5e5-488f-ee36-17e1b61ee42c"
   },
   "outputs": [
    {
     "name": "stdout",
     "output_type": "stream",
     "text": [
      "6\n"
     ]
    }
   ],
   "source": [
    "a_ndarray = [[-1 , 2 , 3] , [4 , -5 , 6 ] , [7,  8, -9 ]]\n",
    "b_ndarray = [[0 , 2 , 1 ] , [0 , 2 , -8 ] , [2 , 9 , -1 ]]\n",
    "\n",
    "\n",
    "result = []\n",
    "for e , f, g in a_ndarray:\n",
    "    result_2 = []\n",
    "    for ee , ff, gg in zip(* b_ndarray):\n",
    "        result_2.append(e * ee + f * ff + g * gg)\n",
    "    result.append(result_2)\n",
    "print(result[0][0])"
   ]
  },
  {
   "cell_type": "code",
   "execution_count": null,
   "metadata": {
    "colab": {},
    "colab_type": "code",
    "id": "AEGbdvYwVLA9"
   },
   "outputs": [],
   "source": []
  },
  {
   "cell_type": "code",
   "execution_count": null,
   "metadata": {
    "colab": {},
    "colab_type": "code",
    "id": "LXxm0Sx1ZROA"
   },
   "outputs": [],
   "source": []
  },
  {
   "cell_type": "markdown",
   "metadata": {
    "colab_type": "text",
    "id": "1d2lQnNIaIBz"
   },
   "source": [
    "# 問４ 行列積を行う関数の作成"
   ]
  },
  {
   "cell_type": "code",
   "execution_count": 10,
   "metadata": {
    "colab": {
     "base_uri": "https://localhost:8080/",
     "height": 34
    },
    "colab_type": "code",
    "id": "NlwhjEkDaKY2",
    "outputId": "921c43b2-6785-4caf-f7a4-2b17c318a3c4"
   },
   "outputs": [
    {
     "data": {
      "text/plain": [
       "[[6, 29, -20], [12, 52, 38], [-18, -51, -48]]"
      ]
     },
     "execution_count": 10,
     "metadata": {},
     "output_type": "execute_result"
    }
   ],
   "source": [
    "a_ndarray = [[-1 , 2 , 3] , [4 , -5 , 6 ] , [7,  8, -9 ]]\n",
    "b_ndarray = [[0 , 2 , 1 ] , [0 , 2 , -8 ] , [2 , 9 , -1 ]]\n",
    "\n",
    "\n",
    "result = []\n",
    "def ab_ndarray(a , b):\n",
    "    for e , f , g in a:\n",
    "        result_2 = []\n",
    "        for ee , ff , gg in zip(* b):\n",
    "            result_2.append(e * ee + f * ff + g * gg)\n",
    "        result.append(result_2)\n",
    "    return result\n",
    "\n",
    "\n",
    "ab_ndarray(a_ndarray , b_ndarray)"
   ]
  },
  {
   "cell_type": "code",
   "execution_count": null,
   "metadata": {
    "colab": {},
    "colab_type": "code",
    "id": "PreAMWJ9bKAv"
   },
   "outputs": [],
   "source": []
  },
  {
   "cell_type": "code",
   "execution_count": null,
   "metadata": {
    "colab": {},
    "colab_type": "code",
    "id": "QGw2FeOYfOFB"
   },
   "outputs": [],
   "source": []
  },
  {
   "cell_type": "markdown",
   "metadata": {
    "colab_type": "text",
    "id": "XG4TvVK2ld68"
   },
   "source": [
    "# 問５ 計算が定義されない入力を判定する"
   ]
  },
  {
   "cell_type": "code",
   "execution_count": 13,
   "metadata": {
    "colab": {
     "base_uri": "https://localhost:8080/",
     "height": 68
    },
    "colab_type": "code",
    "id": "pwyE_ss7lgBj",
    "outputId": "fb64d169-6289-48ac-ab5a-16d61e7afc79"
   },
   "outputs": [
    {
     "name": "stdout",
     "output_type": "stream",
     "text": [
      "a.shape[1] != b.shape[0] : 3 != 2\n",
      "計算結果\n",
      "None\n"
     ]
    }
   ],
   "source": [
    "def ab_ndarray(a, b):\n",
    "    c = np.empty((a.shape[0], b.shape[1]))\n",
    "\n",
    "    if a.shape[1] == b.shape[0]:\n",
    "        c = (a[:, np.newaxis, :]*b.T).sum(axis=2)\n",
    "        return c\n",
    "    else:\n",
    "        print(\"a.shape[1] != b.shape[0] : {} != {}\".format(a.shape[1], b.shape[0]))\n",
    "        return None\n",
    "        \n",
    "d = np.array([[-1, 2, 3], [4, -5, 6]])\n",
    "e = np.array([[-9, 8, 7], [6, -5, 4]])\n",
    "print(\"計算結果\\n{}\".format(ab_ndarray(d, e)))"
   ]
  },
  {
   "cell_type": "code",
   "execution_count": 17,
   "metadata": {},
   "outputs": [
    {
     "name": "stdout",
     "output_type": "stream",
     "text": [
      "NONE\n"
     ]
    }
   ],
   "source": [
    "def c_sum(a , b):\n",
    "    c = np.zeros(9).reshape(3,3)\n",
    "    if a.shape[0] == b.shape[1]:\n",
    "        for j in range(a_ndarray.shape[0]):\n",
    "            for k in range(b_ndarray.shape[1]):\n",
    "                c[j , k ] = (a[j] * b[: , k]).sum()\n",
    "                return c\n",
    "    elif a.shape[0] != b.shape[1]:\n",
    "        print(\"NONE\")\n",
    "\n",
    "c_sum(d, e)"
   ]
  },
  {
   "cell_type": "markdown",
   "metadata": {
    "colab_type": "text",
    "id": "vanEW8remNgz"
   },
   "source": [
    "# 問６ 転置"
   ]
  },
  {
   "cell_type": "code",
   "execution_count": 12,
   "metadata": {
    "colab": {
     "base_uri": "https://localhost:8080/",
     "height": 102
    },
    "colab_type": "code",
    "id": "61_9puSHmPQy",
    "outputId": "333f2cdc-375d-420c-8164-5edcddde62b9"
   },
   "outputs": [
    {
     "name": "stdout",
     "output_type": "stream",
     "text": [
      "計算結果：[[ 33 -28   9]\n",
      " [-48  41  -6]\n",
      " [  9  -6  45]]\n",
      "計算結果：[[ 46  -4]\n",
      " [-34  73]]\n"
     ]
    }
   ],
   "source": [
    "d_ndarray_ = np.array([[-1, 2, 3], [4, -5, 6]])\n",
    "e_ndarray = np.array([[-9, 8, 7], [6, -5, 4]])\n",
    "\n",
    "\n",
    "print(\"計算結果：{}\".format(d.T@e))\n",
    "print(\"計算結果：{}\".format(d@e.T))"
   ]
  },
  {
   "cell_type": "code",
   "execution_count": null,
   "metadata": {
    "colab": {},
    "colab_type": "code",
    "id": "TvDv-BN7m9Vy"
   },
   "outputs": [],
   "source": []
  },
  {
   "cell_type": "code",
   "execution_count": null,
   "metadata": {
    "colab": {},
    "colab_type": "code",
    "id": "uN_AVg0nov9L"
   },
   "outputs": [],
   "source": []
  },
  {
   "cell_type": "code",
   "execution_count": 0,
   "metadata": {
    "colab": {},
    "colab_type": "code",
    "id": "eetG7DZqpRCw"
   },
   "outputs": [],
   "source": []
  },
  {
   "cell_type": "code",
   "execution_count": 0,
   "metadata": {
    "colab": {},
    "colab_type": "code",
    "id": "jdo-hwTepiQU"
   },
   "outputs": [],
   "source": []
  }
 ],
 "metadata": {
  "colab": {
   "collapsed_sections": [],
   "name": "week2_3.ipynb",
   "provenance": []
  },
  "kernelspec": {
   "display_name": "Python 3",
   "language": "python",
   "name": "python3"
  },
  "language_info": {
   "codemirror_mode": {
    "name": "ipython",
    "version": 3
   },
   "file_extension": ".py",
   "mimetype": "text/x-python",
   "name": "python",
   "nbconvert_exporter": "python",
   "pygments_lexer": "ipython3",
   "version": "3.7.2"
  }
 },
 "nbformat": 4,
 "nbformat_minor": 1
}
