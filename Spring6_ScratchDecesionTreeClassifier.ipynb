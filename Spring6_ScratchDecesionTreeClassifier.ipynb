{
 "cells": [
  {
   "cell_type": "markdown",
   "metadata": {},
   "source": [
    "## Sprint6 機械学習スクラッチ決定木"
   ]
  },
  {
   "cell_type": "code",
   "execution_count": 32,
   "metadata": {},
   "outputs": [],
   "source": [
    "import numpy as np\n",
    "import matplotlib.pyplot as plt\n",
    "%matplotlib inline\n",
    "import pandas as pd"
   ]
  },
  {
   "cell_type": "code",
   "execution_count": 33,
   "metadata": {},
   "outputs": [
    {
     "data": {
      "text/plain": [
       "array([1, 1, 1, 1, 1, 1, 1, 1, 1, 1, 1, 1, 1, 1, 1, 1, 1, 1, 1, 1, 1, 1,\n",
       "       1, 1, 1, 1, 1, 1, 1, 1, 1, 1, 1, 1, 1, 1, 1, 1, 1, 1, 1, 1, 1, 1,\n",
       "       1, 1, 1, 1, 1, 1, 0, 0, 0, 0, 0, 0, 0, 0, 0, 0, 0, 0, 0, 0, 0, 0,\n",
       "       0, 0, 0, 0, 0, 0, 0, 0, 0, 0, 0, 0, 0, 0, 0, 0, 0, 0, 0, 0, 0, 0,\n",
       "       0, 0, 0, 0, 0, 0, 0, 0, 0, 0, 0, 0])"
      ]
     },
     "execution_count": 33,
     "metadata": {},
     "output_type": "execute_result"
    }
   ],
   "source": [
    "from sklearn.datasets import load_iris\n",
    "iris = load_iris()\n",
    "X = iris.data\n",
    "y = iris.target\n",
    "X = pd.DataFrame(X)\n",
    "y = pd.DataFrame(y)\n",
    "X.columns = [\"sepal_length\" , \"sepal_width\" , \"petal_length\" , \"petal_width\"]\n",
    "y.columns = [\"Species\"]\n",
    "df = pd.concat([X , y] , axis = 1)\n",
    "df_cn = df.query(\"Species == [1,2]\").loc[: , :]\n",
    "X = df_cn.iloc[: , 2:4].values\n",
    "y = df_cn.iloc[: , -1].values\n",
    "y[y==2]=0\n",
    "y"
   ]
  },
  {
   "cell_type": "markdown",
   "metadata": {},
   "source": [
    "## 【問題1】ジニ不純度を求める関数"
   ]
  },
  {
   "cell_type": "markdown",
   "metadata": {},
   "source": [
    "I(t):ジニ不純度\n",
    "\n",
    "t : ノードのインデックス\n",
    "\n",
    "i: クラスのインデックス\n",
    "\n",
    "K: クラスの数\n",
    "\n",
    "Ci: i番目のクラス\n",
    "\n",
    "P(Ci|t):　t番目のノードにおけるCiの割合\n",
    "\n",
    "Nt,i: t番目のノードのi番目のクラスに属するサンプル数\n",
    "\n",
    "Nt,all: t番目のノードのサンプルの総数\n",
    "\n",
    "まずは簡単な例を作り、手計算と関数の結果を比較してください。\n",
    "\n",
    "例\n",
    "\n",
    "クラス1:サンプル数15, クラス2:サンプル数15 → ジニ不純度0.500\n",
    "\n",
    "クラス1:サンプル数15, クラス2:サンプル数15, クラス3:サンプル数15 → ジニ不純度0.667\n",
    "\n",
    "クラス1:サンプル数18, クラス2:サンプル数12 → ジニ不純度0.480\n",
    "\n",
    "クラス1:サンプル数30, クラス2:サンプル数0 → ジニ不純度0.000"
   ]
  },
  {
   "cell_type": "code",
   "execution_count": 34,
   "metadata": {},
   "outputs": [],
   "source": [
    "def gini_impurity(y):\n",
    "    n = len(y)\n",
    "    num = np.unique(y)\n",
    "    a = 0\n",
    "    for i in num:\n",
    "        a += (len(y[y==i])/n)**2\n",
    "    \n",
    "    return 1 - a"
   ]
  },
  {
   "cell_type": "code",
   "execution_count": 35,
   "metadata": {},
   "outputs": [
    {
     "data": {
      "text/plain": [
       "0.5"
      ]
     },
     "execution_count": 35,
     "metadata": {},
     "output_type": "execute_result"
    }
   ],
   "source": [
    "gini_impurity(y)"
   ]
  },
  {
   "cell_type": "code",
   "execution_count": 36,
   "metadata": {},
   "outputs": [],
   "source": [
    "def gini_impurity(y):\n",
    "    val = 1\n",
    "    classes = np.unique(y)\n",
    "    numdata = len(y)\n",
    "    \n",
    "    for c in classes:\n",
    "        a = (len(y[y==c])) / numdata\n",
    "        val -=  a** 2.0\n",
    "    return val"
   ]
  },
  {
   "cell_type": "code",
   "execution_count": 37,
   "metadata": {},
   "outputs": [
    {
     "data": {
      "text/plain": [
       "0.5"
      ]
     },
     "execution_count": 37,
     "metadata": {},
     "output_type": "execute_result"
    }
   ],
   "source": [
    "gini_impurity(y)"
   ]
  },
  {
   "cell_type": "markdown",
   "metadata": {},
   "source": [
    "## 【問題2】情報利得を求める関数"
   ]
  },
  {
   "cell_type": "markdown",
   "metadata": {},
   "source": [
    "IG:情報利得\n",
    "\n",
    "I(t):ジニ不純度\n",
    "\n",
    "p: 親ノードを示すインデックス\n",
    "\n",
    "left: 左側のノードを示すインデックス\n",
    "\n",
    "right: 右側のノードを示すインデックス\n",
    "\n",
    "まずは簡単な例を作り、手計算と関数の結果を比較してください。"
   ]
  },
  {
   "cell_type": "code",
   "execution_count": 38,
   "metadata": {},
   "outputs": [],
   "source": [
    "def info_gain(t_p, t_l, t_r):\n",
    "    in_g = gini_impurity(t_p) - (len(t_l)/len(t_p))*gini_impurity(t_l) - (len(t_r)/len(t_p))*gini_impurity(t_r)\n",
    "    return in_g"
   ]
  },
  {
   "cell_type": "code",
   "execution_count": 39,
   "metadata": {},
   "outputs": [
    {
     "data": {
      "text/plain": [
       "0.14319526627218943"
      ]
     },
     "execution_count": 39,
     "metadata": {},
     "output_type": "execute_result"
    }
   ],
   "source": [
    "clas1 = np.zeros(30)\n",
    "clas2 = np.ones(35)\n",
    "h= np.concatenate([clas1, clas2], 0)\n",
    "clas_left1 = np.zeros(10)\n",
    "clas_left2 = np.ones(30)\n",
    "y_left = np.concatenate([clas_left1, clas_left2], 0)\n",
    "clas_right1 = np.zeros(20)\n",
    "clas_right2 = np.ones(5)\n",
    "y_right = np.concatenate([clas_right1, clas_right2], 0)\n",
    "info_gain(h,y_left,y_right)"
   ]
  },
  {
   "cell_type": "code",
   "execution_count": null,
   "metadata": {},
   "outputs": [],
   "source": []
  },
  {
   "cell_type": "markdown",
   "metadata": {},
   "source": [
    "## 【問題3】深さ1の決定木分類器クラスの作成"
   ]
  },
  {
   "cell_type": "code",
   "execution_count": 40,
   "metadata": {},
   "outputs": [
    {
     "name": "stdout",
     "output_type": "stream",
     "text": [
      "3.0 [48]\n",
      "3.3 [ 7 43 48]\n",
      "3.5 [ 7 10 29 43 48]\n",
      "3.6 [ 7 10 14 29 43 48]\n",
      "3.7 [ 7 10 14 29 31 43 48]\n",
      "3.8 [ 7 10 14 29 30 31 43 48]\n",
      "3.9 [ 7  9 10 14 19 29 30 31 32 43 48]\n",
      "4.0 [ 3  7  9 10 12 14 19 21 29 30 31 32 39 42 43 48]\n",
      "4.1 [ 3  7  9 10 12 14 17 19 21 29 30 31 32 38 39 42 43 48 49]\n",
      "4.2 [ 3  7  9 10 11 12 14 17 19 21 29 30 31 32 38 39 42 43 44 45 46 48 49]\n",
      "4.3 [ 3  7  9 10 11 12 14 17 19 21 24 29 30 31 32 38 39 42 43 44 45 46 47 48\n",
      " 49]\n",
      "4.4 [ 3  7  9 10 11 12 14 15 17 19 21 24 25 29 30 31 32 37 38 39 40 42 43 44\n",
      " 45 46 47 48 49]\n",
      "4.5 [ 1  3  5  7  9 10 11 12 14 15 16 17 18 19 21 24 25 28 29 30 31 32 34 35\n",
      " 37 38 39 40 42 43 44 45 46 47 48 49 56]\n",
      "4.6 [ 1  3  4  5  7  8  9 10 11 12 14 15 16 17 18 19 21 24 25 28 29 30 31 32\n",
      " 34 35 37 38 39 40 41 42 43 44 45 46 47 48 49 56]\n",
      "4.7 [ 0  1  3  4  5  6  7  8  9 10 11 12 13 14 15 16 17 18 19 21 23 24 25 28\n",
      " 29 30 31 32 34 35 36 37 38 39 40 41 42 43 44 45 46 47 48 49 56]\n",
      "4.8 [ 0  1  3  4  5  6  7  8  9 10 11 12 13 14 15 16 17 18 19 20 21 23 24 25\n",
      " 26 28 29 30 31 32 34 35 36 37 38 39 40 41 42 43 44 45 46 47 48 49 56 76\n",
      " 88]\n",
      "4.9 [ 0  1  2  3  4  5  6  7  8  9 10 11 12 13 14 15 16 17 18 19 20 21 22 23\n",
      " 24 25 26 28 29 30 31 32 34 35 36 37 38 39 40 41 42 43 44 45 46 47 48 49\n",
      " 56 71 73 76 77 88]\n",
      "5.0 [ 0  1  2  3  4  5  6  7  8  9 10 11 12 13 14 15 16 17 18 19 20 21 22 23\n",
      " 24 25 26 27 28 29 30 31 32 34 35 36 37 38 39 40 41 42 43 44 45 46 47 48\n",
      " 49 56 63 69 71 73 76 77 88 96]\n",
      "5.1 [ 0  1  2  3  4  5  6  7  8  9 10 11 12 13 14 15 16 17 18 19 20 21 22 23\n",
      " 24 25 26 27 28 29 30 31 32 33 34 35 36 37 38 39 40 41 42 43 44 45 46 47\n",
      " 48 49 51 56 60 63 64 69 71 73 76 77 83 88 91 92 96 99]\n",
      "5.2 [ 0  1  2  3  4  5  6  7  8  9 10 11 12 13 14 15 16 17 18 19 20 21 22 23\n",
      " 24 25 26 27 28 29 30 31 32 33 34 35 36 37 38 39 40 41 42 43 44 45 46 47\n",
      " 48 49 51 56 60 63 64 69 71 73 76 77 83 88 91 92 95 96 97 99]\n",
      "5.3 [ 0  1  2  3  4  5  6  7  8  9 10 11 12 13 14 15 16 17 18 19 20 21 22 23\n",
      " 24 25 26 27 28 29 30 31 32 33 34 35 36 37 38 39 40 41 42 43 44 45 46 47\n",
      " 48 49 51 56 60 61 63 64 65 69 71 73 76 77 83 88 91 92 95 96 97 99]\n",
      "5.4 [ 0  1  2  3  4  5  6  7  8  9 10 11 12 13 14 15 16 17 18 19 20 21 22 23\n",
      " 24 25 26 27 28 29 30 31 32 33 34 35 36 37 38 39 40 41 42 43 44 45 46 47\n",
      " 48 49 51 56 60 61 63 64 65 69 71 73 76 77 83 88 89 91 92 95 96 97 98 99]\n",
      "5.5 [ 0  1  2  3  4  5  6  7  8  9 10 11 12 13 14 15 16 17 18 19 20 21 22 23\n",
      " 24 25 26 27 28 29 30 31 32 33 34 35 36 37 38 39 40 41 42 43 44 45 46 47\n",
      " 48 49 51 56 60 61 62 63 64 65 66 69 71 73 76 77 83 87 88 89 91 92 95 96\n",
      " 97 98 99]\n",
      "5.6 [ 0  1  2  3  4  5  6  7  8  9 10 11 12 13 14 15 16 17 18 19 20 21 22 23\n",
      " 24 25 26 27 28 29 30 31 32 33 34 35 36 37 38 39 40 41 42 43 44 45 46 47\n",
      " 48 49 51 53 56 60 61 62 63 64 65 66 69 71 73 76 77 78 82 83 84 86 87 88\n",
      " 89 90 91 92 95 96 97 98 99]\n",
      "5.7 [ 0  1  2  3  4  5  6  7  8  9 10 11 12 13 14 15 16 17 18 19 20 21 22 23\n",
      " 24 25 26 27 28 29 30 31 32 33 34 35 36 37 38 39 40 41 42 43 44 45 46 47\n",
      " 48 49 51 53 56 60 61 62 63 64 65 66 69 70 71 73 74 76 77 78 82 83 84 86\n",
      " 87 88 89 90 91 92 94 95 96 97 98 99]\n",
      "5.8 [ 0  1  2  3  4  5  6  7  8  9 10 11 12 13 14 15 16 17 18 19 20 21 22 23\n",
      " 24 25 26 27 28 29 30 31 32 33 34 35 36 37 38 39 40 41 42 43 44 45 46 47\n",
      " 48 49 51 53 54 56 58 60 61 62 63 64 65 66 69 70 71 73 74 76 77 78 79 82\n",
      " 83 84 86 87 88 89 90 91 92 94 95 96 97 98 99]\n",
      "5.9 [ 0  1  2  3  4  5  6  7  8  9 10 11 12 13 14 15 16 17 18 19 20 21 22 23\n",
      " 24 25 26 27 28 29 30 31 32 33 34 35 36 37 38 39 40 41 42 43 44 45 46 47\n",
      " 48 49 51 52 53 54 56 58 60 61 62 63 64 65 66 69 70 71 73 74 76 77 78 79\n",
      " 82 83 84 86 87 88 89 90 91 92 93 94 95 96 97 98 99]\n",
      "6.0 [ 0  1  2  3  4  5  6  7  8  9 10 11 12 13 14 15 16 17 18 19 20 21 22 23\n",
      " 24 25 26 27 28 29 30 31 32 33 34 35 36 37 38 39 40 41 42 43 44 45 46 47\n",
      " 48 49 50 51 52 53 54 56 58 60 61 62 63 64 65 66 69 70 71 73 74 75 76 77\n",
      " 78 79 82 83 84 86 87 88 89 90 91 92 93 94 95 96 97 98 99]\n",
      "6.1 [ 0  1  2  3  4  5  6  7  8  9 10 11 12 13 14 15 16 17 18 19 20 21 22 23\n",
      " 24 25 26 27 28 29 30 31 32 33 34 35 36 37 38 39 40 41 42 43 44 45 46 47\n",
      " 48 49 50 51 52 53 54 56 58 59 60 61 62 63 64 65 66 69 70 71 73 74 75 76\n",
      " 77 78 79 80 82 83 84 85 86 87 88 89 90 91 92 93 94 95 96 97 98 99]\n",
      "6.3 [ 0  1  2  3  4  5  6  7  8  9 10 11 12 13 14 15 16 17 18 19 20 21 22 23\n",
      " 24 25 26 27 28 29 30 31 32 33 34 35 36 37 38 39 40 41 42 43 44 45 46 47\n",
      " 48 49 50 51 52 53 54 56 57 58 59 60 61 62 63 64 65 66 69 70 71 73 74 75\n",
      " 76 77 78 79 80 82 83 84 85 86 87 88 89 90 91 92 93 94 95 96 97 98 99]\n",
      "6.4 [ 0  1  2  3  4  5  6  7  8  9 10 11 12 13 14 15 16 17 18 19 20 21 22 23\n",
      " 24 25 26 27 28 29 30 31 32 33 34 35 36 37 38 39 40 41 42 43 44 45 46 47\n",
      " 48 49 50 51 52 53 54 56 57 58 59 60 61 62 63 64 65 66 69 70 71 73 74 75\n",
      " 76 77 78 79 80 81 82 83 84 85 86 87 88 89 90 91 92 93 94 95 96 97 98 99]\n",
      "6.6 [ 0  1  2  3  4  5  6  7  8  9 10 11 12 13 14 15 16 17 18 19 20 21 22 23\n",
      " 24 25 26 27 28 29 30 31 32 33 34 35 36 37 38 39 40 41 42 43 44 45 46 47\n",
      " 48 49 50 51 52 53 54 55 56 57 58 59 60 61 62 63 64 65 66 69 70 71 73 74\n",
      " 75 76 77 78 79 80 81 82 83 84 85 86 87 88 89 90 91 92 93 94 95 96 97 98\n",
      " 99]\n",
      "6.7 [ 0  1  2  3  4  5  6  7  8  9 10 11 12 13 14 15 16 17 18 19 20 21 22 23\n",
      " 24 25 26 27 28 29 30 31 32 33 34 35 36 37 38 39 40 41 42 43 44 45 46 47\n",
      " 48 49 50 51 52 53 54 55 56 57 58 59 60 61 62 63 64 65 66 67 69 70 71 72\n",
      " 73 74 75 76 77 78 79 80 81 82 83 84 85 86 87 88 89 90 91 92 93 94 95 96\n",
      " 97 98 99]\n",
      "6.9 [ 0  1  2  3  4  5  6  7  8  9 10 11 12 13 14 15 16 17 18 19 20 21 22 23\n",
      " 24 25 26 27 28 29 30 31 32 33 34 35 36 37 38 39 40 41 42 43 44 45 46 47\n",
      " 48 49 50 51 52 53 54 55 56 57 58 59 60 61 62 63 64 65 66 67 68 69 70 71\n",
      " 72 73 74 75 76 77 78 79 80 81 82 83 84 85 86 87 88 89 90 91 92 93 94 95\n",
      " 96 97 98 99]\n",
      "1.0 [ 7 10 12 17 29 31 43]\n",
      "1.1 [ 7 10 12 17 19 29 30 31 43 48]\n",
      "1.2 [ 7 10 12 17 19 23 29 30 31 32 40 42 43 45 48]\n",
      "1.3 [ 3  5  7  8 10 12 14 17 19 21 23 24 29 30 31 32 37 38 39 40 42 43 44 45\n",
      " 46 47 48 49]\n",
      "1.4 [ 0  3  5  7  8  9 10 12 13 14 15 17 19 21 23 24 25 26 29 30 31 32 37 38\n",
      " 39 40 41 42 43 44 45 46 47 48 49 84]\n",
      "1.5 [ 0  1  2  3  4  5  7  8  9 10 11 12 13 14 15 16 17 18 19 21 22 23 24 25\n",
      " 26 28 29 30 31 32 34 36 37 38 39 40 41 42 43 44 45 46 47 48 49 69 83 84]\n",
      "1.6 [ 0  1  2  3  4  5  6  7  8  9 10 11 12 13 14 15 16 17 18 19 21 22 23 24\n",
      " 25 26 28 29 30 31 32 33 34 35 36 37 38 39 40 41 42 43 44 45 46 47 48 49\n",
      " 69 79 83 84]\n",
      "1.7 [ 0  1  2  3  4  5  6  7  8  9 10 11 12 13 14 15 16 17 18 19 21 22 23 24\n",
      " 25 26 27 28 29 30 31 32 33 34 35 36 37 38 39 40 41 42 43 44 45 46 47 48\n",
      " 49 56 69 79 83 84]\n",
      "1.8 [ 0  1  2  3  4  5  6  7  8  9 10 11 12 13 14 15 16 17 18 19 20 21 22 23\n",
      " 24 25 26 27 28 29 30 31 32 33 34 35 36 37 38 39 40 41 42 43 44 45 46 47\n",
      " 48 49 53 56 57 58 66 69 73 75 76 77 79 83 84 87 88 99]\n",
      "1.9 [ 0  1  2  3  4  5  6  7  8  9 10 11 12 13 14 15 16 17 18 19 20 21 22 23\n",
      " 24 25 26 27 28 29 30 31 32 33 34 35 36 37 38 39 40 41 42 43 44 45 46 47\n",
      " 48 49 51 53 56 57 58 61 66 69 73 75 76 77 79 80 83 84 87 88 92 96 99]\n",
      "2.0 [ 0  1  2  3  4  5  6  7  8  9 10 11 12 13 14 15 16 17 18 19 20 21 22 23\n",
      " 24 25 26 27 28 29 30 31 32 33 34 35 36 37 38 39 40 41 42 43 44 45 46 47\n",
      " 48 49 51 53 56 57 58 60 61 63 66 69 71 72 73 75 76 77 79 80 81 83 84 87\n",
      " 88 92 96 97 99]\n",
      "2.1 [ 0  1  2  3  4  5  6  7  8  9 10 11 12 13 14 15 16 17 18 19 20 21 22 23\n",
      " 24 25 26 27 28 29 30 31 32 33 34 35 36 37 38 39 40 41 42 43 44 45 46 47\n",
      " 48 49 51 52 53 55 56 57 58 60 61 62 63 66 69 71 72 73 74 75 76 77 78 79\n",
      " 80 81 83 84 87 88 89 92 96 97 99]\n",
      "2.2 [ 0  1  2  3  4  5  6  7  8  9 10 11 12 13 14 15 16 17 18 19 20 21 22 23\n",
      " 24 25 26 27 28 29 30 31 32 33 34 35 36 37 38 39 40 41 42 43 44 45 46 47\n",
      " 48 49 51 52 53 54 55 56 57 58 60 61 62 63 66 67 69 71 72 73 74 75 76 77\n",
      " 78 79 80 81 82 83 84 87 88 89 92 96 97 99]\n",
      "2.3 [ 0  1  2  3  4  5  6  7  8  9 10 11 12 13 14 15 16 17 18 19 20 21 22 23\n",
      " 24 25 26 27 28 29 30 31 32 33 34 35 36 37 38 39 40 41 42 43 44 45 46 47\n",
      " 48 49 51 52 53 54 55 56 57 58 60 61 62 63 65 66 67 68 69 70 71 72 73 74\n",
      " 75 76 77 78 79 80 81 82 83 84 85 87 88 89 91 92 93 95 96 97 98 99]\n",
      "2.4 [ 0  1  2  3  4  5  6  7  8  9 10 11 12 13 14 15 16 17 18 19 20 21 22 23\n",
      " 24 25 26 27 28 29 30 31 32 33 34 35 36 37 38 39 40 41 42 43 44 45 46 47\n",
      " 48 49 51 52 53 54 55 56 57 58 60 61 62 63 64 65 66 67 68 69 70 71 72 73\n",
      " 74 75 76 77 78 79 80 81 82 83 84 85 86 87 88 89 90 91 92 93 95 96 97 98\n",
      " 99]\n",
      "2.5 [ 0  1  2  3  4  5  6  7  8  9 10 11 12 13 14 15 16 17 18 19 20 21 22 23\n",
      " 24 25 26 27 28 29 30 31 32 33 34 35 36 37 38 39 40 41 42 43 44 45 46 47\n",
      " 48 49 50 51 52 53 54 55 56 57 58 59 60 61 62 63 64 65 66 67 68 69 70 71\n",
      " 72 73 74 75 76 77 78 79 80 81 82 83 84 85 86 87 88 89 90 91 92 93 94 95\n",
      " 96 97 98 99]\n"
     ]
    }
   ],
   "source": [
    "left_list = []\n",
    "right_list = []\n",
    "num_features = X.shape[1]\n",
    "for i in range(num_features):\n",
    "    for threshold in np.unique(X[: , i]):\n",
    "        left = np.array(np.where([X[: , i] <= threshold])[1])\n",
    "        right = X[: , i][X[: , i] > threshold]\n",
    "        print(threshold , left)"
   ]
  },
  {
   "cell_type": "code",
   "execution_count": 41,
   "metadata": {},
   "outputs": [],
   "source": [
    "info_list = []\n",
    "max_list = []\n",
    "threshold_list = []\n",
    "for i in range(X.shape[1]):\n",
    "    for threshold in np.unique(X[: , i]):\n",
    "        left = np.array(np.where([X[: , i] <= threshold])[1])\n",
    "        right = np.array(np.where([X[: , i] > threshold])[1])\n",
    "#         print(\"fff\",np.unique(X[: , i]).shape)\n",
    "#         print(threshold , y[right].shape)\n",
    "#         print(info_gain(y , y[left] , y[right]))\n",
    "#         print(y[right].shape , y[left].shape)\n",
    "        threshold_list = np.append(threshold_list , threshold)\n",
    "        info_list = np.append(info_list , info_gain(y , y[left] , y[right]))\n",
    "max_list = np.append(max_list , info_list.max())\n",
    "max_index = np.argmax(info_list)\n",
    "p_threshold = threshold_list[max_index]"
   ]
  },
  {
   "cell_type": "code",
   "execution_count": 42,
   "metadata": {},
   "outputs": [
    {
     "data": {
      "text/plain": [
       "array([0., 0., 0., 0., 0., 0., 0., 0., 0., 0., 1., 1., 1., 1., 1., 1., 1.,\n",
       "       1., 1., 1., 1., 1., 1., 1., 1., 1., 1., 1., 1., 1., 1., 1., 1., 1.,\n",
       "       1., 1., 1., 1., 1., 1.])"
      ]
     },
     "execution_count": 42,
     "metadata": {},
     "output_type": "execute_result"
    }
   ],
   "source": [
    "y_left"
   ]
  },
  {
   "cell_type": "code",
   "execution_count": 43,
   "metadata": {},
   "outputs": [
    {
     "data": {
      "text/plain": [
       "array([3. , 3.3, 3.5, 3.6, 3.7, 3.8, 3.9, 4. , 4.1, 4.2, 4.3, 4.4, 4.5,\n",
       "       4.6, 4.7, 4.8, 4.9, 5. , 5.1, 5.2, 5.3, 5.4, 5.5, 5.6, 5.7, 5.8,\n",
       "       5.9, 6. , 6.1, 6.3, 6.4, 6.6, 6.7, 6.9, 1. , 1.1, 1.2, 1.3, 1.4,\n",
       "       1.5, 1.6, 1.7, 1.8, 1.9, 2. , 2.1, 2.2, 2.3, 2.4, 2.5])"
      ]
     },
     "execution_count": 43,
     "metadata": {},
     "output_type": "execute_result"
    }
   ],
   "source": [
    "threshold_list"
   ]
  },
  {
   "cell_type": "code",
   "execution_count": 44,
   "metadata": {},
   "outputs": [
    {
     "data": {
      "text/plain": [
       "array([0.00505051, 0.01546392, 0.02631579, 0.03191489, 0.03763441,\n",
       "       0.04347826, 0.06179775, 0.0952381 , 0.11728395, 0.14935065,\n",
       "       0.16666667, 0.20422535, 0.26276276, 0.30083333, 0.37353535,\n",
       "       0.36994798, 0.35507246, 0.32840722, 0.25757576, 0.23529412,\n",
       "       0.21428571, 0.19444444, 0.16666667, 0.11728395, 0.0952381 ,\n",
       "       0.07471264, 0.06179775, 0.04945055, 0.03191489, 0.02631579,\n",
       "       0.02083333, 0.01546392, 0.00505051, 0.        , 0.03763441,\n",
       "       0.05555556, 0.08823529, 0.19444444, 0.25086806, 0.35336538,\n",
       "       0.38782051, 0.38969404, 0.25757576, 0.20422535, 0.14935065,\n",
       "       0.10240964, 0.08139535, 0.03191489, 0.01546392, 0.        ])"
      ]
     },
     "execution_count": 44,
     "metadata": {},
     "output_type": "execute_result"
    }
   ],
   "source": [
    "info_list"
   ]
  },
  {
   "cell_type": "code",
   "execution_count": 45,
   "metadata": {},
   "outputs": [
    {
     "data": {
      "text/plain": [
       "41"
      ]
     },
     "execution_count": 45,
     "metadata": {},
     "output_type": "execute_result"
    }
   ],
   "source": [
    "np.argmax(info_list)"
   ]
  },
  {
   "cell_type": "code",
   "execution_count": 46,
   "metadata": {},
   "outputs": [
    {
     "data": {
      "text/plain": [
       "41"
      ]
     },
     "execution_count": 46,
     "metadata": {},
     "output_type": "execute_result"
    }
   ],
   "source": [
    "max_index"
   ]
  },
  {
   "cell_type": "code",
   "execution_count": 47,
   "metadata": {},
   "outputs": [
    {
     "data": {
      "text/plain": [
       "1.7"
      ]
     },
     "execution_count": 47,
     "metadata": {},
     "output_type": "execute_result"
    }
   ],
   "source": [
    "p_threshold"
   ]
  },
  {
   "cell_type": "code",
   "execution_count": 57,
   "metadata": {},
   "outputs": [],
   "source": [
    "class ScratchDecesionTreeClassifier():\n",
    "\n",
    "\n",
    "    def __init__(self, num_iter = 1000, bias = True, verbose = True):\n",
    "        self.iter = num_iter\n",
    "        self.bias = bias\n",
    "        self.verbose = verbose\n",
    "        self.g_imp = None\n",
    "        self.info_g = None\n",
    "        self.y_left = np.array([])\n",
    "        judge_1 = None\n",
    "        self.whethere = None\n",
    "     \n",
    "    def _get_gini_impurity(self, y):\n",
    "        numdata = len(y)\n",
    "        classes = np.unique(y)\n",
    "        a = 0\n",
    "        for c in classes:\n",
    "            a += (len(y[y==c])/numdata)**2\n",
    "        return 1 - a\n",
    "    \n",
    "    def _get_info_gain(self , y):\n",
    "        info_g = self.g_imp  -  (len(self.y_left)/len(y))*self.g_imp_left  -  (len(self.y_right)/len(y))*self.g_imp_right\n",
    "        return info_g\n",
    "    \n",
    "                \n",
    "    def fit(self , X , y):\n",
    "        info_list = []\n",
    "        max_list = []\n",
    "        threshold_list = []\n",
    "        for i in range(X.shape[1]):\n",
    "            for threshold in np.unique(X[: , i]):\n",
    "                left = np.array(np.where([X[: , i] <= threshold])[1])\n",
    "                right = np.array(np.where([X[: , i] > threshold])[1])\n",
    "#                 print(info_gain(y , y[left] , y[right]))\n",
    "#                 print(y[right].shape , y[left].shape) \n",
    "                self.y_left = y[left]\n",
    "                self.y_right = y[right]\n",
    "                threshold_list = np.append(threshold_list , threshold)\n",
    "                info_list = np.append(info_list , info_gain(y , y[left] , y[right]))\n",
    "        \n",
    "\n",
    "        for i in range(self.iter):\n",
    "            self.g_imp = self._get_gini_impurity(y)\n",
    "            self.g_imp_left = self._get_gini_impurity(self.y_left)\n",
    "            self.g_imp_right = self._get_gini_impurity(self.y_right)\n",
    "            self.info_g = self._get_info_gain(y)\n",
    "       \n",
    "    \n",
    "\n",
    "        max_list = np.append(max_list , info_list.max())\n",
    "        max_index = np.argmax(info_list)\n",
    "        self.p_threshold = threshold_list[max_index]\n",
    "        \n",
    "\n",
    "        if self.verbose:\n",
    "            #verboseをTrueにした際は学習過程を出力\n",
    "            print(self.p_threshold)\n",
    "\n",
    "\n",
    "    def predict(self, X):\n",
    "        result_array = np.zeros(X.shape[0])\n",
    "        y_pred = np.where(X[:,1] <= p_threshold ,1,0)\n",
    "#         y_pred_r = np.where(X[:,0] > p_threshold ,1,0)\n",
    "\n",
    "        return y_pred"
   ]
  },
  {
   "cell_type": "code",
   "execution_count": 58,
   "metadata": {},
   "outputs": [],
   "source": [
    "tree = ScratchDecesionTreeClassifier()\n",
    "from sklearn.model_selection import train_test_split\n",
    "X_train , X_test , y_train , y_test = train_test_split(\n",
    "               X , y , test_size = 0.25)"
   ]
  },
  {
   "cell_type": "code",
   "execution_count": 59,
   "metadata": {},
   "outputs": [
    {
     "name": "stdout",
     "output_type": "stream",
     "text": [
      "1.7\n"
     ]
    }
   ],
   "source": [
    "tree.fit(X_train,y_train)"
   ]
  },
  {
   "cell_type": "code",
   "execution_count": 60,
   "metadata": {},
   "outputs": [
    {
     "data": {
      "text/plain": [
       "array([0, 0, 0, 0, 1, 1, 0, 0, 1, 0, 1, 0, 1, 0, 0, 1, 0, 1, 1, 0, 1, 1,\n",
       "       0, 1, 0])"
      ]
     },
     "execution_count": 60,
     "metadata": {},
     "output_type": "execute_result"
    }
   ],
   "source": [
    "tree.predict(X_test)"
   ]
  },
  {
   "cell_type": "code",
   "execution_count": 61,
   "metadata": {},
   "outputs": [],
   "source": [
    "import matplotlib.pyplot as plt\n",
    "from matplotlib.colors import ListedColormap\n",
    "import matplotlib.patches as mpatches\n",
    "\n",
    "def decision_region(X, y, model, step=0.01, title='decision region', xlabel='xlabel', ylabel='ylabel', target_names=['versicolor', 'virginica']):\n",
    "    \"\"\"\n",
    "    2値分類を2次元の特徴量で学習したモデルの決定領域を描く。\n",
    "    背景の色が学習したモデルによる推定値から描画される。\n",
    "    散布図の点は訓練データまたは検証データである。\n",
    "\n",
    "    Parameters\n",
    "    ----------------\n",
    "    X : ndarray, shape(n_samples, 2)\n",
    "        特徴量\n",
    "    y : ndarray, shape(n_samples,)\n",
    "        ラベル\n",
    "    model : object\n",
    "        学習したモデルのインスンタスを入れる\n",
    "    step : float, (default : 0.1)\n",
    "        推定値を計算する間隔を設定する\n",
    "    title : str\n",
    "        グラフのタイトルの文章を与える\n",
    "    xlabel, ylabel : str\n",
    "        軸ラベルの文章を与える\n",
    "    target_names= : list of str\n",
    "        凡例の一覧を与える\n",
    "    \"\"\"\n",
    "    # setting\n",
    "    scatter_color = ['red', 'blue']\n",
    "    contourf_color = ['pink', 'skyblue']\n",
    "    n_class = 2\n",
    "    marker = [\"o\" , \"^\"]\n",
    "\n",
    "    # pred\n",
    "    mesh_f0, mesh_f1  = np.meshgrid(np.arange(np.min(X[:,0])-0.5, np.max(X[:,0])+0.5, step), np.arange(np.min(X[:,1])-0.5, np.max(X[:,1])+0.5, step))\n",
    "    mesh = np.c_[np.ravel(mesh_f0),np.ravel(mesh_f1)]\n",
    "    y_pred = model.predict(mesh).reshape(mesh_f0.shape)\n",
    "\n",
    "    # plot\n",
    "    plt.title(title)\n",
    "    plt.xlabel(xlabel)\n",
    "    plt.ylabel(ylabel)\n",
    "    plt.contourf(mesh_f0, mesh_f1, y_pred, n_class-1, cmap=ListedColormap(contourf_color))\n",
    "    plt.contour(mesh_f0, mesh_f1, y_pred, n_class-1, colors='y', linewidths=3, alpha=0.5)\n",
    "    for i, target in enumerate(set(y)):\n",
    "        plt.scatter(X[y==target][:, 0], X[y==target][:, 1], s=80, color=scatter_color[i], label=target_names[i], marker=marker[i])\n",
    "    patches = [mpatches.Patch(color=scatter_color[i], label=target_names[i]) for i in range(n_class)]\n",
    "#     plt.scatter(svm.Xn[: , 0], svm.Xn[:,1] , color = \"white\")\n",
    "    plt.legend(handles=patches)\n",
    "    plt.legend()\n",
    "    plt.show()"
   ]
  },
  {
   "cell_type": "markdown",
   "metadata": {},
   "source": [
    "## 【問題6】指標値の算出"
   ]
  },
  {
   "cell_type": "code",
   "execution_count": 62,
   "metadata": {},
   "outputs": [],
   "source": [
    "from sklearn.metrics import accuracy_score , precision_score , recall_score, f1_score ,  confusion_matrix"
   ]
  },
  {
   "cell_type": "code",
   "execution_count": 63,
   "metadata": {},
   "outputs": [],
   "source": [
    "def learn_model(X , y , model = tree):\n",
    "    X_train , X_test , y_train , y_test = train_test_split(\n",
    "                  X , y , test_size = 0.25)\n",
    "    model.fit(X_train , y_train)\n",
    "    y_pred = model.predict(X_test)  \n",
    "    score = accuracy_score(y_test , y_pred)\n",
    "    pre_score = precision_score(y_test , y_pred)\n",
    "    re_score = recall_score(y_test , y_pred)\n",
    "    f_score = f1_score(y_test , y_pred)\n",
    "    con_mat = confusion_matrix(y_test , y_pred)\n",
    "    \n",
    "    print(\"accuracy_score :\" , score)\n",
    "    print(\"precision_score :\" , pre_score)\n",
    "    print(\"recall_score :\" , re_score)\n",
    "    print(\"f1_score :\" , f_score)\n",
    "    print(\"confusion_matrix :\" , con_mat)"
   ]
  },
  {
   "cell_type": "code",
   "execution_count": 64,
   "metadata": {},
   "outputs": [
    {
     "name": "stdout",
     "output_type": "stream",
     "text": [
      "1.7\n",
      "accuracy_score : 0.88\n",
      "precision_score : 0.875\n",
      "recall_score : 0.9333333333333333\n",
      "f1_score : 0.9032258064516129\n",
      "confusion_matrix : [[ 8  2]\n",
      " [ 1 14]]\n"
     ]
    }
   ],
   "source": [
    "learn_model(X , y)"
   ]
  },
  {
   "cell_type": "markdown",
   "metadata": {},
   "source": [
    "## 【問題7】決定領域の可視化\n"
   ]
  },
  {
   "cell_type": "code",
   "execution_count": 65,
   "metadata": {},
   "outputs": [
    {
     "data": {
      "image/png": "[encoded data removed]",
      "text/plain": [
       "<Figure size 432x288 with 1 Axes>"
      ]
     },
     "metadata": {
      "needs_background": "light"
     },
     "output_type": "display_data"
    }
   ],
   "source": [
    "decision_region(X_train , y_train , tree ,  title='decision region', xlabel='sepal length', \n",
    "                             ylabel='sepal length' )"
   ]
  },
  {
   "cell_type": "code",
   "execution_count": 66,
   "metadata": {},
   "outputs": [],
   "source": [
    "import numpy as np\n",
    "\n",
    "np.random.seed(seed=0)\n",
    "n_samples = 500\n",
    "f0 = [-1, 2]\n",
    "f1 = [2, -1]\n",
    "cov = [[1.0,0.8], [0.8, 1.0]]\n",
    "\n",
    "f0 = np.random.multivariate_normal(f0, cov, int(n_samples/2))\n",
    "f1 = np.random.multivariate_normal(f1, cov, int(n_samples/2))\n",
    "\n",
    "X = np.concatenate((f0, f1))\n",
    "y = np.concatenate((np.ones((int(n_samples/2))), np.ones((int(n_samples/2))) *(-1))).astype(np.int)\n",
    "\n",
    "random_index = np.random.permutation(np.arange(n_samples))\n",
    "X = X[random_index]\n",
    "y = y[random_index]\n",
    "# y[y==1]=0\n",
    "# y[y==-1]=1"
   ]
  },
  {
   "cell_type": "code",
   "execution_count": 67,
   "metadata": {},
   "outputs": [],
   "source": [
    "from sklearn.model_selection import train_test_split\n",
    "X_train , X_test , y_train , y_test = train_test_split(\n",
    "               X , y , test_size = 0.25)"
   ]
  },
  {
   "cell_type": "code",
   "execution_count": 68,
   "metadata": {},
   "outputs": [
    {
     "data": {
      "image/png": "[encoded data removed]",
      "text/plain": [
       "<Figure size 432x288 with 1 Axes>"
      ]
     },
     "metadata": {
      "needs_background": "light"
     },
     "output_type": "display_data"
    }
   ],
   "source": [
    "decision_region(X_train , y_train , tree ,  title='decision region', xlabel='sepal length', \n",
    "                             ylabel='sepal length' )"
   ]
  },
  {
   "cell_type": "markdown",
   "metadata": {},
   "source": [
    "## 【問題8】決定木の利用場面"
   ]
  },
  {
   "cell_type": "markdown",
   "metadata": {},
   "source": [
    "・処理結果が解釈しやすく妥当性を判断しやすい\n",
    "\n",
    "・「分類」にも「回帰」にも利用可能"
   ]
  }
 ],
 "metadata": {
  "kernelspec": {
   "display_name": "Python 3",
   "language": "python",
   "name": "python3"
  },
  "language_info": {
   "codemirror_mode": {
    "name": "ipython",
    "version": 3
   },
   "file_extension": ".py",
   "mimetype": "text/x-python",
   "name": "python",
   "nbconvert_exporter": "python",
   "pygments_lexer": "ipython3",
   "version": "3.7.2"
  }
 },
 "nbformat": 4,
 "nbformat_minor": 2
}
