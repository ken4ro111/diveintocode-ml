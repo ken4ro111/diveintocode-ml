{
 "cells": [
  {
   "cell_type": "markdown",
   "metadata": {},
   "source": [
    "## 機械学習スクラッチ　線形回帰"
   ]
  },
  {
   "cell_type": "markdown",
   "metadata": {},
   "source": [
    "**Sprintの目的**\n",
    "\n",
    "スクラッチを通して線形回帰を理解する\n",
    "\n",
    "オブジェクト指向を意識した実装に慣れる\n",
    "\n",
    "数式をコードに落とし込めるようにする"
   ]
  },
  {
   "cell_type": "code",
   "execution_count": 1,
   "metadata": {},
   "outputs": [],
   "source": [
    "import numpy as np\n",
    "import matplotlib.pyplot as plt\n",
    "%matplotlib inline\n",
    "import pandas as pd"
   ]
  },
  {
   "cell_type": "code",
   "execution_count": 2,
   "metadata": {},
   "outputs": [],
   "source": [
    "df = pd.read_csv(\"train.csv\")"
   ]
  },
  {
   "cell_type": "code",
   "execution_count": 3,
   "metadata": {},
   "outputs": [],
   "source": [
    "X = df.loc[: , [\"GrLivArea\" , \"YearBuilt\"]].values\n",
    "y = df.loc[: , \"SalePrice\"].values"
   ]
  },
  {
   "cell_type": "code",
   "execution_count": 51,
   "metadata": {},
   "outputs": [],
   "source": [
    "class ScratchLinearRegression():\n",
    "    \"\"\"\n",
    "    線形回帰のスクラッチ実装\n",
    "\n",
    "    Parameters\n",
    "    ----------\n",
    "    num_iter : int\n",
    "      イテレーション数\n",
    "    lr : float\n",
    "      学習率\n",
    "    no_bias : bool\n",
    "      バイアス項を入れない場合はTrue\n",
    "    verbose : bool\n",
    "      学習過程を出力する場合はTrue\n",
    "\n",
    "    Attributes\n",
    "    ----------\n",
    "    self.coef_ : 次の形のndarray, shape (n_features,)\n",
    "      パラメータ\n",
    "    self.loss : 次の形のndarray, shape (self.iter,)\n",
    "      学習用データに対する損失の記録\n",
    "    self.val_loss : 次の形のndarray, shape (self.iter,)\n",
    "      検証用データに対する損失の記録\n",
    "\n",
    "    \"\"\"\n",
    "\n",
    "    def __init__(self, num_iter, lr, bias, verbose):\n",
    "        # ハイパーパラメータを属性として記録\n",
    "        self.iter = num_iter\n",
    "        self.lr = lr\n",
    "        self.bias = bias\n",
    "        self.verbose = verbose\n",
    "        self.coef_ = coef_\n",
    "        # 損失を記録する配列を用意\n",
    "        self.loss = np.zeros(self.iter)\n",
    "        self.val_loss = np.zeros(self.iter)\n",
    "\n",
    "    def fit(self, X, y, X_val=None, y_val=None):\n",
    "        \"\"\"\n",
    "        線形回帰を学習する。検証用データが入力された場合はそれに対する損失と精度もイテレーションごとに計算する。\n",
    "\n",
    "        Parameters\n",
    "        ----------\n",
    "        X : 次の形のndarray, shape (n_samples, n_features)\n",
    "            学習用データの特徴量\n",
    "        y : 次の形のndarray, shape (n_samples, )\n",
    "            学習用データの正解値\n",
    "        X_val : 次の形のndarray, shape (n_samples, n_features)\n",
    "            検証用データの特徴量\n",
    "        y_val : 次の形のndarray, shape (n_samples, )\n",
    "            検証用データの正解値\n",
    "        \"\"\"\n",
    "\n",
    "        if self.verbose == True:\n",
    "            #verboseをTrueにした際は学習過程を出力\n",
    "            print(\"\")\n",
    "        pass\n",
    "\n",
    "\n",
    "    def predict(self, X):\n",
    "        \"\"\"\n",
    "        線形回帰を使い推定する。\n",
    "\n",
    "        Parameters\n",
    "        ----------\n",
    "        X : 次の形のndarray, shape (n_samples, n_features)\n",
    "            サンプル\n",
    "\n",
    "        Returns\n",
    "        -------\n",
    "            次の形のndarray, shape (n_samples, 1)\n",
    "            線形回帰による推定結果\n",
    "        \"\"\"\n",
    "\n",
    "        pass\n",
    "        return"
   ]
  },
  {
   "cell_type": "markdown",
   "metadata": {},
   "source": [
    "## 【問題1】仮定関数\n"
   ]
  },
  {
   "cell_type": "markdown",
   "metadata": {},
   "source": [
    "線形回帰の仮定関数を実装してください。"
   ]
  },
  {
   "cell_type": "code",
   "execution_count": 52,
   "metadata": {},
   "outputs": [],
   "source": [
    "def _linear_hypothesis(X):\n",
    "    \"\"\"\n",
    "    線形の仮定関数を計算する\n",
    "\n",
    "    Parameters\n",
    "    ----------\n",
    "    X : 次の形のndarray, shape (n_samples, n_features)\n",
    "      学習データ\n",
    "\n",
    "    Returns\n",
    "    -------\n",
    "      次の形のndarray, shape (n_samples, 1)\n",
    "      線形の仮定関数による推定結果\n",
    "\n",
    "    \"\"\"\n",
    "    one = np.ones(X.shape[0]).reshape(-1 , 1)\n",
    "    X = np.concatenate([X , one] , axis = 1)\n",
    "    #X = np.insert(X , 0 , 1, axis = 1)\n",
    "    theta = np.random.rand(X.shape[1])\n",
    "    #print(theta.shape)\n",
    "    #print(X.shape)\n",
    "    #print(one.shape)\n",
    "    h = np.dot(theta , X.T)\n",
    "    return h"
   ]
  },
  {
   "cell_type": "code",
   "execution_count": 53,
   "metadata": {},
   "outputs": [
    {
     "data": {
      "text/plain": [
       "(1460,)"
      ]
     },
     "execution_count": 53,
     "metadata": {},
     "output_type": "execute_result"
    }
   ],
   "source": [
    "_linear_hypothesis(X).shape"
   ]
  },
  {
   "cell_type": "markdown",
   "metadata": {},
   "source": [
    "## 問題2】最急降下法"
   ]
  },
  {
   "cell_type": "markdown",
   "metadata": {},
   "source": [
    "最急降下法により学習させる実装を行なってください。以下の式で表されるパラメータの更新式のメソッド_gradient_descentを追加し、fit\n",
    "メソッドから呼び出すようにしてください。"
   ]
  },
  {
   "cell_type": "code",
   "execution_count": 54,
   "metadata": {},
   "outputs": [
    {
     "data": {
      "text/plain": [
       "array([-206413.30015087, -179852.28934865, -221340.24997998, ...,\n",
       "       -263817.56261946, -140660.80886631, -145860.46632466])"
      ]
     },
     "execution_count": 54,
     "metadata": {},
     "output_type": "execute_result"
    }
   ],
   "source": [
    "def error(h , y):\n",
    "    return h - y\n",
    "error(_linear_hypothesis(X) , y)"
   ]
  },
  {
   "cell_type": "code",
   "execution_count": 55,
   "metadata": {},
   "outputs": [],
   "source": [
    "def _gradient_descent(X , lr = 0.01 ):\n",
    "    \"\"\"\n",
    "    説明を記述\n",
    "    \"\"\"\n",
    "    theta = np.random.rand(X.shape[1])\n",
    "    theta = theta - lr * np.dot(error( _linear_hypothesis(X) , y) , X ) / X.shape[0]\n",
    "    return theta"
   ]
  },
  {
   "cell_type": "code",
   "execution_count": 56,
   "metadata": {},
   "outputs": [
    {
     "data": {
      "text/plain": [
       "array([2997316.4746432 , 3528609.09741693])"
      ]
     },
     "execution_count": 56,
     "metadata": {},
     "output_type": "execute_result"
    }
   ],
   "source": [
    "_gradient_descent(X)"
   ]
  },
  {
   "cell_type": "markdown",
   "metadata": {},
   "source": [
    "## 【問題3】推定"
   ]
  },
  {
   "cell_type": "markdown",
   "metadata": {},
   "source": [
    "推定する仕組みを実装してください。ScratchLinearRegressionクラスの雛形に含まれるpredictメソッドに書き加えてください。\n",
    "\n",
    "仮定関数 \n",
    "hθ(x)の出力が推定結果です。"
   ]
  },
  {
   "cell_type": "code",
   "execution_count": 57,
   "metadata": {},
   "outputs": [],
   "source": [
    "def predict(X):\n",
    "    y_pred = _linear_hypothesis(X)\n",
    "    return y_pred"
   ]
  },
  {
   "cell_type": "markdown",
   "metadata": {},
   "source": [
    "## 【問題4】平均二乗誤差"
   ]
  },
  {
   "cell_type": "markdown",
   "metadata": {},
   "source": [
    "線形回帰の指標値として用いられる平均二乗誤差（mean square error, MSE）の関数を作成してください。\n",
    "\n",
    "平均二乗誤差関数は回帰問題全般で使える関数のため、ScratchLinearRegressionクラスのメソッドではなく、別の関数として作成してください。雛形を用意してあります。\n",
    "\n",
    "平均二乗誤差は以下の数式で表されます。"
   ]
  },
  {
   "cell_type": "code",
   "execution_count": 58,
   "metadata": {},
   "outputs": [],
   "source": [
    "def MSE(y_pred, y):\n",
    "    \"\"\"\n",
    "    平均二乗誤差の計算\n",
    "\n",
    "    Parameters\n",
    "    ----------\n",
    "    y_pred : 次の形のndarray, shape (n_samples,)\n",
    "      推定した値\n",
    "    y : 次の形のndarray, shape (n_samples,)\n",
    "      正解値\n",
    "\n",
    "    Returns\n",
    "    ----------\n",
    "    mse : numpy.float\n",
    "      平均二乗誤差\n",
    "    \"\"\"\n",
    "    mse = np.sum((y_pred - y)**2) / X.shape[0]\n",
    "    \n",
    "    return mse"
   ]
  },
  {
   "cell_type": "code",
   "execution_count": 59,
   "metadata": {},
   "outputs": [
    {
     "data": {
      "text/plain": [
       "38139930115.457306"
      ]
     },
     "execution_count": 59,
     "metadata": {},
     "output_type": "execute_result"
    }
   ],
   "source": [
    "y_pred = _linear_hypothesis(X)\n",
    "MSE(y_pred , y)"
   ]
  },
  {
   "cell_type": "code",
   "execution_count": null,
   "metadata": {},
   "outputs": [],
   "source": []
  },
  {
   "cell_type": "markdown",
   "metadata": {},
   "source": [
    "## 【問題5】目的関数"
   ]
  },
  {
   "cell_type": "markdown",
   "metadata": {},
   "source": [
    "以下の数式で表される線形回帰の 目的関数（損失関数） を実装してください。そして、これをself.loss, self.val_lossに記録するようにしてください。"
   ]
  },
  {
   "cell_type": "code",
   "execution_count": 60,
   "metadata": {},
   "outputs": [],
   "source": [
    "j_theta = np.sum((y_pred - y)**2 )/ (2*X.shape[0])"
   ]
  },
  {
   "cell_type": "code",
   "execution_count": 61,
   "metadata": {},
   "outputs": [],
   "source": [
    "def j_loss(self , X , y):\n",
    "    return np.sum((y_pred - y)**2) / (2*X.shape[0])"
   ]
  },
  {
   "cell_type": "code",
   "execution_count": null,
   "metadata": {},
   "outputs": [],
   "source": []
  },
  {
   "cell_type": "code",
   "execution_count": 62,
   "metadata": {},
   "outputs": [
    {
     "data": {
      "text/plain": [
       "19069965057.728653"
      ]
     },
     "execution_count": 62,
     "metadata": {},
     "output_type": "execute_result"
    }
   ],
   "source": [
    "j_theta"
   ]
  },
  {
   "cell_type": "code",
   "execution_count": 63,
   "metadata": {},
   "outputs": [
    {
     "data": {
      "text/plain": [
       "19069965057.728653"
      ]
     },
     "execution_count": 63,
     "metadata": {},
     "output_type": "execute_result"
    }
   ],
   "source": [
    "MSE(y_pred , y) / 2"
   ]
  },
  {
   "cell_type": "code",
   "execution_count": null,
   "metadata": {},
   "outputs": [],
   "source": []
  },
  {
   "cell_type": "code",
   "execution_count": 75,
   "metadata": {},
   "outputs": [],
   "source": [
    "class ScratchLinearRegression():\n",
    "    \n",
    "    def __init__(self , num_iter = 100, lr = 0.01 , bias = True, verbose = True):\n",
    "        self.h = None\n",
    "        self.theta = None\n",
    "        \n",
    "        self.iter = num_iter\n",
    "        self.lr = lr\n",
    "        self.bias = bias\n",
    "        self.verbose = verbose\n",
    "        \n",
    "        \n",
    "        self.loss = np.zeros(self.iter)\n",
    "        self.val_loss = np.zeros(self.iter)\n",
    "        \n",
    "    def _linear_hypothesis(self , X):\n",
    "        #self.one = np.ones(X.shape[0]).reshape(-1 , 1)\n",
    "        #self.x = np.concatenate([X , self.one] , axis = 1)\n",
    "        self.h = np.dot(self.theta , X.T)\n",
    "        return self.h\n",
    "    \n",
    "    def _get_error(self , h , y):\n",
    "        return self.h - y\n",
    "    \n",
    "    def _gradient_descent(self , X , error):\n",
    "        self.theta = self.theta - self.lr * np.dot(self.error , X ) / X.shape[0]\n",
    "        return self.theta\n",
    "    \n",
    "    def _get_j_loss(self , X , y):\n",
    "        #print(self.theta)\n",
    "        return np.sum((self.y_pred - y)**2) / (2*X.shape[0])\n",
    "    \n",
    "    def _get_MSE(self , y , y_pred):\n",
    "        return  np.sum((self.y_pred - y)**2) / X.shape[0]\n",
    "    \n",
    "    def _get_predict(self, X):\n",
    "        self.y_pred = self._linear_hypothesis(X)\n",
    "        return self.y_pred\n",
    "    \n",
    "    #def _get_one(self.X):\n",
    "        #if self.bias:\n",
    "            #self.one = np.ones(X.shape[0]).reshape(-1 , 1)\n",
    "            #X = np.concatenate([self.one , X] , axis = 1)\n",
    "        #return X\n",
    "    \n",
    "    def fit(self , X , y , X_val=None, y_val=None):\n",
    "        if self.bias:\n",
    "            self.one = np.ones(X.shape[0]).reshape(-1 , 1)\n",
    "            X = np.concatenate([X , self.one] , axis = 1)\n",
    "            \n",
    "            if X_val is not None:\n",
    "                self.one = np.ones(X_val.shape[0]).reshape(-1 , 1)\n",
    "                X_val = np.concatenate([X_val , self.one] , axis = 1)\n",
    "\n",
    "        self.theta = np.random.rand(X.shape[1])\n",
    "\n",
    "        for i in range(self.iter):\n",
    "            self.h = self._linear_hypothesis(X)\n",
    "            self.error = self._get_error(self.h ,y)\n",
    "            self._gradient_descent( X , error)\n",
    "            self.y_pred = self._get_predict(X)\n",
    "            self.mse = self._get_MSE(y , self.y_pred)\n",
    "            self.loss[i] = self.mse\n",
    "            \n",
    "            if X_val is not None:\n",
    "                #self.h = self._linear_hypothesis(X)\n",
    "                self.y_pred_val = self._get_predict(X_val)\n",
    "                self.mse_val = self._get_MSE(y_val , self.y_pred_val )\n",
    "                self.val_loss[i] = self.mse_val\n",
    "\n",
    "            \n",
    "        if self.verbose:\n",
    "        #verboseをTrueにした際は学習過程を出力\n",
    "            print(self.loss)\n",
    "            \n",
    "    def predict(self , X):\n",
    "        if self.bias:\n",
    "            self.one = np.ones(X.shape[0]).reshape(-1 , 1)\n",
    "            X = np.concatenate([X , self.one] , axis = 1)\n",
    "        return self._get_predict(X)"
   ]
  },
  {
   "cell_type": "markdown",
   "metadata": {},
   "source": [
    "## 【問題6】学習と推定\n"
   ]
  },
  {
   "cell_type": "code",
   "execution_count": 76,
   "metadata": {},
   "outputs": [],
   "source": [
    "from sklearn.model_selection import train_test_split\n",
    "X_train , X_test , y_train ,y_test =  train_test_split(\n",
    "               X , y , test_size = 0.25)"
   ]
  },
  {
   "cell_type": "code",
   "execution_count": 77,
   "metadata": {},
   "outputs": [],
   "source": [
    "slr = ScratchLinearRegression(num_iter=10000, lr=0.000000001)"
   ]
  },
  {
   "cell_type": "code",
   "execution_count": 78,
   "metadata": {},
   "outputs": [
    {
     "name": "stdout",
     "output_type": "stream",
     "text": [
      "[2.85469855e+10 2.82292154e+10 2.79154132e+10 ... 2.43795140e+09\n",
      " 2.43794330e+09 2.43793521e+09]\n"
     ]
    }
   ],
   "source": [
    "slr.fit(X_train , y_train , X_test , y_test)"
   ]
  },
  {
   "cell_type": "code",
   "execution_count": 79,
   "metadata": {},
   "outputs": [],
   "source": [
    "#slr.loss"
   ]
  },
  {
   "cell_type": "code",
   "execution_count": 80,
   "metadata": {},
   "outputs": [],
   "source": [
    "#slr.val_loss"
   ]
  },
  {
   "cell_type": "markdown",
   "metadata": {},
   "source": [
    "## 【問題7】学習曲線のプロット\n"
   ]
  },
  {
   "cell_type": "code",
   "execution_count": 81,
   "metadata": {},
   "outputs": [
    {
     "data": {
      "image/png": "[encoded data removed]",
      "text/plain": [
       "<Figure size 432x288 with 1 Axes>"
      ]
     },
     "metadata": {
      "needs_background": "light"
     },
     "output_type": "display_data"
    }
   ],
   "source": [
    "plt.plot(np.arange(1 , len(slr.loss) + 1) , slr.loss , label = \"train_loss\")\n",
    "plt.plot(np.arange(1 , len(slr.val_loss) + 1) , slr.val_loss , label = \"test_loss\")\n",
    "plt.title(\"model loss\")\n",
    "plt.xlabel(\"iter\")\n",
    "plt.ylabel(\"loss\")\n",
    "plt.legend(\"train_loss\")\n",
    "plt.show()"
   ]
  },
  {
   "cell_type": "code",
   "execution_count": 82,
   "metadata": {},
   "outputs": [
    {
     "data": {
      "image/png": "[encoded data removed]",
      "text/plain": [
       "<Figure size 432x288 with 1 Axes>"
      ]
     },
     "metadata": {
      "needs_background": "light"
     },
     "output_type": "display_data"
    }
   ],
   "source": [
    "plt.plot(np.arange(1 , len(slr.val_loss) + 1) , slr.val_loss , label = \"test_loss\")\n",
    "plt.show()"
   ]
  },
  {
   "cell_type": "code",
   "execution_count": 83,
   "metadata": {},
   "outputs": [],
   "source": [
    "#np.arange(1 , len(slr.loss) + 1)"
   ]
  },
  {
   "cell_type": "code",
   "execution_count": 84,
   "metadata": {},
   "outputs": [
    {
     "data": {
      "text/plain": [
       "array([288277.4810082 , 202313.80336037, 149634.86701574, 192460.23077284,\n",
       "       168174.69228232, 216271.67006545, 225426.09423362, 140286.08999338,\n",
       "       210294.97991127, 194185.11578578, 196570.16267931, 254872.50476246,\n",
       "       187291.64840271, 240316.59371098, 260128.55316498, 132969.07544889,\n",
       "       162217.42291756, 189948.87626807, 289460.36654021, 227840.48975118,\n",
       "       180301.07707251, 166704.3500748 , 132949.65465946, 193291.46955229,\n",
       "       113087.14316898, 198166.81249806, 333437.91946205, 123702.12666999,\n",
       "       170328.7622456 , 169957.83966354, 181722.64986656,  98220.06460688,\n",
       "       158043.30093403, 275166.41870609, 191446.20463688, 239042.24202075,\n",
       "       112498.5917774 , 188592.84129431, 121404.25588899, 138403.91108207,\n",
       "       195577.62987566, 278256.83164762, 142036.1785446 , 145563.48676827,\n",
       "       199845.14560036, 186976.77068612, 238290.46902202, 178436.39136767,\n",
       "       144619.57841815, 154958.81570128, 254186.84942375, 225501.84980838,\n",
       "       200225.70609716, 126330.15087124, 224818.12205261, 137123.92160292,\n",
       "       116155.91781827, 179687.03222279, 124613.12115003, 164443.53824964,\n",
       "       196748.94990998, 132949.65465946, 147004.77027161, 207913.64322371,\n",
       "       199689.63432501, 185014.98103416, 126310.73008182, 240827.172025  ,\n",
       "       196226.5161784 , 157208.06202875, 135265.16360687, 202523.57687816,\n",
       "       213035.81864312, 146927.0871139 , 205742.36997381, 308116.86150328,\n",
       "       112671.45129929, 182262.86672447, 196851.83660596, 183245.61665344,\n",
       "       212977.41131491, 198271.77173693, 194398.74446948, 124962.69535971,\n",
       "       198345.59972873, 132217.44741009, 202886.78912842, 120277.7051423 ,\n",
       "       144681.69595233, 120343.67784238, 159070.6751907 , 221710.36086453,\n",
       "       166700.34994897, 241186.67406929, 272291.70699114, 232183.6160907 ,\n",
       "       202018.63635307, 223658.51247592, 220154.48020758, 231062.84809287,\n",
       "       131368.57046423, 208181.82406972, 266996.81700977, 163612.15451025,\n",
       "       160133.32578019, 180160.98646076, 195008.49927351, 228186.20879496,\n",
       "       187441.23196928, 283961.4857899 , 183329.08256   , 101634.84821981,\n",
       "       273262.89142241, 123463.14948809, 181845.24727183, 143803.61534237,\n",
       "       155485.10459876, 129554.58175581, 174943.7796371 , 177461.20681057,\n",
       "       279635.85265685, 156425.15778297, 169693.65894337, 256834.29441443,\n",
       "       249894.27512071, 132198.02662066, 158800.85668161, 154859.7841712 ,\n",
       "       236206.37188465, 153575.93952615, 173405.53714656, 237663.07605159,\n",
       "       132143.61941828, 277920.75051859, 198596.14240833, 154941.17753488,\n",
       "       233102.6108224 , 186254.2013515 , 246850.84896962, 251597.66680135,\n",
       "       209799.67730092, 164159.7917801 , 236544.2356367 , 197654.01668124,\n",
       "       179908.66115814,  98258.90618573, 265077.72410256, 173498.64096786,\n",
       "       206344.41444604, 119687.22616777, 270165.05806894, 227368.46309616,\n",
       "       210532.17447015, 238387.57296916, 141414.71328294, 181361.36519925,\n",
       "       116760.17979331, 178677.15117259, 169992.8260765 , 207249.33625737,\n",
       "       143133.52562718, 142244.02447944, 151685.90532311, 135890.48403442,\n",
       "       204988.66939214, 182332.54963052, 172997.55560866, 216778.68313343,\n",
       "       227964.86977947, 169728.64535632, 195618.39903747, 179681.24947394,\n",
       "       202375.92089455, 105970.26422754, 117832.17837769, 160193.37077149,\n",
       "       181532.29713819, 262403.14799065, 194989.07848408, 213663.06665362,\n",
       "       144926.31092315, 214443.89835652, 211880.06423233, 231000.73055869,\n",
       "       172688.75056078, 183482.52129246, 202840.23721777, 126199.9880941 ,\n",
       "       213892.26096085, 193619.6953896 , 186481.46807577, 232544.90075801,\n",
       "       228491.15867694, 127013.87862701, 190791.68054522, 273624.17608972,\n",
       "       138726.35417053, 132256.28898894, 278550.07107197, 137378.31944842,\n",
       "       169577.13420681, 141678.89400312, 177515.46905303, 222953.43634778,\n",
       "       174889.37243472, 196574.30776507, 178692.57183619, 286185.52857909,\n",
       "       217874.24759299, 171309.58459162, 186652.40001472, 132118.41588001,\n",
       "       202086.5366361 , 167615.34455484, 120780.86304438, 220321.55698062,\n",
       "       254562.0620515 , 123268.94159382, 178766.399828  , 145575.05226596,\n",
       "       196072.93248601, 141709.73533031, 188588.98612841, 258582.60034263,\n",
       "       229271.99037984, 167294.97400926, 160537.30719225, 157031.34734096,\n",
       "       286035.94501253, 152956.11192758, 130655.78400429, 200054.77415822,\n",
       "       158010.24210403, 142758.74787922, 126472.02410601, 120394.22987886,\n",
       "       157971.40052518, 205687.67285157, 149757.02954122, 186211.64956668,\n",
       "       202622.60840825, 167970.70151337, 196535.32122628, 150434.97454814,\n",
       "       190403.26475669, 124331.44722337, 138555.42223158, 271984.82952621,\n",
       "       207643.67975469, 233347.08083329, 259326.66300956, 254495.79943156,\n",
       "       160057.71516536, 213232.09908026, 205136.03545589, 116488.14378141,\n",
       "       166819.09218834, 210197.87596414, 206491.92546973, 188765.7008162 ,\n",
       "       128447.30683862, 144945.73171258, 252127.95582465, 119623.18105064,\n",
       "       198889.38183268, 168335.84134658, 137731.89378393, 137028.74523874,\n",
       "       175891.68811304, 242084.03050875, 193509.09836181, 204234.96881046,\n",
       "       464773.30178469, 118430.51264395, 202612.9704935 , 166918.12371843,\n",
       "       127631.48872277, 484022.20330524, 142121.5720341 , 202347.15211023,\n",
       "       219086.33678911, 203395.72977935, 120196.1668187 , 182083.93453387,\n",
       "       123078.58886545, 240347.72495803, 202607.18774465, 201651.42397698,\n",
       "       122843.61180938, 151173.10950629, 156064.16303552, 153950.57231418,\n",
       "       142680.91976158, 148657.75487569, 149017.25691998, 151118.84726384,\n",
       "       167199.65268515, 220570.3170372 , 145592.54547244, 182189.03873266,\n",
       "       162046.63593855, 188553.99971545, 148655.82729274,  94869.61603093,\n",
       "       210520.31905259, 168168.76457354, 198739.94322605, 128695.92193527,\n",
       "       166175.98863445, 181651.03937756, 180675.70986053, 124904.43299143,\n",
       "       207171.65309967, 159431.95985801, 225059.02681746, 160018.72862658,\n",
       "       195705.86506985, 119403.7696181 , 181681.88070476, 162897.1505475 ,\n",
       "       130444.08290354, 141542.8035172 , 142937.53510989, 202622.60840825,\n",
       "       119628.81883956, 147785.60197451, 196950.86813604, 169349.72252261,\n",
       "       175143.91524015, 202587.76695522, 181073.90852375, 180996.22536604,\n",
       "       234333.83088809, 203364.5985323 , 119609.39805013, 196739.1670353 ,\n",
       "       163814.07273632, 131982.47035402, 227556.88824158, 233376.42945733,\n",
       "       144306.77324444, 216164.92820357, 139771.3665936 , 171463.02332409,\n",
       "       163239.01442538, 210982.8527528 , 137106.42839644, 167714.37608493,\n",
       "       148014.79628173, 197215.04885622, 196873.18497834, 147971.95457705,\n",
       "       279140.5500465 , 103204.36691734, 166630.52208299, 186547.58573578,\n",
       "       186069.77633191, 198058.28801316, 245681.16659839, 168596.31186079,\n",
       "       193528.51915124, 244583.81951581, 152373.48824478, 125794.07909909,\n",
       "       191620.99174173])"
      ]
     },
     "execution_count": 84,
     "metadata": {},
     "output_type": "execute_result"
    }
   ],
   "source": [
    "slr.predict(X_test)"
   ]
  },
  {
   "cell_type": "code",
   "execution_count": 85,
   "metadata": {},
   "outputs": [
    {
     "data": {
      "text/plain": [
       "(365, 2)"
      ]
     },
     "execution_count": 85,
     "metadata": {},
     "output_type": "execute_result"
    }
   ],
   "source": [
    "X_test.shape"
   ]
  },
  {
   "cell_type": "code",
   "execution_count": null,
   "metadata": {},
   "outputs": [],
   "source": []
  },
  {
   "cell_type": "code",
   "execution_count": null,
   "metadata": {},
   "outputs": [],
   "source": []
  },
  {
   "cell_type": "code",
   "execution_count": null,
   "metadata": {},
   "outputs": [],
   "source": []
  }
 ],
 "metadata": {
  "kernelspec": {
   "display_name": "Python 3",
   "language": "python",
   "name": "python3"
  },
  "language_info": {
   "codemirror_mode": {
    "name": "ipython",
    "version": 3
   },
   "file_extension": ".py",
   "mimetype": "text/x-python",
   "name": "python",
   "nbconvert_exporter": "python",
   "pygments_lexer": "ipython3",
   "version": "3.7.2"
  }
 },
 "nbformat": 4,
 "nbformat_minor": 2
}
