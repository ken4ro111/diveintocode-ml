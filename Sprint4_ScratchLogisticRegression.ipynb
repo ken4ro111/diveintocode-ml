{
 "cells": [
  {
   "cell_type": "markdown",
   "metadata": {},
   "source": [
    "## 機械学習スクラッチ　ロジスティック回帰"
   ]
  },
  {
   "cell_type": "code",
   "execution_count": 1,
   "metadata": {},
   "outputs": [],
   "source": [
    "import numpy as np\n",
    "import matplotlib.pyplot as plt\n",
    "%matplotlib inline\n",
    "import pandas as pd"
   ]
  },
  {
   "cell_type": "markdown",
   "metadata": {},
   "source": [
    "λ = ハイパーパラメーター"
   ]
  },
  {
   "cell_type": "code",
   "execution_count": 2,
   "metadata": {},
   "outputs": [],
   "source": [
    "from sklearn.datasets import load_iris\n",
    "iris = load_iris()\n",
    "X = iris.data\n",
    "y = iris.target\n",
    "X = pd.DataFrame(X)\n",
    "y = pd.DataFrame(y)\n",
    "X.columns = [\"sepal_length\" , \"sepal_width\" , \"petal_length\" , \"petal_width\"]\n",
    "y.columns = [\"Species\"]\n",
    "df = pd.concat([X , y] , axis = 1)"
   ]
  },
  {
   "cell_type": "code",
   "execution_count": 3,
   "metadata": {},
   "outputs": [],
   "source": [
    "df_cn = df.query(\"Species == [1,2]\").loc[: , :]\n",
    "X = df_cn.iloc[: , :4].values\n",
    "y = df_cn.iloc[: , -1].values"
   ]
  },
  {
   "cell_type": "code",
   "execution_count": 4,
   "metadata": {},
   "outputs": [],
   "source": [
    "y[y==2]=0\n",
    "#yを0,1にしなければ計算に誤差が生まれる"
   ]
  },
  {
   "cell_type": "code",
   "execution_count": 5,
   "metadata": {},
   "outputs": [
    {
     "data": {
      "text/plain": [
       "array([1, 1, 1, 1, 1, 1, 1, 1, 1, 1, 1, 1, 1, 1, 1, 1, 1, 1, 1, 1, 1, 1,\n",
       "       1, 1, 1, 1, 1, 1, 1, 1, 1, 1, 1, 1, 1, 1, 1, 1, 1, 1, 1, 1, 1, 1,\n",
       "       1, 1, 1, 1, 1, 1, 0, 0, 0, 0, 0, 0, 0, 0, 0, 0, 0, 0, 0, 0, 0, 0,\n",
       "       0, 0, 0, 0, 0, 0, 0, 0, 0, 0, 0, 0, 0, 0, 0, 0, 0, 0, 0, 0, 0, 0,\n",
       "       0, 0, 0, 0, 0, 0, 0, 0, 0, 0, 0, 0])"
      ]
     },
     "execution_count": 5,
     "metadata": {},
     "output_type": "execute_result"
    }
   ],
   "source": [
    "y"
   ]
  },
  {
   "cell_type": "code",
   "execution_count": 6,
   "metadata": {},
   "outputs": [],
   "source": [
    "class ScratchLogisticRegression():\n",
    "    \"\"\"\n",
    "    ロジスティック回帰のスクラッチ実装\n",
    "\n",
    "    Parameters\n",
    "    ----------\n",
    "    num_iter : int\n",
    "      イテレーション数\n",
    "    lr : float\n",
    "      学習率\n",
    "    no_bias : bool\n",
    "      バイアス項を入れない場合はTrue\n",
    "    verbose : bool\n",
    "      学習過程を出力する場合はTrue\n",
    "\n",
    "    Attributes\n",
    "    ----------\n",
    "    self.coef_ : 次の形のndarray, shape (n_features,)\n",
    "      パラメータ\n",
    "    self.loss : 次の形のndarray, shape (self.iter,)\n",
    "      学習用データに対する損失の記録\n",
    "    self.val_loss : 次の形のndarray, shape (self.iter,)\n",
    "      検証用データに対する損失の記録\n",
    "\n",
    "    \"\"\"\n",
    "\n",
    "    def __init__(self, num_iter = 100, lr = 0.01, bias = True, verbose = True):\n",
    "        # ハイパーパラメータを属性として記録\n",
    "        self.iter = num_iter\n",
    "        self.lr = lr\n",
    "        self.bias = bias\n",
    "        self.verbose = verbose\n",
    "        # 損失を記録する配列を用意\n",
    "        self.loss = np.zeros(self.iter)\n",
    "        self.val_loss = np.zeros(self.iter)\n",
    "\n",
    "    def fit(self, X, y, X_val=None, y_val=None):\n",
    "        \"\"\"\n",
    "        ロジスティック回帰を学習する。検証用データが入力された場合はそれに対する損失と精度もイテレーションごとに計算する。\n",
    "\n",
    "        Parameters\n",
    "        ----------\n",
    "        X : 次の形のndarray, shape (n_samples, n_features)\n",
    "            学習用データの特徴量\n",
    "        y : 次の形のndarray, shape (n_samples, )\n",
    "            学習用データの正解値\n",
    "        X_val : 次の形のndarray, shape (n_samples, n_features)\n",
    "            検証用データの特徴量\n",
    "        y_val : 次の形のndarray, shape (n_samples, )\n",
    "            検証用データの正解値\n",
    "        \"\"\"\n",
    "\n",
    "        if self.verbose:\n",
    "            #verboseをTrueにした際は学習過程を出力\n",
    "            print()\n",
    "        pass\n",
    "\n",
    "\n",
    "    def predict(self, X):\n",
    "        \"\"\"\n",
    "        ロジスティック回帰を使いラベルを推定する。\n",
    "\n",
    "        Parameters\n",
    "        ----------\n",
    "        X : 次の形のndarray, shape (n_samples, n_features)\n",
    "            サンプル\n",
    "\n",
    "        Returns\n",
    "        -------\n",
    "            次の形のndarray, shape (n_samples, 1)\n",
    "            ロジスティック回帰による推定結果\n",
    "        \"\"\"\n",
    "\n",
    "        pass\n",
    "        return\n",
    "\n",
    "    def predict_proba(self, X):\n",
    "        \"\"\"\n",
    "        ロジスティック回帰を使い確率を推定する。\n",
    "\n",
    "        Parameters\n",
    "        ----------\n",
    "        X : 次の形のndarray, shape (n_samples, n_features)\n",
    "            サンプル\n",
    "\n",
    "        Returns\n",
    "        -------\n",
    "            次の形のndarray, shape (n_samples, 1)\n",
    "            ロジスティック回帰による推定結果\n",
    "        \"\"\"\n",
    "\n",
    "        pass\n",
    "        return"
   ]
  },
  {
   "cell_type": "markdown",
   "metadata": {},
   "source": [
    "## 【問題1】仮定関数"
   ]
  },
  {
   "cell_type": "code",
   "execution_count": 7,
   "metadata": {},
   "outputs": [],
   "source": [
    "def _linear_hypothesis(X):\n",
    "    theta = np.random.rand(X.shape[1] + 1)\n",
    "    one = np.ones(X.shape[0]).reshape(-1 , 1)\n",
    "    X = np.concatenate([one , X] , axis = 1)\n",
    "    z = np.dot(X , theta)\n",
    "    h = 1 / (1 + np.exp(-z))\n",
    "    return h"
   ]
  },
  {
   "cell_type": "code",
   "execution_count": 8,
   "metadata": {},
   "outputs": [
    {
     "data": {
      "text/plain": [
       "array([0.99978621, 0.99972619, 0.99977828, 0.99887885, 0.9996431 ,\n",
       "       0.99935042, 0.9997586 , 0.99808333, 0.99963074, 0.9991207 ,\n",
       "       0.99751996, 0.99957152, 0.99879925, 0.99956057, 0.99932852,\n",
       "       0.99972255, 0.99950788, 0.99911634, 0.99931439, 0.99892311,\n",
       "       0.99972834, 0.99945623, 0.99950403, 0.99943609, 0.99958097,\n",
       "       0.99968271, 0.99967332, 0.99977558, 0.99956819, 0.99894734,\n",
       "       0.99876018, 0.99864225, 0.99924287, 0.99955176, 0.99945288,\n",
       "       0.99973549, 0.9997501 , 0.99928578, 0.99940162, 0.9990468 ,\n",
       "       0.99906972, 0.99959206, 0.99918444, 0.99802858, 0.99924182,\n",
       "       0.9993869 , 0.99938869, 0.99953413, 0.99850803, 0.99933246,\n",
       "       0.9998964 , 0.9996128 , 0.99987806, 0.9997345 , 0.99984488,\n",
       "       0.99991081, 0.9990957 , 0.999851  , 0.99970681, 0.99994995,\n",
       "       0.99983633, 0.99972207, 0.99985309, 0.99955548, 0.99976559,\n",
       "       0.99986774, 0.99977832, 0.99995967, 0.99990308, 0.99926332,\n",
       "       0.99990126, 0.9996301 , 0.99989249, 0.99967241, 0.99988023,\n",
       "       0.99987432, 0.99967934, 0.99971453, 0.99978782, 0.99982265,\n",
       "       0.99985717, 0.99995619, 0.99980494, 0.99961651, 0.99947276,\n",
       "       0.99992603, 0.99989323, 0.99978448, 0.99969693, 0.99987066,\n",
       "       0.99988979, 0.99988843, 0.9996128 , 0.9998973 , 0.99991446,\n",
       "       0.99986638, 0.99964814, 0.99980878, 0.99987585, 0.99968691])"
      ]
     },
     "execution_count": 8,
     "metadata": {},
     "output_type": "execute_result"
    }
   ],
   "source": [
    "_linear_hypothesis(X)"
   ]
  },
  {
   "cell_type": "markdown",
   "metadata": {},
   "source": [
    "## 問題2】最急降下法"
   ]
  },
  {
   "cell_type": "code",
   "execution_count": 9,
   "metadata": {},
   "outputs": [],
   "source": [
    "def error(h , y):\n",
    "    return h - y\n",
    "#error(_linear_hypothesis(X) , y)"
   ]
  },
  {
   "cell_type": "code",
   "execution_count": 10,
   "metadata": {},
   "outputs": [],
   "source": [
    "def _gradient_descent(X ,y , lr = 0.01, bias = True):\n",
    "    theta = np.random.rand(X.shape[1] + 1)\n",
    "    one = np.ones(X.shape[0]).reshape(-1 , 1)\n",
    "    X = np.concatenate([one , X] , axis = 1)\n",
    "    if bias:\n",
    "        theta_copy =  theta.copy()\n",
    "        theta_copy[0] = 0\n",
    "        theta = np.dot((error(_linear_hypothesis(X) , y)) , X ) / X.shape[0] + lr * theta_copy / X.shape[0]\n",
    "        return theta\n",
    "    else:\n",
    "        theta = np.dot((error(_linear_hypothesis(X) , y)) , X ) / X.shape[0] + lr * theta /X.shape[0]\n",
    "        return theta"
   ]
  },
  {
   "cell_type": "code",
   "execution_count": 11,
   "metadata": {},
   "outputs": [
    {
     "data": {
      "text/plain": [
       "array([0.49976128, 3.29265209, 1.48647367, 2.77511095, 1.01279099])"
      ]
     },
     "execution_count": 11,
     "metadata": {},
     "output_type": "execute_result"
    }
   ],
   "source": [
    "_gradient_descent(X , y)"
   ]
  },
  {
   "cell_type": "code",
   "execution_count": 12,
   "metadata": {},
   "outputs": [],
   "source": [
    "#theta = np.random.rand(X.shape[1])\n",
    "#X.shape[0] + 0.01 * theta[1:] / X.shape[0]\n",
    "#np.dot((error(_linear_hypothesis(X) , y)) , X )\n",
    "#X.shape[0] + 0.01 * theta[1:] / X.shape[0]"
   ]
  },
  {
   "cell_type": "markdown",
   "metadata": {},
   "source": [
    "## 【問題3】推定"
   ]
  },
  {
   "cell_type": "code",
   "execution_count": 13,
   "metadata": {},
   "outputs": [],
   "source": [
    "def predict(X):\n",
    "        y_pred = _linear_hypothesis(X)\n",
    "        list_ = []\n",
    "        for i in y_pred:\n",
    "            if i < 0.5:\n",
    "                list_.append(0)\n",
    "            elif i > 0.5:\n",
    "                list_.append(1)\n",
    "        return list_"
   ]
  },
  {
   "cell_type": "code",
   "execution_count": 14,
   "metadata": {},
   "outputs": [],
   "source": [
    "def predict_proba(X):\n",
    "    y_pred = _linear_hypothesis(X)\n",
    "    return y_pred"
   ]
  },
  {
   "cell_type": "code",
   "execution_count": 15,
   "metadata": {},
   "outputs": [],
   "source": [
    "#predict(X)"
   ]
  },
  {
   "cell_type": "code",
   "execution_count": 16,
   "metadata": {},
   "outputs": [],
   "source": [
    "def predict(X):\n",
    "    \n",
    "    return np.where(_linear_hypothesis(X) < 0.5 , 0 , 1)"
   ]
  },
  {
   "cell_type": "code",
   "execution_count": null,
   "metadata": {},
   "outputs": [],
   "source": []
  },
  {
   "cell_type": "markdown",
   "metadata": {},
   "source": [
    "## 【問題4】目的関数\n"
   ]
  },
  {
   "cell_type": "code",
   "execution_count": 17,
   "metadata": {},
   "outputs": [],
   "source": [
    "theta = np.random.rand(X.shape[1] + 1)\n",
    "def j_loss(X , y , lr = 0.01):\n",
    "    loss = np.sum(-y * np.log(_linear_hypothesis(X)) - (1 - y) * np.log(1 - _linear_hypothesis(X))) / X.shape[0] +( lr / (2 * X.shape[0])) * np.sum(theta ** 2)\n",
    "    return loss\n",
    "\n"
   ]
  },
  {
   "cell_type": "code",
   "execution_count": 18,
   "metadata": {},
   "outputs": [
    {
     "data": {
      "text/plain": [
       "7.344875341515934"
      ]
     },
     "execution_count": 18,
     "metadata": {},
     "output_type": "execute_result"
    }
   ],
   "source": [
    "j_loss(X , y)"
   ]
  },
  {
   "cell_type": "markdown",
   "metadata": {},
   "source": [
    "## 【問題6】学習と推定"
   ]
  },
  {
   "cell_type": "code",
   "execution_count": 19,
   "metadata": {},
   "outputs": [],
   "source": [
    "class ScratchLogisticRegression():\n",
    "    \"\"\"\n",
    "    ロジスティック回帰のスクラッチ実装\n",
    "\n",
    "    Parameters\n",
    "    ----------\n",
    "    num_iter : int\n",
    "      イテレーション数\n",
    "    lr : float\n",
    "      学習率\n",
    "    no_bias : bool\n",
    "      バイアス項を入れない場合はTrue\n",
    "    verbose : bool\n",
    "      学習過程を出力する場合はTrue\n",
    "\n",
    "    Attributes\n",
    "    ----------\n",
    "    self.coef_ : 次の形のndarray, shape (n_features,)\n",
    "      パラメータ\n",
    "    self.loss : 次の形のndarray, shape (self.iter,)\n",
    "      学習用データに対する損失の記録\n",
    "    self.val_loss : 次の形のndarray, shape (self.iter,)\n",
    "      検証用データに対する損失の記録\n",
    "\n",
    "    \"\"\"\n",
    "\n",
    "    def __init__(self, num_iter = 100 , lr = 0.01, bias = True , verbose = True,  lam=0.01):\n",
    "        self.h = None\n",
    "        self.theta = None\n",
    "        \n",
    "        # ハイパーパラメータを属性として記録\n",
    "        self.iter = num_iter\n",
    "        self.lr = lr\n",
    "        self.bias = bias\n",
    "        self.verbose = verbose\n",
    "        # 損失を記録する配列を用意\n",
    "        self.loss = np.zeros(self.iter)\n",
    "        self.val_loss = np.zeros(self.iter)\n",
    "        self.lam = lam\n",
    "    \n",
    "    def _linear_hypothesis(self , X):\n",
    "        z = np.dot(X , self.theta)\n",
    "        self.h = 1 / (1 + np.exp(-z))\n",
    "        return self.h\n",
    "    \n",
    "    def _get_error(self, h , y):\n",
    "        return self.h - y\n",
    "\n",
    "    def _gradient_descent(self , X , error):\n",
    "        if self.bias:\n",
    "            theta_copy =  self.theta.copy()\n",
    "            theta_copy[0] = 0\n",
    "            self.theta -= self.lr * np.dot(self.error , X ) / X.shape[0] + self.lam * theta_copy / X.shape[0]\n",
    "            return self.theta\n",
    "        else:\n",
    "            self.theta -= self.lr * np.dot(self.error , X ) / X.shape[0] + self.lam * self.theta /X.shape[0]\n",
    "            return self.theta\n",
    "        \n",
    "    def _get_j_loss(self , X , y ):\n",
    "        \n",
    "        cross = np.sum(-y * np.log(self.h) - (1 - y) * np.log(1 - self.h)) / X.shape[0]\n",
    "        reg = ( self.lam* np.sum(self.theta ** 2) / (2 * X.shape[0])) \n",
    "        self.l  = cross + reg\n",
    "        \n",
    "        #print('cross',cross)\n",
    "        #print('reg',reg)\n",
    "        #self.l = np.sum(-y * np.log(self.h) - (1 - y) * np.log(1 - self.h)) / X.shape[0] +( self.lam* np.sum(self.theta ** 2) / (2 * X.shape[0])) \n",
    "        return self.l\n",
    "        \n",
    "\n",
    "    def fit(self, X, y, X_val=None, y_val=None):\n",
    "        \"\"\"\n",
    "        ロジスティック回帰を学習する。検証用データが入力された場合はそれに対する損失と精度もイテレーションごとに計算する。\n",
    "\n",
    "        Parameters\n",
    "        ----------\n",
    "        X : 次の形のndarray, shape (n_samples, n_features)\n",
    "            学習用データの特徴量\n",
    "        y : 次の形のndarray, shape (n_samples, )\n",
    "            学習用データの正解値\n",
    "        X_val : 次の形のndarray, shape (n_samples, n_features)\n",
    "            検証用データの特徴量\n",
    "        y_val : 次の形のndarray, shape (n_samples, )\n",
    "            検証用データの正解値\n",
    "        \"\"\"\n",
    "        \n",
    "        if self.bias:\n",
    "            self.one = np.ones(X.shape[0]).reshape(-1 , 1)\n",
    "            X = np.concatenate([self.one , X] , axis = 1)\n",
    "            \n",
    "            if X_val is not None:\n",
    "                self.one = np.ones(X_val.shape[0]).reshape(-1 , 1)\n",
    "                X_val = np.concatenate([self.one , X_val] , axis = 1)\n",
    "        np.random.seed(0)\n",
    "        self.theta = np.random.rand(X.shape[1] )\n",
    "        \n",
    "        for i in range(self.iter):\n",
    "            self.h = self._linear_hypothesis(X)\n",
    "            #print('h:',self.h)\n",
    "            self.error = self._get_error(self.h , y)\n",
    "            #print('error',self.error)\n",
    "            self._gradient_descent(X , self.error)\n",
    "            #print('theta',self.theta)\n",
    "            self.j_loss = self._get_j_loss( X , y )\n",
    "            self.loss[i] = self.j_loss\n",
    "            \n",
    "            if X_val is not None:\n",
    "                self.h_val = self._linear_hypothesis(X_val)\n",
    "                self.j_loss_val = self._get_j_loss( X_val , y_val )\n",
    "                self.val_loss[i] = self.j_loss_val\n",
    "\n",
    "        if self.verbose:\n",
    "            #verboseをTrueにした際は学習過程を出力\n",
    "            print(self.loss)\n",
    "\n",
    "    def predict(self, X):\n",
    "        \"\"\"\n",
    "        ロジスティック回帰を使いラベルを推定する。\n",
    "\n",
    "        Parameters\n",
    "        ----------\n",
    "        X : 次の形のndarray, shape (n_samples, n_features)\n",
    "            サンプル\n",
    "\n",
    "        Returns\n",
    "        -------\n",
    "            次の形のndarray, shape (n_samples, 1)\n",
    "            ロジスティック回帰による推定結果\n",
    "        \"\"\"\n",
    "        if self.bias:\n",
    "            self.one = np.ones(X.shape[0]).reshape(-1 , 1)\n",
    "            X = np.concatenate([self.one , X] , axis = 1)\n",
    "        z = np.dot(X , self.theta)\n",
    "        self.h = 1 / (1 + np.exp(-z))\n",
    "        \n",
    "        return np.where(self.h < 0.5 , 0 , 1)\n",
    "        #list_ = []\n",
    "        #for i in self.h:\n",
    "            #if i < 0.5:\n",
    "                #list_.append(0)\n",
    "            #elif i > 0.5:\n",
    "                #list_.append(1)\n",
    "        #return list_\n",
    "\n",
    "\n",
    "    def predict_proba(self, X):\n",
    "        \"\"\"\n",
    "        ロジスティック回帰を使い確率を推定する。\n",
    "\n",
    "        Parameters\n",
    "        ----------\n",
    "        X : 次の形のndarray, shape (n_samples, n_features)\n",
    "            サンプル\n",
    "\n",
    "        Returns\n",
    "        -------\n",
    "            次の形のndarray, shape (n_samples, 1)\n",
    "            ロジスティック回帰による推定結果\n",
    "        \"\"\"\n",
    "        \n",
    "        return self.h"
   ]
  },
  {
   "cell_type": "code",
   "execution_count": 20,
   "metadata": {},
   "outputs": [],
   "source": [
    "from sklearn.model_selection import train_test_split\n",
    "\n",
    "#X = (X - X.mean() ) / X.std() \n",
    "X_train , X_test , y_train , y_test = train_test_split(\n",
    "               X , y , test_size = 0.2)"
   ]
  },
  {
   "cell_type": "code",
   "execution_count": 21,
   "metadata": {},
   "outputs": [
    {
     "data": {
      "text/plain": [
       "array([1, 1, 1, 1, 1, 1, 1, 1, 1, 1, 1, 1, 1, 1, 1, 1, 1, 1, 1, 1, 1, 1,\n",
       "       1, 1, 1, 1, 1, 1, 1, 1, 1, 1, 1, 1, 1, 1, 1, 1, 1, 1, 1, 1, 1, 1,\n",
       "       1, 1, 1, 1, 1, 1, 0, 0, 0, 0, 0, 0, 0, 0, 0, 0, 0, 0, 0, 0, 0, 0,\n",
       "       0, 0, 0, 0, 0, 0, 0, 0, 0, 0, 0, 0, 0, 0, 0, 0, 0, 0, 0, 0, 0, 0,\n",
       "       0, 0, 0, 0, 0, 0, 0, 0, 0, 0, 0, 0])"
      ]
     },
     "execution_count": 21,
     "metadata": {},
     "output_type": "execute_result"
    }
   ],
   "source": [
    "y"
   ]
  },
  {
   "cell_type": "code",
   "execution_count": 22,
   "metadata": {},
   "outputs": [],
   "source": [
    "slr = ScratchLogisticRegression(lr = 0.1, num_iter = 10000,  lam=0.01)\n",
    "# 0.000001はloss上がる\n",
    "# lr = 0.0001, num_iter = 50000,  lam=0.01"
   ]
  },
  {
   "cell_type": "code",
   "execution_count": 23,
   "metadata": {},
   "outputs": [
    {
     "name": "stdout",
     "output_type": "stream",
     "text": [
      "[5.43054525 3.26480755 1.22362443 ... 0.11757736 0.11757651 0.11757566]\n"
     ]
    }
   ],
   "source": [
    "slr.fit(X_train , y_train , X_test , y_test)"
   ]
  },
  {
   "cell_type": "markdown",
   "metadata": {},
   "source": [
    "## 【問題7】学習曲線のプロット"
   ]
  },
  {
   "cell_type": "code",
   "execution_count": 24,
   "metadata": {},
   "outputs": [
    {
     "data": {
      "image/png": "[encoded data removed]",
      "text/plain": [
       "<Figure size 432x288 with 1 Axes>"
      ]
     },
     "metadata": {
      "needs_background": "light"
     },
     "output_type": "display_data"
    }
   ],
   "source": [
    "plt.plot(np.arange(1 , len(slr.loss) + 1) , slr.loss , label = \"train_loss\")\n",
    "plt.plot(np.arange(1 , len(slr.val_loss) + 1) , slr.val_loss , label = \"test_loss\")\n",
    "plt.title(\"model loss\")\n",
    "plt.xlabel(\"iter\")\n",
    "plt.ylabel(\"loss\")\n",
    "plt.legend(\"train_loss\")\n",
    "plt.show()"
   ]
  },
  {
   "cell_type": "code",
   "execution_count": 43,
   "metadata": {},
   "outputs": [
    {
     "data": {
      "text/plain": [
       "array([0.99837161, 0.99841666, 0.99846047, ..., 0.00224542, 0.00230928,\n",
       "       0.00237494])"
      ]
     },
     "execution_count": 43,
     "metadata": {},
     "output_type": "execute_result"
    }
   ],
   "source": [
    "slr.predict_proba(X_test)"
   ]
  },
  {
   "cell_type": "code",
   "execution_count": 26,
   "metadata": {},
   "outputs": [
    {
     "data": {
      "text/plain": [
       "array([1, 1, 1, 1, 0, 0, 0, 0, 0, 0, 0, 1, 1, 0, 0, 0, 1, 1, 1, 1, 1, 0,\n",
       "       0, 0, 1, 0, 1, 0, 1, 0, 0, 1, 0, 0, 0, 1, 1, 1, 1, 0, 0, 0, 0, 1,\n",
       "       0, 1, 1, 1, 1, 1, 0, 0, 0, 0, 1, 1, 1, 0, 1, 1, 1, 0, 0, 1, 0, 0,\n",
       "       1, 1, 1, 1, 0, 1, 1, 0, 0, 0, 0, 1, 0, 1])"
      ]
     },
     "execution_count": 26,
     "metadata": {},
     "output_type": "execute_result"
    }
   ],
   "source": [
    "y_train"
   ]
  },
  {
   "cell_type": "code",
   "execution_count": 27,
   "metadata": {},
   "outputs": [],
   "source": [
    "y_pred = slr.predict(X_test)"
   ]
  },
  {
   "cell_type": "code",
   "execution_count": 28,
   "metadata": {},
   "outputs": [],
   "source": [
    "from sklearn.metrics import accuracy_score , precision_score , recall_score, f1_score ,  confusion_matrix"
   ]
  },
  {
   "cell_type": "code",
   "execution_count": 29,
   "metadata": {},
   "outputs": [],
   "source": [
    "def learn_model(X , y , model = slr):\n",
    "    X_train , X_test , y_train , y_test = train_test_split(\n",
    "                  X[:,1:3] , y , test_size = 0.2)\n",
    "    model.fit(X_train , y_train)\n",
    "    y_pred = model.predict(X_test)\n",
    "    score = accuracy_score(y_test , y_pred)\n",
    "    pre_score = precision_score(y_test , y_pred)\n",
    "    re_score = recall_score(y_test , y_pred)\n",
    "    f_score = f1_score(y_test , y_pred)\n",
    "    con_mat = confusion_matrix(y_test , y_pred)\n",
    "    \n",
    "    print(\"accuracy_score :\" , score)\n",
    "    print(\"precision_score :\" , pre_score)\n",
    "    print(\"recall_score :\" , re_score)\n",
    "    print(\"f1_score :\" , f_score)\n",
    "    print(\"confusion_matrix :\" , con_mat)"
   ]
  },
  {
   "cell_type": "code",
   "execution_count": 30,
   "metadata": {},
   "outputs": [
    {
     "name": "stdout",
     "output_type": "stream",
     "text": [
      "[2.93709792 2.00176727 1.17589358 ... 0.21415726 0.21415411 0.21415096]\n",
      "accuracy_score : 0.9\n",
      "precision_score : 0.8888888888888888\n",
      "recall_score : 0.8888888888888888\n",
      "f1_score : 0.8888888888888888\n",
      "confusion_matrix : [[10  1]\n",
      " [ 1  8]]\n"
     ]
    }
   ],
   "source": [
    "learn_model(X , y)"
   ]
  },
  {
   "cell_type": "markdown",
   "metadata": {},
   "source": [
    "## 【問題8】決定領域の可視化"
   ]
  },
  {
   "cell_type": "code",
   "execution_count": 31,
   "metadata": {},
   "outputs": [],
   "source": [
    "import matplotlib.pyplot as plt\n",
    "from matplotlib.colors import ListedColormap\n",
    "import matplotlib.patches as mpatches\n",
    "\n",
    "def decision_region(X, y, model, step=0.01, title='decision region', xlabel='xlabel', ylabel='ylabel', target_names=['versicolor', 'virginica']):\n",
    "    \"\"\"\n",
    "    2値分類を2次元の特徴量で学習したモデルの決定領域を描く。\n",
    "    背景の色が学習したモデルによる推定値から描画される。\n",
    "    散布図の点は訓練データまたは検証データである。\n",
    "\n",
    "    Parameters\n",
    "    ----------------\n",
    "    X : ndarray, shape(n_samples, 2)\n",
    "        特徴量\n",
    "    y : ndarray, shape(n_samples,)\n",
    "        ラベル\n",
    "    model : object\n",
    "        学習したモデルのインスンタスを入れる\n",
    "    step : float, (default : 0.1)\n",
    "        推定値を計算する間隔を設定する\n",
    "    title : str\n",
    "        グラフのタイトルの文章を与える\n",
    "    xlabel, ylabel : str\n",
    "        軸ラベルの文章を与える\n",
    "    target_names= : list of str\n",
    "        凡例の一覧を与える\n",
    "    \"\"\"\n",
    "    # setting\n",
    "    scatter_color = ['red', 'blue']\n",
    "    contourf_color = ['pink', 'skyblue']\n",
    "    n_class = 2\n",
    "    marker = [\"o\" , \"^\"]\n",
    "\n",
    "    # pred\n",
    "    mesh_f0, mesh_f1  = np.meshgrid(np.arange(np.min(X[:,0])-0.5, np.max(X[:,0])+0.5, step), np.arange(np.min(X[:,1])-0.5, np.max(X[:,1])+0.5, step))\n",
    "    mesh = np.c_[np.ravel(mesh_f0),np.ravel(mesh_f1)]\n",
    "    y_pred = model.predict(mesh).reshape(mesh_f0.shape)\n",
    "\n",
    "    # plot\n",
    "    plt.title(title)\n",
    "    plt.xlabel(xlabel)\n",
    "    plt.ylabel(ylabel)\n",
    "    plt.contourf(mesh_f0, mesh_f1, y_pred, n_class-1, cmap=ListedColormap(contourf_color))\n",
    "    plt.contour(mesh_f0, mesh_f1, y_pred, n_class-1, colors='y', linewidths=3, alpha=0.5)\n",
    "    for i, target in enumerate(set(y)):\n",
    "        plt.scatter(X[y==target][:, 0], X[y==target][:, 1], s=80, color=scatter_color[i], label=target_names[i], marker=marker[i])\n",
    "    patches = [mpatches.Patch(color=scatter_color[i], label=target_names[i]) for i in range(n_class)]\n",
    "    plt.legend(handles=patches)\n",
    "    plt.legend()\n",
    "    plt.show()"
   ]
  },
  {
   "cell_type": "code",
   "execution_count": 32,
   "metadata": {},
   "outputs": [
    {
     "data": {
      "text/plain": [
       "array([1, 1, 1, 1, 0, 0, 0, 0, 0, 0, 0, 1, 1, 0, 0, 0, 1, 1, 1, 1, 1, 0,\n",
       "       0, 0, 1, 0, 1, 0, 1, 0, 0, 1, 0, 0, 0, 1, 1, 1, 1, 0, 0, 0, 0, 1,\n",
       "       0, 1, 1, 1, 1, 1, 0, 0, 0, 0, 1, 1, 1, 0, 1, 1, 1, 0, 0, 1, 0, 0,\n",
       "       1, 1, 1, 1, 0, 1, 1, 0, 0, 0, 0, 1, 0, 1])"
      ]
     },
     "execution_count": 32,
     "metadata": {},
     "output_type": "execute_result"
    }
   ],
   "source": [
    "y_train"
   ]
  },
  {
   "cell_type": "code",
   "execution_count": 33,
   "metadata": {
    "scrolled": true
   },
   "outputs": [
    {
     "name": "stdout",
     "output_type": "stream",
     "text": [
      "[2.99740196 2.0251954  1.17093632 ... 0.22798095 0.22797721 0.22797348]\n"
     ]
    }
   ],
   "source": [
    "slr.fit(X_train[:,1:3] , y_train)"
   ]
  },
  {
   "cell_type": "code",
   "execution_count": 34,
   "metadata": {
    "scrolled": true
   },
   "outputs": [
    {
     "data": {
      "image/png": "[encoded data removed]",
      "text/plain": [
       "<Figure size 432x288 with 1 Axes>"
      ]
     },
     "metadata": {
      "needs_background": "light"
     },
     "output_type": "display_data"
    }
   ],
   "source": [
    "decision_region(X_train[:,1:3] , y_train , slr ,  title='decision region', xlabel='sepal length', \n",
    "                             ylabel='petal length', target_names=['versicolor', 'virginica'] )"
   ]
  },
  {
   "cell_type": "code",
   "execution_count": 35,
   "metadata": {},
   "outputs": [],
   "source": [
    "#import sklearn\n",
    "#print(sklearn.__version__)"
   ]
  },
  {
   "cell_type": "markdown",
   "metadata": {},
   "source": [
    "## 【問題9】（アドバンス課題）重みの保存"
   ]
  },
  {
   "cell_type": "code",
   "execution_count": 36,
   "metadata": {},
   "outputs": [],
   "source": [
    "np.savez(\"theta\" , slr.theta)\n",
    "archive = np.load(\"theta.npz\")"
   ]
  },
  {
   "cell_type": "code",
   "execution_count": 37,
   "metadata": {},
   "outputs": [
    {
     "data": {
      "text/plain": [
       "['arr_0']"
      ]
     },
     "execution_count": 37,
     "metadata": {},
     "output_type": "execute_result"
    }
   ],
   "source": [
    "archive.files"
   ]
  },
  {
   "cell_type": "code",
   "execution_count": 38,
   "metadata": {},
   "outputs": [
    {
     "data": {
      "text/plain": [
       "array([13.02380182,  2.81039215, -4.32834348])"
      ]
     },
     "execution_count": 38,
     "metadata": {},
     "output_type": "execute_result"
    }
   ],
   "source": [
    "archive[\"arr_0\"]"
   ]
  }
 ],
 "metadata": {
  "kernelspec": {
   "display_name": "Python 3",
   "language": "python",
   "name": "python3"
  },
  "language_info": {
   "codemirror_mode": {
    "name": "ipython",
    "version": 3
   },
   "file_extension": ".py",
   "mimetype": "text/x-python",
   "name": "python",
   "nbconvert_exporter": "python",
   "pygments_lexer": "ipython3",
   "version": "3.7.2"
  }
 },
 "nbformat": 4,
 "nbformat_minor": 2
}
