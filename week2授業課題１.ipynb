{
  "nbformat": 4,
  "nbformat_minor": 0,
  "metadata": {
    "colab": {
      "name": "week2授業課題１.ipynb",
      "provenance": [],
      "collapsed_sections": []
    },
    "kernelspec": {
      "name": "python3",
      "display_name": "Python 3"
    }
  },
  "cells": [
    {
      "cell_type": "markdown",
      "metadata": {
        "id": "_pd5h6BDwx7f",
        "colab_type": "text"
      },
      "source": [
        "# Week2授業課題1 2次元配列と勾配問題"
      ]
    },
    {
      "cell_type": "markdown",
      "metadata": {
        "id": "ulMMUZEiq7-_",
        "colab_type": "text"
      },
      "source": [
        "# 【問題1】 1次関数"
      ]
    },
    {
      "cell_type": "code",
      "metadata": {
        "id": "6qcU_-_Gw1o4",
        "colab_type": "code",
        "colab": {}
      },
      "source": [
        "import numpy as np\n",
        "import matplotlib.pyplot as plt"
      ],
      "execution_count": 0,
      "outputs": []
    },
    {
      "cell_type": "code",
      "metadata": {
        "id": "tj0kL-21xOQZ",
        "colab_type": "code",
        "outputId": "c7422788-4906-4bf4-a270-be6a2d9033a5",
        "colab": {
          "base_uri": "https://localhost:8080/",
          "height": 51
        }
      },
      "source": [
        "x = np.arange(-50,50+0.1,0.1)\n",
        "y_ndarray = (0.5 * x) + 1\n",
        "\n",
        "\n",
        "print(y_ndarray)\n",
        "print(x.shape)"
      ],
      "execution_count": 3,
      "outputs": [
        {
          "output_type": "stream",
          "text": [
            "[-24.   -23.95 -23.9  ...  25.9   25.95  26.  ]\n",
            "(1001,)\n"
          ],
          "name": "stdout"
        }
      ]
    },
    {
      "cell_type": "code",
      "metadata": {
        "id": "1ERwiWl5ykTJ",
        "colab_type": "code",
        "colab": {}
      },
      "source": [
        "x=x.reshape(1001,1)\n",
        "y_ndarray=y_ndarray.reshape(1001,1)"
      ],
      "execution_count": 0,
      "outputs": []
    },
    {
      "cell_type": "markdown",
      "metadata": {
        "id": "8lLowMJVzVIr",
        "colab_type": "text"
      },
      "source": [
        "# 問２  配列の結合"
      ]
    },
    {
      "cell_type": "code",
      "metadata": {
        "id": "N7l3EQ4rzXe5",
        "colab_type": "code",
        "colab": {}
      },
      "source": [
        "xy = np.concatenate([x , y_ndarray] ,1)"
      ],
      "execution_count": 0,
      "outputs": []
    },
    {
      "cell_type": "code",
      "metadata": {
        "id": "KpjRCzyL1vXD",
        "colab_type": "code",
        "outputId": "5991000b-2795-4852-caeb-2af3a329b491",
        "colab": {
          "base_uri": "https://localhost:8080/",
          "height": 34
        }
      },
      "source": [
        "xy.shape"
      ],
      "execution_count": 6,
      "outputs": [
        {
          "output_type": "execute_result",
          "data": {
            "text/plain": [
              "(1001, 2)"
            ]
          },
          "metadata": {
            "tags": []
          },
          "execution_count": 6
        }
      ]
    },
    {
      "cell_type": "code",
      "metadata": {
        "id": "HY8xgPzj2z3V",
        "colab_type": "code",
        "colab": {}
      },
      "source": [
        ""
      ],
      "execution_count": 0,
      "outputs": []
    },
    {
      "cell_type": "markdown",
      "metadata": {
        "id": "NaYDb5n020LW",
        "colab_type": "text"
      },
      "source": [
        "# 問３ 勾配を求める"
      ]
    },
    {
      "cell_type": "code",
      "metadata": {
        "id": "a0bTNs3g22RJ",
        "colab_type": "code",
        "outputId": "7d15f17c-e12e-4eeb-def4-372a6bedccab",
        "colab": {
          "base_uri": "https://localhost:8080/",
          "height": 34
        }
      },
      "source": [
        "dx = x[1:] - x[:-1]\n",
        "dy = y_ndarray[1:] - y_ndarray[:-1]\n",
        "\n",
        "grad = dy / dx\n",
        "print(grad.shape)"
      ],
      "execution_count": 7,
      "outputs": [
        {
          "output_type": "stream",
          "text": [
            "(1000, 1)\n"
          ],
          "name": "stdout"
        }
      ]
    },
    {
      "cell_type": "code",
      "metadata": {
        "id": "mfeYg4u93lwX",
        "colab_type": "code",
        "outputId": "1d55d174-1246-458e-ed11-d6c43e687901",
        "colab": {
          "base_uri": "https://localhost:8080/",
          "height": 34
        }
      },
      "source": [
        "grad.shape"
      ],
      "execution_count": 8,
      "outputs": [
        {
          "output_type": "execute_result",
          "data": {
            "text/plain": [
              "(1000, 1)"
            ]
          },
          "metadata": {
            "tags": []
          },
          "execution_count": 8
        }
      ]
    },
    {
      "cell_type": "code",
      "metadata": {
        "id": "vHoVlH4b5Ibf",
        "colab_type": "code",
        "colab": {}
      },
      "source": [
        ""
      ],
      "execution_count": 0,
      "outputs": []
    },
    {
      "cell_type": "code",
      "metadata": {
        "id": "kncelEez5VTA",
        "colab_type": "code",
        "colab": {}
      },
      "source": [
        ""
      ],
      "execution_count": 0,
      "outputs": []
    },
    {
      "cell_type": "markdown",
      "metadata": {
        "id": "tKmSG6Pp5Vhy",
        "colab_type": "text"
      },
      "source": [
        "# 問４ グラフを描く"
      ]
    },
    {
      "cell_type": "code",
      "metadata": {
        "id": "jIa071DQ5XDE",
        "colab_type": "code",
        "outputId": "03e8b489-9f67-4747-b14e-df6fbc3440f1",
        "colab": {
          "base_uri": "https://localhost:8080/",
          "height": 307
        }
      },
      "source": [
        "plt.plot(x,y_ndarray)\n",
        "plt.xlabel('x',fontsize = 18)\n",
        "plt.ylabel(\"y\",fontsize = 18)\n",
        "plt.title(\"y = 1/2x + 1\", fontsize = 18)\n",
        "plt.show()"
      ],
      "execution_count": 9,
      "outputs": [
        {
          "output_type": "display_data",
          "data": {
            "image/png": "[encoded data removed]",
            "text/plain": [
              "<Figure size 432x288 with 1 Axes>"
            ]
          },
          "metadata": {
            "tags": []
          }
        }
      ]
    },
    {
      "cell_type": "code",
      "metadata": {
        "id": "FRjNqJk_6yap",
        "colab_type": "code",
        "outputId": "53158634-a019-4188-e695-929753653e13",
        "colab": {
          "base_uri": "https://localhost:8080/",
          "height": 307
        }
      },
      "source": [
        "plt.plot(x[:-1],grad)\n",
        "plt.xlabel(\"x\", fontsize = 18)\n",
        "plt.ylabel(\"y\" , fontsize = 18)\n",
        "plt.title(\"grad\" , fontsize = 18)\n",
        "plt.show()"
      ],
      "execution_count": 10,
      "outputs": [
        {
          "output_type": "display_data",
          "data": {
            "image/png": "[encoded data removed]",
            "text/plain": [
              "<Figure size 432x288 with 1 Axes>"
            ]
          },
          "metadata": {
            "tags": []
          }
        }
      ]
    },
    {
      "cell_type": "code",
      "metadata": {
        "id": "7uj6MIcj8RTQ",
        "colab_type": "code",
        "colab": {}
      },
      "source": [
        ""
      ],
      "execution_count": 0,
      "outputs": []
    },
    {
      "cell_type": "markdown",
      "metadata": {
        "id": "S6BfP4wF9uFl",
        "colab_type": "text"
      },
      "source": [
        "# 問５ Pythonの関数化"
      ]
    },
    {
      "cell_type": "code",
      "metadata": {
        "id": "7gWKV9sM9wZ8",
        "colab_type": "code",
        "colab": {}
      },
      "source": [
        "def c_grad(function, x_range=(-50, 50.1, 0.1)):\n",
        "  x = np.arange(-50 , 50 + 0.1 , 0.1)\n",
        "  y = function(x)\n",
        "  \n",
        "  dx = x[1:] - x[:-1]\n",
        "  dy = y[1:] - y[:-1]\n",
        "  \n",
        "  grad = dy / dx\n",
        "  return grad\n",
        "\n",
        "def function_1(x):\n",
        "  return x**2\n",
        "\n",
        "def function_2(x):\n",
        "  return 2 * x**2 + 2**x\n",
        "  \n",
        "def function_3(x):\n",
        "  return np.sin(x**0.5)"
      ],
      "execution_count": 0,
      "outputs": []
    },
    {
      "cell_type": "code",
      "metadata": {
        "id": "rnf8ALWrvtWs",
        "colab_type": "code",
        "colab": {
          "base_uri": "https://localhost:8080/",
          "height": 34
        },
        "outputId": "3897f59a-1279-4e76-b029-6972d326f65f"
      },
      "source": [
        "print(c_grad(function_1).shape)"
      ],
      "execution_count": 14,
      "outputs": [
        {
          "output_type": "stream",
          "text": [
            "(1000,)\n"
          ],
          "name": "stdout"
        }
      ]
    },
    {
      "cell_type": "code",
      "metadata": {
        "id": "Dl5rzQcYv9qD",
        "colab_type": "code",
        "colab": {
          "base_uri": "https://localhost:8080/",
          "height": 34
        },
        "outputId": "239c3aaa-506e-40f2-a75a-c9a8d19c023f"
      },
      "source": [
        "print(c_grad(function_2).shape)"
      ],
      "execution_count": 16,
      "outputs": [
        {
          "output_type": "stream",
          "text": [
            "(1000,)\n"
          ],
          "name": "stdout"
        }
      ]
    },
    {
      "cell_type": "code",
      "metadata": {
        "id": "ovrY24l9wS5S",
        "colab_type": "code",
        "colab": {
          "base_uri": "https://localhost:8080/",
          "height": 71
        },
        "outputId": "90ab00da-1d66-4183-9cb0-588586fea2bc"
      },
      "source": [
        "print(c_grad(function_3).shape)"
      ],
      "execution_count": 19,
      "outputs": [
        {
          "output_type": "stream",
          "text": [
            "(1000,)\n"
          ],
          "name": "stdout"
        },
        {
          "output_type": "stream",
          "text": [
            "/usr/local/lib/python3.6/dist-packages/ipykernel_launcher.py:18: RuntimeWarning: invalid value encountered in sqrt\n"
          ],
          "name": "stderr"
        }
      ]
    },
    {
      "cell_type": "markdown",
      "metadata": {
        "id": "wnsEFPwkwn5B",
        "colab_type": "text"
      },
      "source": [
        "# 問６　最小値を求める"
      ]
    },
    {
      "cell_type": "code",
      "metadata": {
        "id": "msR3wqwWwtO2",
        "colab_type": "code",
        "colab": {
          "base_uri": "https://localhost:8080/",
          "height": 34
        },
        "outputId": "93dafad3-5e9d-411c-f730-078911cfc680"
      },
      "source": [
        "x = np.arange(-50 , 50+0.1 , 0.1)\n",
        "y = function_1(x)\n",
        "np.amin(y)"
      ],
      "execution_count": 30,
      "outputs": [
        {
          "output_type": "execute_result",
          "data": {
            "text/plain": [
              "5.048709793414476e-25"
            ]
          },
          "metadata": {
            "tags": []
          },
          "execution_count": 30
        }
      ]
    },
    {
      "cell_type": "code",
      "metadata": {
        "id": "2P2qkry1xLpO",
        "colab_type": "code",
        "colab": {
          "base_uri": "https://localhost:8080/",
          "height": 34
        },
        "outputId": "f73e390f-0590-460e-bcff-2733ebed5923"
      },
      "source": [
        "y2 = function_2(x)\n",
        "np.amin(y2)"
      ],
      "execution_count": 33,
      "outputs": [
        {
          "output_type": "execute_result",
          "data": {
            "text/plain": [
              "0.9505505632959851"
            ]
          },
          "metadata": {
            "tags": []
          },
          "execution_count": 33
        }
      ]
    },
    {
      "cell_type": "code",
      "metadata": {
        "id": "axfCykcPyOZw",
        "colab_type": "code",
        "colab": {
          "base_uri": "https://localhost:8080/",
          "height": 34
        },
        "outputId": "316624d4-2ae5-4bd6-f92b-2be7832b6711"
      },
      "source": [
        "idx2 = y2.argmin()\n",
        "print(function_2(x[idx2]))"
      ],
      "execution_count": 34,
      "outputs": [
        {
          "output_type": "stream",
          "text": [
            "0.9505505632959851\n"
          ],
          "name": "stdout"
        }
      ]
    },
    {
      "cell_type": "code",
      "metadata": {
        "id": "S-73JTtvyuPy",
        "colab_type": "code",
        "colab": {}
      },
      "source": [
        ""
      ],
      "execution_count": 0,
      "outputs": []
    }
  ]
}