{
  "nbformat": 4,
  "nbformat_minor": 0,
  "metadata": {
    "colab": {
      "name": "week1",
      "provenance": [],
      "collapsed_sections": []
    },
    "kernelspec": {
      "name": "python3",
      "display_name": "Python 3"
    }
  },
  "cells": [
    {
      "cell_type": "markdown",
      "metadata": {
        "id": "F_f0WtEQR6ji",
        "colab_type": "text"
      },
      "source": [
        "# 問１"
      ]
    },
    {
      "cell_type": "code",
      "metadata": {
        "id": "5rMjG99-SBQJ",
        "colab_type": "code",
        "outputId": "a9e79204-2816-406e-f194-6fd30f40dcf1",
        "colab": {
          "base_uri": "https://localhost:8080/",
          "height": 34
        }
      },
      "source": [
        "\"\"\"\n",
        "紙を1回折った時の厚さを計算するコード\n",
        "\"\"\"\n",
        "\n",
        "THICKNESS = 0.00008\n",
        "\n",
        "folded_thickness = THICKNESS*(2**43)\n",
        "\n",
        "print(\"厚さ： {}メートル\".format(folded_thickness))"
      ],
      "execution_count": 0,
      "outputs": [
        {
          "output_type": "stream",
          "text": [
            "厚さ： 703687441.77664メートル\n"
          ],
          "name": "stdout"
        }
      ]
    },
    {
      "cell_type": "markdown",
      "metadata": {
        "id": "FqWA7kNLTBDe",
        "colab_type": "text"
      },
      "source": [
        "# 問２"
      ]
    },
    {
      "cell_type": "code",
      "metadata": {
        "id": "AdEu44iETEpJ",
        "colab_type": "code",
        "outputId": "71d84147-cd39-4466-b307-d438fc0b4dd0",
        "colab": {
          "base_uri": "https://localhost:8080/",
          "height": 34
        }
      },
      "source": [
        "# メートルを万キロメートルに変換して小数点以下2桁で表示する\n",
        "print(\"厚さ： {:.2f}万キロメートル\".format(folded_thickness/1000/10000))"
      ],
      "execution_count": 0,
      "outputs": [
        {
          "output_type": "stream",
          "text": [
            "厚さ： 70.37万キロメートル\n"
          ],
          "name": "stdout"
        }
      ]
    },
    {
      "cell_type": "markdown",
      "metadata": {
        "id": "_tdw-CKSUBxj",
        "colab_type": "text"
      },
      "source": [
        ""
      ]
    },
    {
      "cell_type": "markdown",
      "metadata": {
        "id": "c2fXrzrrUCV6",
        "colab_type": "text"
      },
      "source": [
        "# 問３"
      ]
    },
    {
      "cell_type": "code",
      "metadata": {
        "id": "r4JhQXgxUFMm",
        "colab_type": "code",
        "outputId": "9a54487d-1261-41ae-bc24-dfe7697f6b47",
        "colab": {
          "base_uri": "https://localhost:8080/",
          "height": 51
        }
      },
      "source": [
        "a =1\n",
        "for i in range(43):\n",
        "  a *= 2 \n",
        "  folded_thickness = THICKNESS * a\n",
        "print(\"厚さ： {}メートル\".format(folded_thickness))\n",
        "print(\"厚さ： {:.2f}万キロメートル\".format(folded_thickness/1000/10000))"
      ],
      "execution_count": 0,
      "outputs": [
        {
          "output_type": "stream",
          "text": [
            "厚さ： 703687441.77664メートル\n",
            "厚さ： 70.37万キロメートル\n"
          ],
          "name": "stdout"
        }
      ]
    },
    {
      "cell_type": "markdown",
      "metadata": {
        "id": "0OGtumAZW4Li",
        "colab_type": "text"
      },
      "source": [
        "# 問４"
      ]
    },
    {
      "cell_type": "code",
      "metadata": {
        "id": "Wm3XoL5DW6OP",
        "colab_type": "code",
        "outputId": "ef95f68c-9e4f-4d37-e0c8-0ac35f2107b0",
        "colab": {
          "base_uri": "https://localhost:8080/",
          "height": 119
        }
      },
      "source": [
        "import time\n",
        "start = time.time()\n",
        "#####\n",
        "folded_thickness = THICKNESS * a\n",
        "print(\"厚さ： {}メートル\".format(folded_thickness))\n",
        "print(\"厚さ： {:.2f}万キロメートル\".format(folded_thickness/10000000))\n",
        "#####\n",
        "elapsed_time = time.time() - start\n",
        "print(\"time : {}[s]\".format(elapsed_time))\n",
        "\n",
        "\n",
        "\n",
        "\n",
        "\n",
        "import time\n",
        "start = time.time()\n",
        "#####\n",
        "for i in range(44):\n",
        "  folded_thickness = THICKNESS*(2**i)\n",
        "print(\"厚さ： {}メートル\".format(folded_thickness))\n",
        "print(\"厚さ： {:.2f}万キロメートル\".format(folded_thickness/1000/10000))\n",
        "#####\n",
        "elapsed_time = time.time() - start\n",
        "print(\"time : {}[s]\".format(elapsed_time))"
      ],
      "execution_count": 0,
      "outputs": [
        {
          "output_type": "stream",
          "text": [
            "厚さ： 703687441.77664メートル\n",
            "厚さ： 70.37万キロメートル\n",
            "time : 0.0020012855529785156[s]\n",
            "厚さ： 703687441.77664メートル\n",
            "厚さ： 70.37万キロメートル\n",
            "time : 0.0007343292236328125[s]\n"
          ],
          "name": "stdout"
        }
      ]
    },
    {
      "cell_type": "markdown",
      "metadata": {
        "id": "lLmTxCknbrp_",
        "colab_type": "text"
      },
      "source": [
        "# 問５"
      ]
    },
    {
      "cell_type": "code",
      "metadata": {
        "id": "rD292-EHbuWK",
        "colab_type": "code",
        "outputId": "e2835d39-b890-4dd4-90c1-6df536232e6b",
        "colab": {
          "base_uri": "https://localhost:8080/",
          "height": 71
        }
      },
      "source": [
        "t_list = []\n",
        "t_list.append(0.00008)\n",
        "a =1\n",
        "for i in range(43):\n",
        "  a *= 2 \n",
        "  folded_thickness = THICKNESS * a\n",
        "  t_list.append(folded_thickness)\n",
        "print(t_list)\n",
        "print(len(t_list))"
      ],
      "execution_count": 0,
      "outputs": [
        {
          "output_type": "stream",
          "text": [
            "[8e-05, 0.00016, 0.00032, 0.00064, 0.00128, 0.00256, 0.00512, 0.01024, 0.02048, 0.04096, 0.08192, 0.16384, 0.32768, 0.65536, 1.31072, 2.62144, 5.24288, 10.48576, 20.97152, 41.94304, 83.88608, 167.77216, 335.54432, 671.08864, 1342.17728, 2684.35456, 5368.70912, 10737.41824, 21474.83648, 42949.67296, 85899.34592, 171798.69184, 343597.38368, 687194.76736, 1374389.53472, 2748779.06944, 5497558.13888, 10995116.27776, 21990232.55552, 43980465.11104, 87960930.22208, 175921860.44416, 351843720.88832, 703687441.77664]\n",
            "44\n"
          ],
          "name": "stdout"
        }
      ]
    },
    {
      "cell_type": "markdown",
      "metadata": {
        "id": "qhlN8Vb2hqEs",
        "colab_type": "text"
      },
      "source": [
        "# 問６"
      ]
    },
    {
      "cell_type": "code",
      "metadata": {
        "id": "V0RNHJ3Fd563",
        "colab_type": "code",
        "outputId": "d592a4c2-e0c2-4e5d-a61b-1f4ec89d4973",
        "colab": {
          "base_uri": "https://localhost:8080/",
          "height": 295
        }
      },
      "source": [
        "\"\"\"\n",
        "グラフを表示する。タイトルと軸ラベル名付き。\n",
        "\"\"\"\n",
        "import matplotlib.pyplot as plt\n",
        "%matplotlib inline\n",
        "\n",
        "plt.title(\"thickness of folded paper\")\n",
        "plt.xlabel(\"number of folds\")\n",
        "plt.ylabel(\"thickness[m]\")\n",
        "plt.plot(t_list) # 「リスト名」のところにリストの変数名を入れる\n",
        "plt.show()"
      ],
      "execution_count": 0,
      "outputs": [
        {
          "output_type": "display_data",
          "data": {
            "image/png": "[encoded data removed]",
            "text/plain": [
              "<Figure size 432x288 with 1 Axes>"
            ]
          },
          "metadata": {
            "tags": []
          }
        }
      ]
    },
    {
      "cell_type": "markdown",
      "metadata": {
        "id": "RqpBXe82hwPX",
        "colab_type": "text"
      },
      "source": [
        "# 問７"
      ]
    },
    {
      "cell_type": "code",
      "metadata": {
        "id": "ZNdb92Jnh3-l",
        "colab_type": "code",
        "outputId": "55de2f79-7b17-431e-9e91-cc7bdee04879",
        "colab": {
          "base_uri": "https://localhost:8080/",
          "height": 295
        }
      },
      "source": [
        "\"\"\"\n",
        "緑の折れ線グラフを表示する。\n",
        "\"\"\"\n",
        "plt.title(\"thickness of folded paper\")\n",
        "plt.xlabel(\"number of folds\")\n",
        "plt.ylabel(\"thickness[m]\")\n",
        "plt.plot(t_list, color='green')\n",
        "plt.show()"
      ],
      "execution_count": 0,
      "outputs": [
        {
          "output_type": "display_data",
          "data": {
            "image/png": "[encoded data removed]",
            "text/plain": [
              "<Figure size 432x288 with 1 Axes>"
            ]
          },
          "metadata": {
            "tags": []
          }
        }
      ]
    },
    {
      "cell_type": "code",
      "metadata": {
        "id": "78As8wTHiFLy",
        "colab_type": "code",
        "outputId": "c1f66bce-54b9-45ce-cf44-5932d62b5d25",
        "colab": {
          "base_uri": "https://localhost:8080/",
          "height": 304
        }
      },
      "source": [
        "\"\"\"\n",
        "軸の値を大きく表示する。\n",
        "\"\"\"\n",
        "plt.title(\"thickness of folded paper\")\n",
        "plt.xlabel(\"number of folds\")\n",
        "plt.ylabel(\"thickness[m]\")\n",
        "plt.tick_params(labelsize=20) # 軸の値に関する設定を行う\n",
        "plt.plot(t_list)\n",
        "plt.show()"
      ],
      "execution_count": 0,
      "outputs": [
        {
          "output_type": "display_data",
          "data": {
            "image/png": "[encoded data removed]",
            "text/plain": [
              "<Figure size 432x288 with 1 Axes>"
            ]
          },
          "metadata": {
            "tags": []
          }
        }
      ]
    },
    {
      "cell_type": "code",
      "metadata": {
        "id": "2fveqYTCigju",
        "colab_type": "code",
        "outputId": "e34e8606-5b84-4c72-9e42-4bdb7a7e51f1",
        "colab": {
          "base_uri": "https://localhost:8080/",
          "height": 295
        }
      },
      "source": [
        "\"\"\"\n",
        "折れ線グラフを表示する。\n",
        "\"\"\"\n",
        "plt.title(\"thickness of folded paper\")\n",
        "plt.xlabel(\"number of folds\")\n",
        "plt.ylabel(\"thickness[m]\")\n",
        "plt.plot(t_list, color='yellow')\n",
        "plt.show()"
      ],
      "execution_count": 0,
      "outputs": [
        {
          "output_type": "display_data",
          "data": {
            "image/png": "[encoded data removed]",
            "text/plain": [
              "<Figure size 432x288 with 1 Axes>"
            ]
          },
          "metadata": {
            "tags": []
          }
        }
      ]
    }
  ]
}