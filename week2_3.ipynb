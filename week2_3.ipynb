{
  "nbformat": 4,
  "nbformat_minor": 0,
  "metadata": {
    "colab": {
      "name": "week2_3.ipynb",
      "provenance": [],
      "collapsed_sections": []
    },
    "kernelspec": {
      "name": "python3",
      "display_name": "Python 3"
    }
  },
  "cells": [
    {
      "cell_type": "code",
      "metadata": {
        "id": "yJU6aUUICWYA",
        "colab_type": "code",
        "colab": {}
      },
      "source": [
        "import numpy as np\n",
        "a_ndarray = np.array([[-1 , 2 , 3] , [4 , -5 , 6 ] , [7,  8, -9 ]])\n",
        "b_ndarray = np.array([[0 , 2 , 1 ] , [0 , 2 , -8 ] , [2 , 9 , -1 ]])"
      ],
      "execution_count": 0,
      "outputs": []
    },
    {
      "cell_type": "markdown",
      "metadata": {
        "id": "q-cFMlWRE7w9",
        "colab_type": "text"
      },
      "source": [
        "# 問１ 行列積を手計算する"
      ]
    },
    {
      "cell_type": "code",
      "metadata": {
        "id": "6op95RMsE-ak",
        "colab_type": "code",
        "colab": {}
      },
      "source": [
        "a_ndarray = np.array([[ -1 , 2 , 3] , [4 , -5 , 6 ] , [7,  8, -9 ]])\n",
        "b_ndarray = np.array([[0 , 2 , 1 ] , [0 , 2 , -8 ] , [2 , 9 , -1 ]])\n",
        "\n"
      ],
      "execution_count": 0,
      "outputs": []
    },
    {
      "cell_type": "code",
      "metadata": {
        "id": "bUiuW6q0GMF5",
        "colab_type": "code",
        "colab": {}
      },
      "source": [
        "ab1 = (-1 * 0) + (2 * 0) + (3 * 2)\n",
        "ab2 = (-1 * 2) + (2 * 2) + (3 * 9)\n",
        "ab3 = (-1 * 1) + (2 * -8) + (3 * -1)\n",
        "ab4 = (4 * 0) + (-5 * 0) + (6 * 2)\n",
        "ab5 = (4 * 2) + (-5 * 2) + (6 * 9)\n",
        "ab6 = (4 * 1) + (-5 * -8) + (6 * -1)\n",
        "ab7 = (7 * 0) + ( 8 * 0) + (-9 * 2)\n",
        "ab8 = (7 * 2) + ( 8 * 2) + (-9 * 9)\n",
        "ab9 = (7 * 1) + ( 8 * -8) + (-9 * -1)"
      ],
      "execution_count": 0,
      "outputs": []
    },
    {
      "cell_type": "code",
      "metadata": {
        "id": "rmjXi4L8KG5s",
        "colab_type": "code",
        "outputId": "95dcac05-cd71-45ba-9cad-3b3a8eda9622",
        "colab": {
          "base_uri": "https://localhost:8080/",
          "height": 85
        }
      },
      "source": [
        "print(ab1,ab2,ab3,ab4,ab5,ab6,ab7,ab8,ab9)\n",
        "ab_list_ndarray = np.array([[ab1,ab2,ab3],[ab4,ab5,ab6],[ab7,ab8,ab9]])\n",
        "print(ab_list_ndarray)"
      ],
      "execution_count": 5,
      "outputs": [
        {
          "output_type": "stream",
          "text": [
            "6 29 -20 12 52 38 -18 -51 -48\n",
            "[[  6  29 -20]\n",
            " [ 12  52  38]\n",
            " [-18 -51 -48]]\n"
          ],
          "name": "stdout"
        }
      ]
    },
    {
      "cell_type": "markdown",
      "metadata": {
        "id": "ML53Ua4jNG9F",
        "colab_type": "text"
      },
      "source": [
        "行列A\n",
        "|a11 a12 a13|\n",
        "|a21 a22 a23|\n",
        "|a31 a32 a33|\n",
        "\n",
        "行列B\n",
        "|b11 b12 b13|\n",
        "|b21 b22 b23|\n",
        "|b31 b32 b33|\n",
        "\n",
        "があったとき、\n",
        "A×Bは\n",
        "|a11×b11+a12×b21+a13×b31,\n",
        "a11×b12+a12×b22+a13×b32,\n",
        "a11×b13+a12×b23+a13×b33|,\n",
        "|a21×b11+a22×b21+a23×b31,\n",
        "a21×b12+a22×b22+a23×b32,　a21×b13+a22×b23+a23×b33|,\n",
        "|a31×b11+a32×b21+a33×b31,\n",
        "a31×b12+a32×b22+a33×b32,\n",
        "a31×b13+a32×b23+a33×b33|\n"
      ]
    },
    {
      "cell_type": "code",
      "metadata": {
        "id": "E0S_QBoTL5UP",
        "colab_type": "code",
        "colab": {}
      },
      "source": [
        ""
      ],
      "execution_count": 0,
      "outputs": []
    },
    {
      "cell_type": "code",
      "metadata": {
        "id": "Wl8IGe-MR8Kq",
        "colab_type": "code",
        "colab": {}
      },
      "source": [
        ""
      ],
      "execution_count": 0,
      "outputs": []
    },
    {
      "cell_type": "markdown",
      "metadata": {
        "id": "aSy-p5jQR8c8",
        "colab_type": "text"
      },
      "source": [
        "# 問２ NumPyの関数による計算"
      ]
    },
    {
      "cell_type": "code",
      "metadata": {
        "id": "lIcQ6lMLR-nj",
        "colab_type": "code",
        "outputId": "ad8366dd-8550-4b97-a47f-0c598f303523",
        "colab": {
          "base_uri": "https://localhost:8080/",
          "height": 68
        }
      },
      "source": [
        "a = np.array([[ -1 , 2 , 3] , [4 , -5 , 6 ] , [7,  8, -9 ]])\n",
        "b = np.array([[0 , 2 , 1 ] , [0 , 2 , -8 ] , [2 , 9 , -1 ]])\n",
        "np.matmul(a, b)"
      ],
      "execution_count": 6,
      "outputs": [
        {
          "output_type": "execute_result",
          "data": {
            "text/plain": [
              "array([[  6,  29, -20],\n",
              "       [ 12,  52,  38],\n",
              "       [-18, -51, -48]])"
            ]
          },
          "metadata": {
            "tags": []
          },
          "execution_count": 6
        }
      ]
    },
    {
      "cell_type": "code",
      "metadata": {
        "id": "alvJWeG0SQvI",
        "colab_type": "code",
        "outputId": "e2666bb6-ad83-4137-c967-3a5c47603f95",
        "colab": {
          "base_uri": "https://localhost:8080/",
          "height": 68
        }
      },
      "source": [
        "c = np.dot(a, b)\n",
        "print(\"AとBの行列積は：{}\".format(c))"
      ],
      "execution_count": 7,
      "outputs": [
        {
          "output_type": "stream",
          "text": [
            "AとBの行列積は：[[  6  29 -20]\n",
            " [ 12  52  38]\n",
            " [-18 -51 -48]]\n"
          ],
          "name": "stdout"
        }
      ]
    },
    {
      "cell_type": "code",
      "metadata": {
        "id": "gYbna9ivUnEc",
        "colab_type": "code",
        "colab": {
          "base_uri": "https://localhost:8080/",
          "height": 68
        },
        "outputId": "c59a72f3-fd5e-4cc4-ea1a-9b1ebca65aae"
      },
      "source": [
        "c = a @ b\n",
        "print(\"AとBの行列積は:{}\".format(c))"
      ],
      "execution_count": 13,
      "outputs": [
        {
          "output_type": "stream",
          "text": [
            "AとBの行列積は:[[  6  29 -20]\n",
            " [ 12  52  38]\n",
            " [-18 -51 -48]]\n"
          ],
          "name": "stdout"
        }
      ]
    },
    {
      "cell_type": "code",
      "metadata": {
        "id": "aASQeNx3UnHB",
        "colab_type": "code",
        "colab": {}
      },
      "source": [
        ""
      ],
      "execution_count": 0,
      "outputs": []
    },
    {
      "cell_type": "markdown",
      "metadata": {
        "id": "2MHwbXe9UnTN",
        "colab_type": "text"
      },
      "source": [
        "# 問３ ある要素の計算を実装"
      ]
    },
    {
      "cell_type": "code",
      "metadata": {
        "id": "tMm9qrvqUpf8",
        "colab_type": "code",
        "outputId": "3375bd61-e5e5-488f-ee36-17e1b61ee42c",
        "colab": {
          "base_uri": "https://localhost:8080/",
          "height": 34
        }
      },
      "source": [
        "a_ndarray = [[-1 , 2 , 3] , [4 , -5 , 6 ] , [7,  8, -9 ]]\n",
        "b_ndarray = [[0 , 2 , 1 ] , [0 , 2 , -8 ] , [2 , 9 , -1 ]]\n",
        "\n",
        "\n",
        "result = []\n",
        "for e , f, g in a_ndarray:\n",
        "    result_2 = []\n",
        "    for ee , ff, gg in zip(* b_ndarray):\n",
        "        result_2.append(e * ee + f * ff + g * gg)\n",
        "    result.append(result_2)\n",
        "print(result[0][0])"
      ],
      "execution_count": 9,
      "outputs": [
        {
          "output_type": "stream",
          "text": [
            "6\n"
          ],
          "name": "stdout"
        }
      ]
    },
    {
      "cell_type": "code",
      "metadata": {
        "id": "AEGbdvYwVLA9",
        "colab_type": "code",
        "colab": {}
      },
      "source": [
        ""
      ],
      "execution_count": 0,
      "outputs": []
    },
    {
      "cell_type": "code",
      "metadata": {
        "id": "LXxm0Sx1ZROA",
        "colab_type": "code",
        "colab": {}
      },
      "source": [
        ""
      ],
      "execution_count": 0,
      "outputs": []
    },
    {
      "cell_type": "markdown",
      "metadata": {
        "id": "1d2lQnNIaIBz",
        "colab_type": "text"
      },
      "source": [
        "# 問４ 行列積を行う関数の作成"
      ]
    },
    {
      "cell_type": "code",
      "metadata": {
        "id": "NlwhjEkDaKY2",
        "colab_type": "code",
        "outputId": "921c43b2-6785-4caf-f7a4-2b17c318a3c4",
        "colab": {
          "base_uri": "https://localhost:8080/",
          "height": 34
        }
      },
      "source": [
        "a_ndarray = [[-1 , 2 , 3] , [4 , -5 , 6 ] , [7,  8, -9 ]]\n",
        "b_ndarray = [[0 , 2 , 1 ] , [0 , 2 , -8 ] , [2 , 9 , -1 ]]\n",
        "\n",
        "\n",
        "result = []\n",
        "def ab_ndarray(a , b):\n",
        "    for e , f , g in a:\n",
        "        result_2 = []\n",
        "        for ee , ff , gg in zip(* b):\n",
        "            result_2.append(e * ee + f * ff + g * gg)\n",
        "        result.append(result_2)\n",
        "    return result\n",
        "\n",
        "\n",
        "ab_ndarray(a_ndarray , b_ndarray)"
      ],
      "execution_count": 10,
      "outputs": [
        {
          "output_type": "execute_result",
          "data": {
            "text/plain": [
              "[[6, 29, -20], [12, 52, 38], [-18, -51, -48]]"
            ]
          },
          "metadata": {
            "tags": []
          },
          "execution_count": 10
        }
      ]
    },
    {
      "cell_type": "code",
      "metadata": {
        "id": "PreAMWJ9bKAv",
        "colab_type": "code",
        "colab": {}
      },
      "source": [
        ""
      ],
      "execution_count": 0,
      "outputs": []
    },
    {
      "cell_type": "code",
      "metadata": {
        "id": "QGw2FeOYfOFB",
        "colab_type": "code",
        "colab": {}
      },
      "source": [
        ""
      ],
      "execution_count": 0,
      "outputs": []
    },
    {
      "cell_type": "markdown",
      "metadata": {
        "id": "XG4TvVK2ld68",
        "colab_type": "text"
      },
      "source": [
        "# 問５ 計算が定義されない入力を判定する"
      ]
    },
    {
      "cell_type": "code",
      "metadata": {
        "id": "pwyE_ss7lgBj",
        "colab_type": "code",
        "colab": {
          "base_uri": "https://localhost:8080/",
          "height": 68
        },
        "outputId": "fb64d169-6289-48ac-ab5a-16d61e7afc79"
      },
      "source": [
        "def ab_ndarray(a, b):\n",
        "    c = np.empty((a.shape[0], b.shape[1]))\n",
        "\n",
        "    if a.shape[1] == b.shape[0]:\n",
        "        c = (a[:, np.newaxis, :]*b.T).sum(axis=2)\n",
        "        return c\n",
        "    else:\n",
        "        print(\"a.shape[1] != b.shape[0] : {} != {}\".format(a.shape[1], b.shape[0]))\n",
        "        return None\n",
        "        \n",
        "d = np.array([[-1, 2, 3], [4, -5, 6]])\n",
        "e = np.array([[-9, 8, 7], [6, -5, 4]])\n",
        "print(\"計算結果\\n{}\".format(ab_ndarray(d, e)))"
      ],
      "execution_count": 26,
      "outputs": [
        {
          "output_type": "stream",
          "text": [
            "a.shape[1] != b.shape[0] : 3 != 2\n",
            "計算結果\n",
            "None\n"
          ],
          "name": "stdout"
        }
      ]
    },
    {
      "cell_type": "markdown",
      "metadata": {
        "id": "vanEW8remNgz",
        "colab_type": "text"
      },
      "source": [
        "# 問６ 転置"
      ]
    },
    {
      "cell_type": "code",
      "metadata": {
        "id": "61_9puSHmPQy",
        "colab_type": "code",
        "outputId": "333f2cdc-375d-420c-8164-5edcddde62b9",
        "colab": {
          "base_uri": "https://localhost:8080/",
          "height": 102
        }
      },
      "source": [
        "d_ndarray_ = np.array([[-1, 2, 3], [4, -5, 6]])\n",
        "e_ndarray = np.array([[-9, 8, 7], [6, -5, 4]])\n",
        "\n",
        "\n",
        "print(\"計算結果：{}\".format(d.T@e))\n",
        "print(\"計算結果：{}\".format(d@e.T))"
      ],
      "execution_count": 28,
      "outputs": [
        {
          "output_type": "stream",
          "text": [
            "計算結果：[[ 33 -28   9]\n",
            " [-48  41  -6]\n",
            " [  9  -6  45]]\n",
            "計算結果：[[ 46  -4]\n",
            " [-34  73]]\n"
          ],
          "name": "stdout"
        }
      ]
    },
    {
      "cell_type": "code",
      "metadata": {
        "id": "TvDv-BN7m9Vy",
        "colab_type": "code",
        "colab": {}
      },
      "source": [
        ""
      ],
      "execution_count": 0,
      "outputs": []
    },
    {
      "cell_type": "code",
      "metadata": {
        "id": "uN_AVg0nov9L",
        "colab_type": "code",
        "colab": {}
      },
      "source": [
        ""
      ],
      "execution_count": 0,
      "outputs": []
    },
    {
      "cell_type": "code",
      "metadata": {
        "id": "eetG7DZqpRCw",
        "colab_type": "code",
        "colab": {}
      },
      "source": [
        ""
      ],
      "execution_count": 0,
      "outputs": []
    },
    {
      "cell_type": "code",
      "metadata": {
        "id": "jdo-hwTepiQU",
        "colab_type": "code",
        "colab": {}
      },
      "source": [
        ""
      ],
      "execution_count": 0,
      "outputs": []
    }
  ]
}